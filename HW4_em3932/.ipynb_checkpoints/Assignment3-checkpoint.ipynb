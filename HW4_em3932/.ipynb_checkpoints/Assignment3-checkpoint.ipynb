{
 "cells": [
  {
   "cell_type": "code",
   "execution_count": null,
   "metadata": {},
   "outputs": [],
   "source": [
    "# Illustrating the z-test\n",
    "# developed by Eve Marenghi for PUI in 2018"
   ]
  },
  {
   "cell_type": "code",
   "execution_count": 1,
   "metadata": {},
   "outputs": [],
   "source": [
    "from statistics import mean "
   ]
  },
  {
   "cell_type": "markdown",
   "metadata": {},
   "source": [
    "## IDEA: \n",
    "## The new bus route is improving commute \n",
    "\n",
    "## NULL HYPOTHESIS: \n",
    "## The commute time is the same or longer with the new bus route as it was before  \n",
    "\n",
    "## ALTERNATIVE HYPOTHESIS: \n",
    "## The commute time is shorter with the new bus route than it was before \n",
    "\n",
    "# _$H_0$_ : $Tnew - Told >= 0$\n",
    "# _$H_1$_ : $Tnew - Told < 0$\n",
    "\n",
    "## Significance level:  $\\alpha=0.05$ "
   ]
  },
  {
   "cell_type": "code",
   "execution_count": 8,
   "metadata": {},
   "outputs": [],
   "source": [
    "# Parameters for Told: \n",
    "told_mean = 36\n",
    "told_stdev = 6"
   ]
  },
  {
   "cell_type": "code",
   "execution_count": 17,
   "metadata": {},
   "outputs": [],
   "source": [
    "# Uploaded times.txt to HW4_em3932 folder\n",
    "# Read the data into a list \n",
    "with open(\"times.txt\", \"r\") as tnew_file:\n",
    "    tnew = tnew_file.read().splitlines()"
   ]
  },
  {
   "cell_type": "code",
   "execution_count": 6,
   "metadata": {},
   "outputs": [],
   "source": [
    "# Convert the string elements to floats \n",
    "tnew = [float(i) for i in tnew]"
   ]
  },
  {
   "cell_type": "code",
   "execution_count": 7,
   "metadata": {},
   "outputs": [
    {
     "name": "stdout",
     "output_type": "stream",
     "text": [
      "34.4661616883\n",
      "100\n"
     ]
    }
   ],
   "source": [
    "# Calculate the mean and find the sample size  \n",
    "tnew_mean = mean(tnew)\n",
    "tnew_size = len(tnew)\n",
    "print(tnew_mean)\n",
    "print(tnew_size)"
   ]
  },
  {
   "cell_type": "markdown",
   "metadata": {},
   "source": [
    "## Formula: \n",
    "\n",
    "$Z = \\frac{\\mu_{pop} - \\mu_{sample}}{\\sigma / \\sqrt{N}}$"
   ]
  },
  {
   "cell_type": "code",
   "execution_count": 15,
   "metadata": {},
   "outputs": [
    {
     "name": "stdout",
     "output_type": "stream",
     "text": [
      "2.55639718616667\n"
     ]
    }
   ],
   "source": [
    "# Calculate z \n",
    "z = (told_mean - tnew_mean) / (told_stdev / (tnew_size)**(1/2))\n",
    "print(z)"
   ]
  },
  {
   "cell_type": "markdown",
   "metadata": {},
   "source": [
    "## We set the significance level to $\\alpha=0.05$. Since $2.56 >= 2$ we are further than 2 sigmas away from the old mean and we reject the null hypothesis. "
   ]
  },
  {
   "cell_type": "code",
   "execution_count": null,
   "metadata": {},
   "outputs": [],
   "source": []
  }
 ],
 "metadata": {
  "kernelspec": {
   "display_name": "PUI2016_Python3",
   "language": "python",
   "name": "pui2016_python3"
  },
  "language_info": {
   "codemirror_mode": {
    "name": "ipython",
    "version": 3
   },
   "file_extension": ".py",
   "mimetype": "text/x-python",
   "name": "python",
   "nbconvert_exporter": "python",
   "pygments_lexer": "ipython3",
   "version": "3.5.4"
  }
 },
 "nbformat": 4,
 "nbformat_minor": 2
}
