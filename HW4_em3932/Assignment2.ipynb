{
 "cells": [
  {
   "cell_type": "code",
   "execution_count": null,
   "metadata": {},
   "outputs": [],
   "source": [
    "# Setting up the work for data-driven inference based on CitiBike data\n",
    "# developed by Eve Marenghi for PUI in 2018"
   ]
  },
  {
   "cell_type": "code",
   "execution_count": 42,
   "metadata": {},
   "outputs": [
    {
     "name": "stdout",
     "output_type": "stream",
     "text": [
      "Must set env variable PUI2018\n"
     ]
    }
   ],
   "source": [
    "# Import the necessary packages\n",
    "from __future__  import print_function, division\n",
    "import matplotlib.pyplot as plt\n",
    "import pandas as pd\n",
    "import numpy as np\n",
    "import os\n",
    "import datetime as dt\n",
    "\n",
    "%matplotlib inline\n",
    "\n",
    "if os.getenv ('PUI2018') is None:\n",
    "    print (\"Must set env variable PUI2018\")\n",
    "if os.getenv ('PUIDATA') is None:\n",
    "    print (\"Must set env variable PUI2018\")"
   ]
  },
  {
   "cell_type": "markdown",
   "metadata": {},
   "source": [
    "## IDEA: \n",
    "## People in their 30s are less likely than people in their 20s to use CitiBike for commuting\n",
    "\n",
    "## NULL HYPOTHESIS: \n",
    "## The proportion of people in their 20s biking on weekends is _the same or higher_ than the proportion of people in their 30s biking on weekends \n",
    "\n",
    "# $H_0$ : $\\frac{30s_{\\mathrm{weekend}}}{30s_{\\mathrm{total}}} <= \\frac{20s_{\\mathrm{weekend}}}{20s_{\\mathrm{total}}}$\n",
    "# $H_1$ : $\\frac{30s_{\\mathrm{weekend}}}{30s_{\\mathrm{total}}} > \\frac{20s_{\\mathrm{weekend}}}{20s_{\\mathrm{total}}}$\n",
    "\n",
    "or identically:\n",
    "\n",
    "# $H_0$ : $\\frac{30s_{\\mathrm{weekend}}}{30s_{\\mathrm{total}}} - \\frac{20s_{\\mathrm{weekend}}}{20s_{\\mathrm{total}}} <= 0 $\n",
    "# $H_1$ : $\\frac{30s_{\\mathrm{weekend}}}{30s_{\\mathrm{total}}} - \\frac{20s_{\\mathrm{weekend}}}{20s_{\\mathrm{total}}} > 0$\n",
    "\n",
    "## I will use a significance level $\\alpha=0.05$\n",
    "\n",
    "### This means that I want the probability of getting a result to be at least as significant as mine to be less than 5%. "
   ]
  },
  {
   "cell_type": "markdown",
   "metadata": {},
   "source": [
    "## I am starting by reading data from CitiBike csv file from June 2015 "
   ]
  },
  {
   "cell_type": "code",
   "execution_count": null,
   "metadata": {},
   "outputs": [],
   "source": [
    "!curl https://s3.amazonaws.com/tripdata/201506-citibike-tripdata.zip?accessType=DOWNLOAD > 201506-citibike-tripdata.zip"
   ]
  },
  {
   "cell_type": "code",
   "execution_count": 43,
   "metadata": {},
   "outputs": [
    {
     "name": "stdout",
     "output_type": "stream",
     "text": [
      "PUIdata /nfshome/em3932/PUIdata\n"
     ]
    }
   ],
   "source": [
    "# Make sure an environmental variable for PUIdata exists\n",
    "print(\"PUIdata\", os.getenv(\"PUIDATA\"))"
   ]
  },
  {
   "cell_type": "code",
   "execution_count": 38,
   "metadata": {},
   "outputs": [],
   "source": [
    "!mv 201506-citibike-tripdata.zip $PUIDATA"
   ]
  },
  {
   "cell_type": "code",
   "execution_count": 44,
   "metadata": {},
   "outputs": [
    {
     "name": "stdout",
     "output_type": "stream",
     "text": [
      "201506-citibike-tripdata.zip  water_consumption.csv\r\n"
     ]
    }
   ],
   "source": [
    "# Test if the CitBike data is in PUIdata folder\n",
    "!ls $PUIDATA"
   ]
  },
  {
   "cell_type": "code",
   "execution_count": 45,
   "metadata": {},
   "outputs": [
    {
     "data": {
      "text/html": [
       "<div>\n",
       "<table border=\"1\" class=\"dataframe\">\n",
       "  <thead>\n",
       "    <tr style=\"text-align: right;\">\n",
       "      <th></th>\n",
       "      <th>tripduration</th>\n",
       "      <th>starttime</th>\n",
       "      <th>stoptime</th>\n",
       "      <th>start station id</th>\n",
       "      <th>start station name</th>\n",
       "      <th>start station latitude</th>\n",
       "      <th>start station longitude</th>\n",
       "      <th>end station id</th>\n",
       "      <th>end station name</th>\n",
       "      <th>end station latitude</th>\n",
       "      <th>end station longitude</th>\n",
       "      <th>bikeid</th>\n",
       "      <th>usertype</th>\n",
       "      <th>birth year</th>\n",
       "      <th>gender</th>\n",
       "      <th>date</th>\n",
       "    </tr>\n",
       "  </thead>\n",
       "  <tbody>\n",
       "    <tr>\n",
       "      <th>0</th>\n",
       "      <td>1338</td>\n",
       "      <td>6/1/2015 0:00</td>\n",
       "      <td>6/1/2015 0:22</td>\n",
       "      <td>128</td>\n",
       "      <td>MacDougal St &amp; Prince St</td>\n",
       "      <td>40.727103</td>\n",
       "      <td>-74.002971</td>\n",
       "      <td>2021</td>\n",
       "      <td>W 45 St &amp; 8 Ave</td>\n",
       "      <td>40.759291</td>\n",
       "      <td>-73.988597</td>\n",
       "      <td>20721</td>\n",
       "      <td>Subscriber</td>\n",
       "      <td>1984.0</td>\n",
       "      <td>1</td>\n",
       "      <td>2015-06-01 00:00:00</td>\n",
       "    </tr>\n",
       "    <tr>\n",
       "      <th>1</th>\n",
       "      <td>290</td>\n",
       "      <td>6/1/2015 0:00</td>\n",
       "      <td>6/1/2015 0:05</td>\n",
       "      <td>438</td>\n",
       "      <td>St Marks Pl &amp; 1 Ave</td>\n",
       "      <td>40.727791</td>\n",
       "      <td>-73.985649</td>\n",
       "      <td>312</td>\n",
       "      <td>Allen St &amp; E Houston St</td>\n",
       "      <td>40.722055</td>\n",
       "      <td>-73.989111</td>\n",
       "      <td>21606</td>\n",
       "      <td>Subscriber</td>\n",
       "      <td>1997.0</td>\n",
       "      <td>1</td>\n",
       "      <td>2015-06-01 00:00:00</td>\n",
       "    </tr>\n",
       "    <tr>\n",
       "      <th>2</th>\n",
       "      <td>634</td>\n",
       "      <td>6/1/2015 0:01</td>\n",
       "      <td>6/1/2015 0:11</td>\n",
       "      <td>383</td>\n",
       "      <td>Greenwich Ave &amp; Charles St</td>\n",
       "      <td>40.735238</td>\n",
       "      <td>-74.000271</td>\n",
       "      <td>388</td>\n",
       "      <td>W 26 St &amp; 10 Ave</td>\n",
       "      <td>40.749718</td>\n",
       "      <td>-74.002950</td>\n",
       "      <td>16595</td>\n",
       "      <td>Subscriber</td>\n",
       "      <td>1993.0</td>\n",
       "      <td>1</td>\n",
       "      <td>2015-06-01 00:01:00</td>\n",
       "    </tr>\n",
       "    <tr>\n",
       "      <th>3</th>\n",
       "      <td>159</td>\n",
       "      <td>6/1/2015 0:01</td>\n",
       "      <td>6/1/2015 0:04</td>\n",
       "      <td>361</td>\n",
       "      <td>Allen St &amp; Hester St</td>\n",
       "      <td>40.716059</td>\n",
       "      <td>-73.991908</td>\n",
       "      <td>531</td>\n",
       "      <td>Forsyth St &amp; Broome St</td>\n",
       "      <td>40.718939</td>\n",
       "      <td>-73.992663</td>\n",
       "      <td>16949</td>\n",
       "      <td>Subscriber</td>\n",
       "      <td>1981.0</td>\n",
       "      <td>1</td>\n",
       "      <td>2015-06-01 00:01:00</td>\n",
       "    </tr>\n",
       "    <tr>\n",
       "      <th>4</th>\n",
       "      <td>1233</td>\n",
       "      <td>6/1/2015 0:02</td>\n",
       "      <td>6/1/2015 0:22</td>\n",
       "      <td>382</td>\n",
       "      <td>University Pl &amp; E 14 St</td>\n",
       "      <td>40.734927</td>\n",
       "      <td>-73.992005</td>\n",
       "      <td>532</td>\n",
       "      <td>S 5 Pl &amp; S 4 St</td>\n",
       "      <td>40.710451</td>\n",
       "      <td>-73.960876</td>\n",
       "      <td>17028</td>\n",
       "      <td>Customer</td>\n",
       "      <td>NaN</td>\n",
       "      <td>0</td>\n",
       "      <td>2015-06-01 00:02:00</td>\n",
       "    </tr>\n",
       "  </tbody>\n",
       "</table>\n",
       "</div>"
      ],
      "text/plain": [
       "   tripduration      starttime       stoptime  start station id  \\\n",
       "0          1338  6/1/2015 0:00  6/1/2015 0:22               128   \n",
       "1           290  6/1/2015 0:00  6/1/2015 0:05               438   \n",
       "2           634  6/1/2015 0:01  6/1/2015 0:11               383   \n",
       "3           159  6/1/2015 0:01  6/1/2015 0:04               361   \n",
       "4          1233  6/1/2015 0:02  6/1/2015 0:22               382   \n",
       "\n",
       "           start station name  start station latitude  \\\n",
       "0    MacDougal St & Prince St               40.727103   \n",
       "1         St Marks Pl & 1 Ave               40.727791   \n",
       "2  Greenwich Ave & Charles St               40.735238   \n",
       "3        Allen St & Hester St               40.716059   \n",
       "4     University Pl & E 14 St               40.734927   \n",
       "\n",
       "   start station longitude  end station id         end station name  \\\n",
       "0               -74.002971            2021          W 45 St & 8 Ave   \n",
       "1               -73.985649             312  Allen St & E Houston St   \n",
       "2               -74.000271             388         W 26 St & 10 Ave   \n",
       "3               -73.991908             531   Forsyth St & Broome St   \n",
       "4               -73.992005             532          S 5 Pl & S 4 St   \n",
       "\n",
       "   end station latitude  end station longitude  bikeid    usertype  \\\n",
       "0             40.759291             -73.988597   20721  Subscriber   \n",
       "1             40.722055             -73.989111   21606  Subscriber   \n",
       "2             40.749718             -74.002950   16595  Subscriber   \n",
       "3             40.718939             -73.992663   16949  Subscriber   \n",
       "4             40.710451             -73.960876   17028    Customer   \n",
       "\n",
       "   birth year  gender                date  \n",
       "0      1984.0       1 2015-06-01 00:00:00  \n",
       "1      1997.0       1 2015-06-01 00:00:00  \n",
       "2      1993.0       1 2015-06-01 00:01:00  \n",
       "3      1981.0       1 2015-06-01 00:01:00  \n",
       "4         NaN       0 2015-06-01 00:02:00  "
      ]
     },
     "execution_count": 45,
     "metadata": {},
     "output_type": "execute_result"
    }
   ],
   "source": [
    "# Read the CitiBike data into a pandas dataframe (June 2015)\n",
    "cb_df = pd.read_csv(os.getenv(\"PUIDATA\") + '/201506-citibike-tripdata.zip')\n",
    "\n",
    "# Convert starttime to a datetime object \n",
    "cb_df['date'] = cb_df['starttime'].apply(lambda x: dt.datetime.strptime(x, '%m/%d/%Y %H:%M'))\n",
    "\n",
    "# Look at the top of the June dataframe\n",
    "cb_df.head()"
   ]
  },
  {
   "cell_type": "code",
   "execution_count": 46,
   "metadata": {},
   "outputs": [
    {
     "data": {
      "text/plain": [
       "Index(['tripduration', 'starttime', 'stoptime', 'start station id',\n",
       "       'start station name', 'start station latitude',\n",
       "       'start station longitude', 'end station id', 'end station name',\n",
       "       'end station latitude', 'end station longitude', 'bikeid', 'usertype',\n",
       "       'birth year', 'gender', 'date'],\n",
       "      dtype='object')"
      ]
     },
     "execution_count": 46,
     "metadata": {},
     "output_type": "execute_result"
    }
   ],
   "source": [
    "# Get the column names\n",
    "cb_df.columns"
   ]
  },
  {
   "cell_type": "code",
   "execution_count": 47,
   "metadata": {},
   "outputs": [],
   "source": [
    "# Drop the columns we don't need\n",
    "cb_df.drop(['tripduration', 'starttime','stoptime', 'start station id',\n",
    "       'start station name', 'start station latitude',\n",
    "       'start station longitude', 'end station id', 'end station name',\n",
    "       'end station latitude', 'end station longitude', 'bikeid', 'usertype', 'gender'], axis=1, inplace=True)"
   ]
  },
  {
   "cell_type": "code",
   "execution_count": 48,
   "metadata": {},
   "outputs": [
    {
     "data": {
      "text/html": [
       "<div>\n",
       "<table border=\"1\" class=\"dataframe\">\n",
       "  <thead>\n",
       "    <tr style=\"text-align: right;\">\n",
       "      <th></th>\n",
       "      <th>birth year</th>\n",
       "      <th>date</th>\n",
       "    </tr>\n",
       "  </thead>\n",
       "  <tbody>\n",
       "    <tr>\n",
       "      <th>0</th>\n",
       "      <td>1984.0</td>\n",
       "      <td>2015-06-01 00:00:00</td>\n",
       "    </tr>\n",
       "    <tr>\n",
       "      <th>1</th>\n",
       "      <td>1997.0</td>\n",
       "      <td>2015-06-01 00:00:00</td>\n",
       "    </tr>\n",
       "    <tr>\n",
       "      <th>2</th>\n",
       "      <td>1993.0</td>\n",
       "      <td>2015-06-01 00:01:00</td>\n",
       "    </tr>\n",
       "    <tr>\n",
       "      <th>3</th>\n",
       "      <td>1981.0</td>\n",
       "      <td>2015-06-01 00:01:00</td>\n",
       "    </tr>\n",
       "    <tr>\n",
       "      <th>4</th>\n",
       "      <td>NaN</td>\n",
       "      <td>2015-06-01 00:02:00</td>\n",
       "    </tr>\n",
       "  </tbody>\n",
       "</table>\n",
       "</div>"
      ],
      "text/plain": [
       "   birth year                date\n",
       "0      1984.0 2015-06-01 00:00:00\n",
       "1      1997.0 2015-06-01 00:00:00\n",
       "2      1993.0 2015-06-01 00:01:00\n",
       "3      1981.0 2015-06-01 00:01:00\n",
       "4         NaN 2015-06-01 00:02:00"
      ]
     },
     "execution_count": 48,
     "metadata": {},
     "output_type": "execute_result"
    }
   ],
   "source": [
    "# Look at the top of the reduced dataframe\n",
    "cb_df.head()"
   ]
  },
  {
   "cell_type": "code",
   "execution_count": 49,
   "metadata": {},
   "outputs": [
    {
     "data": {
      "text/html": [
       "<div>\n",
       "<table border=\"1\" class=\"dataframe\">\n",
       "  <thead>\n",
       "    <tr style=\"text-align: right;\">\n",
       "      <th></th>\n",
       "      <th>birth year</th>\n",
       "      <th>date</th>\n",
       "    </tr>\n",
       "  </thead>\n",
       "  <tbody>\n",
       "    <tr>\n",
       "      <th>941214</th>\n",
       "      <td>1989.0</td>\n",
       "      <td>2015-06-30 23:59:00</td>\n",
       "    </tr>\n",
       "    <tr>\n",
       "      <th>941215</th>\n",
       "      <td>NaN</td>\n",
       "      <td>2015-06-30 23:59:00</td>\n",
       "    </tr>\n",
       "    <tr>\n",
       "      <th>941216</th>\n",
       "      <td>NaN</td>\n",
       "      <td>2015-06-30 23:59:00</td>\n",
       "    </tr>\n",
       "    <tr>\n",
       "      <th>941217</th>\n",
       "      <td>1976.0</td>\n",
       "      <td>2015-06-30 23:59:00</td>\n",
       "    </tr>\n",
       "    <tr>\n",
       "      <th>941218</th>\n",
       "      <td>1982.0</td>\n",
       "      <td>2015-06-30 23:59:00</td>\n",
       "    </tr>\n",
       "  </tbody>\n",
       "</table>\n",
       "</div>"
      ],
      "text/plain": [
       "        birth year                date\n",
       "941214      1989.0 2015-06-30 23:59:00\n",
       "941215         NaN 2015-06-30 23:59:00\n",
       "941216         NaN 2015-06-30 23:59:00\n",
       "941217      1976.0 2015-06-30 23:59:00\n",
       "941218      1982.0 2015-06-30 23:59:00"
      ]
     },
     "execution_count": 49,
     "metadata": {},
     "output_type": "execute_result"
    }
   ],
   "source": [
    "# Look at the bottom of the reduced dataframe\n",
    "cb_df.tail()"
   ]
  },
  {
   "cell_type": "code",
   "execution_count": 50,
   "metadata": {},
   "outputs": [
    {
     "data": {
      "text/plain": [
       "941219"
      ]
     },
     "execution_count": 50,
     "metadata": {},
     "output_type": "execute_result"
    }
   ],
   "source": [
    "# Find out how many rows are in the table\n",
    "len(cb_df)"
   ]
  },
  {
   "cell_type": "code",
   "execution_count": 51,
   "metadata": {},
   "outputs": [
    {
     "data": {
      "text/plain": [
       "810827"
      ]
     },
     "execution_count": 51,
     "metadata": {},
     "output_type": "execute_result"
    }
   ],
   "source": [
    "# Remove NaN rows\n",
    "cb_df = cb_df.dropna()\n",
    "\n",
    "# Get the num rows again\n",
    "len(cb_df)"
   ]
  },
  {
   "cell_type": "code",
   "execution_count": 52,
   "metadata": {},
   "outputs": [],
   "source": [
    "# Only keep ride for people in their 20s and 30s\n",
    "cb_df = cb_df.drop(cb_df[(cb_df['birth year'] < 1979)].index)\n",
    "cb_df = cb_df.drop(cb_df[(cb_df['birth year'] > 1998)].index)"
   ]
  },
  {
   "cell_type": "code",
   "execution_count": 53,
   "metadata": {},
   "outputs": [
    {
     "name": "stdout",
     "output_type": "stream",
     "text": [
      "1979.0\n",
      "1998.0\n"
     ]
    }
   ],
   "source": [
    "# Find min and max birth years \n",
    "print(min(cb_df['birth year']))\n",
    "print(max(cb_df['birth year']))"
   ]
  },
  {
   "cell_type": "code",
   "execution_count": 54,
   "metadata": {},
   "outputs": [],
   "source": [
    "cb_df_30s = cb_df['date'][cb_df['birth year'] < 1989]\n",
    "cb_df_20s = cb_df['date'][cb_df['birth year'] > 1988]"
   ]
  },
  {
   "cell_type": "code",
   "execution_count": 55,
   "metadata": {},
   "outputs": [
    {
     "data": {
      "text/plain": [
       "301844"
      ]
     },
     "execution_count": 55,
     "metadata": {},
     "output_type": "execute_result"
    }
   ],
   "source": [
    "len(cb_df_30s)"
   ]
  },
  {
   "cell_type": "code",
   "execution_count": 56,
   "metadata": {},
   "outputs": [
    {
     "data": {
      "text/plain": [
       "105810"
      ]
     },
     "execution_count": 56,
     "metadata": {},
     "output_type": "execute_result"
    }
   ],
   "source": [
    "len(cb_df_20s)\n",
    "# There are nearly 3x as many riders in their 30s as in their 20s"
   ]
  },
  {
   "cell_type": "code",
   "execution_count": 61,
   "metadata": {},
   "outputs": [
    {
     "data": {
      "text/plain": [
       "pandas.core.series.Series"
      ]
     },
     "execution_count": 61,
     "metadata": {},
     "output_type": "execute_result"
    }
   ],
   "source": [
    "type(cb_df['birth year'])"
   ]
  },
  {
   "cell_type": "code",
   "execution_count": 64,
   "metadata": {},
   "outputs": [],
   "source": [
    "# Add a 'decades' column to identify people in their 20s vs. 30s using mapping\n",
    "birth_year_to_decade = {\n",
    "  1979.0: '30s',\n",
    "  1980.0: '30s',\n",
    "  1981.0: '30s',\n",
    "  1982.0: '30s',\n",
    "  1983.0: '30s',\n",
    "  1984.0: '30s',\n",
    "  1985.0: '30s',\n",
    "  1986.0: '30s',\n",
    "  1987.0: '30s',\n",
    "  1988.0: '30s',\n",
    "    1989.0: '20s',\n",
    "    1990.0: '20s',\n",
    "    1991.0: '20s',\n",
    "    1992.0: '20s',\n",
    "    1993.0: '20s',\n",
    "    1994.0: '20s',\n",
    "    1995.0: '20s',\n",
    "    1996.0: '20s',\n",
    "    1997.0: '20s',\n",
    "    1998.0: '20s',\n",
    "}\n"
   ]
  },
  {
   "cell_type": "code",
   "execution_count": 67,
   "metadata": {},
   "outputs": [
    {
     "data": {
      "text/html": [
       "<div>\n",
       "<table border=\"1\" class=\"dataframe\">\n",
       "  <thead>\n",
       "    <tr style=\"text-align: right;\">\n",
       "      <th></th>\n",
       "      <th>birth year</th>\n",
       "      <th>date</th>\n",
       "      <th>decade</th>\n",
       "    </tr>\n",
       "  </thead>\n",
       "  <tbody>\n",
       "    <tr>\n",
       "      <th>0</th>\n",
       "      <td>1984.0</td>\n",
       "      <td>2015-06-01 00:00:00</td>\n",
       "      <td>30s</td>\n",
       "    </tr>\n",
       "    <tr>\n",
       "      <th>1</th>\n",
       "      <td>1997.0</td>\n",
       "      <td>2015-06-01 00:00:00</td>\n",
       "      <td>20s</td>\n",
       "    </tr>\n",
       "    <tr>\n",
       "      <th>2</th>\n",
       "      <td>1993.0</td>\n",
       "      <td>2015-06-01 00:01:00</td>\n",
       "      <td>20s</td>\n",
       "    </tr>\n",
       "    <tr>\n",
       "      <th>3</th>\n",
       "      <td>1981.0</td>\n",
       "      <td>2015-06-01 00:01:00</td>\n",
       "      <td>30s</td>\n",
       "    </tr>\n",
       "    <tr>\n",
       "      <th>11</th>\n",
       "      <td>1982.0</td>\n",
       "      <td>2015-06-01 00:08:00</td>\n",
       "      <td>30s</td>\n",
       "    </tr>\n",
       "    <tr>\n",
       "      <th>12</th>\n",
       "      <td>1985.0</td>\n",
       "      <td>2015-06-01 00:10:00</td>\n",
       "      <td>30s</td>\n",
       "    </tr>\n",
       "    <tr>\n",
       "      <th>13</th>\n",
       "      <td>1989.0</td>\n",
       "      <td>2015-06-01 00:11:00</td>\n",
       "      <td>20s</td>\n",
       "    </tr>\n",
       "    <tr>\n",
       "      <th>14</th>\n",
       "      <td>1983.0</td>\n",
       "      <td>2015-06-01 00:13:00</td>\n",
       "      <td>30s</td>\n",
       "    </tr>\n",
       "    <tr>\n",
       "      <th>16</th>\n",
       "      <td>1985.0</td>\n",
       "      <td>2015-06-01 00:13:00</td>\n",
       "      <td>30s</td>\n",
       "    </tr>\n",
       "    <tr>\n",
       "      <th>19</th>\n",
       "      <td>1984.0</td>\n",
       "      <td>2015-06-01 00:14:00</td>\n",
       "      <td>30s</td>\n",
       "    </tr>\n",
       "    <tr>\n",
       "      <th>21</th>\n",
       "      <td>1993.0</td>\n",
       "      <td>2015-06-01 00:15:00</td>\n",
       "      <td>20s</td>\n",
       "    </tr>\n",
       "    <tr>\n",
       "      <th>22</th>\n",
       "      <td>1990.0</td>\n",
       "      <td>2015-06-01 00:16:00</td>\n",
       "      <td>20s</td>\n",
       "    </tr>\n",
       "    <tr>\n",
       "      <th>24</th>\n",
       "      <td>1986.0</td>\n",
       "      <td>2015-06-01 00:22:00</td>\n",
       "      <td>30s</td>\n",
       "    </tr>\n",
       "    <tr>\n",
       "      <th>26</th>\n",
       "      <td>1989.0</td>\n",
       "      <td>2015-06-01 00:23:00</td>\n",
       "      <td>20s</td>\n",
       "    </tr>\n",
       "    <tr>\n",
       "      <th>27</th>\n",
       "      <td>1983.0</td>\n",
       "      <td>2015-06-01 00:24:00</td>\n",
       "      <td>30s</td>\n",
       "    </tr>\n",
       "    <tr>\n",
       "      <th>28</th>\n",
       "      <td>1989.0</td>\n",
       "      <td>2015-06-01 00:24:00</td>\n",
       "      <td>20s</td>\n",
       "    </tr>\n",
       "    <tr>\n",
       "      <th>29</th>\n",
       "      <td>1986.0</td>\n",
       "      <td>2015-06-01 00:25:00</td>\n",
       "      <td>30s</td>\n",
       "    </tr>\n",
       "    <tr>\n",
       "      <th>33</th>\n",
       "      <td>1989.0</td>\n",
       "      <td>2015-06-01 00:28:00</td>\n",
       "      <td>20s</td>\n",
       "    </tr>\n",
       "    <tr>\n",
       "      <th>34</th>\n",
       "      <td>1990.0</td>\n",
       "      <td>2015-06-01 00:28:00</td>\n",
       "      <td>20s</td>\n",
       "    </tr>\n",
       "    <tr>\n",
       "      <th>39</th>\n",
       "      <td>1982.0</td>\n",
       "      <td>2015-06-01 00:30:00</td>\n",
       "      <td>30s</td>\n",
       "    </tr>\n",
       "    <tr>\n",
       "      <th>41</th>\n",
       "      <td>1989.0</td>\n",
       "      <td>2015-06-01 00:31:00</td>\n",
       "      <td>20s</td>\n",
       "    </tr>\n",
       "    <tr>\n",
       "      <th>43</th>\n",
       "      <td>1988.0</td>\n",
       "      <td>2015-06-01 00:32:00</td>\n",
       "      <td>30s</td>\n",
       "    </tr>\n",
       "    <tr>\n",
       "      <th>44</th>\n",
       "      <td>1986.0</td>\n",
       "      <td>2015-06-01 00:33:00</td>\n",
       "      <td>30s</td>\n",
       "    </tr>\n",
       "    <tr>\n",
       "      <th>45</th>\n",
       "      <td>1980.0</td>\n",
       "      <td>2015-06-01 00:34:00</td>\n",
       "      <td>30s</td>\n",
       "    </tr>\n",
       "    <tr>\n",
       "      <th>46</th>\n",
       "      <td>1988.0</td>\n",
       "      <td>2015-06-01 00:35:00</td>\n",
       "      <td>30s</td>\n",
       "    </tr>\n",
       "    <tr>\n",
       "      <th>48</th>\n",
       "      <td>1993.0</td>\n",
       "      <td>2015-06-01 00:35:00</td>\n",
       "      <td>20s</td>\n",
       "    </tr>\n",
       "    <tr>\n",
       "      <th>49</th>\n",
       "      <td>1992.0</td>\n",
       "      <td>2015-06-01 00:36:00</td>\n",
       "      <td>20s</td>\n",
       "    </tr>\n",
       "    <tr>\n",
       "      <th>52</th>\n",
       "      <td>1986.0</td>\n",
       "      <td>2015-06-01 00:37:00</td>\n",
       "      <td>30s</td>\n",
       "    </tr>\n",
       "    <tr>\n",
       "      <th>56</th>\n",
       "      <td>1982.0</td>\n",
       "      <td>2015-06-01 00:40:00</td>\n",
       "      <td>30s</td>\n",
       "    </tr>\n",
       "    <tr>\n",
       "      <th>58</th>\n",
       "      <td>1985.0</td>\n",
       "      <td>2015-06-01 00:42:00</td>\n",
       "      <td>30s</td>\n",
       "    </tr>\n",
       "    <tr>\n",
       "      <th>...</th>\n",
       "      <td>...</td>\n",
       "      <td>...</td>\n",
       "      <td>...</td>\n",
       "    </tr>\n",
       "    <tr>\n",
       "      <th>941160</th>\n",
       "      <td>1990.0</td>\n",
       "      <td>2015-06-30 23:52:00</td>\n",
       "      <td>20s</td>\n",
       "    </tr>\n",
       "    <tr>\n",
       "      <th>941162</th>\n",
       "      <td>1985.0</td>\n",
       "      <td>2015-06-30 23:52:00</td>\n",
       "      <td>30s</td>\n",
       "    </tr>\n",
       "    <tr>\n",
       "      <th>941164</th>\n",
       "      <td>1989.0</td>\n",
       "      <td>2015-06-30 23:52:00</td>\n",
       "      <td>20s</td>\n",
       "    </tr>\n",
       "    <tr>\n",
       "      <th>941165</th>\n",
       "      <td>1988.0</td>\n",
       "      <td>2015-06-30 23:52:00</td>\n",
       "      <td>30s</td>\n",
       "    </tr>\n",
       "    <tr>\n",
       "      <th>941166</th>\n",
       "      <td>1985.0</td>\n",
       "      <td>2015-06-30 23:52:00</td>\n",
       "      <td>30s</td>\n",
       "    </tr>\n",
       "    <tr>\n",
       "      <th>941170</th>\n",
       "      <td>1989.0</td>\n",
       "      <td>2015-06-30 23:52:00</td>\n",
       "      <td>20s</td>\n",
       "    </tr>\n",
       "    <tr>\n",
       "      <th>941171</th>\n",
       "      <td>1995.0</td>\n",
       "      <td>2015-06-30 23:53:00</td>\n",
       "      <td>20s</td>\n",
       "    </tr>\n",
       "    <tr>\n",
       "      <th>941173</th>\n",
       "      <td>1980.0</td>\n",
       "      <td>2015-06-30 23:53:00</td>\n",
       "      <td>30s</td>\n",
       "    </tr>\n",
       "    <tr>\n",
       "      <th>941175</th>\n",
       "      <td>1992.0</td>\n",
       "      <td>2015-06-30 23:53:00</td>\n",
       "      <td>20s</td>\n",
       "    </tr>\n",
       "    <tr>\n",
       "      <th>941179</th>\n",
       "      <td>1986.0</td>\n",
       "      <td>2015-06-30 23:53:00</td>\n",
       "      <td>30s</td>\n",
       "    </tr>\n",
       "    <tr>\n",
       "      <th>941180</th>\n",
       "      <td>1995.0</td>\n",
       "      <td>2015-06-30 23:54:00</td>\n",
       "      <td>20s</td>\n",
       "    </tr>\n",
       "    <tr>\n",
       "      <th>941181</th>\n",
       "      <td>1986.0</td>\n",
       "      <td>2015-06-30 23:54:00</td>\n",
       "      <td>30s</td>\n",
       "    </tr>\n",
       "    <tr>\n",
       "      <th>941182</th>\n",
       "      <td>1990.0</td>\n",
       "      <td>2015-06-30 23:54:00</td>\n",
       "      <td>20s</td>\n",
       "    </tr>\n",
       "    <tr>\n",
       "      <th>941184</th>\n",
       "      <td>1993.0</td>\n",
       "      <td>2015-06-30 23:54:00</td>\n",
       "      <td>20s</td>\n",
       "    </tr>\n",
       "    <tr>\n",
       "      <th>941185</th>\n",
       "      <td>1980.0</td>\n",
       "      <td>2015-06-30 23:54:00</td>\n",
       "      <td>30s</td>\n",
       "    </tr>\n",
       "    <tr>\n",
       "      <th>941186</th>\n",
       "      <td>1989.0</td>\n",
       "      <td>2015-06-30 23:55:00</td>\n",
       "      <td>20s</td>\n",
       "    </tr>\n",
       "    <tr>\n",
       "      <th>941190</th>\n",
       "      <td>1990.0</td>\n",
       "      <td>2015-06-30 23:56:00</td>\n",
       "      <td>20s</td>\n",
       "    </tr>\n",
       "    <tr>\n",
       "      <th>941191</th>\n",
       "      <td>1988.0</td>\n",
       "      <td>2015-06-30 23:56:00</td>\n",
       "      <td>30s</td>\n",
       "    </tr>\n",
       "    <tr>\n",
       "      <th>941194</th>\n",
       "      <td>1989.0</td>\n",
       "      <td>2015-06-30 23:57:00</td>\n",
       "      <td>20s</td>\n",
       "    </tr>\n",
       "    <tr>\n",
       "      <th>941197</th>\n",
       "      <td>1990.0</td>\n",
       "      <td>2015-06-30 23:57:00</td>\n",
       "      <td>20s</td>\n",
       "    </tr>\n",
       "    <tr>\n",
       "      <th>941198</th>\n",
       "      <td>1984.0</td>\n",
       "      <td>2015-06-30 23:57:00</td>\n",
       "      <td>30s</td>\n",
       "    </tr>\n",
       "    <tr>\n",
       "      <th>941200</th>\n",
       "      <td>1984.0</td>\n",
       "      <td>2015-06-30 23:57:00</td>\n",
       "      <td>30s</td>\n",
       "    </tr>\n",
       "    <tr>\n",
       "      <th>941202</th>\n",
       "      <td>1987.0</td>\n",
       "      <td>2015-06-30 23:58:00</td>\n",
       "      <td>30s</td>\n",
       "    </tr>\n",
       "    <tr>\n",
       "      <th>941205</th>\n",
       "      <td>1991.0</td>\n",
       "      <td>2015-06-30 23:58:00</td>\n",
       "      <td>20s</td>\n",
       "    </tr>\n",
       "    <tr>\n",
       "      <th>941207</th>\n",
       "      <td>1991.0</td>\n",
       "      <td>2015-06-30 23:58:00</td>\n",
       "      <td>20s</td>\n",
       "    </tr>\n",
       "    <tr>\n",
       "      <th>941208</th>\n",
       "      <td>1987.0</td>\n",
       "      <td>2015-06-30 23:58:00</td>\n",
       "      <td>30s</td>\n",
       "    </tr>\n",
       "    <tr>\n",
       "      <th>941211</th>\n",
       "      <td>1994.0</td>\n",
       "      <td>2015-06-30 23:59:00</td>\n",
       "      <td>20s</td>\n",
       "    </tr>\n",
       "    <tr>\n",
       "      <th>941213</th>\n",
       "      <td>1987.0</td>\n",
       "      <td>2015-06-30 23:59:00</td>\n",
       "      <td>30s</td>\n",
       "    </tr>\n",
       "    <tr>\n",
       "      <th>941214</th>\n",
       "      <td>1989.0</td>\n",
       "      <td>2015-06-30 23:59:00</td>\n",
       "      <td>20s</td>\n",
       "    </tr>\n",
       "    <tr>\n",
       "      <th>941218</th>\n",
       "      <td>1982.0</td>\n",
       "      <td>2015-06-30 23:59:00</td>\n",
       "      <td>30s</td>\n",
       "    </tr>\n",
       "  </tbody>\n",
       "</table>\n",
       "<p>407654 rows × 3 columns</p>\n",
       "</div>"
      ],
      "text/plain": [
       "        birth year                date decade\n",
       "0           1984.0 2015-06-01 00:00:00    30s\n",
       "1           1997.0 2015-06-01 00:00:00    20s\n",
       "2           1993.0 2015-06-01 00:01:00    20s\n",
       "3           1981.0 2015-06-01 00:01:00    30s\n",
       "11          1982.0 2015-06-01 00:08:00    30s\n",
       "12          1985.0 2015-06-01 00:10:00    30s\n",
       "13          1989.0 2015-06-01 00:11:00    20s\n",
       "14          1983.0 2015-06-01 00:13:00    30s\n",
       "16          1985.0 2015-06-01 00:13:00    30s\n",
       "19          1984.0 2015-06-01 00:14:00    30s\n",
       "21          1993.0 2015-06-01 00:15:00    20s\n",
       "22          1990.0 2015-06-01 00:16:00    20s\n",
       "24          1986.0 2015-06-01 00:22:00    30s\n",
       "26          1989.0 2015-06-01 00:23:00    20s\n",
       "27          1983.0 2015-06-01 00:24:00    30s\n",
       "28          1989.0 2015-06-01 00:24:00    20s\n",
       "29          1986.0 2015-06-01 00:25:00    30s\n",
       "33          1989.0 2015-06-01 00:28:00    20s\n",
       "34          1990.0 2015-06-01 00:28:00    20s\n",
       "39          1982.0 2015-06-01 00:30:00    30s\n",
       "41          1989.0 2015-06-01 00:31:00    20s\n",
       "43          1988.0 2015-06-01 00:32:00    30s\n",
       "44          1986.0 2015-06-01 00:33:00    30s\n",
       "45          1980.0 2015-06-01 00:34:00    30s\n",
       "46          1988.0 2015-06-01 00:35:00    30s\n",
       "48          1993.0 2015-06-01 00:35:00    20s\n",
       "49          1992.0 2015-06-01 00:36:00    20s\n",
       "52          1986.0 2015-06-01 00:37:00    30s\n",
       "56          1982.0 2015-06-01 00:40:00    30s\n",
       "58          1985.0 2015-06-01 00:42:00    30s\n",
       "...            ...                 ...    ...\n",
       "941160      1990.0 2015-06-30 23:52:00    20s\n",
       "941162      1985.0 2015-06-30 23:52:00    30s\n",
       "941164      1989.0 2015-06-30 23:52:00    20s\n",
       "941165      1988.0 2015-06-30 23:52:00    30s\n",
       "941166      1985.0 2015-06-30 23:52:00    30s\n",
       "941170      1989.0 2015-06-30 23:52:00    20s\n",
       "941171      1995.0 2015-06-30 23:53:00    20s\n",
       "941173      1980.0 2015-06-30 23:53:00    30s\n",
       "941175      1992.0 2015-06-30 23:53:00    20s\n",
       "941179      1986.0 2015-06-30 23:53:00    30s\n",
       "941180      1995.0 2015-06-30 23:54:00    20s\n",
       "941181      1986.0 2015-06-30 23:54:00    30s\n",
       "941182      1990.0 2015-06-30 23:54:00    20s\n",
       "941184      1993.0 2015-06-30 23:54:00    20s\n",
       "941185      1980.0 2015-06-30 23:54:00    30s\n",
       "941186      1989.0 2015-06-30 23:55:00    20s\n",
       "941190      1990.0 2015-06-30 23:56:00    20s\n",
       "941191      1988.0 2015-06-30 23:56:00    30s\n",
       "941194      1989.0 2015-06-30 23:57:00    20s\n",
       "941197      1990.0 2015-06-30 23:57:00    20s\n",
       "941198      1984.0 2015-06-30 23:57:00    30s\n",
       "941200      1984.0 2015-06-30 23:57:00    30s\n",
       "941202      1987.0 2015-06-30 23:58:00    30s\n",
       "941205      1991.0 2015-06-30 23:58:00    20s\n",
       "941207      1991.0 2015-06-30 23:58:00    20s\n",
       "941208      1987.0 2015-06-30 23:58:00    30s\n",
       "941211      1994.0 2015-06-30 23:59:00    20s\n",
       "941213      1987.0 2015-06-30 23:59:00    30s\n",
       "941214      1989.0 2015-06-30 23:59:00    20s\n",
       "941218      1982.0 2015-06-30 23:59:00    30s\n",
       "\n",
       "[407654 rows x 3 columns]"
      ]
     },
     "execution_count": 67,
     "metadata": {},
     "output_type": "execute_result"
    }
   ],
   "source": [
    "# Add a 'decades' column to identify people in their 20s vs. 30s using mapping\n",
    "cb_df['decade'] = cb_df['birth year'].map(birth_year_to_decade)\n",
    "cb_df"
   ]
  },
  {
   "cell_type": "markdown",
   "metadata": {},
   "source": [
    "## Separate people in their 20s and 30s to test the hypothesis"
   ]
  },
  {
   "cell_type": "markdown",
   "metadata": {},
   "source": [
    "## Plot the number of trips per day of week"
   ]
  },
  {
   "cell_type": "code",
   "execution_count": 57,
   "metadata": {},
   "outputs": [
    {
     "data": {
      "text/plain": [
       "<matplotlib.legend.Legend at 0x7f3bec0e8198>"
      ]
     },
     "execution_count": 57,
     "metadata": {},
     "output_type": "execute_result"
    },
    {
     "data": {
      "image/png": "[encoded data removed]",
      "text/plain": [
       "<matplotlib.figure.Figure at 0x7f3bec0f0198>"
      ]
     },
     "metadata": {},
     "output_type": "display_data"
    }
   ],
   "source": [
    "# Plot the number of trips per week day\n",
    "fig = plt.figure(figsize = (15,15))\n",
    "\n",
    "# Use the plot method in pandas\n",
    "norm_w = 1\n",
    "((cb_df['date'][cb_df['birth year'] < 1989].groupby([cb_df['date'].dt.weekday]).count()) / norm_w).plot(kind=\"bar\", \n",
    "                                                                                         color='IndianRed', \n",
    "                                                                                         label='30s')\n",
    "\n",
    "norm_m = 1\n",
    "ax = ((cb_df['date'][cb_df['birth year'] > 1988].groupby([cb_df['date'].dt.weekday]).count()) / norm_m).plot(kind=\"bar\", \n",
    "                                                                                              color='SteelBlue', \n",
    "                                                                                              alpha=0.5,\n",
    "                                                                                              label='20s')\n",
    "\n",
    "tmp = ax.xaxis.set_ticklabels(['Mon', 'Tue', 'Wed', 'Thu', 'Fri', 'Sat', 'Sun'], fontsize=20)\n",
    "ax.set_title (\"Number of CitiBike Rides vs. Day of Week for June 2015\", fontsize=20)\n",
    "ax.set_ylabel (\"Number of Rides\", fontsize=20)\n",
    "ax.set_xlabel (\"Day of Week\", fontsize=20)\n",
    "plt.legend()"
   ]
  },
  {
   "cell_type": "markdown",
   "metadata": {},
   "source": [
    "## Figure 1a: Distribution of CitiBike rider ages (20s or 30s) in June 2015, absolute counts. We can see from the chart that in total, there are more CitiBike riders in their 30s than in their 20s. We also see that there are lower total rides on Saturdays and Sundays compared to weekdays."
   ]
  },
  {
   "cell_type": "code",
   "execution_count": 58,
   "metadata": {},
   "outputs": [
    {
     "data": {
      "text/plain": [
       "<matplotlib.legend.Legend at 0x7f3bec051a20>"
      ]
     },
     "execution_count": 58,
     "metadata": {},
     "output_type": "execute_result"
    },
    {
     "data": {
      "image/png": "[encoded data removed]",
      "text/plain": [
       "<matplotlib.figure.Figure at 0x7f3bec0f1c18>"
      ]
     },
     "metadata": {},
     "output_type": "display_data"
    }
   ],
   "source": [
    "# Note: the counts have errors of course. what is the error on the count statistics?\n",
    "# for N counts the error is sqrt(N) - this is because counts follow a Poisson statistic\n",
    "\n",
    "fig = plt.figure(figsize = (15,10))\n",
    "\n",
    "counts_w = cb_df.date[cb_df['birth year'] < 1989].groupby([cb_df.date.dt.weekday]).count()\n",
    "norm_w = 1\n",
    "error_w = np.sqrt(counts_w)\n",
    "ax=((counts_w) / norm_w).plot(kind=\"bar\",color='IndianRed',  yerr=[\n",
    "            ((error_w) / norm_w, (error_w) / norm_w)], label='30s')\n",
    "\n",
    "\n",
    "counts_m = cb_df.date[cb_df['birth year'] > 1988].groupby([cb_df.date.dt.weekday]).count()\n",
    "norm_m = 1\n",
    "error_m=np.sqrt(counts_m)\n",
    "((counts_m) / norm_m).plot(kind=\"bar\", alpha=0.5, yerr=[((error_m) / norm_m, (error_m) / norm_m)], \n",
    "                           color='SteelBlue', label='20s')\n",
    "\n",
    "ax.xaxis.set_ticklabels(['Mon','Tue','Wed','Thu','Fri','Sat','Sun'], fontsize=20)\n",
    "ax.set_title (\"Distribution of Citibike Rider Ages in June 2015 with Statistical Errors\", fontsize=20)\n",
    "ax.set_ylabel (\"Number of Rides\", fontsize=20)\n",
    "ax.set_xlabel (\"Day of Week\", fontsize=20)\n",
    "plt.legend(['30s','20s'],fontsize=20)"
   ]
  },
  {
   "cell_type": "markdown",
   "metadata": {},
   "source": [
    "## Figure 1b: Distribution of Citibike rider ages (20s or 30s) in June 2015, absolute counts, with statistical errors"
   ]
  },
  {
   "cell_type": "markdown",
   "metadata": {},
   "source": [
    "Note: These are absolute numbers. It is very hard to compare absolute numbers. Ratios (or proportions) are more ameable to comparison, so let's normalize the distribution of man, and that of women, i.e. devide them by the total number of rides for that gender. (Notice that we have to normalize the errorbars too!)"
   ]
  },
  {
   "cell_type": "code",
   "execution_count": 59,
   "metadata": {},
   "outputs": [
    {
     "data": {
      "text/plain": [
       "<matplotlib.legend.Legend at 0x7f3bec0f1198>"
      ]
     },
     "execution_count": 59,
     "metadata": {},
     "output_type": "execute_result"
    },
    {
     "data": {
      "image/png": "[encoded data removed]",
      "text/plain": [
       "<matplotlib.figure.Figure at 0x7f3bec047b38>"
      ]
     },
     "metadata": {},
     "output_type": "display_data"
    }
   ],
   "source": [
    "fig = plt.figure(figsize = (15,10))\n",
    "\n",
    "norm_w = counts_w.sum()\n",
    "error_w = np.sqrt(counts_w)\n",
    "((counts_w) / norm_w).plot(kind=\"bar\", color='IndianRed',  \n",
    "                           yerr=[((error_w) / norm_w, (error_w) / norm_w)], \n",
    "                           label='30s')\n",
    "\n",
    "norm_m = counts_m.sum()\n",
    "ax = ((counts_m) / norm_m).plot(kind=\"bar\", alpha=0.5, \n",
    "                                yerr=[((error_m) / norm_m, (error_m) / norm_m)], \n",
    "                                color='SteelBlue', label='20s')\n",
    "\n",
    "ax.xaxis.set_ticklabels(['Mon', 'Tue', 'Wed', 'Thu', 'Fri', 'Sat', 'Sun'], fontsize=20)\n",
    "ax.set_title (\"Distribution of Citibike Rider Ages in June 2015, Normalized\", fontsize=20)\n",
    "ax.set_ylabel (\"Fraction of Rides\", fontsize=20)\n",
    "ax.set_xlabel (\"Day of Week\", fontsize=20)\n",
    "\n",
    "plt.legend(['30s','20s'],fontsize=20)"
   ]
  },
  {
   "cell_type": "markdown",
   "metadata": {},
   "source": [
    "## Figure 2: Distribution of CitiBike rider ages (20s or 30s) in June 2015, normalized"
   ]
  },
  {
   "cell_type": "code",
   "execution_count": null,
   "metadata": {},
   "outputs": [],
   "source": []
  }
 ],
 "metadata": {
  "kernelspec": {
   "display_name": "PUI2016_Python3",
   "language": "python",
   "name": "pui2016_python3"
  },
  "language_info": {
   "codemirror_mode": {
    "name": "ipython",
    "version": 3
   },
   "file_extension": ".py",
   "mimetype": "text/x-python",
   "name": "python",
   "nbconvert_exporter": "python",
   "pygments_lexer": "ipython3",
   "version": "3.5.4"
  }
 },
 "nbformat": 4,
 "nbformat_minor": 2
}
