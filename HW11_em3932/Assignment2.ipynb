{
 "cells": [
  {
   "cell_type": "code",
   "execution_count": 1,
   "metadata": {},
   "outputs": [],
   "source": [
    "# import packages\n",
    "import pandas as pd\n",
    "import datetime as dt\n",
    "import matplotlib.pyplot as plt\n",
    "import numpy as np\n",
    "import calendar\n",
    "%matplotlib inline"
   ]
  },
  {
   "cell_type": "code",
   "execution_count": 2,
   "metadata": {},
   "outputs": [],
   "source": [
    "#PLOT: mv accidents vs. month (by year, by borough)"
   ]
  },
  {
   "cell_type": "code",
   "execution_count": 3,
   "metadata": {},
   "outputs": [
    {
     "name": "stdout",
     "output_type": "stream",
     "text": [
      "  % Total    % Received % Xferd  Average Speed   Time    Time     Time  Current\n",
      "                                 Dload  Upload   Total   Spent    Left  Speed\n",
      "100  291M    0  291M    0     0  2199k      0 --:--:--  0:02:15 --:--:-- 2307k\n"
     ]
    }
   ],
   "source": [
    "# download NYPD Motor Vehicle Collisions from NYC open data \n",
    "!curl https://data.cityofnewyork.us/api/views/h9gi-nx95/rows.csv?accessType=DOWNLOAD > mv_accidents.csv"
   ]
  },
  {
   "cell_type": "code",
   "execution_count": 4,
   "metadata": {},
   "outputs": [],
   "source": [
    "!mv mv_accidents.csv $PUIDATA"
   ]
  },
  {
   "cell_type": "code",
   "execution_count": 5,
   "metadata": {},
   "outputs": [
    {
     "name": "stderr",
     "output_type": "stream",
     "text": [
      "/usr/local/Anaconda3-5.0.0-Linux-x86_64/envs/PUI2016_Python3/lib/python3.5/site-packages/IPython/core/interactiveshell.py:2717: DtypeWarning: Columns (3) have mixed types. Specify dtype option on import or set low_memory=False.\n",
      "  interactivity=interactivity, compiler=compiler, result=result)\n"
     ]
    },
    {
     "data": {
      "text/html": [
       "<div>\n",
       "<table border=\"1\" class=\"dataframe\">\n",
       "  <thead>\n",
       "    <tr style=\"text-align: right;\">\n",
       "      <th></th>\n",
       "      <th>DATE</th>\n",
       "      <th>TIME</th>\n",
       "      <th>BOROUGH</th>\n",
       "      <th>ZIP CODE</th>\n",
       "      <th>LATITUDE</th>\n",
       "      <th>LONGITUDE</th>\n",
       "      <th>LOCATION</th>\n",
       "      <th>ON STREET NAME</th>\n",
       "      <th>CROSS STREET NAME</th>\n",
       "      <th>OFF STREET NAME</th>\n",
       "      <th>...</th>\n",
       "      <th>CONTRIBUTING FACTOR VEHICLE 2</th>\n",
       "      <th>CONTRIBUTING FACTOR VEHICLE 3</th>\n",
       "      <th>CONTRIBUTING FACTOR VEHICLE 4</th>\n",
       "      <th>CONTRIBUTING FACTOR VEHICLE 5</th>\n",
       "      <th>UNIQUE KEY</th>\n",
       "      <th>VEHICLE TYPE CODE 1</th>\n",
       "      <th>VEHICLE TYPE CODE 2</th>\n",
       "      <th>VEHICLE TYPE CODE 3</th>\n",
       "      <th>VEHICLE TYPE CODE 4</th>\n",
       "      <th>VEHICLE TYPE CODE 5</th>\n",
       "    </tr>\n",
       "  </thead>\n",
       "  <tbody>\n",
       "    <tr>\n",
       "      <th>0</th>\n",
       "      <td>11/16/2018</td>\n",
       "      <td>0:10</td>\n",
       "      <td>MANHATTAN</td>\n",
       "      <td>10010</td>\n",
       "      <td>40.742275</td>\n",
       "      <td>-73.988914</td>\n",
       "      <td>(40.742275, -73.988914)</td>\n",
       "      <td>5 AVENUE</td>\n",
       "      <td>BROADWAY</td>\n",
       "      <td>NaN</td>\n",
       "      <td>...</td>\n",
       "      <td>Unspecified</td>\n",
       "      <td>NaN</td>\n",
       "      <td>NaN</td>\n",
       "      <td>NaN</td>\n",
       "      <td>4021880</td>\n",
       "      <td>Station Wagon/Sport Utility Vehicle</td>\n",
       "      <td>Station Wagon/Sport Utility Vehicle</td>\n",
       "      <td>NaN</td>\n",
       "      <td>NaN</td>\n",
       "      <td>NaN</td>\n",
       "    </tr>\n",
       "    <tr>\n",
       "      <th>1</th>\n",
       "      <td>11/16/2018</td>\n",
       "      <td>0:40</td>\n",
       "      <td>NaN</td>\n",
       "      <td>NaN</td>\n",
       "      <td>40.762720</td>\n",
       "      <td>-73.728170</td>\n",
       "      <td>(40.76272, -73.72817)</td>\n",
       "      <td>LONG ISLAND EXPRESSWAY</td>\n",
       "      <td>NaN</td>\n",
       "      <td>NaN</td>\n",
       "      <td>...</td>\n",
       "      <td>Pavement Slippery</td>\n",
       "      <td>NaN</td>\n",
       "      <td>NaN</td>\n",
       "      <td>NaN</td>\n",
       "      <td>4021727</td>\n",
       "      <td>Sedan</td>\n",
       "      <td>Pick-up Truck</td>\n",
       "      <td>NaN</td>\n",
       "      <td>NaN</td>\n",
       "      <td>NaN</td>\n",
       "    </tr>\n",
       "    <tr>\n",
       "      <th>2</th>\n",
       "      <td>11/16/2018</td>\n",
       "      <td>0:45</td>\n",
       "      <td>BROOKLYN</td>\n",
       "      <td>11211</td>\n",
       "      <td>40.710197</td>\n",
       "      <td>-73.958430</td>\n",
       "      <td>(40.710197, -73.95843)</td>\n",
       "      <td>BORINQUEN PLACE</td>\n",
       "      <td>HAVEMEYER STREET</td>\n",
       "      <td>NaN</td>\n",
       "      <td>...</td>\n",
       "      <td>Driver Inattention/Distraction</td>\n",
       "      <td>NaN</td>\n",
       "      <td>NaN</td>\n",
       "      <td>NaN</td>\n",
       "      <td>4021791</td>\n",
       "      <td>Taxi</td>\n",
       "      <td>Taxi</td>\n",
       "      <td>NaN</td>\n",
       "      <td>NaN</td>\n",
       "      <td>NaN</td>\n",
       "    </tr>\n",
       "    <tr>\n",
       "      <th>3</th>\n",
       "      <td>11/16/2018</td>\n",
       "      <td>1:00</td>\n",
       "      <td>BRONX</td>\n",
       "      <td>10454</td>\n",
       "      <td>40.803555</td>\n",
       "      <td>-73.911840</td>\n",
       "      <td>(40.803555, -73.91184)</td>\n",
       "      <td>EAST 137 STREET</td>\n",
       "      <td>WILLOW AVENUE</td>\n",
       "      <td>NaN</td>\n",
       "      <td>...</td>\n",
       "      <td>Unspecified</td>\n",
       "      <td>NaN</td>\n",
       "      <td>NaN</td>\n",
       "      <td>NaN</td>\n",
       "      <td>4021878</td>\n",
       "      <td>Garbage or Refuse</td>\n",
       "      <td>Station Wagon/Sport Utility Vehicle</td>\n",
       "      <td>NaN</td>\n",
       "      <td>NaN</td>\n",
       "      <td>NaN</td>\n",
       "    </tr>\n",
       "    <tr>\n",
       "      <th>4</th>\n",
       "      <td>11/16/2018</td>\n",
       "      <td>1:00</td>\n",
       "      <td>BROOKLYN</td>\n",
       "      <td>11221</td>\n",
       "      <td>40.694923</td>\n",
       "      <td>-73.915565</td>\n",
       "      <td>(40.694923, -73.915565)</td>\n",
       "      <td>WILSON AVENUE</td>\n",
       "      <td>PALMETTO STREET</td>\n",
       "      <td>NaN</td>\n",
       "      <td>...</td>\n",
       "      <td>Unspecified</td>\n",
       "      <td>NaN</td>\n",
       "      <td>NaN</td>\n",
       "      <td>NaN</td>\n",
       "      <td>4021848</td>\n",
       "      <td>Station Wagon/Sport Utility Vehicle</td>\n",
       "      <td>Station Wagon/Sport Utility Vehicle</td>\n",
       "      <td>NaN</td>\n",
       "      <td>NaN</td>\n",
       "      <td>NaN</td>\n",
       "    </tr>\n",
       "  </tbody>\n",
       "</table>\n",
       "<p>5 rows × 29 columns</p>\n",
       "</div>"
      ],
      "text/plain": [
       "         DATE  TIME    BOROUGH ZIP CODE   LATITUDE  LONGITUDE  \\\n",
       "0  11/16/2018  0:10  MANHATTAN    10010  40.742275 -73.988914   \n",
       "1  11/16/2018  0:40        NaN      NaN  40.762720 -73.728170   \n",
       "2  11/16/2018  0:45   BROOKLYN    11211  40.710197 -73.958430   \n",
       "3  11/16/2018  1:00      BRONX    10454  40.803555 -73.911840   \n",
       "4  11/16/2018  1:00   BROOKLYN    11221  40.694923 -73.915565   \n",
       "\n",
       "                  LOCATION                    ON STREET NAME  \\\n",
       "0  (40.742275, -73.988914)  5 AVENUE                           \n",
       "1    (40.76272, -73.72817)  LONG ISLAND EXPRESSWAY             \n",
       "2   (40.710197, -73.95843)  BORINQUEN PLACE                    \n",
       "3   (40.803555, -73.91184)  EAST 137 STREET                    \n",
       "4  (40.694923, -73.915565)  WILSON AVENUE                      \n",
       "\n",
       "  CROSS STREET NAME OFF STREET NAME         ...          \\\n",
       "0          BROADWAY             NaN         ...           \n",
       "1               NaN             NaN         ...           \n",
       "2  HAVEMEYER STREET             NaN         ...           \n",
       "3     WILLOW AVENUE             NaN         ...           \n",
       "4   PALMETTO STREET             NaN         ...           \n",
       "\n",
       "    CONTRIBUTING FACTOR VEHICLE 2  CONTRIBUTING FACTOR VEHICLE 3  \\\n",
       "0                     Unspecified                            NaN   \n",
       "1               Pavement Slippery                            NaN   \n",
       "2  Driver Inattention/Distraction                            NaN   \n",
       "3                     Unspecified                            NaN   \n",
       "4                     Unspecified                            NaN   \n",
       "\n",
       "   CONTRIBUTING FACTOR VEHICLE 4  CONTRIBUTING FACTOR VEHICLE 5  UNIQUE KEY  \\\n",
       "0                            NaN                            NaN     4021880   \n",
       "1                            NaN                            NaN     4021727   \n",
       "2                            NaN                            NaN     4021791   \n",
       "3                            NaN                            NaN     4021878   \n",
       "4                            NaN                            NaN     4021848   \n",
       "\n",
       "                   VEHICLE TYPE CODE 1                  VEHICLE TYPE CODE 2  \\\n",
       "0  Station Wagon/Sport Utility Vehicle  Station Wagon/Sport Utility Vehicle   \n",
       "1                                Sedan                        Pick-up Truck   \n",
       "2                                 Taxi                                 Taxi   \n",
       "3                    Garbage or Refuse  Station Wagon/Sport Utility Vehicle   \n",
       "4  Station Wagon/Sport Utility Vehicle  Station Wagon/Sport Utility Vehicle   \n",
       "\n",
       "   VEHICLE TYPE CODE 3 VEHICLE TYPE CODE 4 VEHICLE TYPE CODE 5  \n",
       "0                  NaN                 NaN                 NaN  \n",
       "1                  NaN                 NaN                 NaN  \n",
       "2                  NaN                 NaN                 NaN  \n",
       "3                  NaN                 NaN                 NaN  \n",
       "4                  NaN                 NaN                 NaN  \n",
       "\n",
       "[5 rows x 29 columns]"
      ]
     },
     "execution_count": 5,
     "metadata": {},
     "output_type": "execute_result"
    }
   ],
   "source": [
    "mv = pd.read_csv(os.getenv(\"PUIDATA\") + \"/mv_accidents.csv\")\n",
    "mv.head()"
   ]
  },
  {
   "cell_type": "code",
   "execution_count": 6,
   "metadata": {},
   "outputs": [
    {
     "data": {
      "text/html": [
       "<div>\n",
       "<table border=\"1\" class=\"dataframe\">\n",
       "  <thead>\n",
       "    <tr style=\"text-align: right;\">\n",
       "      <th></th>\n",
       "      <th>DATE</th>\n",
       "      <th>TIME</th>\n",
       "      <th>BOROUGH</th>\n",
       "      <th>ZIP CODE</th>\n",
       "      <th>LATITUDE</th>\n",
       "      <th>LONGITUDE</th>\n",
       "      <th>LOCATION</th>\n",
       "      <th>ON STREET NAME</th>\n",
       "      <th>CROSS STREET NAME</th>\n",
       "      <th>OFF STREET NAME</th>\n",
       "      <th>...</th>\n",
       "      <th>CONTRIBUTING FACTOR VEHICLE 3</th>\n",
       "      <th>CONTRIBUTING FACTOR VEHICLE 4</th>\n",
       "      <th>CONTRIBUTING FACTOR VEHICLE 5</th>\n",
       "      <th>UNIQUE KEY</th>\n",
       "      <th>VEHICLE TYPE CODE 1</th>\n",
       "      <th>VEHICLE TYPE CODE 2</th>\n",
       "      <th>VEHICLE TYPE CODE 3</th>\n",
       "      <th>VEHICLE TYPE CODE 4</th>\n",
       "      <th>VEHICLE TYPE CODE 5</th>\n",
       "      <th>date</th>\n",
       "    </tr>\n",
       "  </thead>\n",
       "  <tbody>\n",
       "    <tr>\n",
       "      <th>0</th>\n",
       "      <td>11/16/2018</td>\n",
       "      <td>0:10</td>\n",
       "      <td>MANHATTAN</td>\n",
       "      <td>10010</td>\n",
       "      <td>40.742275</td>\n",
       "      <td>-73.988914</td>\n",
       "      <td>(40.742275, -73.988914)</td>\n",
       "      <td>5 AVENUE</td>\n",
       "      <td>BROADWAY</td>\n",
       "      <td>NaN</td>\n",
       "      <td>...</td>\n",
       "      <td>NaN</td>\n",
       "      <td>NaN</td>\n",
       "      <td>NaN</td>\n",
       "      <td>4021880</td>\n",
       "      <td>Station Wagon/Sport Utility Vehicle</td>\n",
       "      <td>Station Wagon/Sport Utility Vehicle</td>\n",
       "      <td>NaN</td>\n",
       "      <td>NaN</td>\n",
       "      <td>NaN</td>\n",
       "      <td>2018-11-16</td>\n",
       "    </tr>\n",
       "    <tr>\n",
       "      <th>1</th>\n",
       "      <td>11/16/2018</td>\n",
       "      <td>0:40</td>\n",
       "      <td>NaN</td>\n",
       "      <td>NaN</td>\n",
       "      <td>40.762720</td>\n",
       "      <td>-73.728170</td>\n",
       "      <td>(40.76272, -73.72817)</td>\n",
       "      <td>LONG ISLAND EXPRESSWAY</td>\n",
       "      <td>NaN</td>\n",
       "      <td>NaN</td>\n",
       "      <td>...</td>\n",
       "      <td>NaN</td>\n",
       "      <td>NaN</td>\n",
       "      <td>NaN</td>\n",
       "      <td>4021727</td>\n",
       "      <td>Sedan</td>\n",
       "      <td>Pick-up Truck</td>\n",
       "      <td>NaN</td>\n",
       "      <td>NaN</td>\n",
       "      <td>NaN</td>\n",
       "      <td>2018-11-16</td>\n",
       "    </tr>\n",
       "    <tr>\n",
       "      <th>2</th>\n",
       "      <td>11/16/2018</td>\n",
       "      <td>0:45</td>\n",
       "      <td>BROOKLYN</td>\n",
       "      <td>11211</td>\n",
       "      <td>40.710197</td>\n",
       "      <td>-73.958430</td>\n",
       "      <td>(40.710197, -73.95843)</td>\n",
       "      <td>BORINQUEN PLACE</td>\n",
       "      <td>HAVEMEYER STREET</td>\n",
       "      <td>NaN</td>\n",
       "      <td>...</td>\n",
       "      <td>NaN</td>\n",
       "      <td>NaN</td>\n",
       "      <td>NaN</td>\n",
       "      <td>4021791</td>\n",
       "      <td>Taxi</td>\n",
       "      <td>Taxi</td>\n",
       "      <td>NaN</td>\n",
       "      <td>NaN</td>\n",
       "      <td>NaN</td>\n",
       "      <td>2018-11-16</td>\n",
       "    </tr>\n",
       "    <tr>\n",
       "      <th>3</th>\n",
       "      <td>11/16/2018</td>\n",
       "      <td>1:00</td>\n",
       "      <td>BRONX</td>\n",
       "      <td>10454</td>\n",
       "      <td>40.803555</td>\n",
       "      <td>-73.911840</td>\n",
       "      <td>(40.803555, -73.91184)</td>\n",
       "      <td>EAST 137 STREET</td>\n",
       "      <td>WILLOW AVENUE</td>\n",
       "      <td>NaN</td>\n",
       "      <td>...</td>\n",
       "      <td>NaN</td>\n",
       "      <td>NaN</td>\n",
       "      <td>NaN</td>\n",
       "      <td>4021878</td>\n",
       "      <td>Garbage or Refuse</td>\n",
       "      <td>Station Wagon/Sport Utility Vehicle</td>\n",
       "      <td>NaN</td>\n",
       "      <td>NaN</td>\n",
       "      <td>NaN</td>\n",
       "      <td>2018-11-16</td>\n",
       "    </tr>\n",
       "    <tr>\n",
       "      <th>4</th>\n",
       "      <td>11/16/2018</td>\n",
       "      <td>1:00</td>\n",
       "      <td>BROOKLYN</td>\n",
       "      <td>11221</td>\n",
       "      <td>40.694923</td>\n",
       "      <td>-73.915565</td>\n",
       "      <td>(40.694923, -73.915565)</td>\n",
       "      <td>WILSON AVENUE</td>\n",
       "      <td>PALMETTO STREET</td>\n",
       "      <td>NaN</td>\n",
       "      <td>...</td>\n",
       "      <td>NaN</td>\n",
       "      <td>NaN</td>\n",
       "      <td>NaN</td>\n",
       "      <td>4021848</td>\n",
       "      <td>Station Wagon/Sport Utility Vehicle</td>\n",
       "      <td>Station Wagon/Sport Utility Vehicle</td>\n",
       "      <td>NaN</td>\n",
       "      <td>NaN</td>\n",
       "      <td>NaN</td>\n",
       "      <td>2018-11-16</td>\n",
       "    </tr>\n",
       "  </tbody>\n",
       "</table>\n",
       "<p>5 rows × 30 columns</p>\n",
       "</div>"
      ],
      "text/plain": [
       "         DATE  TIME    BOROUGH ZIP CODE   LATITUDE  LONGITUDE  \\\n",
       "0  11/16/2018  0:10  MANHATTAN    10010  40.742275 -73.988914   \n",
       "1  11/16/2018  0:40        NaN      NaN  40.762720 -73.728170   \n",
       "2  11/16/2018  0:45   BROOKLYN    11211  40.710197 -73.958430   \n",
       "3  11/16/2018  1:00      BRONX    10454  40.803555 -73.911840   \n",
       "4  11/16/2018  1:00   BROOKLYN    11221  40.694923 -73.915565   \n",
       "\n",
       "                  LOCATION                    ON STREET NAME  \\\n",
       "0  (40.742275, -73.988914)  5 AVENUE                           \n",
       "1    (40.76272, -73.72817)  LONG ISLAND EXPRESSWAY             \n",
       "2   (40.710197, -73.95843)  BORINQUEN PLACE                    \n",
       "3   (40.803555, -73.91184)  EAST 137 STREET                    \n",
       "4  (40.694923, -73.915565)  WILSON AVENUE                      \n",
       "\n",
       "  CROSS STREET NAME OFF STREET NAME    ...      CONTRIBUTING FACTOR VEHICLE 3  \\\n",
       "0          BROADWAY             NaN    ...                                NaN   \n",
       "1               NaN             NaN    ...                                NaN   \n",
       "2  HAVEMEYER STREET             NaN    ...                                NaN   \n",
       "3     WILLOW AVENUE             NaN    ...                                NaN   \n",
       "4   PALMETTO STREET             NaN    ...                                NaN   \n",
       "\n",
       "   CONTRIBUTING FACTOR VEHICLE 4  CONTRIBUTING FACTOR VEHICLE 5  UNIQUE KEY  \\\n",
       "0                            NaN                            NaN     4021880   \n",
       "1                            NaN                            NaN     4021727   \n",
       "2                            NaN                            NaN     4021791   \n",
       "3                            NaN                            NaN     4021878   \n",
       "4                            NaN                            NaN     4021848   \n",
       "\n",
       "                   VEHICLE TYPE CODE 1                  VEHICLE TYPE CODE 2  \\\n",
       "0  Station Wagon/Sport Utility Vehicle  Station Wagon/Sport Utility Vehicle   \n",
       "1                                Sedan                        Pick-up Truck   \n",
       "2                                 Taxi                                 Taxi   \n",
       "3                    Garbage or Refuse  Station Wagon/Sport Utility Vehicle   \n",
       "4  Station Wagon/Sport Utility Vehicle  Station Wagon/Sport Utility Vehicle   \n",
       "\n",
       "   VEHICLE TYPE CODE 3  VEHICLE TYPE CODE 4 VEHICLE TYPE CODE 5       date  \n",
       "0                  NaN                  NaN                 NaN 2018-11-16  \n",
       "1                  NaN                  NaN                 NaN 2018-11-16  \n",
       "2                  NaN                  NaN                 NaN 2018-11-16  \n",
       "3                  NaN                  NaN                 NaN 2018-11-16  \n",
       "4                  NaN                  NaN                 NaN 2018-11-16  \n",
       "\n",
       "[5 rows x 30 columns]"
      ]
     },
     "execution_count": 6,
     "metadata": {},
     "output_type": "execute_result"
    }
   ],
   "source": [
    "# convert date to a datetime object \n",
    "mv['date'] = mv['DATE'].apply(lambda x: dt.datetime.strptime(x, '%m/%d/%Y'))\n",
    "mv.head()"
   ]
  },
  {
   "cell_type": "code",
   "execution_count": 7,
   "metadata": {},
   "outputs": [
    {
     "data": {
      "text/plain": [
       "(1385920, 30)"
      ]
     },
     "execution_count": 7,
     "metadata": {},
     "output_type": "execute_result"
    }
   ],
   "source": [
    "mv.shape"
   ]
  },
  {
   "cell_type": "code",
   "execution_count": 8,
   "metadata": {},
   "outputs": [
    {
     "data": {
      "text/plain": [
       "Index(['DATE', 'TIME', 'BOROUGH', 'ZIP CODE', 'LATITUDE', 'LONGITUDE',\n",
       "       'LOCATION', 'ON STREET NAME', 'CROSS STREET NAME', 'OFF STREET NAME',\n",
       "       'NUMBER OF PERSONS INJURED', 'NUMBER OF PERSONS KILLED',\n",
       "       'NUMBER OF PEDESTRIANS INJURED', 'NUMBER OF PEDESTRIANS KILLED',\n",
       "       'NUMBER OF CYCLIST INJURED', 'NUMBER OF CYCLIST KILLED',\n",
       "       'NUMBER OF MOTORIST INJURED', 'NUMBER OF MOTORIST KILLED',\n",
       "       'CONTRIBUTING FACTOR VEHICLE 1', 'CONTRIBUTING FACTOR VEHICLE 2',\n",
       "       'CONTRIBUTING FACTOR VEHICLE 3', 'CONTRIBUTING FACTOR VEHICLE 4',\n",
       "       'CONTRIBUTING FACTOR VEHICLE 5', 'UNIQUE KEY', 'VEHICLE TYPE CODE 1',\n",
       "       'VEHICLE TYPE CODE 2', 'VEHICLE TYPE CODE 3', 'VEHICLE TYPE CODE 4',\n",
       "       'VEHICLE TYPE CODE 5', 'date'],\n",
       "      dtype='object')"
      ]
     },
     "execution_count": 8,
     "metadata": {},
     "output_type": "execute_result"
    }
   ],
   "source": [
    "# drop columns we don't need \n",
    "mv.columns"
   ]
  },
  {
   "cell_type": "code",
   "execution_count": 9,
   "metadata": {},
   "outputs": [
    {
     "data": {
      "text/html": [
       "<div>\n",
       "<table border=\"1\" class=\"dataframe\">\n",
       "  <thead>\n",
       "    <tr style=\"text-align: right;\">\n",
       "      <th></th>\n",
       "      <th>bor</th>\n",
       "      <th>id</th>\n",
       "      <th>date</th>\n",
       "    </tr>\n",
       "  </thead>\n",
       "  <tbody>\n",
       "    <tr>\n",
       "      <th>0</th>\n",
       "      <td>MANHATTAN</td>\n",
       "      <td>4021880</td>\n",
       "      <td>2018-11-16</td>\n",
       "    </tr>\n",
       "    <tr>\n",
       "      <th>1</th>\n",
       "      <td>NaN</td>\n",
       "      <td>4021727</td>\n",
       "      <td>2018-11-16</td>\n",
       "    </tr>\n",
       "    <tr>\n",
       "      <th>2</th>\n",
       "      <td>BROOKLYN</td>\n",
       "      <td>4021791</td>\n",
       "      <td>2018-11-16</td>\n",
       "    </tr>\n",
       "    <tr>\n",
       "      <th>3</th>\n",
       "      <td>BRONX</td>\n",
       "      <td>4021878</td>\n",
       "      <td>2018-11-16</td>\n",
       "    </tr>\n",
       "    <tr>\n",
       "      <th>4</th>\n",
       "      <td>BROOKLYN</td>\n",
       "      <td>4021848</td>\n",
       "      <td>2018-11-16</td>\n",
       "    </tr>\n",
       "  </tbody>\n",
       "</table>\n",
       "</div>"
      ],
      "text/plain": [
       "         bor       id       date\n",
       "0  MANHATTAN  4021880 2018-11-16\n",
       "1        NaN  4021727 2018-11-16\n",
       "2   BROOKLYN  4021791 2018-11-16\n",
       "3      BRONX  4021878 2018-11-16\n",
       "4   BROOKLYN  4021848 2018-11-16"
      ]
     },
     "execution_count": 9,
     "metadata": {},
     "output_type": "execute_result"
    }
   ],
   "source": [
    "mv_s = mv[['BOROUGH', 'UNIQUE KEY', 'date']]\n",
    "mv_s = mv_s.rename(columns={'BOROUGH':'bor', 'UNIQUE KEY':'id'})\n",
    "mv_s.head()"
   ]
  },
  {
   "cell_type": "code",
   "execution_count": 10,
   "metadata": {},
   "outputs": [
    {
     "data": {
      "text/plain": [
       "bor     409431\n",
       "id           0\n",
       "date         0\n",
       "dtype: int64"
      ]
     },
     "execution_count": 10,
     "metadata": {},
     "output_type": "execute_result"
    }
   ],
   "source": [
    "mv_s.isnull().sum()"
   ]
  },
  {
   "cell_type": "code",
   "execution_count": 11,
   "metadata": {},
   "outputs": [],
   "source": [
    "# drop na values \n",
    "mv_s.dropna(inplace=True)"
   ]
  },
  {
   "cell_type": "code",
   "execution_count": 12,
   "metadata": {},
   "outputs": [
    {
     "data": {
      "text/html": [
       "<div>\n",
       "<table border=\"1\" class=\"dataframe\">\n",
       "  <thead>\n",
       "    <tr style=\"text-align: right;\">\n",
       "      <th></th>\n",
       "      <th>bor</th>\n",
       "      <th>id</th>\n",
       "      <th>date</th>\n",
       "      <th>month</th>\n",
       "      <th>year</th>\n",
       "    </tr>\n",
       "  </thead>\n",
       "  <tbody>\n",
       "    <tr>\n",
       "      <th>0</th>\n",
       "      <td>MANHATTAN</td>\n",
       "      <td>4021880</td>\n",
       "      <td>2018-11-16</td>\n",
       "      <td>11</td>\n",
       "      <td>2018</td>\n",
       "    </tr>\n",
       "    <tr>\n",
       "      <th>2</th>\n",
       "      <td>BROOKLYN</td>\n",
       "      <td>4021791</td>\n",
       "      <td>2018-11-16</td>\n",
       "      <td>11</td>\n",
       "      <td>2018</td>\n",
       "    </tr>\n",
       "    <tr>\n",
       "      <th>3</th>\n",
       "      <td>BRONX</td>\n",
       "      <td>4021878</td>\n",
       "      <td>2018-11-16</td>\n",
       "      <td>11</td>\n",
       "      <td>2018</td>\n",
       "    </tr>\n",
       "    <tr>\n",
       "      <th>4</th>\n",
       "      <td>BROOKLYN</td>\n",
       "      <td>4021848</td>\n",
       "      <td>2018-11-16</td>\n",
       "      <td>11</td>\n",
       "      <td>2018</td>\n",
       "    </tr>\n",
       "    <tr>\n",
       "      <th>7</th>\n",
       "      <td>BRONX</td>\n",
       "      <td>4021864</td>\n",
       "      <td>2018-11-16</td>\n",
       "      <td>11</td>\n",
       "      <td>2018</td>\n",
       "    </tr>\n",
       "  </tbody>\n",
       "</table>\n",
       "</div>"
      ],
      "text/plain": [
       "         bor       id       date  month  year\n",
       "0  MANHATTAN  4021880 2018-11-16     11  2018\n",
       "2   BROOKLYN  4021791 2018-11-16     11  2018\n",
       "3      BRONX  4021878 2018-11-16     11  2018\n",
       "4   BROOKLYN  4021848 2018-11-16     11  2018\n",
       "7      BRONX  4021864 2018-11-16     11  2018"
      ]
     },
     "execution_count": 12,
     "metadata": {},
     "output_type": "execute_result"
    }
   ],
   "source": [
    "# extract month and year \n",
    "mv_s['month'] = mv_s.date.apply(lambda x: x.month)\n",
    "mv_s['year'] = mv_s.date.apply(lambda x: x.year)\n",
    "mv_s.head()"
   ]
  },
  {
   "cell_type": "code",
   "execution_count": 13,
   "metadata": {},
   "outputs": [
    {
     "data": {
      "text/plain": [
       "Timestamp('2012-07-01 00:00:00')"
      ]
     },
     "execution_count": 13,
     "metadata": {},
     "output_type": "execute_result"
    }
   ],
   "source": [
    "mv_s.date.min()"
   ]
  },
  {
   "cell_type": "code",
   "execution_count": 14,
   "metadata": {},
   "outputs": [
    {
     "data": {
      "text/plain": [
       "Timestamp('2018-11-16 00:00:00')"
      ]
     },
     "execution_count": 14,
     "metadata": {},
     "output_type": "execute_result"
    }
   ],
   "source": [
    "mv_s.date.max()"
   ]
  },
  {
   "cell_type": "code",
   "execution_count": 15,
   "metadata": {},
   "outputs": [],
   "source": [
    "# extract data for 1/1/2013 - 12/31/2017 \n",
    "mv4 = mv_s[(mv_s['date'] >= '2013-01-01 00:00:00') & (mv_s['date'] < '2018-01-01 00:00:00')]"
   ]
  },
  {
   "cell_type": "code",
   "execution_count": 16,
   "metadata": {},
   "outputs": [
    {
     "data": {
      "text/plain": [
       "(769962, 5)"
      ]
     },
     "execution_count": 16,
     "metadata": {},
     "output_type": "execute_result"
    }
   ],
   "source": [
    "mv4.shape"
   ]
  },
  {
   "cell_type": "code",
   "execution_count": 17,
   "metadata": {},
   "outputs": [
    {
     "data": {
      "text/plain": [
       "array(['BRONX', 'MANHATTAN', 'QUEENS', 'BROOKLYN', 'STATEN ISLAND'], dtype=object)"
      ]
     },
     "execution_count": 17,
     "metadata": {},
     "output_type": "execute_result"
    }
   ],
   "source": [
    "mv4.bor.unique()"
   ]
  },
  {
   "cell_type": "code",
   "execution_count": 18,
   "metadata": {},
   "outputs": [
    {
     "data": {
      "text/plain": [
       "(770, 5)"
      ]
     },
     "execution_count": 18,
     "metadata": {},
     "output_type": "execute_result"
    }
   ],
   "source": [
    "# subsample for testing\n",
    "samp = mv4[::1000]\n",
    "samp.shape"
   ]
  },
  {
   "cell_type": "code",
   "execution_count": 19,
   "metadata": {},
   "outputs": [
    {
     "data": {
      "text/plain": [
       "bor            month  year\n",
       "BRONX          1      2013    1486\n",
       "                      2014    1635\n",
       "                      2015    1704\n",
       "                      2016    1878\n",
       "                      2017    1680\n",
       "               2      2013    1542\n",
       "                      2014    1688\n",
       "                      2015    1435\n",
       "                      2016    1644\n",
       "                      2017    1601\n",
       "               3      2013    1746\n",
       "                      2014    1562\n",
       "                      2015    1825\n",
       "                      2016    1732\n",
       "                      2017    1888\n",
       "               4      2013    1602\n",
       "                      2014    1530\n",
       "                      2015    1623\n",
       "                      2016    1825\n",
       "                      2017    1737\n",
       "               5      2013    1808\n",
       "                      2014    1686\n",
       "                      2015    1839\n",
       "                      2016    2010\n",
       "                      2017    2012\n",
       "               6      2013    1748\n",
       "                      2014    1748\n",
       "                      2015    1834\n",
       "                      2016    1751\n",
       "                      2017    2014\n",
       "                              ... \n",
       "STATEN ISLAND  7      2013     513\n",
       "                      2014     527\n",
       "                      2015     523\n",
       "                      2016     568\n",
       "                      2017     531\n",
       "               8      2013     529\n",
       "                      2014     505\n",
       "                      2015     508\n",
       "                      2016     518\n",
       "                      2017     483\n",
       "               9      2013     551\n",
       "                      2014     555\n",
       "                      2015     514\n",
       "                      2016     533\n",
       "                      2017     476\n",
       "               10     2013     609\n",
       "                      2014     606\n",
       "                      2015     562\n",
       "                      2016     581\n",
       "                      2017     513\n",
       "               11     2013     607\n",
       "                      2014     514\n",
       "                      2015     556\n",
       "                      2016     534\n",
       "                      2017     512\n",
       "               12     2013     626\n",
       "                      2014     479\n",
       "                      2015     577\n",
       "                      2016     575\n",
       "                      2017     580\n",
       "Name: id, dtype: int64"
      ]
     },
     "execution_count": 19,
     "metadata": {},
     "output_type": "execute_result"
    }
   ],
   "source": [
    "# get total accidents by borough by month over the last 5 years \n",
    "bor_my_grp = mv4.groupby(['bor', 'month', 'year'])['id'].count()\n",
    "bor_my_grp"
   ]
  },
  {
   "cell_type": "code",
   "execution_count": 20,
   "metadata": {},
   "outputs": [],
   "source": [
    "# separate by borough\n",
    "bx = mv4[mv4['bor'] == 'BRONX']\n",
    "mn = mv4[mv4['bor'] == 'MANHATTAN']\n",
    "bk = mv4[mv4['bor'] == 'BROOKLYN']\n",
    "si = mv4[mv4['bor'] == 'STATEN ISLAND']\n",
    "qu = mv4[mv4['bor'] == 'QUEENS']"
   ]
  },
  {
   "cell_type": "code",
   "execution_count": 21,
   "metadata": {},
   "outputs": [
    {
     "data": {
      "text/html": [
       "<div>\n",
       "<table border=\"1\" class=\"dataframe\">\n",
       "  <thead>\n",
       "    <tr style=\"text-align: right;\">\n",
       "      <th></th>\n",
       "      <th>bor</th>\n",
       "      <th>id</th>\n",
       "      <th>date</th>\n",
       "      <th>month</th>\n",
       "      <th>year</th>\n",
       "    </tr>\n",
       "  </thead>\n",
       "  <tbody>\n",
       "    <tr>\n",
       "      <th>200238</th>\n",
       "      <td>BRONX</td>\n",
       "      <td>3820806</td>\n",
       "      <td>2017-12-31</td>\n",
       "      <td>12</td>\n",
       "      <td>2017</td>\n",
       "    </tr>\n",
       "    <tr>\n",
       "      <th>201804</th>\n",
       "      <td>STATEN ISLAND</td>\n",
       "      <td>3818816</td>\n",
       "      <td>2017-12-29</td>\n",
       "      <td>12</td>\n",
       "      <td>2017</td>\n",
       "    </tr>\n",
       "    <tr>\n",
       "      <th>203362</th>\n",
       "      <td>BROOKLYN</td>\n",
       "      <td>3816887</td>\n",
       "      <td>2017-12-26</td>\n",
       "      <td>12</td>\n",
       "      <td>2017</td>\n",
       "    </tr>\n",
       "    <tr>\n",
       "      <th>204932</th>\n",
       "      <td>QUEENS</td>\n",
       "      <td>3814849</td>\n",
       "      <td>2017-12-23</td>\n",
       "      <td>12</td>\n",
       "      <td>2017</td>\n",
       "    </tr>\n",
       "    <tr>\n",
       "      <th>206512</th>\n",
       "      <td>BROOKLYN</td>\n",
       "      <td>3814385</td>\n",
       "      <td>2017-12-20</td>\n",
       "      <td>12</td>\n",
       "      <td>2017</td>\n",
       "    </tr>\n",
       "  </tbody>\n",
       "</table>\n",
       "</div>"
      ],
      "text/plain": [
       "                  bor       id       date  month  year\n",
       "200238          BRONX  3820806 2017-12-31     12  2017\n",
       "201804  STATEN ISLAND  3818816 2017-12-29     12  2017\n",
       "203362       BROOKLYN  3816887 2017-12-26     12  2017\n",
       "204932         QUEENS  3814849 2017-12-23     12  2017\n",
       "206512       BROOKLYN  3814385 2017-12-20     12  2017"
      ]
     },
     "execution_count": 21,
     "metadata": {},
     "output_type": "execute_result"
    }
   ],
   "source": [
    "samp.head()"
   ]
  },
  {
   "cell_type": "code",
   "execution_count": 22,
   "metadata": {},
   "outputs": [
    {
     "data": {
      "text/plain": [
       "date\n",
       "1     10\n",
       "2      6\n",
       "3     10\n",
       "4      9\n",
       "5      5\n",
       "6      9\n",
       "7      4\n",
       "8      9\n",
       "9      8\n",
       "10     5\n",
       "11     8\n",
       "12     8\n",
       "Name: date, dtype: int64"
      ]
     },
     "execution_count": 22,
     "metadata": {},
     "output_type": "execute_result"
    }
   ],
   "source": [
    "counts_bx = samp.date[samp.bor=='BRONX'].groupby([samp.date.dt.month]).count()\n",
    "counts_bx"
   ]
  },
  {
   "cell_type": "code",
   "execution_count": 23,
   "metadata": {},
   "outputs": [
    {
     "data": {
      "text/plain": [
       "<pandas.core.groupby.SeriesGroupBy object at 0x7f3964f8a7b8>"
      ]
     },
     "execution_count": 23,
     "metadata": {},
     "output_type": "execute_result"
    }
   ],
   "source": [
    "samp.date[samp.bor=='BRONX'].groupby([samp.date.dt.month])"
   ]
  },
  {
   "cell_type": "code",
   "execution_count": 24,
   "metadata": {},
   "outputs": [],
   "source": [
    "# I got borough populations for 2014 - 2016 from the ACS here: \n",
    "# https://www1.nyc.gov/site/planning/data-maps/nyc-population/american-community-survey.page\n",
    "\n",
    "# I could not load this data reproducibly because it is only provided in Excel or PDF format \n",
    "\n",
    "# I got the 2017 borough population estimate here: https://www1.nyc.gov/site/planning/data-maps/nyc-population/current-future-populations.page\n",
    "# because the 2017 estimates are not provided in the ACS \n",
    "\n",
    "bx17pop = 1471160\n",
    "bk17pop = 2648771\n",
    "qu17pop = 2358582\n",
    "si17pop = 479458\n",
    "mn17pop = 1664727\n",
    "\n",
    "bx16pop = 1455720\n",
    "bk16pop = 2629150\n",
    "qu16pop = 2333054\n",
    "si16pop = 476015\n",
    "mn16pop = 1643734\n",
    "\n",
    "bx15pop = 1455444\n",
    "bk15pop = 2636735\n",
    "qu15pop = 2339150\n",
    "si15pop = 474558\n",
    "mn15pop = 1644518\n",
    "\n",
    "bx14pop = 1438159\n",
    "bk14pop = 2621793\n",
    "qu14pop = 2321580\n",
    "si14pop = 473279\n",
    "mn14pop = 1636268"
   ]
  },
  {
   "cell_type": "code",
   "execution_count": 25,
   "metadata": {},
   "outputs": [],
   "source": [
    "# calculate the average population for each borough over the 4 years \n",
    "bx_avg_pop = (bx14pop + bx15pop + bx16pop + bx17pop) / 4\n",
    "bk_avg_pop = (bk14pop + bk15pop + bk16pop + bk17pop) / 4\n",
    "qu_avg_pop = (qu14pop + qu15pop + qu16pop + qu17pop) / 4\n",
    "si_avg_pop = (si14pop + si15pop + si16pop + si17pop) / 4\n",
    "mn_avg_pop = (mn14pop + mn15pop + mn16pop + mn17pop) / 4"
   ]
  },
  {
   "cell_type": "code",
   "execution_count": 26,
   "metadata": {},
   "outputs": [],
   "source": [
    "# get the counts of accidents by each borough and each month \n",
    "counts_bx = mv4.date[mv4.bor=='BRONX'].groupby([mv4.date.dt.month]).count()\n",
    "counts_bk = mv4.date[mv4.bor=='BROOKLYN'].groupby([mv4.date.dt.month]).count()\n",
    "counts_mn = mv4.date[mv4.bor=='MANHATTAN'].groupby([mv4.date.dt.month]).count()\n",
    "counts_si = mv4.date[mv4.bor=='STATEN ISLAND'].groupby([mv4.date.dt.month]).count()\n",
    "counts_qu = mv4.date[mv4.bor=='QUEENS'].groupby([mv4.date.dt.month]).count()"
   ]
  },
  {
   "cell_type": "code",
   "execution_count": 27,
   "metadata": {},
   "outputs": [
    {
     "data": {
      "image/png": "[encoded data removed]",
      "text/plain": [
       "<matplotlib.figure.Figure at 0x7f396d451320>"
      ]
     },
     "metadata": {},
     "output_type": "display_data"
    }
   ],
   "source": [
    "# plot num accidents in each borough by month \n",
    "fig = plt.figure(figsize=(10,8))\n",
    "plt.plot(np.sort(mv4.date.dt.month.unique()), (((counts_mn / 4)) / mn_avg_pop) * 1e3, 'bo', label='Manhattan', markersize=10)\n",
    "plt.plot(np.sort(mv4.date.dt.month.unique()), (((counts_bk / 4)) / bk_avg_pop) * 1e3, 'ro', label='Brooklyn', markersize=10)\n",
    "plt.plot(np.sort(mv4.date.dt.month.unique()), (((counts_qu / 4)) / qu_avg_pop) * 1e3, 'co', label='Queens', markersize=10)\n",
    "plt.plot(np.sort(mv4.date.dt.month.unique()), (((counts_bx / 4)) / bx_avg_pop) * 1e3, 'mo', label='Bronx', markersize=10)\n",
    "plt.plot(np.sort(mv4.date.dt.month.unique()), (((counts_si / 4)) / si_avg_pop) * 1e3, 'ko', label='Staten Island', markersize=10)\n",
    "plt.legend(loc='center left', bbox_to_anchor=(1, 0.5))\n",
    "xposition = np.sort(mv4.date.dt.month.unique())\n",
    "plt.xticks(np.sort(mv4.date.dt.month.unique()), ('Jan','Feb','Mar','Apr','May','June','July','Aug','Sep','Oct','Nov','Dec'))\n",
    "for xc in xposition:\n",
    "    plt.axvline(x=xc, color='lightgray', linestyle='--')\n",
    "plt.title (\"Average Number of NYC Motor Vehicle Accidents per 1000 People by Month (2014 - 2017)\", fontsize=20)\n",
    "plt.ylabel (\"Accidents per 1000 People\", fontsize=15)\n",
    "plt.xlabel (\"Month\", fontsize=15)\n",
    "plt.show()"
   ]
  },
  {
   "cell_type": "markdown",
   "metadata": {},
   "source": [
    "**Figure 1**: The plot above shows average number of motor vehicle accidents per 1000 people by month and borough in NYC for 2014 - 2017. I took the average number of accidents for each month from 2014 to 2017 and the average population for each borough from 2014 to 2017. Manhattan has the highest number of accidents per 1000 people (residents) for every month throughout the year. Staten Island has the lowest number of accidents per 1000 people (residents) for every month except January and February when the Bronx is the lowest. May has the highest number of accidents per 1000 people for every borough, indicating that May is the most dangerous month. February has the lowest number of accidents per 1000 people for the Bronx, Queens, Brooklyn, and Manhattan indicating that February is the safest month for those boroughs. Staten Island has the lowest number of accidents per 1000 people in August. "
   ]
  },
  {
   "cell_type": "code",
   "execution_count": null,
   "metadata": {},
   "outputs": [],
   "source": []
  }
 ],
 "metadata": {
  "kernelspec": {
   "display_name": "PUI2016_Python3",
   "language": "python",
   "name": "pui2016_python3"
  },
  "language_info": {
   "codemirror_mode": {
    "name": "ipython",
    "version": 3
   },
   "file_extension": ".py",
   "mimetype": "text/x-python",
   "name": "python",
   "nbconvert_exporter": "python",
   "pygments_lexer": "ipython3",
   "version": "3.5.4"
  }
 },
 "nbformat": 4,
 "nbformat_minor": 2
}
