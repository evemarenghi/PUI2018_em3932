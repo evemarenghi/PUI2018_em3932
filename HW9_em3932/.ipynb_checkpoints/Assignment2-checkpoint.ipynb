{
 "cells": [
  {
   "cell_type": "markdown",
   "metadata": {
    "run_control": {
     "frozen": false,
     "read_only": false
    }
   },
   "source": [
    "**exercises with statsmodels OLS and WLS**\n",
    "*created by fbb November 2018*\n",
    "\n",
    "*modified by Eve Marenghi November 2018*\n"
   ]
  },
  {
   "cell_type": "code",
   "execution_count": 60,
   "metadata": {
    "ExecuteTime": {
     "end_time": "2018-11-08T18:05:35.078740Z",
     "start_time": "2018-11-08T18:05:35.037891Z"
    },
    "run_control": {
     "frozen": false,
     "read_only": false
    }
   },
   "outputs": [
    {
     "name": "stdout",
     "output_type": "stream",
     "text": [
      "Populating the interactive namespace from numpy and matplotlib\n"
     ]
    }
   ],
   "source": [
    "# import packages\n",
    "from __future__ import print_function, division\n",
    "import pylab as pl\n",
    "import matplotlib.pyplot as plt\n",
    "import numpy as np \n",
    "\n",
    "import os\n",
    "import json\n",
    "\n",
    "import statsmodels.api as sm\n",
    "import statsmodels.formula.api as smf\n",
    "#s = json.load( open(os.getenv('PUI2018')+\"/fbb_matplotlibrc.json\") )\n",
    "#pl.rcParams.update(s)\n",
    "\n",
    "%pylab inline\n",
    "%matplotlib inline"
   ]
  },
  {
   "cell_type": "code",
   "execution_count": 61,
   "metadata": {
    "ExecuteTime": {
     "end_time": "2018-11-08T18:05:35.950830Z",
     "start_time": "2018-11-08T18:05:35.933414Z"
    },
    "run_control": {
     "frozen": false,
     "read_only": false
    }
   },
   "outputs": [],
   "source": [
    "# from FBB\n",
    "def errors(x):\n",
    "    return np.sqrt(x)\n",
    "    \n",
    "\n",
    "def line(a, x, b=0, errors=None):\n",
    "    '''\n",
    "    creates a line from parameters and exogenous variable\n",
    "    a: slope\n",
    "    x: exogenous variable\n",
    "    b: intercept - default 0\n",
    "    errors: add uncertainties (sqrt(N) - default True)\n",
    "    '''\n",
    "    np.random.randn(123)\n",
    "    if errors is None:\n",
    "        return a*x + b \n",
    "    else:\n",
    "        return a*x + b + np.random.randn(len(x)) * errors(x)"
   ]
  },
  {
   "cell_type": "markdown",
   "metadata": {
    "run_control": {
     "frozen": false,
     "read_only": false
    }
   },
   "source": [
    "# 1. create a line with a chosen slope and intercept = 0 and plot it with uncertainties as errorbars\n",
    "\n",
    "use the functions created above"
   ]
  },
  {
   "cell_type": "code",
   "execution_count": 76,
   "metadata": {},
   "outputs": [
    {
     "data": {
      "image/png": "[encoded data removed]",
      "text/plain": [
       "<matplotlib.figure.Figure at 0x7f281a1955f8>"
      ]
     },
     "metadata": {},
     "output_type": "display_data"
    },
    {
     "name": "stdout",
     "output_type": "stream",
     "text": [
      "Figure 1: The figure above plots endogenous variable vs. exogenous variable with uncertainties as error bars. From the error bars, we see that the uncertainty increases as the exogenous variable increases because uncertainty is calculated as the square root of the exogenous variable.\n"
     ]
    }
   ],
   "source": [
    "# set a random seed for reproducibility \n",
    "np.random.seed(1964)\n",
    "\n",
    "# create exogenous variable\n",
    "x = np.linspace(0, 100, num=10)\n",
    "\n",
    "# plot the line with uncertainties as error bars \n",
    "plt.figure()\n",
    "plt.errorbar(x, line(1, x, 0, errors), errors(x), fmt='o')\n",
    "plt.grid()\n",
    "plt.title(\"Endogenous Variable vs. Exogenous Variable\")\n",
    "plt.xlabel('exogenous')\n",
    "plt.ylabel('endogenous')\n",
    "plt.show()\n",
    "print(\"Figure 1: The figure above plots endogenous variable vs. exogenous \" +\n",
    "      \"variable with uncertainties as error bars. From the error bars, we \" +\n",
    "      \"see that the uncertainty increases as the exogenous variable increases \" +\n",
    "      \"because uncertainty is calculated as the square root of the exogenous variable.\")"
   ]
  },
  {
   "cell_type": "markdown",
   "metadata": {
    "run_control": {
     "frozen": false,
     "read_only": false
    }
   },
   "source": [
    "# 2. print y, x, and the result of applying statsmodels.api.add_constant() to x"
   ]
  },
  {
   "cell_type": "code",
   "execution_count": 77,
   "metadata": {},
   "outputs": [
    {
     "name": "stdout",
     "output_type": "stream",
     "text": [
      "[   0.            9.57090534   26.69119921   33.91389427   39.802192\n",
      "   55.18819707   68.14282479   78.2815902   103.25871626   93.5777113 ]\n"
     ]
    }
   ],
   "source": [
    "# print y \n",
    "y = line(1, x, 0, errors)\n",
    "print(y)"
   ]
  },
  {
   "cell_type": "code",
   "execution_count": 78,
   "metadata": {},
   "outputs": [
    {
     "name": "stdout",
     "output_type": "stream",
     "text": [
      "[   0.           11.11111111   22.22222222   33.33333333   44.44444444\n",
      "   55.55555556   66.66666667   77.77777778   88.88888889  100.        ]\n"
     ]
    }
   ],
   "source": [
    "# print x \n",
    "print(x)"
   ]
  },
  {
   "cell_type": "code",
   "execution_count": 79,
   "metadata": {},
   "outputs": [
    {
     "name": "stdout",
     "output_type": "stream",
     "text": [
      "[[   1.            0.        ]\n",
      " [   1.           11.11111111]\n",
      " [   1.           22.22222222]\n",
      " [   1.           33.33333333]\n",
      " [   1.           44.44444444]\n",
      " [   1.           55.55555556]\n",
      " [   1.           66.66666667]\n",
      " [   1.           77.77777778]\n",
      " [   1.           88.88888889]\n",
      " [   1.          100.        ]]\n"
     ]
    }
   ],
   "source": [
    "# apply statsmodels.api.add_constant() to x and print result \n",
    "x_const = sm.add_constant(x)\n",
    "print(x_const)"
   ]
  },
  {
   "cell_type": "markdown",
   "metadata": {
    "run_control": {
     "frozen": false,
     "read_only": false
    }
   },
   "source": [
    "# 3. use statsmodels.api.OLS to fit x and y \n",
    "- a. *the wrong way*: by passing x as exogenous variable\n",
    "- b. *the right way*: by passing statsmodels.api.add_constant(x) as exogenous variable\n",
    "\n",
    "# and print the model summary for each and discuss the differences"
   ]
  },
  {
   "cell_type": "code",
   "execution_count": 80,
   "metadata": {},
   "outputs": [
    {
     "name": "stderr",
     "output_type": "stream",
     "text": [
      "/usr/local/Anaconda3-5.0.0-Linux-x86_64/envs/PUI2016_Python3/lib/python3.5/site-packages/scipy/stats/stats.py:1535: UserWarning: kurtosistest only valid for n>=20 ... continuing anyway, n=10\n",
      "  \"anyway, n=%i\" % int(n))\n"
     ]
    },
    {
     "data": {
      "text/html": [
       "<table class=\"simpletable\">\n",
       "<caption>OLS Regression Results</caption>\n",
       "<tr>\n",
       "  <th>Dep. Variable:</th>            <td>y</td>        <th>  R-squared:         </th> <td>   0.992</td>\n",
       "</tr>\n",
       "<tr>\n",
       "  <th>Model:</th>                   <td>OLS</td>       <th>  Adj. R-squared:    </th> <td>   0.991</td>\n",
       "</tr>\n",
       "<tr>\n",
       "  <th>Method:</th>             <td>Least Squares</td>  <th>  F-statistic:       </th> <td>   1162.</td>\n",
       "</tr>\n",
       "<tr>\n",
       "  <th>Date:</th>             <td>Tue, 13 Nov 2018</td> <th>  Prob (F-statistic):</th> <td>7.94e-11</td>\n",
       "</tr>\n",
       "<tr>\n",
       "  <th>Time:</th>                 <td>13:32:48</td>     <th>  Log-Likelihood:    </th> <td> -30.897</td>\n",
       "</tr>\n",
       "<tr>\n",
       "  <th>No. Observations:</th>      <td>    10</td>      <th>  AIC:               </th> <td>   63.79</td>\n",
       "</tr>\n",
       "<tr>\n",
       "  <th>Df Residuals:</th>          <td>     9</td>      <th>  BIC:               </th> <td>   64.10</td>\n",
       "</tr>\n",
       "<tr>\n",
       "  <th>Df Model:</th>              <td>     1</td>      <th>                     </th>     <td> </td>   \n",
       "</tr>\n",
       "<tr>\n",
       "  <th>Covariance Type:</th>      <td>nonrobust</td>    <th>                     </th>     <td> </td>   \n",
       "</tr>\n",
       "</table>\n",
       "<table class=\"simpletable\">\n",
       "<tr>\n",
       "   <td></td>     <th>coef</th>     <th>std err</th>      <th>t</th>      <th>P>|t|</th> <th>[95.0% Conf. Int.]</th> \n",
       "</tr>\n",
       "<tr>\n",
       "  <th>x1</th> <td>    1.0184</td> <td>    0.030</td> <td>   34.089</td> <td> 0.000</td> <td>    0.951     1.086</td>\n",
       "</tr>\n",
       "</table>\n",
       "<table class=\"simpletable\">\n",
       "<tr>\n",
       "  <th>Omnibus:</th>       <td> 6.098</td> <th>  Durbin-Watson:     </th> <td>   2.587</td>\n",
       "</tr>\n",
       "<tr>\n",
       "  <th>Prob(Omnibus):</th> <td> 0.047</td> <th>  Jarque-Bera (JB):  </th> <td>   2.064</td>\n",
       "</tr>\n",
       "<tr>\n",
       "  <th>Skew:</th>          <td> 0.973</td> <th>  Prob(JB):          </th> <td>   0.356</td>\n",
       "</tr>\n",
       "<tr>\n",
       "  <th>Kurtosis:</th>      <td> 4.080</td> <th>  Cond. No.          </th> <td>    1.00</td>\n",
       "</tr>\n",
       "</table>"
      ],
      "text/plain": [
       "<class 'statsmodels.iolib.summary.Summary'>\n",
       "\"\"\"\n",
       "                            OLS Regression Results                            \n",
       "==============================================================================\n",
       "Dep. Variable:                      y   R-squared:                       0.992\n",
       "Model:                            OLS   Adj. R-squared:                  0.991\n",
       "Method:                 Least Squares   F-statistic:                     1162.\n",
       "Date:                Tue, 13 Nov 2018   Prob (F-statistic):           7.94e-11\n",
       "Time:                        13:32:48   Log-Likelihood:                -30.897\n",
       "No. Observations:                  10   AIC:                             63.79\n",
       "Df Residuals:                       9   BIC:                             64.10\n",
       "Df Model:                           1                                         \n",
       "Covariance Type:            nonrobust                                         \n",
       "==============================================================================\n",
       "                 coef    std err          t      P>|t|      [95.0% Conf. Int.]\n",
       "------------------------------------------------------------------------------\n",
       "x1             1.0184      0.030     34.089      0.000         0.951     1.086\n",
       "==============================================================================\n",
       "Omnibus:                        6.098   Durbin-Watson:                   2.587\n",
       "Prob(Omnibus):                  0.047   Jarque-Bera (JB):                2.064\n",
       "Skew:                           0.973   Prob(JB):                        0.356\n",
       "Kurtosis:                       4.080   Cond. No.                         1.00\n",
       "==============================================================================\n",
       "\n",
       "Warnings:\n",
       "[1] Standard Errors assume that the covariance matrix of the errors is correctly specified.\n",
       "\"\"\""
      ]
     },
     "execution_count": 80,
     "metadata": {},
     "output_type": "execute_result"
    }
   ],
   "source": [
    "#THE WRONG WAY\n",
    "smfit_x = smf.OLS(y, x).fit()\n",
    "smfit_x.summary()"
   ]
  },
  {
   "cell_type": "code",
   "execution_count": 81,
   "metadata": {},
   "outputs": [
    {
     "name": "stderr",
     "output_type": "stream",
     "text": [
      "/usr/local/Anaconda3-5.0.0-Linux-x86_64/envs/PUI2016_Python3/lib/python3.5/site-packages/scipy/stats/stats.py:1535: UserWarning: kurtosistest only valid for n>=20 ... continuing anyway, n=10\n",
      "  \"anyway, n=%i\" % int(n))\n"
     ]
    },
    {
     "data": {
      "text/html": [
       "<table class=\"simpletable\">\n",
       "<caption>OLS Regression Results</caption>\n",
       "<tr>\n",
       "  <th>Dep. Variable:</th>            <td>y</td>        <th>  R-squared:         </th> <td>   0.974</td>\n",
       "</tr>\n",
       "<tr>\n",
       "  <th>Model:</th>                   <td>OLS</td>       <th>  Adj. R-squared:    </th> <td>   0.971</td>\n",
       "</tr>\n",
       "<tr>\n",
       "  <th>Method:</th>             <td>Least Squares</td>  <th>  F-statistic:       </th> <td>   301.5</td>\n",
       "</tr>\n",
       "<tr>\n",
       "  <th>Date:</th>             <td>Tue, 13 Nov 2018</td> <th>  Prob (F-statistic):</th> <td>1.23e-07</td>\n",
       "</tr>\n",
       "<tr>\n",
       "  <th>Time:</th>                 <td>13:32:54</td>     <th>  Log-Likelihood:    </th> <td> -30.893</td>\n",
       "</tr>\n",
       "<tr>\n",
       "  <th>No. Observations:</th>      <td>    10</td>      <th>  AIC:               </th> <td>   65.79</td>\n",
       "</tr>\n",
       "<tr>\n",
       "  <th>Df Residuals:</th>          <td>     8</td>      <th>  BIC:               </th> <td>   66.39</td>\n",
       "</tr>\n",
       "<tr>\n",
       "  <th>Df Model:</th>              <td>     1</td>      <th>                     </th>     <td> </td>   \n",
       "</tr>\n",
       "<tr>\n",
       "  <th>Covariance Type:</th>      <td>nonrobust</td>    <th>                     </th>     <td> </td>   \n",
       "</tr>\n",
       "</table>\n",
       "<table class=\"simpletable\">\n",
       "<tr>\n",
       "    <td></td>       <th>coef</th>     <th>std err</th>      <th>t</th>      <th>P>|t|</th> <th>[95.0% Conf. Int.]</th> \n",
       "</tr>\n",
       "<tr>\n",
       "  <th>const</th> <td>   -0.2674</td> <td>    3.492</td> <td>   -0.077</td> <td> 0.941</td> <td>   -8.320     7.786</td>\n",
       "</tr>\n",
       "<tr>\n",
       "  <th>x1</th>    <td>    1.0222</td> <td>    0.059</td> <td>   17.363</td> <td> 0.000</td> <td>    0.886     1.158</td>\n",
       "</tr>\n",
       "</table>\n",
       "<table class=\"simpletable\">\n",
       "<tr>\n",
       "  <th>Omnibus:</th>       <td> 5.502</td> <th>  Durbin-Watson:     </th> <td>   2.591</td>\n",
       "</tr>\n",
       "<tr>\n",
       "  <th>Prob(Omnibus):</th> <td> 0.064</td> <th>  Jarque-Bera (JB):  </th> <td>   1.772</td>\n",
       "</tr>\n",
       "<tr>\n",
       "  <th>Skew:</th>          <td> 0.905</td> <th>  Prob(JB):          </th> <td>   0.412</td>\n",
       "</tr>\n",
       "<tr>\n",
       "  <th>Kurtosis:</th>      <td> 3.987</td> <th>  Cond. No.          </th> <td>    110.</td>\n",
       "</tr>\n",
       "</table>"
      ],
      "text/plain": [
       "<class 'statsmodels.iolib.summary.Summary'>\n",
       "\"\"\"\n",
       "                            OLS Regression Results                            \n",
       "==============================================================================\n",
       "Dep. Variable:                      y   R-squared:                       0.974\n",
       "Model:                            OLS   Adj. R-squared:                  0.971\n",
       "Method:                 Least Squares   F-statistic:                     301.5\n",
       "Date:                Tue, 13 Nov 2018   Prob (F-statistic):           1.23e-07\n",
       "Time:                        13:32:54   Log-Likelihood:                -30.893\n",
       "No. Observations:                  10   AIC:                             65.79\n",
       "Df Residuals:                       8   BIC:                             66.39\n",
       "Df Model:                           1                                         \n",
       "Covariance Type:            nonrobust                                         \n",
       "==============================================================================\n",
       "                 coef    std err          t      P>|t|      [95.0% Conf. Int.]\n",
       "------------------------------------------------------------------------------\n",
       "const         -0.2674      3.492     -0.077      0.941        -8.320     7.786\n",
       "x1             1.0222      0.059     17.363      0.000         0.886     1.158\n",
       "==============================================================================\n",
       "Omnibus:                        5.502   Durbin-Watson:                   2.591\n",
       "Prob(Omnibus):                  0.064   Jarque-Bera (JB):                1.772\n",
       "Skew:                           0.905   Prob(JB):                        0.412\n",
       "Kurtosis:                       3.987   Cond. No.                         110.\n",
       "==============================================================================\n",
       "\n",
       "Warnings:\n",
       "[1] Standard Errors assume that the covariance matrix of the errors is correctly specified.\n",
       "\"\"\""
      ]
     },
     "execution_count": 81,
     "metadata": {},
     "output_type": "execute_result"
    }
   ],
   "source": [
    "#THE RIGHT WAY\n",
    "smfit_xconst = smf.OLS(y, x_const).fit()\n",
    "smfit_xconst.summary()"
   ]
  },
  {
   "cell_type": "markdown",
   "metadata": {},
   "source": [
    "**Comment**: The first model summary result above uses x as the exogenous variable. The second model summary result above uses x_const as the exogenous variable. x_const is the exogenous variable x with a constant term added. I added the constant term in order to fit the intercept of the linear model. In the summary results for the regression with x as the exogenous variable, there is no 'const' coefficient. In the summary results for the regression with x_const as the exogenous variable, there is a 'const' coefficient. Both regression lines fit the data well, with R-squared values close to 1."
   ]
  },
  {
   "cell_type": "markdown",
   "metadata": {
    "run_control": {
     "frozen": false,
     "read_only": false
    }
   },
   "source": [
    "# 4. plot the data (as points) and both statsmodels fits"
   ]
  },
  {
   "cell_type": "code",
   "execution_count": 82,
   "metadata": {},
   "outputs": [],
   "source": [
    "# assign parameters for line plotting \n",
    "beta0_xconst, beta1_xconst = smfit_xconst.params\n",
    "beta1_x = smfit_x.params"
   ]
  },
  {
   "cell_type": "code",
   "execution_count": 85,
   "metadata": {},
   "outputs": [
    {
     "data": {
      "image/png": "[encoded data removed]",
      "text/plain": [
       "<matplotlib.figure.Figure at 0x7f281a262550>"
      ]
     },
     "metadata": {},
     "output_type": "display_data"
    },
    {
     "name": "stdout",
     "output_type": "stream",
     "text": [
      "y vs. x points plotted with results of OLS regression using x as the exogenous variable (orange) and using x_const as the exogenous variable (blue). The regression lines are almost identical. The slopes are nearly identical and the y intercept for the line fitted with x_const is -0.27, which is close to 0. Visually, it appears that the regression lines fit the data well, which makes sense because the R-squared values were close to 1 in both regression summary results.\n"
     ]
    }
   ],
   "source": [
    "# plot points and OLS regression lines \n",
    "fig = plt.figure(figsize=(10,6))\n",
    "plt.plot(x, y, 'bo', c='c')\n",
    "pl.plot(x, x * beta1_xconst + beta0_xconst, '-.',\n",
    "        label=\"statsmodels.ols line with x_const: %.3f x + %.2f\"\\\n",
    "       %(beta1_xconst, beta0_xconst))\n",
    "pl.plot(x, x * beta1_x, '-.',\n",
    "        label=\"statsmodels.ols line with x: %.3f x\"\\\n",
    "       %(beta1_x))\n",
    "pl.xlabel('x')\n",
    "pl.ylabel('y')\n",
    "pl.title('y vs. x with StatsModels OLS Regression fits')\n",
    "pl.legend(loc=2)\n",
    "pl.show()\n",
    "print (\"y vs. x points plotted with results of OLS regression using x as the exogenous \" + \n",
    "       \"variable (orange) and using x_const as the exogenous variable (blue). The \" +\n",
    "       \"regression lines are almost identical. The slopes are nearly identical and the \" +\n",
    "       \"y intercept for the line fitted with x_const is -0.27, which is close to 0. \" + \n",
    "       \"Visually, it appears that the regression lines fit the data well, which makes \" + \n",
    "       \"sense because the R-squared values were close to 1 in both regression summary results.\")"
   ]
  },
  {
   "cell_type": "markdown",
   "metadata": {
    "run_control": {
     "frozen": false,
     "read_only": false
    }
   },
   "source": [
    "# 5. create a line with a chosen slope and a chosen intercept >=100*slope and plot it with uncertainties as errorbars"
   ]
  },
  {
   "cell_type": "code",
   "execution_count": 125,
   "metadata": {},
   "outputs": [
    {
     "data": {
      "image/png": "[encoded data removed]",
      "text/plain": [
       "<matplotlib.figure.Figure at 0x7f281a36b0b8>"
      ]
     },
     "metadata": {},
     "output_type": "display_data"
    },
    {
     "name": "stdout",
     "output_type": "stream",
     "text": [
      "Plot of y vs. x with uncertainties as error bars. The uncertainties are calculated as sqrt(x), which makes them difficult to see because they are small in comparison to the scale of the values on the y axis.\n"
     ]
    }
   ],
   "source": [
    "# create a line \n",
    "x = np.linspace(0, 1000, num=10)\n",
    "y = 5 * x + 1000\n",
    "\n",
    "# plot the line with uncertainties as error bars \n",
    "plt.figure()\n",
    "plt.errorbar(x, y, yerr=np.sqrt(x), fmt='.')\n",
    "plt.title(\"y vs. x\")\n",
    "plt.xlabel('x')\n",
    "plt.ylabel('y')\n",
    "plt.show()\n",
    "print('Plot of y vs. x with uncertainties as error bars. The uncertainties are calculated ' +\n",
    "     'as sqrt(x), which makes them difficult to see because they are small in comparison ' +\n",
    "     'to the scale of the values on the y axis.')"
   ]
  },
  {
   "cell_type": "markdown",
   "metadata": {
    "run_control": {
     "frozen": false,
     "read_only": false
    }
   },
   "source": [
    "# 6. repeat step 3"
   ]
  },
  {
   "cell_type": "code",
   "execution_count": 89,
   "metadata": {},
   "outputs": [
    {
     "name": "stderr",
     "output_type": "stream",
     "text": [
      "/usr/local/Anaconda3-5.0.0-Linux-x86_64/envs/PUI2016_Python3/lib/python3.5/site-packages/scipy/stats/stats.py:1535: UserWarning: kurtosistest only valid for n>=20 ... continuing anyway, n=10\n",
      "  \"anyway, n=%i\" % int(n))\n"
     ]
    },
    {
     "data": {
      "text/html": [
       "<table class=\"simpletable\">\n",
       "<caption>OLS Regression Results</caption>\n",
       "<tr>\n",
       "  <th>Dep. Variable:</th>            <td>y</td>        <th>  R-squared:         </th> <td>   0.980</td>\n",
       "</tr>\n",
       "<tr>\n",
       "  <th>Model:</th>                   <td>OLS</td>       <th>  Adj. R-squared:    </th> <td>   0.978</td>\n",
       "</tr>\n",
       "<tr>\n",
       "  <th>Method:</th>             <td>Least Squares</td>  <th>  F-statistic:       </th> <td>   451.0</td>\n",
       "</tr>\n",
       "<tr>\n",
       "  <th>Date:</th>             <td>Tue, 13 Nov 2018</td> <th>  Prob (F-statistic):</th> <td>5.34e-09</td>\n",
       "</tr>\n",
       "<tr>\n",
       "  <th>Time:</th>                 <td>13:38:08</td>     <th>  Log-Likelihood:    </th> <td> -77.068</td>\n",
       "</tr>\n",
       "<tr>\n",
       "  <th>No. Observations:</th>      <td>    10</td>      <th>  AIC:               </th> <td>   156.1</td>\n",
       "</tr>\n",
       "<tr>\n",
       "  <th>Df Residuals:</th>          <td>     9</td>      <th>  BIC:               </th> <td>   156.4</td>\n",
       "</tr>\n",
       "<tr>\n",
       "  <th>Df Model:</th>              <td>     1</td>      <th>                     </th>     <td> </td>   \n",
       "</tr>\n",
       "<tr>\n",
       "  <th>Covariance Type:</th>      <td>nonrobust</td>    <th>                     </th>     <td> </td>   \n",
       "</tr>\n",
       "</table>\n",
       "<table class=\"simpletable\">\n",
       "<tr>\n",
       "   <td></td>     <th>coef</th>     <th>std err</th>      <th>t</th>      <th>P>|t|</th> <th>[95.0% Conf. Int.]</th> \n",
       "</tr>\n",
       "<tr>\n",
       "  <th>x1</th> <td>    6.4211</td> <td>    0.302</td> <td>   21.237</td> <td> 0.000</td> <td>    5.737     7.105</td>\n",
       "</tr>\n",
       "</table>\n",
       "<table class=\"simpletable\">\n",
       "<tr>\n",
       "  <th>Omnibus:</th>       <td> 0.978</td> <th>  Durbin-Watson:     </th> <td>   0.078</td>\n",
       "</tr>\n",
       "<tr>\n",
       "  <th>Prob(Omnibus):</th> <td> 0.613</td> <th>  Jarque-Bera (JB):  </th> <td>   0.624</td>\n",
       "</tr>\n",
       "<tr>\n",
       "  <th>Skew:</th>          <td>-0.000</td> <th>  Prob(JB):          </th> <td>   0.732</td>\n",
       "</tr>\n",
       "<tr>\n",
       "  <th>Kurtosis:</th>      <td> 1.776</td> <th>  Cond. No.          </th> <td>    1.00</td>\n",
       "</tr>\n",
       "</table>"
      ],
      "text/plain": [
       "<class 'statsmodels.iolib.summary.Summary'>\n",
       "\"\"\"\n",
       "                            OLS Regression Results                            \n",
       "==============================================================================\n",
       "Dep. Variable:                      y   R-squared:                       0.980\n",
       "Model:                            OLS   Adj. R-squared:                  0.978\n",
       "Method:                 Least Squares   F-statistic:                     451.0\n",
       "Date:                Tue, 13 Nov 2018   Prob (F-statistic):           5.34e-09\n",
       "Time:                        13:38:08   Log-Likelihood:                -77.068\n",
       "No. Observations:                  10   AIC:                             156.1\n",
       "Df Residuals:                       9   BIC:                             156.4\n",
       "Df Model:                           1                                         \n",
       "Covariance Type:            nonrobust                                         \n",
       "==============================================================================\n",
       "                 coef    std err          t      P>|t|      [95.0% Conf. Int.]\n",
       "------------------------------------------------------------------------------\n",
       "x1             6.4211      0.302     21.237      0.000         5.737     7.105\n",
       "==============================================================================\n",
       "Omnibus:                        0.978   Durbin-Watson:                   0.078\n",
       "Prob(Omnibus):                  0.613   Jarque-Bera (JB):                0.624\n",
       "Skew:                          -0.000   Prob(JB):                        0.732\n",
       "Kurtosis:                       1.776   Cond. No.                         1.00\n",
       "==============================================================================\n",
       "\n",
       "Warnings:\n",
       "[1] Standard Errors assume that the covariance matrix of the errors is correctly specified.\n",
       "\"\"\""
      ]
     },
     "execution_count": 89,
     "metadata": {},
     "output_type": "execute_result"
    }
   ],
   "source": [
    "# fit ols regression with x \n",
    "smfitx = smf.OLS(y, x).fit()\n",
    "smfitx.summary()"
   ]
  },
  {
   "cell_type": "code",
   "execution_count": 90,
   "metadata": {},
   "outputs": [
    {
     "name": "stderr",
     "output_type": "stream",
     "text": [
      "/usr/local/Anaconda3-5.0.0-Linux-x86_64/envs/PUI2016_Python3/lib/python3.5/site-packages/scipy/stats/stats.py:1535: UserWarning: kurtosistest only valid for n>=20 ... continuing anyway, n=10\n",
      "  \"anyway, n=%i\" % int(n))\n"
     ]
    },
    {
     "data": {
      "text/html": [
       "<table class=\"simpletable\">\n",
       "<caption>OLS Regression Results</caption>\n",
       "<tr>\n",
       "  <th>Dep. Variable:</th>            <td>y</td>        <th>  R-squared:         </th> <td>   1.000</td> \n",
       "</tr>\n",
       "<tr>\n",
       "  <th>Model:</th>                   <td>OLS</td>       <th>  Adj. R-squared:    </th> <td>   1.000</td> \n",
       "</tr>\n",
       "<tr>\n",
       "  <th>Method:</th>             <td>Least Squares</td>  <th>  F-statistic:       </th> <td>9.359e+30</td>\n",
       "</tr>\n",
       "<tr>\n",
       "  <th>Date:</th>             <td>Tue, 13 Nov 2018</td> <th>  Prob (F-statistic):</th> <td>1.46e-121</td>\n",
       "</tr>\n",
       "<tr>\n",
       "  <th>Time:</th>                 <td>13:38:28</td>     <th>  Log-Likelihood:    </th> <td>  258.23</td> \n",
       "</tr>\n",
       "<tr>\n",
       "  <th>No. Observations:</th>      <td>    10</td>      <th>  AIC:               </th> <td>  -512.5</td> \n",
       "</tr>\n",
       "<tr>\n",
       "  <th>Df Residuals:</th>          <td>     8</td>      <th>  BIC:               </th> <td>  -511.9</td> \n",
       "</tr>\n",
       "<tr>\n",
       "  <th>Df Model:</th>              <td>     1</td>      <th>                     </th>     <td> </td>    \n",
       "</tr>\n",
       "<tr>\n",
       "  <th>Covariance Type:</th>      <td>nonrobust</td>    <th>                     </th>     <td> </td>    \n",
       "</tr>\n",
       "</table>\n",
       "<table class=\"simpletable\">\n",
       "<tr>\n",
       "    <td></td>       <th>coef</th>     <th>std err</th>      <th>t</th>      <th>P>|t|</th> <th>[95.0% Conf. Int.]</th> \n",
       "</tr>\n",
       "<tr>\n",
       "  <th>const</th> <td> 1000.0000</td> <td> 9.69e-13</td> <td> 1.03e+15</td> <td> 0.000</td> <td> 1000.000  1000.000</td>\n",
       "</tr>\n",
       "<tr>\n",
       "  <th>x1</th>    <td>    5.0000</td> <td> 1.63e-15</td> <td> 3.06e+15</td> <td> 0.000</td> <td>    5.000     5.000</td>\n",
       "</tr>\n",
       "</table>\n",
       "<table class=\"simpletable\">\n",
       "<tr>\n",
       "  <th>Omnibus:</th>       <td> 1.009</td> <th>  Durbin-Watson:     </th> <td>   0.116</td>\n",
       "</tr>\n",
       "<tr>\n",
       "  <th>Prob(Omnibus):</th> <td> 0.604</td> <th>  Jarque-Bera (JB):  </th> <td>   0.733</td>\n",
       "</tr>\n",
       "<tr>\n",
       "  <th>Skew:</th>          <td>-0.346</td> <th>  Prob(JB):          </th> <td>   0.693</td>\n",
       "</tr>\n",
       "<tr>\n",
       "  <th>Kurtosis:</th>      <td> 1.868</td> <th>  Cond. No.          </th> <td>1.10e+03</td>\n",
       "</tr>\n",
       "</table>"
      ],
      "text/plain": [
       "<class 'statsmodels.iolib.summary.Summary'>\n",
       "\"\"\"\n",
       "                            OLS Regression Results                            \n",
       "==============================================================================\n",
       "Dep. Variable:                      y   R-squared:                       1.000\n",
       "Model:                            OLS   Adj. R-squared:                  1.000\n",
       "Method:                 Least Squares   F-statistic:                 9.359e+30\n",
       "Date:                Tue, 13 Nov 2018   Prob (F-statistic):          1.46e-121\n",
       "Time:                        13:38:28   Log-Likelihood:                 258.23\n",
       "No. Observations:                  10   AIC:                            -512.5\n",
       "Df Residuals:                       8   BIC:                            -511.9\n",
       "Df Model:                           1                                         \n",
       "Covariance Type:            nonrobust                                         \n",
       "==============================================================================\n",
       "                 coef    std err          t      P>|t|      [95.0% Conf. Int.]\n",
       "------------------------------------------------------------------------------\n",
       "const       1000.0000   9.69e-13   1.03e+15      0.000      1000.000  1000.000\n",
       "x1             5.0000   1.63e-15   3.06e+15      0.000         5.000     5.000\n",
       "==============================================================================\n",
       "Omnibus:                        1.009   Durbin-Watson:                   0.116\n",
       "Prob(Omnibus):                  0.604   Jarque-Bera (JB):                0.733\n",
       "Skew:                          -0.346   Prob(JB):                        0.693\n",
       "Kurtosis:                       1.868   Cond. No.                     1.10e+03\n",
       "==============================================================================\n",
       "\n",
       "Warnings:\n",
       "[1] Standard Errors assume that the covariance matrix of the errors is correctly specified.\n",
       "[2] The condition number is large, 1.1e+03. This might indicate that there are\n",
       "strong multicollinearity or other numerical problems.\n",
       "\"\"\""
      ]
     },
     "execution_count": 90,
     "metadata": {},
     "output_type": "execute_result"
    }
   ],
   "source": [
    "# fit ols regression, adding constant term to x\n",
    "X = sm.add_constant(x)\n",
    "smfitX = smf.OLS(y, X).fit()\n",
    "smfitX.summary()"
   ]
  },
  {
   "cell_type": "markdown",
   "metadata": {},
   "source": [
    "**Comment**: Again we see that when we run the regression with the exogenous variable with a constant term added, the regression summary results show a 'const' coefficient which is not included when we fit the model with the exogenous variable x without a constant added. When we add the constant term to the exogenous variable, the model improves to fit the data perfectly. In the second set of regression summary results, R-squared=1, the y intercept=100, and slope=5 which are the values I chose for my line."
   ]
  },
  {
   "cell_type": "code",
   "execution_count": 92,
   "metadata": {},
   "outputs": [],
   "source": [
    "# assign parameters for line plotting \n",
    "beta0X, beta1X = smfitX.params\n",
    "beta1x = smfitx.params"
   ]
  },
  {
   "cell_type": "code",
   "execution_count": 94,
   "metadata": {},
   "outputs": [
    {
     "data": {
      "image/png": "[encoded data removed]",
      "text/plain": [
       "<matplotlib.figure.Figure at 0x7f281a054908>"
      ]
     },
     "metadata": {},
     "output_type": "display_data"
    },
    {
     "name": "stdout",
     "output_type": "stream",
     "text": [
      "y vs. x points plotted with results of OLS regression using x as the exogenous variable (orange) and using X as the exogenous variable (blue). The regression line that is fitted using X (x with constant terms added) fits the data better than the regression line that is fitted using x (x without constant terms added). This is because the line fitted with X fits the intercept of the linear model while the line fitted with x does not. \n"
     ]
    }
   ],
   "source": [
    "fig = plt.figure(figsize=(10,6))\n",
    "plt.plot(x, y, 'bo', c='c')\n",
    "pl.plot(x, x * beta1X + beta0X, '-.',\n",
    "        label=\"statsmodels.ols line with X: %.3f x + %.2f\"\\\n",
    "       %(beta1X, beta0X))\n",
    "pl.plot(x, x * beta1x, '-.',\n",
    "        label=\"statsmodels.ols line with x: %.3f x\"\\\n",
    "       %(beta1x))\n",
    "pl.xlabel('x')\n",
    "pl.ylabel('y')\n",
    "pl.title('y vs. x with StatsModels OLS Regression fits')\n",
    "pl.legend(loc=2)\n",
    "pl.show()\n",
    "print (\"y vs. x points plotted with results of OLS regression using x as the exogenous \" + \n",
    "       \"variable (orange) and using X as the exogenous variable (blue). The \" +\n",
    "       \"regression line that is fitted using X (x with constant terms added) fits \" +\n",
    "       \"the data better than the regression line that is fitted using x (x without \" +\n",
    "       \"constant terms added). This is because the line fitted with X fits the intercept \" + \n",
    "       \"of the linear model while the line fitted with x does not. \")"
   ]
  },
  {
   "cell_type": "markdown",
   "metadata": {
    "run_control": {
     "frozen": false,
     "read_only": false
    }
   },
   "source": [
    "# 7. now fit the data with WLS weighted least square, a linear fit that takes into account the uncertainties by \"down-weighting\" (considering less important) observations with large uncertainties"
   ]
  },
  {
   "cell_type": "markdown",
   "metadata": {
    "ExecuteTime": {
     "end_time": "2018-11-08T17:02:55.249878Z",
     "start_time": "2018-11-08T17:02:55.203641Z"
    },
    "run_control": {
     "frozen": false,
     "read_only": false
    }
   },
   "source": [
    "you should at this point ask: how can I create weights from my uncertainties? The answer, as often is the case, is not unique. But a rule of thumb is that the weights would be the _inverse_ (remember: larger error must mean smaller weight) of the variance, with is the standard deviation square. Look at the error() function I create and design your weights array according to this rule"
   ]
  },
  {
   "cell_type": "code",
   "execution_count": 117,
   "metadata": {},
   "outputs": [
    {
     "name": "stderr",
     "output_type": "stream",
     "text": [
      "/usr/local/Anaconda3-5.0.0-Linux-x86_64/envs/PUI2016_Python3/lib/python3.5/site-packages/scipy/stats/stats.py:1535: UserWarning: kurtosistest only valid for n>=20 ... continuing anyway, n=10\n",
      "  \"anyway, n=%i\" % int(n))\n"
     ]
    },
    {
     "data": {
      "text/html": [
       "<table class=\"simpletable\">\n",
       "<caption>WLS Regression Results</caption>\n",
       "<tr>\n",
       "  <th>Dep. Variable:</th>            <td>y</td>        <th>  R-squared:         </th> <td>   0.980</td>\n",
       "</tr>\n",
       "<tr>\n",
       "  <th>Model:</th>                   <td>WLS</td>       <th>  Adj. R-squared:    </th> <td>   0.978</td>\n",
       "</tr>\n",
       "<tr>\n",
       "  <th>Method:</th>             <td>Least Squares</td>  <th>  F-statistic:       </th> <td>   451.0</td>\n",
       "</tr>\n",
       "<tr>\n",
       "  <th>Date:</th>             <td>Tue, 13 Nov 2018</td> <th>  Prob (F-statistic):</th> <td>5.34e-09</td>\n",
       "</tr>\n",
       "<tr>\n",
       "  <th>Time:</th>                 <td>13:55:53</td>     <th>  Log-Likelihood:    </th> <td> -77.068</td>\n",
       "</tr>\n",
       "<tr>\n",
       "  <th>No. Observations:</th>      <td>    10</td>      <th>  AIC:               </th> <td>   156.1</td>\n",
       "</tr>\n",
       "<tr>\n",
       "  <th>Df Residuals:</th>          <td>     9</td>      <th>  BIC:               </th> <td>   156.4</td>\n",
       "</tr>\n",
       "<tr>\n",
       "  <th>Df Model:</th>              <td>     1</td>      <th>                     </th>     <td> </td>   \n",
       "</tr>\n",
       "<tr>\n",
       "  <th>Covariance Type:</th>      <td>nonrobust</td>    <th>                     </th>     <td> </td>   \n",
       "</tr>\n",
       "</table>\n",
       "<table class=\"simpletable\">\n",
       "<tr>\n",
       "   <td></td>     <th>coef</th>     <th>std err</th>      <th>t</th>      <th>P>|t|</th> <th>[95.0% Conf. Int.]</th> \n",
       "</tr>\n",
       "<tr>\n",
       "  <th>x1</th> <td>    6.4211</td> <td>    0.302</td> <td>   21.237</td> <td> 0.000</td> <td>    5.737     7.105</td>\n",
       "</tr>\n",
       "</table>\n",
       "<table class=\"simpletable\">\n",
       "<tr>\n",
       "  <th>Omnibus:</th>       <td> 0.978</td> <th>  Durbin-Watson:     </th> <td>   0.078</td>\n",
       "</tr>\n",
       "<tr>\n",
       "  <th>Prob(Omnibus):</th> <td> 0.613</td> <th>  Jarque-Bera (JB):  </th> <td>   0.624</td>\n",
       "</tr>\n",
       "<tr>\n",
       "  <th>Skew:</th>          <td>-0.000</td> <th>  Prob(JB):          </th> <td>   0.732</td>\n",
       "</tr>\n",
       "<tr>\n",
       "  <th>Kurtosis:</th>      <td> 1.776</td> <th>  Cond. No.          </th> <td>    1.00</td>\n",
       "</tr>\n",
       "</table>"
      ],
      "text/plain": [
       "<class 'statsmodels.iolib.summary.Summary'>\n",
       "\"\"\"\n",
       "                            WLS Regression Results                            \n",
       "==============================================================================\n",
       "Dep. Variable:                      y   R-squared:                       0.980\n",
       "Model:                            WLS   Adj. R-squared:                  0.978\n",
       "Method:                 Least Squares   F-statistic:                     451.0\n",
       "Date:                Tue, 13 Nov 2018   Prob (F-statistic):           5.34e-09\n",
       "Time:                        13:55:53   Log-Likelihood:                -77.068\n",
       "No. Observations:                  10   AIC:                             156.1\n",
       "Df Residuals:                       9   BIC:                             156.4\n",
       "Df Model:                           1                                         \n",
       "Covariance Type:            nonrobust                                         \n",
       "==============================================================================\n",
       "                 coef    std err          t      P>|t|      [95.0% Conf. Int.]\n",
       "------------------------------------------------------------------------------\n",
       "x1             6.4211      0.302     21.237      0.000         5.737     7.105\n",
       "==============================================================================\n",
       "Omnibus:                        0.978   Durbin-Watson:                   0.078\n",
       "Prob(Omnibus):                  0.613   Jarque-Bera (JB):                0.624\n",
       "Skew:                          -0.000   Prob(JB):                        0.732\n",
       "Kurtosis:                       1.776   Cond. No.                         1.00\n",
       "==============================================================================\n",
       "\n",
       "Warnings:\n",
       "[1] Standard Errors assume that the covariance matrix of the errors is correctly specified.\n",
       "\"\"\""
      ]
     },
     "execution_count": 117,
     "metadata": {},
     "output_type": "execute_result"
    }
   ],
   "source": [
    "# weights = inverse of the variance, in this case the error term which is sqrt(x) \n",
    "wls_fitx = sm.WLS(y, x, W=1.0/np.sqrt(x)).fit()\n",
    "wls_fitx.summary()"
   ]
  },
  {
   "cell_type": "code",
   "execution_count": 118,
   "metadata": {},
   "outputs": [
    {
     "name": "stderr",
     "output_type": "stream",
     "text": [
      "/usr/local/Anaconda3-5.0.0-Linux-x86_64/envs/PUI2016_Python3/lib/python3.5/site-packages/scipy/stats/stats.py:1535: UserWarning: kurtosistest only valid for n>=20 ... continuing anyway, n=10\n",
      "  \"anyway, n=%i\" % int(n))\n"
     ]
    },
    {
     "data": {
      "text/html": [
       "<table class=\"simpletable\">\n",
       "<caption>WLS Regression Results</caption>\n",
       "<tr>\n",
       "  <th>Dep. Variable:</th>            <td>y</td>        <th>  R-squared:         </th> <td>   1.000</td> \n",
       "</tr>\n",
       "<tr>\n",
       "  <th>Model:</th>                   <td>WLS</td>       <th>  Adj. R-squared:    </th> <td>   1.000</td> \n",
       "</tr>\n",
       "<tr>\n",
       "  <th>Method:</th>             <td>Least Squares</td>  <th>  F-statistic:       </th> <td>9.359e+30</td>\n",
       "</tr>\n",
       "<tr>\n",
       "  <th>Date:</th>             <td>Tue, 13 Nov 2018</td> <th>  Prob (F-statistic):</th> <td>1.46e-121</td>\n",
       "</tr>\n",
       "<tr>\n",
       "  <th>Time:</th>                 <td>13:55:58</td>     <th>  Log-Likelihood:    </th> <td>  258.23</td> \n",
       "</tr>\n",
       "<tr>\n",
       "  <th>No. Observations:</th>      <td>    10</td>      <th>  AIC:               </th> <td>  -512.5</td> \n",
       "</tr>\n",
       "<tr>\n",
       "  <th>Df Residuals:</th>          <td>     8</td>      <th>  BIC:               </th> <td>  -511.9</td> \n",
       "</tr>\n",
       "<tr>\n",
       "  <th>Df Model:</th>              <td>     1</td>      <th>                     </th>     <td> </td>    \n",
       "</tr>\n",
       "<tr>\n",
       "  <th>Covariance Type:</th>      <td>nonrobust</td>    <th>                     </th>     <td> </td>    \n",
       "</tr>\n",
       "</table>\n",
       "<table class=\"simpletable\">\n",
       "<tr>\n",
       "    <td></td>       <th>coef</th>     <th>std err</th>      <th>t</th>      <th>P>|t|</th> <th>[95.0% Conf. Int.]</th> \n",
       "</tr>\n",
       "<tr>\n",
       "  <th>const</th> <td> 1000.0000</td> <td> 9.69e-13</td> <td> 1.03e+15</td> <td> 0.000</td> <td> 1000.000  1000.000</td>\n",
       "</tr>\n",
       "<tr>\n",
       "  <th>x1</th>    <td>    5.0000</td> <td> 1.63e-15</td> <td> 3.06e+15</td> <td> 0.000</td> <td>    5.000     5.000</td>\n",
       "</tr>\n",
       "</table>\n",
       "<table class=\"simpletable\">\n",
       "<tr>\n",
       "  <th>Omnibus:</th>       <td> 1.009</td> <th>  Durbin-Watson:     </th> <td>   0.116</td>\n",
       "</tr>\n",
       "<tr>\n",
       "  <th>Prob(Omnibus):</th> <td> 0.604</td> <th>  Jarque-Bera (JB):  </th> <td>   0.733</td>\n",
       "</tr>\n",
       "<tr>\n",
       "  <th>Skew:</th>          <td>-0.346</td> <th>  Prob(JB):          </th> <td>   0.693</td>\n",
       "</tr>\n",
       "<tr>\n",
       "  <th>Kurtosis:</th>      <td> 1.868</td> <th>  Cond. No.          </th> <td>1.10e+03</td>\n",
       "</tr>\n",
       "</table>"
      ],
      "text/plain": [
       "<class 'statsmodels.iolib.summary.Summary'>\n",
       "\"\"\"\n",
       "                            WLS Regression Results                            \n",
       "==============================================================================\n",
       "Dep. Variable:                      y   R-squared:                       1.000\n",
       "Model:                            WLS   Adj. R-squared:                  1.000\n",
       "Method:                 Least Squares   F-statistic:                 9.359e+30\n",
       "Date:                Tue, 13 Nov 2018   Prob (F-statistic):          1.46e-121\n",
       "Time:                        13:55:58   Log-Likelihood:                 258.23\n",
       "No. Observations:                  10   AIC:                            -512.5\n",
       "Df Residuals:                       8   BIC:                            -511.9\n",
       "Df Model:                           1                                         \n",
       "Covariance Type:            nonrobust                                         \n",
       "==============================================================================\n",
       "                 coef    std err          t      P>|t|      [95.0% Conf. Int.]\n",
       "------------------------------------------------------------------------------\n",
       "const       1000.0000   9.69e-13   1.03e+15      0.000      1000.000  1000.000\n",
       "x1             5.0000   1.63e-15   3.06e+15      0.000         5.000     5.000\n",
       "==============================================================================\n",
       "Omnibus:                        1.009   Durbin-Watson:                   0.116\n",
       "Prob(Omnibus):                  0.604   Jarque-Bera (JB):                0.733\n",
       "Skew:                          -0.346   Prob(JB):                        0.693\n",
       "Kurtosis:                       1.868   Cond. No.                     1.10e+03\n",
       "==============================================================================\n",
       "\n",
       "Warnings:\n",
       "[1] Standard Errors assume that the covariance matrix of the errors is correctly specified.\n",
       "[2] The condition number is large, 1.1e+03. This might indicate that there are\n",
       "strong multicollinearity or other numerical problems.\n",
       "\"\"\""
      ]
     },
     "execution_count": 118,
     "metadata": {},
     "output_type": "execute_result"
    }
   ],
   "source": [
    "# weights = inverse of the variance, in this case the error term which is sqrt(x) \n",
    "wls_fitX = sm.WLS(y, X, W=1.0/np.sqrt(x)).fit()\n",
    "wls_fitX.summary()"
   ]
  },
  {
   "cell_type": "code",
   "execution_count": 121,
   "metadata": {},
   "outputs": [
    {
     "data": {
      "image/png": "[encoded data removed]",
      "text/plain": [
       "<matplotlib.figure.Figure at 0x7f281a0fbdd8>"
      ]
     },
     "metadata": {},
     "output_type": "display_data"
    },
    {
     "name": "stdout",
     "output_type": "stream",
     "text": [
      "y vs. x points plotted with results of WLS regression using x as the exogenous variable (orange) and using X as the exogenous variable (blue). As we saw with the OLS regression results, the regression line that is fitted using X (x with constant terms added) fits the data better than the regression line that is fitted using x (x without constant terms added). This is because the line fitted with X fits the intercept of the linear model while the line fitted with x does not. \n"
     ]
    }
   ],
   "source": [
    "# plot\n",
    "beta0_wlsX, beta1_wlsX = wls_fitX.params\n",
    "beta1_wlsx = wls_fitx.params\n",
    "\n",
    "fig = plt.figure(figsize=(10,6))\n",
    "plt.plot(x, y, 'bo', c='c')\n",
    "pl.plot(x, x * beta1_wlsX + beta0_wlsX, '-.',\n",
    "        label=\"statsmodels.wls line with X: %.3f x + %.2f\"\\\n",
    "       %(beta1_wlsX, beta0_wlsX))\n",
    "pl.plot(x, x * beta1_wlsx, '-.',\n",
    "        label=\"statsmodels.wls line with x: %.3f x\"\\\n",
    "       %(beta1_wlsx))\n",
    "pl.xlabel('x')\n",
    "pl.ylabel('y')\n",
    "pl.title('y vs. x with StatsModels WLS Regression fit')\n",
    "pl.legend(loc=2)\n",
    "pl.show()\n",
    "print (\"y vs. x points plotted with results of WLS regression using x as the exogenous \" + \n",
    "       \"variable (orange) and using X as the exogenous variable (blue). As we saw with the \" +\n",
    "       \"OLS regression results, the regression line that is fitted using X (x with constant \" +\n",
    "       \"terms added) fits the data better than the regression line that is fitted using x \" +\n",
    "       \"(x without constant terms added). This is because the line fitted with X fits the intercept \" + \n",
    "       \"of the linear model while the line fitted with x does not. \")"
   ]
  },
  {
   "cell_type": "code",
   "execution_count": 124,
   "metadata": {},
   "outputs": [
    {
     "data": {
      "image/png": "[encoded data removed]",
      "text/plain": [
       "<matplotlib.figure.Figure at 0x7f281a09e048>"
      ]
     },
     "metadata": {},
     "output_type": "display_data"
    },
    {
     "name": "stdout",
     "output_type": "stream",
     "text": [
      "y vs. x with results from OLS and WLS regression on the same plot. I do not see a difference between the OLS and WLS regression lines. Both regressions returned the same results.\n"
     ]
    }
   ],
   "source": [
    "# plot OLS and WLS models together \n",
    "fig = plt.figure(figsize=(10,6))\n",
    "plt.plot(x, y, 'bo', c='c')\n",
    "pl.plot(x, x * beta1X + beta0X, '-.',\n",
    "        label=\"statsmodels.ols line with X: %.3f x + %.2f\"\\\n",
    "       %(beta1X, beta0X))\n",
    "pl.plot(x, x * beta1x, '-.',\n",
    "        label=\"statsmodels.ols line with x: %.3f x\"\\\n",
    "       %(beta1x))\n",
    "plt.plot(x, y, 'bo', c='c')\n",
    "pl.plot(x, x * beta1_wlsX + beta0_wlsX, '-.', c='k',\n",
    "        label=\"statsmodels.wls line with X: %.3f x + %.2f\"\\\n",
    "       %(beta1_wlsX, beta0_wlsX))\n",
    "pl.plot(x, x * beta1_wlsx, '-.', c='r',\n",
    "        label=\"statsmodels.wls line with x: %.3f x\"\\\n",
    "       %(beta1_wlsx))\n",
    "pl.xlabel('x')\n",
    "pl.ylabel('y')\n",
    "pl.title('y vs. x with StatsModels OLS and WLS Regression fits')\n",
    "pl.legend(loc=2)\n",
    "pl.show()\n",
    "print(\"y vs. x with results from OLS and WLS regression on the same plot. I do not see a difference \" +\n",
    "     \"between the OLS and WLS regression lines. Both regressions returned the same results.\")"
   ]
  },
  {
   "cell_type": "markdown",
   "metadata": {},
   "source": [
    "# Note: you can also use other statsmodels functions, for example statsmodels.formula.api which allows to pass an equation\n",
    "again, make sure that your formula supports an intercept (no deliverable for this portion, it's up to you to explore the use of this function)"
   ]
  },
  {
   "cell_type": "code",
   "execution_count": 39,
   "metadata": {
    "ExecuteTime": {
     "end_time": "2018-11-08T17:43:22.172119Z",
     "start_time": "2018-11-08T17:43:21.914280Z"
    }
   },
   "outputs": [
    {
     "data": {
      "image/png": "[encoded data removed]",
      "text/plain": [
       "<Figure size 432x288 with 1 Axes>"
      ]
     },
     "metadata": {},
     "output_type": "display_data"
    }
   ],
   "source": [
    "# statsmodels.formula.api accepts dictionaris, pandas dataframes, and python rec arrays as input: \n",
    "# all data types that host data paired with labels\n",
    "smfmodel = smf.ols('y ~ x + const', data={'x':x, 'y':y, 'const':np.ones(len(x))}).fit()\n",
    "pl.errorbar(x, y, yerr=errors(x), fmt='.')\n",
    "pl.plot(x, smfitDoneRight.fittedvalues, '-', label=\"sm.OLS\")\n",
    "pl.plot(x, smfmodel.fittedvalues, '-', label=\"smf.ols\")\n",
    "pl.xlabel(\"exogenous\")\n",
    "pl.ylabel(\"endogenous\")\n",
    "pl.legend();"
   ]
  },
  {
   "cell_type": "code",
   "execution_count": null,
   "metadata": {},
   "outputs": [],
   "source": []
  }
 ],
 "metadata": {
  "kernelspec": {
   "display_name": "PUI2016_Python3",
   "language": "python",
   "name": "pui2016_python3"
  },
  "language_info": {
   "codemirror_mode": {
    "name": "ipython",
    "version": 3
   },
   "file_extension": ".py",
   "mimetype": "text/x-python",
   "name": "python",
   "nbconvert_exporter": "python",
   "pygments_lexer": "ipython3",
   "version": "3.5.4"
  },
  "toc": {
   "colors": {
    "hover_highlight": "#DAA520",
    "running_highlight": "#FF0000",
    "selected_highlight": "#FFD700"
   },
   "moveMenuLeft": true,
   "nav_menu": {
    "height": "12px",
    "width": "252px"
   },
   "navigate_menu": true,
   "number_sections": true,
   "sideBar": true,
   "threshold": 4,
   "toc_cell": false,
   "toc_section_display": "block",
   "toc_window_display": false
  }
 },
 "nbformat": 4,
 "nbformat_minor": 2
}
