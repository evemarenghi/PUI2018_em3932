{
 "cells": [
  {
   "cell_type": "code",
   "execution_count": 216,
   "metadata": {},
   "outputs": [],
   "source": [
    "# import packages\n",
    "import pandas as pd\n",
    "import datetime as dt\n",
    "import matplotlib.pyplot as plt\n",
    "import numpy as np\n",
    "import calendar\n",
    "%matplotlib inline"
   ]
  },
  {
   "cell_type": "code",
   "execution_count": 186,
   "metadata": {},
   "outputs": [],
   "source": [
    "#PLOT: mv accidents vs. month (by year, by borough)"
   ]
  },
  {
   "cell_type": "code",
   "execution_count": 2,
   "metadata": {},
   "outputs": [
    {
     "name": "stdout",
     "output_type": "stream",
     "text": [
      "  % Total    % Received % Xferd  Average Speed   Time    Time     Time  Current\n",
      "                                 Dload  Upload   Total   Spent    Left  Speed\n",
      "100  289M    0  289M    0     0  2436k      0 --:--:--  0:02:01 --:--:-- 2374k\n"
     ]
    }
   ],
   "source": [
    "# download NYPD Motor Vehicle Collisions from NYC open data \n",
    "!curl https://data.cityofnewyork.us/api/views/h9gi-nx95/rows.csv?accessType=DOWNLOAD > mv_accidents.csv"
   ]
  },
  {
   "cell_type": "code",
   "execution_count": 3,
   "metadata": {},
   "outputs": [],
   "source": [
    "!mv mv_accidents.csv $PUIDATA"
   ]
  },
  {
   "cell_type": "code",
   "execution_count": 187,
   "metadata": {},
   "outputs": [
    {
     "name": "stderr",
     "output_type": "stream",
     "text": [
      "/usr/local/Anaconda3-5.0.0-Linux-x86_64/envs/PUI2016_Python3/lib/python3.5/site-packages/IPython/core/interactiveshell.py:2717: DtypeWarning: Columns (3) have mixed types. Specify dtype option on import or set low_memory=False.\n",
      "  interactivity=interactivity, compiler=compiler, result=result)\n"
     ]
    },
    {
     "data": {
      "text/html": [
       "<div>\n",
       "<table border=\"1\" class=\"dataframe\">\n",
       "  <thead>\n",
       "    <tr style=\"text-align: right;\">\n",
       "      <th></th>\n",
       "      <th>DATE</th>\n",
       "      <th>TIME</th>\n",
       "      <th>BOROUGH</th>\n",
       "      <th>ZIP CODE</th>\n",
       "      <th>LATITUDE</th>\n",
       "      <th>LONGITUDE</th>\n",
       "      <th>LOCATION</th>\n",
       "      <th>ON STREET NAME</th>\n",
       "      <th>CROSS STREET NAME</th>\n",
       "      <th>OFF STREET NAME</th>\n",
       "      <th>...</th>\n",
       "      <th>CONTRIBUTING FACTOR VEHICLE 2</th>\n",
       "      <th>CONTRIBUTING FACTOR VEHICLE 3</th>\n",
       "      <th>CONTRIBUTING FACTOR VEHICLE 4</th>\n",
       "      <th>CONTRIBUTING FACTOR VEHICLE 5</th>\n",
       "      <th>UNIQUE KEY</th>\n",
       "      <th>VEHICLE TYPE CODE 1</th>\n",
       "      <th>VEHICLE TYPE CODE 2</th>\n",
       "      <th>VEHICLE TYPE CODE 3</th>\n",
       "      <th>VEHICLE TYPE CODE 4</th>\n",
       "      <th>VEHICLE TYPE CODE 5</th>\n",
       "    </tr>\n",
       "  </thead>\n",
       "  <tbody>\n",
       "    <tr>\n",
       "      <th>0</th>\n",
       "      <td>10/21/2018</td>\n",
       "      <td>0:00</td>\n",
       "      <td>BROOKLYN</td>\n",
       "      <td>11214</td>\n",
       "      <td>40.590390</td>\n",
       "      <td>-73.991550</td>\n",
       "      <td>(40.59039, -73.99155)</td>\n",
       "      <td>26 AVENUE</td>\n",
       "      <td>CROPSEY AVENUE</td>\n",
       "      <td>NaN</td>\n",
       "      <td>...</td>\n",
       "      <td>NaN</td>\n",
       "      <td>NaN</td>\n",
       "      <td>NaN</td>\n",
       "      <td>NaN</td>\n",
       "      <td>4004212</td>\n",
       "      <td>Station Wagon/Sport Utility Vehicle</td>\n",
       "      <td>NaN</td>\n",
       "      <td>NaN</td>\n",
       "      <td>NaN</td>\n",
       "      <td>NaN</td>\n",
       "    </tr>\n",
       "    <tr>\n",
       "      <th>1</th>\n",
       "      <td>10/21/2018</td>\n",
       "      <td>0:00</td>\n",
       "      <td>BROOKLYN</td>\n",
       "      <td>11214</td>\n",
       "      <td>40.598310</td>\n",
       "      <td>-73.989160</td>\n",
       "      <td>(40.59831, -73.98916)</td>\n",
       "      <td>NaN</td>\n",
       "      <td>NaN</td>\n",
       "      <td>17        BAY 37 STREET</td>\n",
       "      <td>...</td>\n",
       "      <td>Unspecified</td>\n",
       "      <td>Unspecified</td>\n",
       "      <td>NaN</td>\n",
       "      <td>NaN</td>\n",
       "      <td>4005400</td>\n",
       "      <td>Station Wagon/Sport Utility Vehicle</td>\n",
       "      <td>Sedan</td>\n",
       "      <td>Sedan</td>\n",
       "      <td>NaN</td>\n",
       "      <td>NaN</td>\n",
       "    </tr>\n",
       "    <tr>\n",
       "      <th>2</th>\n",
       "      <td>10/21/2018</td>\n",
       "      <td>0:00</td>\n",
       "      <td>QUEENS</td>\n",
       "      <td>11368</td>\n",
       "      <td>NaN</td>\n",
       "      <td>NaN</td>\n",
       "      <td>NaN</td>\n",
       "      <td>NORTHERN BOULEVARD</td>\n",
       "      <td>126 STREET</td>\n",
       "      <td>NaN</td>\n",
       "      <td>...</td>\n",
       "      <td>NaN</td>\n",
       "      <td>NaN</td>\n",
       "      <td>NaN</td>\n",
       "      <td>NaN</td>\n",
       "      <td>4004825</td>\n",
       "      <td>Station Wagon/Sport Utility Vehicle</td>\n",
       "      <td>NaN</td>\n",
       "      <td>NaN</td>\n",
       "      <td>NaN</td>\n",
       "      <td>NaN</td>\n",
       "    </tr>\n",
       "    <tr>\n",
       "      <th>3</th>\n",
       "      <td>10/21/2018</td>\n",
       "      <td>0:00</td>\n",
       "      <td>QUEENS</td>\n",
       "      <td>11436</td>\n",
       "      <td>40.668570</td>\n",
       "      <td>-73.798355</td>\n",
       "      <td>(40.66857, -73.798355)</td>\n",
       "      <td>134 AVENUE</td>\n",
       "      <td>140 STREET</td>\n",
       "      <td>NaN</td>\n",
       "      <td>...</td>\n",
       "      <td>Unspecified</td>\n",
       "      <td>NaN</td>\n",
       "      <td>NaN</td>\n",
       "      <td>NaN</td>\n",
       "      <td>4006007</td>\n",
       "      <td>Station Wagon/Sport Utility Vehicle</td>\n",
       "      <td>Sedan</td>\n",
       "      <td>NaN</td>\n",
       "      <td>NaN</td>\n",
       "      <td>NaN</td>\n",
       "    </tr>\n",
       "    <tr>\n",
       "      <th>4</th>\n",
       "      <td>10/21/2018</td>\n",
       "      <td>0:00</td>\n",
       "      <td>NaN</td>\n",
       "      <td>NaN</td>\n",
       "      <td>40.750294</td>\n",
       "      <td>-73.994850</td>\n",
       "      <td>(40.750294, -73.99485)</td>\n",
       "      <td>8 AVENUE</td>\n",
       "      <td>NaN</td>\n",
       "      <td>NaN</td>\n",
       "      <td>...</td>\n",
       "      <td>Driver Inattention/Distraction</td>\n",
       "      <td>NaN</td>\n",
       "      <td>NaN</td>\n",
       "      <td>NaN</td>\n",
       "      <td>4005666</td>\n",
       "      <td>Taxi</td>\n",
       "      <td>Taxi</td>\n",
       "      <td>NaN</td>\n",
       "      <td>NaN</td>\n",
       "      <td>NaN</td>\n",
       "    </tr>\n",
       "  </tbody>\n",
       "</table>\n",
       "<p>5 rows × 29 columns</p>\n",
       "</div>"
      ],
      "text/plain": [
       "         DATE  TIME   BOROUGH ZIP CODE   LATITUDE  LONGITUDE  \\\n",
       "0  10/21/2018  0:00  BROOKLYN    11214  40.590390 -73.991550   \n",
       "1  10/21/2018  0:00  BROOKLYN    11214  40.598310 -73.989160   \n",
       "2  10/21/2018  0:00    QUEENS    11368        NaN        NaN   \n",
       "3  10/21/2018  0:00    QUEENS    11436  40.668570 -73.798355   \n",
       "4  10/21/2018  0:00       NaN      NaN  40.750294 -73.994850   \n",
       "\n",
       "                 LOCATION                    ON STREET NAME CROSS STREET NAME  \\\n",
       "0   (40.59039, -73.99155)  26 AVENUE                           CROPSEY AVENUE   \n",
       "1   (40.59831, -73.98916)                               NaN               NaN   \n",
       "2                     NaN  NORTHERN BOULEVARD                      126 STREET   \n",
       "3  (40.66857, -73.798355)  134 AVENUE                              140 STREET   \n",
       "4  (40.750294, -73.99485)  8 AVENUE                                       NaN   \n",
       "\n",
       "                            OFF STREET NAME         ...          \\\n",
       "0                                       NaN         ...           \n",
       "1  17        BAY 37 STREET                          ...           \n",
       "2                                       NaN         ...           \n",
       "3                                       NaN         ...           \n",
       "4                                       NaN         ...           \n",
       "\n",
       "    CONTRIBUTING FACTOR VEHICLE 2  CONTRIBUTING FACTOR VEHICLE 3  \\\n",
       "0                             NaN                            NaN   \n",
       "1                     Unspecified                    Unspecified   \n",
       "2                             NaN                            NaN   \n",
       "3                     Unspecified                            NaN   \n",
       "4  Driver Inattention/Distraction                            NaN   \n",
       "\n",
       "   CONTRIBUTING FACTOR VEHICLE 4  CONTRIBUTING FACTOR VEHICLE 5  UNIQUE KEY  \\\n",
       "0                            NaN                            NaN     4004212   \n",
       "1                            NaN                            NaN     4005400   \n",
       "2                            NaN                            NaN     4004825   \n",
       "3                            NaN                            NaN     4006007   \n",
       "4                            NaN                            NaN     4005666   \n",
       "\n",
       "                   VEHICLE TYPE CODE 1  VEHICLE TYPE CODE 2  \\\n",
       "0  Station Wagon/Sport Utility Vehicle                  NaN   \n",
       "1  Station Wagon/Sport Utility Vehicle                Sedan   \n",
       "2  Station Wagon/Sport Utility Vehicle                  NaN   \n",
       "3  Station Wagon/Sport Utility Vehicle                Sedan   \n",
       "4                                 Taxi                 Taxi   \n",
       "\n",
       "   VEHICLE TYPE CODE 3 VEHICLE TYPE CODE 4 VEHICLE TYPE CODE 5  \n",
       "0                  NaN                 NaN                 NaN  \n",
       "1                Sedan                 NaN                 NaN  \n",
       "2                  NaN                 NaN                 NaN  \n",
       "3                  NaN                 NaN                 NaN  \n",
       "4                  NaN                 NaN                 NaN  \n",
       "\n",
       "[5 rows x 29 columns]"
      ]
     },
     "execution_count": 187,
     "metadata": {},
     "output_type": "execute_result"
    }
   ],
   "source": [
    "mv = pd.read_csv(os.getenv(\"PUIDATA\") + \"/mv_accidents.csv\")\n",
    "mv.head()"
   ]
  },
  {
   "cell_type": "code",
   "execution_count": 188,
   "metadata": {},
   "outputs": [
    {
     "data": {
      "text/html": [
       "<div>\n",
       "<table border=\"1\" class=\"dataframe\">\n",
       "  <thead>\n",
       "    <tr style=\"text-align: right;\">\n",
       "      <th></th>\n",
       "      <th>DATE</th>\n",
       "      <th>TIME</th>\n",
       "      <th>BOROUGH</th>\n",
       "      <th>ZIP CODE</th>\n",
       "      <th>LATITUDE</th>\n",
       "      <th>LONGITUDE</th>\n",
       "      <th>LOCATION</th>\n",
       "      <th>ON STREET NAME</th>\n",
       "      <th>CROSS STREET NAME</th>\n",
       "      <th>OFF STREET NAME</th>\n",
       "      <th>...</th>\n",
       "      <th>CONTRIBUTING FACTOR VEHICLE 3</th>\n",
       "      <th>CONTRIBUTING FACTOR VEHICLE 4</th>\n",
       "      <th>CONTRIBUTING FACTOR VEHICLE 5</th>\n",
       "      <th>UNIQUE KEY</th>\n",
       "      <th>VEHICLE TYPE CODE 1</th>\n",
       "      <th>VEHICLE TYPE CODE 2</th>\n",
       "      <th>VEHICLE TYPE CODE 3</th>\n",
       "      <th>VEHICLE TYPE CODE 4</th>\n",
       "      <th>VEHICLE TYPE CODE 5</th>\n",
       "      <th>date</th>\n",
       "    </tr>\n",
       "  </thead>\n",
       "  <tbody>\n",
       "    <tr>\n",
       "      <th>0</th>\n",
       "      <td>10/21/2018</td>\n",
       "      <td>0:00</td>\n",
       "      <td>BROOKLYN</td>\n",
       "      <td>11214</td>\n",
       "      <td>40.590390</td>\n",
       "      <td>-73.991550</td>\n",
       "      <td>(40.59039, -73.99155)</td>\n",
       "      <td>26 AVENUE</td>\n",
       "      <td>CROPSEY AVENUE</td>\n",
       "      <td>NaN</td>\n",
       "      <td>...</td>\n",
       "      <td>NaN</td>\n",
       "      <td>NaN</td>\n",
       "      <td>NaN</td>\n",
       "      <td>4004212</td>\n",
       "      <td>Station Wagon/Sport Utility Vehicle</td>\n",
       "      <td>NaN</td>\n",
       "      <td>NaN</td>\n",
       "      <td>NaN</td>\n",
       "      <td>NaN</td>\n",
       "      <td>2018-10-21</td>\n",
       "    </tr>\n",
       "    <tr>\n",
       "      <th>1</th>\n",
       "      <td>10/21/2018</td>\n",
       "      <td>0:00</td>\n",
       "      <td>BROOKLYN</td>\n",
       "      <td>11214</td>\n",
       "      <td>40.598310</td>\n",
       "      <td>-73.989160</td>\n",
       "      <td>(40.59831, -73.98916)</td>\n",
       "      <td>NaN</td>\n",
       "      <td>NaN</td>\n",
       "      <td>17        BAY 37 STREET</td>\n",
       "      <td>...</td>\n",
       "      <td>Unspecified</td>\n",
       "      <td>NaN</td>\n",
       "      <td>NaN</td>\n",
       "      <td>4005400</td>\n",
       "      <td>Station Wagon/Sport Utility Vehicle</td>\n",
       "      <td>Sedan</td>\n",
       "      <td>Sedan</td>\n",
       "      <td>NaN</td>\n",
       "      <td>NaN</td>\n",
       "      <td>2018-10-21</td>\n",
       "    </tr>\n",
       "    <tr>\n",
       "      <th>2</th>\n",
       "      <td>10/21/2018</td>\n",
       "      <td>0:00</td>\n",
       "      <td>QUEENS</td>\n",
       "      <td>11368</td>\n",
       "      <td>NaN</td>\n",
       "      <td>NaN</td>\n",
       "      <td>NaN</td>\n",
       "      <td>NORTHERN BOULEVARD</td>\n",
       "      <td>126 STREET</td>\n",
       "      <td>NaN</td>\n",
       "      <td>...</td>\n",
       "      <td>NaN</td>\n",
       "      <td>NaN</td>\n",
       "      <td>NaN</td>\n",
       "      <td>4004825</td>\n",
       "      <td>Station Wagon/Sport Utility Vehicle</td>\n",
       "      <td>NaN</td>\n",
       "      <td>NaN</td>\n",
       "      <td>NaN</td>\n",
       "      <td>NaN</td>\n",
       "      <td>2018-10-21</td>\n",
       "    </tr>\n",
       "    <tr>\n",
       "      <th>3</th>\n",
       "      <td>10/21/2018</td>\n",
       "      <td>0:00</td>\n",
       "      <td>QUEENS</td>\n",
       "      <td>11436</td>\n",
       "      <td>40.668570</td>\n",
       "      <td>-73.798355</td>\n",
       "      <td>(40.66857, -73.798355)</td>\n",
       "      <td>134 AVENUE</td>\n",
       "      <td>140 STREET</td>\n",
       "      <td>NaN</td>\n",
       "      <td>...</td>\n",
       "      <td>NaN</td>\n",
       "      <td>NaN</td>\n",
       "      <td>NaN</td>\n",
       "      <td>4006007</td>\n",
       "      <td>Station Wagon/Sport Utility Vehicle</td>\n",
       "      <td>Sedan</td>\n",
       "      <td>NaN</td>\n",
       "      <td>NaN</td>\n",
       "      <td>NaN</td>\n",
       "      <td>2018-10-21</td>\n",
       "    </tr>\n",
       "    <tr>\n",
       "      <th>4</th>\n",
       "      <td>10/21/2018</td>\n",
       "      <td>0:00</td>\n",
       "      <td>NaN</td>\n",
       "      <td>NaN</td>\n",
       "      <td>40.750294</td>\n",
       "      <td>-73.994850</td>\n",
       "      <td>(40.750294, -73.99485)</td>\n",
       "      <td>8 AVENUE</td>\n",
       "      <td>NaN</td>\n",
       "      <td>NaN</td>\n",
       "      <td>...</td>\n",
       "      <td>NaN</td>\n",
       "      <td>NaN</td>\n",
       "      <td>NaN</td>\n",
       "      <td>4005666</td>\n",
       "      <td>Taxi</td>\n",
       "      <td>Taxi</td>\n",
       "      <td>NaN</td>\n",
       "      <td>NaN</td>\n",
       "      <td>NaN</td>\n",
       "      <td>2018-10-21</td>\n",
       "    </tr>\n",
       "  </tbody>\n",
       "</table>\n",
       "<p>5 rows × 30 columns</p>\n",
       "</div>"
      ],
      "text/plain": [
       "         DATE  TIME   BOROUGH ZIP CODE   LATITUDE  LONGITUDE  \\\n",
       "0  10/21/2018  0:00  BROOKLYN    11214  40.590390 -73.991550   \n",
       "1  10/21/2018  0:00  BROOKLYN    11214  40.598310 -73.989160   \n",
       "2  10/21/2018  0:00    QUEENS    11368        NaN        NaN   \n",
       "3  10/21/2018  0:00    QUEENS    11436  40.668570 -73.798355   \n",
       "4  10/21/2018  0:00       NaN      NaN  40.750294 -73.994850   \n",
       "\n",
       "                 LOCATION                    ON STREET NAME CROSS STREET NAME  \\\n",
       "0   (40.59039, -73.99155)  26 AVENUE                           CROPSEY AVENUE   \n",
       "1   (40.59831, -73.98916)                               NaN               NaN   \n",
       "2                     NaN  NORTHERN BOULEVARD                      126 STREET   \n",
       "3  (40.66857, -73.798355)  134 AVENUE                              140 STREET   \n",
       "4  (40.750294, -73.99485)  8 AVENUE                                       NaN   \n",
       "\n",
       "                            OFF STREET NAME    ...      \\\n",
       "0                                       NaN    ...       \n",
       "1  17        BAY 37 STREET                     ...       \n",
       "2                                       NaN    ...       \n",
       "3                                       NaN    ...       \n",
       "4                                       NaN    ...       \n",
       "\n",
       "   CONTRIBUTING FACTOR VEHICLE 3  CONTRIBUTING FACTOR VEHICLE 4  \\\n",
       "0                            NaN                            NaN   \n",
       "1                    Unspecified                            NaN   \n",
       "2                            NaN                            NaN   \n",
       "3                            NaN                            NaN   \n",
       "4                            NaN                            NaN   \n",
       "\n",
       "   CONTRIBUTING FACTOR VEHICLE 5  UNIQUE KEY  \\\n",
       "0                            NaN     4004212   \n",
       "1                            NaN     4005400   \n",
       "2                            NaN     4004825   \n",
       "3                            NaN     4006007   \n",
       "4                            NaN     4005666   \n",
       "\n",
       "                   VEHICLE TYPE CODE 1  VEHICLE TYPE CODE 2  \\\n",
       "0  Station Wagon/Sport Utility Vehicle                  NaN   \n",
       "1  Station Wagon/Sport Utility Vehicle                Sedan   \n",
       "2  Station Wagon/Sport Utility Vehicle                  NaN   \n",
       "3  Station Wagon/Sport Utility Vehicle                Sedan   \n",
       "4                                 Taxi                 Taxi   \n",
       "\n",
       "   VEHICLE TYPE CODE 3  VEHICLE TYPE CODE 4 VEHICLE TYPE CODE 5       date  \n",
       "0                  NaN                  NaN                 NaN 2018-10-21  \n",
       "1                Sedan                  NaN                 NaN 2018-10-21  \n",
       "2                  NaN                  NaN                 NaN 2018-10-21  \n",
       "3                  NaN                  NaN                 NaN 2018-10-21  \n",
       "4                  NaN                  NaN                 NaN 2018-10-21  \n",
       "\n",
       "[5 rows x 30 columns]"
      ]
     },
     "execution_count": 188,
     "metadata": {},
     "output_type": "execute_result"
    }
   ],
   "source": [
    "# convert date to a datetime object \n",
    "mv['date'] = mv['DATE'].apply(lambda x: dt.datetime.strptime(x, '%m/%d/%Y'))\n",
    "mv.head()"
   ]
  },
  {
   "cell_type": "code",
   "execution_count": 189,
   "metadata": {},
   "outputs": [
    {
     "data": {
      "text/plain": [
       "(1369055, 30)"
      ]
     },
     "execution_count": 189,
     "metadata": {},
     "output_type": "execute_result"
    }
   ],
   "source": [
    "mv.shape"
   ]
  },
  {
   "cell_type": "code",
   "execution_count": 190,
   "metadata": {},
   "outputs": [
    {
     "data": {
      "text/plain": [
       "Index(['DATE', 'TIME', 'BOROUGH', 'ZIP CODE', 'LATITUDE', 'LONGITUDE',\n",
       "       'LOCATION', 'ON STREET NAME', 'CROSS STREET NAME', 'OFF STREET NAME',\n",
       "       'NUMBER OF PERSONS INJURED', 'NUMBER OF PERSONS KILLED',\n",
       "       'NUMBER OF PEDESTRIANS INJURED', 'NUMBER OF PEDESTRIANS KILLED',\n",
       "       'NUMBER OF CYCLIST INJURED', 'NUMBER OF CYCLIST KILLED',\n",
       "       'NUMBER OF MOTORIST INJURED', 'NUMBER OF MOTORIST KILLED',\n",
       "       'CONTRIBUTING FACTOR VEHICLE 1', 'CONTRIBUTING FACTOR VEHICLE 2',\n",
       "       'CONTRIBUTING FACTOR VEHICLE 3', 'CONTRIBUTING FACTOR VEHICLE 4',\n",
       "       'CONTRIBUTING FACTOR VEHICLE 5', 'UNIQUE KEY', 'VEHICLE TYPE CODE 1',\n",
       "       'VEHICLE TYPE CODE 2', 'VEHICLE TYPE CODE 3', 'VEHICLE TYPE CODE 4',\n",
       "       'VEHICLE TYPE CODE 5', 'date'],\n",
       "      dtype='object')"
      ]
     },
     "execution_count": 190,
     "metadata": {},
     "output_type": "execute_result"
    }
   ],
   "source": [
    "# drop columns we don't need \n",
    "mv.columns"
   ]
  },
  {
   "cell_type": "code",
   "execution_count": 191,
   "metadata": {},
   "outputs": [
    {
     "data": {
      "text/html": [
       "<div>\n",
       "<table border=\"1\" class=\"dataframe\">\n",
       "  <thead>\n",
       "    <tr style=\"text-align: right;\">\n",
       "      <th></th>\n",
       "      <th>bor</th>\n",
       "      <th>id</th>\n",
       "      <th>date</th>\n",
       "    </tr>\n",
       "  </thead>\n",
       "  <tbody>\n",
       "    <tr>\n",
       "      <th>0</th>\n",
       "      <td>BROOKLYN</td>\n",
       "      <td>4004212</td>\n",
       "      <td>2018-10-21</td>\n",
       "    </tr>\n",
       "    <tr>\n",
       "      <th>1</th>\n",
       "      <td>BROOKLYN</td>\n",
       "      <td>4005400</td>\n",
       "      <td>2018-10-21</td>\n",
       "    </tr>\n",
       "    <tr>\n",
       "      <th>2</th>\n",
       "      <td>QUEENS</td>\n",
       "      <td>4004825</td>\n",
       "      <td>2018-10-21</td>\n",
       "    </tr>\n",
       "    <tr>\n",
       "      <th>3</th>\n",
       "      <td>QUEENS</td>\n",
       "      <td>4006007</td>\n",
       "      <td>2018-10-21</td>\n",
       "    </tr>\n",
       "    <tr>\n",
       "      <th>4</th>\n",
       "      <td>NaN</td>\n",
       "      <td>4005666</td>\n",
       "      <td>2018-10-21</td>\n",
       "    </tr>\n",
       "  </tbody>\n",
       "</table>\n",
       "</div>"
      ],
      "text/plain": [
       "        bor       id       date\n",
       "0  BROOKLYN  4004212 2018-10-21\n",
       "1  BROOKLYN  4005400 2018-10-21\n",
       "2    QUEENS  4004825 2018-10-21\n",
       "3    QUEENS  4006007 2018-10-21\n",
       "4       NaN  4005666 2018-10-21"
      ]
     },
     "execution_count": 191,
     "metadata": {},
     "output_type": "execute_result"
    }
   ],
   "source": [
    "mv_s = mv[['BOROUGH', 'UNIQUE KEY', 'date']]\n",
    "mv_s = mv_s.rename(columns={'BOROUGH':'bor', 'UNIQUE KEY':'id'})\n",
    "mv_s.head()"
   ]
  },
  {
   "cell_type": "code",
   "execution_count": 192,
   "metadata": {},
   "outputs": [
    {
     "data": {
      "text/plain": [
       "bor     400765\n",
       "id           0\n",
       "date         0\n",
       "dtype: int64"
      ]
     },
     "execution_count": 192,
     "metadata": {},
     "output_type": "execute_result"
    }
   ],
   "source": [
    "mv_s.isnull().sum()"
   ]
  },
  {
   "cell_type": "code",
   "execution_count": 193,
   "metadata": {},
   "outputs": [],
   "source": [
    "# drop na values \n",
    "mv_s.dropna(inplace=True)"
   ]
  },
  {
   "cell_type": "code",
   "execution_count": 194,
   "metadata": {},
   "outputs": [
    {
     "data": {
      "text/html": [
       "<div>\n",
       "<table border=\"1\" class=\"dataframe\">\n",
       "  <thead>\n",
       "    <tr style=\"text-align: right;\">\n",
       "      <th></th>\n",
       "      <th>bor</th>\n",
       "      <th>id</th>\n",
       "      <th>date</th>\n",
       "      <th>month</th>\n",
       "      <th>year</th>\n",
       "    </tr>\n",
       "  </thead>\n",
       "  <tbody>\n",
       "    <tr>\n",
       "      <th>0</th>\n",
       "      <td>BROOKLYN</td>\n",
       "      <td>4004212</td>\n",
       "      <td>2018-10-21</td>\n",
       "      <td>10</td>\n",
       "      <td>2018</td>\n",
       "    </tr>\n",
       "    <tr>\n",
       "      <th>1</th>\n",
       "      <td>BROOKLYN</td>\n",
       "      <td>4005400</td>\n",
       "      <td>2018-10-21</td>\n",
       "      <td>10</td>\n",
       "      <td>2018</td>\n",
       "    </tr>\n",
       "    <tr>\n",
       "      <th>2</th>\n",
       "      <td>QUEENS</td>\n",
       "      <td>4004825</td>\n",
       "      <td>2018-10-21</td>\n",
       "      <td>10</td>\n",
       "      <td>2018</td>\n",
       "    </tr>\n",
       "    <tr>\n",
       "      <th>3</th>\n",
       "      <td>QUEENS</td>\n",
       "      <td>4006007</td>\n",
       "      <td>2018-10-21</td>\n",
       "      <td>10</td>\n",
       "      <td>2018</td>\n",
       "    </tr>\n",
       "    <tr>\n",
       "      <th>5</th>\n",
       "      <td>BROOKLYN</td>\n",
       "      <td>4004904</td>\n",
       "      <td>2018-10-21</td>\n",
       "      <td>10</td>\n",
       "      <td>2018</td>\n",
       "    </tr>\n",
       "  </tbody>\n",
       "</table>\n",
       "</div>"
      ],
      "text/plain": [
       "        bor       id       date  month  year\n",
       "0  BROOKLYN  4004212 2018-10-21     10  2018\n",
       "1  BROOKLYN  4005400 2018-10-21     10  2018\n",
       "2    QUEENS  4004825 2018-10-21     10  2018\n",
       "3    QUEENS  4006007 2018-10-21     10  2018\n",
       "5  BROOKLYN  4004904 2018-10-21     10  2018"
      ]
     },
     "execution_count": 194,
     "metadata": {},
     "output_type": "execute_result"
    }
   ],
   "source": [
    "# extract month and year \n",
    "mv_s['month'] = mv_s.date.apply(lambda x: x.month)\n",
    "mv_s['year'] = mv_s.date.apply(lambda x: x.year)\n",
    "mv_s.head()"
   ]
  },
  {
   "cell_type": "code",
   "execution_count": 195,
   "metadata": {},
   "outputs": [
    {
     "data": {
      "text/plain": [
       "Timestamp('2012-07-01 00:00:00')"
      ]
     },
     "execution_count": 195,
     "metadata": {},
     "output_type": "execute_result"
    }
   ],
   "source": [
    "mv_s.date.min()"
   ]
  },
  {
   "cell_type": "code",
   "execution_count": 196,
   "metadata": {},
   "outputs": [
    {
     "data": {
      "text/plain": [
       "Timestamp('2018-10-21 00:00:00')"
      ]
     },
     "execution_count": 196,
     "metadata": {},
     "output_type": "execute_result"
    }
   ],
   "source": [
    "mv_s.date.max()"
   ]
  },
  {
   "cell_type": "code",
   "execution_count": 197,
   "metadata": {},
   "outputs": [],
   "source": [
    "# extract data for 1/1/2013 - 12/31/2017 \n",
    "mv4 = mv_s[(mv_s['date'] >= '2013-01-01 00:00:00') & (mv_s['date'] < '2018-01-01 00:00:00')]"
   ]
  },
  {
   "cell_type": "code",
   "execution_count": 198,
   "metadata": {},
   "outputs": [
    {
     "data": {
      "text/plain": [
       "(772208, 5)"
      ]
     },
     "execution_count": 198,
     "metadata": {},
     "output_type": "execute_result"
    }
   ],
   "source": [
    "mv4.shape"
   ]
  },
  {
   "cell_type": "code",
   "execution_count": 199,
   "metadata": {},
   "outputs": [
    {
     "data": {
      "text/plain": [
       "array(['BRONX', 'MANHATTAN', 'QUEENS', 'BROOKLYN', 'STATEN ISLAND'], dtype=object)"
      ]
     },
     "execution_count": 199,
     "metadata": {},
     "output_type": "execute_result"
    }
   ],
   "source": [
    "mv4.bor.unique()"
   ]
  },
  {
   "cell_type": "code",
   "execution_count": 200,
   "metadata": {},
   "outputs": [
    {
     "data": {
      "text/plain": [
       "(773, 5)"
      ]
     },
     "execution_count": 200,
     "metadata": {},
     "output_type": "execute_result"
    }
   ],
   "source": [
    "# subsample for testing\n",
    "samp = mv4[::1000]\n",
    "samp.shape"
   ]
  },
  {
   "cell_type": "code",
   "execution_count": 201,
   "metadata": {},
   "outputs": [
    {
     "data": {
      "text/plain": [
       "bor            month  year\n",
       "BRONX          1      2013    1486\n",
       "                      2014    1635\n",
       "                      2015    1704\n",
       "                      2016    1878\n",
       "                      2017    1680\n",
       "               2      2013    1542\n",
       "                      2014    1688\n",
       "                      2015    1435\n",
       "                      2016    1644\n",
       "                      2017    1601\n",
       "               3      2013    1746\n",
       "                      2014    1562\n",
       "                      2015    1825\n",
       "                      2016    1838\n",
       "                      2017    1888\n",
       "               4      2013    1602\n",
       "                      2014    1530\n",
       "                      2015    1623\n",
       "                      2016    1965\n",
       "                      2017    1737\n",
       "               5      2013    1808\n",
       "                      2014    1686\n",
       "                      2015    1839\n",
       "                      2016    2010\n",
       "                      2017    2012\n",
       "               6      2013    1748\n",
       "                      2014    1748\n",
       "                      2015    1834\n",
       "                      2016    1751\n",
       "                      2017    2014\n",
       "                              ... \n",
       "STATEN ISLAND  7      2013     513\n",
       "                      2014     527\n",
       "                      2015     523\n",
       "                      2016     568\n",
       "                      2017     531\n",
       "               8      2013     529\n",
       "                      2014     505\n",
       "                      2015     508\n",
       "                      2016     518\n",
       "                      2017     483\n",
       "               9      2013     551\n",
       "                      2014     555\n",
       "                      2015     514\n",
       "                      2016     533\n",
       "                      2017     476\n",
       "               10     2013     609\n",
       "                      2014     606\n",
       "                      2015     562\n",
       "                      2016     581\n",
       "                      2017     513\n",
       "               11     2013     607\n",
       "                      2014     514\n",
       "                      2015     556\n",
       "                      2016     534\n",
       "                      2017     512\n",
       "               12     2013     626\n",
       "                      2014     479\n",
       "                      2015     577\n",
       "                      2016     575\n",
       "                      2017     580\n",
       "Name: id, dtype: int64"
      ]
     },
     "execution_count": 201,
     "metadata": {},
     "output_type": "execute_result"
    }
   ],
   "source": [
    "# get total accidents by borough by month over the last 5 years \n",
    "bor_my_grp = mv4.groupby(['bor', 'month', 'year'])['id'].count()\n",
    "bor_my_grp"
   ]
  },
  {
   "cell_type": "code",
   "execution_count": 208,
   "metadata": {},
   "outputs": [],
   "source": [
    "# separate by borough\n",
    "bx = mv4[mv4['bor'] == 'BRONX']\n",
    "mn = mv4[mv4['bor'] == 'MANHATTAN']\n",
    "bk = mv4[mv4['bor'] == 'BROOKLYN']\n",
    "si = mv4[mv4['bor'] == 'STATEN ISLAND']\n",
    "qu = mv4[mv4['bor'] == 'QUEENS']"
   ]
  },
  {
   "cell_type": "code",
   "execution_count": 203,
   "metadata": {},
   "outputs": [
    {
     "data": {
      "text/html": [
       "<div>\n",
       "<table border=\"1\" class=\"dataframe\">\n",
       "  <thead>\n",
       "    <tr style=\"text-align: right;\">\n",
       "      <th></th>\n",
       "      <th>bor</th>\n",
       "      <th>id</th>\n",
       "      <th>date</th>\n",
       "      <th>month</th>\n",
       "      <th>year</th>\n",
       "    </tr>\n",
       "  </thead>\n",
       "  <tbody>\n",
       "    <tr>\n",
       "      <th>183819</th>\n",
       "      <td>BRONX</td>\n",
       "      <td>3820806</td>\n",
       "      <td>2017-12-31</td>\n",
       "      <td>12</td>\n",
       "      <td>2017</td>\n",
       "    </tr>\n",
       "    <tr>\n",
       "      <th>185382</th>\n",
       "      <td>STATEN ISLAND</td>\n",
       "      <td>3818816</td>\n",
       "      <td>2017-12-29</td>\n",
       "      <td>12</td>\n",
       "      <td>2017</td>\n",
       "    </tr>\n",
       "    <tr>\n",
       "      <th>186934</th>\n",
       "      <td>BROOKLYN</td>\n",
       "      <td>3816887</td>\n",
       "      <td>2017-12-26</td>\n",
       "      <td>12</td>\n",
       "      <td>2017</td>\n",
       "    </tr>\n",
       "    <tr>\n",
       "      <th>188502</th>\n",
       "      <td>QUEENS</td>\n",
       "      <td>3814849</td>\n",
       "      <td>2017-12-23</td>\n",
       "      <td>12</td>\n",
       "      <td>2017</td>\n",
       "    </tr>\n",
       "    <tr>\n",
       "      <th>190079</th>\n",
       "      <td>QUEENS</td>\n",
       "      <td>3813371</td>\n",
       "      <td>2017-12-20</td>\n",
       "      <td>12</td>\n",
       "      <td>2017</td>\n",
       "    </tr>\n",
       "  </tbody>\n",
       "</table>\n",
       "</div>"
      ],
      "text/plain": [
       "                  bor       id       date  month  year\n",
       "183819          BRONX  3820806 2017-12-31     12  2017\n",
       "185382  STATEN ISLAND  3818816 2017-12-29     12  2017\n",
       "186934       BROOKLYN  3816887 2017-12-26     12  2017\n",
       "188502         QUEENS  3814849 2017-12-23     12  2017\n",
       "190079         QUEENS  3813371 2017-12-20     12  2017"
      ]
     },
     "execution_count": 203,
     "metadata": {},
     "output_type": "execute_result"
    }
   ],
   "source": [
    "samp.head()"
   ]
  },
  {
   "cell_type": "code",
   "execution_count": 209,
   "metadata": {},
   "outputs": [
    {
     "data": {
      "text/plain": [
       "date\n",
       "1     11\n",
       "2     11\n",
       "3     10\n",
       "4     14\n",
       "5     14\n",
       "6      5\n",
       "7      8\n",
       "8      9\n",
       "9     13\n",
       "10     2\n",
       "11    10\n",
       "12     9\n",
       "Name: date, dtype: int64"
      ]
     },
     "execution_count": 209,
     "metadata": {},
     "output_type": "execute_result"
    }
   ],
   "source": [
    "counts_bx = samp.date[samp.bor=='BRONX'].groupby([samp.date.dt.month]).count()\n",
    "counts_bx"
   ]
  },
  {
   "cell_type": "code",
   "execution_count": 205,
   "metadata": {},
   "outputs": [
    {
     "data": {
      "text/plain": [
       "<pandas.core.groupby.SeriesGroupBy object at 0x7efe5047e748>"
      ]
     },
     "execution_count": 205,
     "metadata": {},
     "output_type": "execute_result"
    }
   ],
   "source": [
    "samp.date[samp.bor=='BRONX'].groupby([samp.date.dt.month])"
   ]
  },
  {
   "cell_type": "code",
   "execution_count": 210,
   "metadata": {},
   "outputs": [],
   "source": [
    "# get the counts of accidents by each borough and each month \n",
    "counts_bx = mv4.date[mv4.bor=='BRONX'].groupby([mv4.date.dt.month]).count()\n",
    "counts_bk = mv4.date[mv4.bor=='BROOKLYN'].groupby([mv4.date.dt.month]).count()\n",
    "counts_mn = mv4.date[mv4.bor=='MANHATTAN'].groupby([mv4.date.dt.month]).count()\n",
    "counts_si = mv4.date[mv4.bor=='STATEN ISLAND'].groupby([mv4.date.dt.month]).count()\n",
    "counts_qu = mv4.date[mv4.bor=='QUEENS'].groupby([mv4.date.dt.month]).count()"
   ]
  },
  {
   "cell_type": "code",
   "execution_count": 217,
   "metadata": {
    "scrolled": true
   },
   "outputs": [
    {
     "data": {
      "image/png": "[encoded data removed]",
      "text/plain": [
       "<matplotlib.figure.Figure at 0x7efe3e4156a0>"
      ]
     },
     "metadata": {},
     "output_type": "display_data"
    }
   ],
   "source": [
    "# plot num accidents in each borough by month \n",
    "fig = plt.figure(figsize=(15,10))\n",
    "plt.plot(np.sort(mv4.date.dt.month.unique()), (counts_bk / 4), 'go', label='Brooklyn', markersize=10)\n",
    "plt.plot(np.sort(mv4.date.dt.month.unique()), (counts_qu / 4), 'co', label='Queens', markersize=10)\n",
    "plt.plot(np.sort(mv4.date.dt.month.unique()), (counts_mn / 4), 'ko', label='Manhattan', markersize=10)\n",
    "plt.plot(np.sort(mv4.date.dt.month.unique()), (counts_bx / 4), 'mo', label='Bronx', markersize=10)\n",
    "plt.plot(np.sort(mv4.date.dt.month.unique()), (counts_si / 4), 'bo', label='Staten Island', markersize=10)\n",
    "plt.legend(loc='center left', bbox_to_anchor=(1, 0.5))\n",
    "xposition = np.sort(mv4.date.dt.month.unique())\n",
    "plt.xticks(np.sort(mv4.date.dt.month.unique()), ('Jan','Feb','Mar','Apr','May','June','July','Aug','Sep','Oct','Nov','Dec'))\n",
    "for xc in xposition:\n",
    "    plt.axvline(x=xc, color='lightgray', linestyle='--')\n",
    "plt.title (\"Average Number of NYC Motor Vehicle Accidents by Month (2014 - 2017)\", fontsize=20)\n",
    "plt.ylabel (\"Number of Accidents\", fontsize=15)\n",
    "plt.xlabel (\"Month\", fontsize=15)\n",
    "plt.show()"
   ]
  },
  {
   "cell_type": "markdown",
   "metadata": {},
   "source": [
    "Figure 1: The plot above shows average number of motor vehicle accidents by month and borough in NYC for 2014 - 2017. We see that Brooklyn has the highest average number of accidents in every month and Staten Island has the lowest average number of accidents in every month. Average number of accidents is relatively similar throughout the entire year in the Bronx and Staten Island. There is more variability in the number of accidents per month throughout the year in Brooklyn, Queens, and Manhattan. In Brooklyn, Queens, and Manhattan, the highest average number of accidents is in May. "
   ]
  },
  {
   "cell_type": "code",
   "execution_count": null,
   "metadata": {},
   "outputs": [],
   "source": []
  }
 ],
 "metadata": {
  "kernelspec": {
   "display_name": "PUI2016_Python3",
   "language": "python",
   "name": "pui2016_python3"
  },
  "language_info": {
   "codemirror_mode": {
    "name": "ipython",
    "version": 3
   },
   "file_extension": ".py",
   "mimetype": "text/x-python",
   "name": "python",
   "nbconvert_exporter": "python",
   "pygments_lexer": "ipython3",
   "version": "3.5.4"
  }
 },
 "nbformat": 4,
 "nbformat_minor": 2
}
