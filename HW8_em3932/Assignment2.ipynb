{
 "cells": [
  {
   "cell_type": "code",
   "execution_count": null,
   "metadata": {},
   "outputs": [],
   "source": [
    "# Setting up the work for data-driven inference based on CitiBike data\n",
    "# developed by Eve Marenghi for PUI in 2018"
   ]
  },
  {
   "cell_type": "code",
   "execution_count": 1,
   "metadata": {},
   "outputs": [
    {
     "name": "stdout",
     "output_type": "stream",
     "text": [
      "Must set env variable PUI2018\n"
     ]
    }
   ],
   "source": [
    "# Import the necessary packages\n",
    "from __future__  import print_function, division\n",
    "import matplotlib.pyplot as plt\n",
    "import pandas as pd\n",
    "import numpy as np\n",
    "import os\n",
    "import datetime as dt\n",
    "\n",
    "%matplotlib inline\n",
    "\n",
    "if os.getenv ('PUI2018') is None:\n",
    "    print (\"Must set env variable PUI2018\")\n",
    "if os.getenv ('PUIDATA') is None:\n",
    "    print (\"Must set env variable PUI2018\")"
   ]
  },
  {
   "cell_type": "markdown",
   "metadata": {},
   "source": [
    "## IDEA: \n",
    "## People in their 30s are less likely than people in their 20s to use CitiBike for commuting\n",
    "\n",
    "## NULL HYPOTHESIS: \n",
    "## The proportion of people in their 20s biking on weekends is _the same or higher_ than the proportion of people in their 30s biking on weekends \n",
    "\n",
    "# $H_0$ : $\\frac{30s_{\\mathrm{weekend}}}{30s_{\\mathrm{total}}} <= \\frac{20s_{\\mathrm{weekend}}}{20s_{\\mathrm{total}}}$\n",
    "# $H_1$ : $\\frac{30s_{\\mathrm{weekend}}}{30s_{\\mathrm{total}}} > \\frac{20s_{\\mathrm{weekend}}}{20s_{\\mathrm{total}}}$\n",
    "\n",
    "or identically:\n",
    "\n",
    "# $H_0$ : $\\frac{30s_{\\mathrm{weekend}}}{30s_{\\mathrm{total}}} - \\frac{20s_{\\mathrm{weekend}}}{20s_{\\mathrm{total}}} <= 0 $\n",
    "# $H_1$ : $\\frac{30s_{\\mathrm{weekend}}}{30s_{\\mathrm{total}}} - \\frac{20s_{\\mathrm{weekend}}}{20s_{\\mathrm{total}}} > 0$\n",
    "\n",
    "## I will use a significance level $\\alpha=0.05$\n",
    "\n",
    "### This means that I want the probability of getting a result to be at least as significant as mine to be less than 5%. "
   ]
  },
  {
   "cell_type": "markdown",
   "metadata": {},
   "source": [
    "## I am starting by reading data from CitiBike csv file from June 2015 "
   ]
  },
  {
   "cell_type": "code",
   "execution_count": null,
   "metadata": {},
   "outputs": [],
   "source": [
    "!curl https://s3.amazonaws.com/tripdata/201506-citibike-tripdata.zip?accessType=DOWNLOAD > 201506-citibike-tripdata.zip"
   ]
  },
  {
   "cell_type": "code",
   "execution_count": 43,
   "metadata": {},
   "outputs": [
    {
     "name": "stdout",
     "output_type": "stream",
     "text": [
      "PUIdata /nfshome/em3932/PUIdata\n"
     ]
    }
   ],
   "source": [
    "# Make sure an environmental variable for PUIdata exists\n",
    "print(\"PUIdata\", os.getenv(\"PUIDATA\"))"
   ]
  },
  {
   "cell_type": "code",
   "execution_count": 38,
   "metadata": {},
   "outputs": [],
   "source": [
    "!mv 201506-citibike-tripdata.zip $PUIDATA"
   ]
  },
  {
   "cell_type": "code",
   "execution_count": 28,
   "metadata": {},
   "outputs": [
    {
     "data": {
      "text/html": [
       "<div>\n",
       "<table border=\"1\" class=\"dataframe\">\n",
       "  <thead>\n",
       "    <tr style=\"text-align: right;\">\n",
       "      <th></th>\n",
       "      <th>tripduration</th>\n",
       "      <th>starttime</th>\n",
       "      <th>stoptime</th>\n",
       "      <th>start station id</th>\n",
       "      <th>start station name</th>\n",
       "      <th>start station latitude</th>\n",
       "      <th>start station longitude</th>\n",
       "      <th>end station id</th>\n",
       "      <th>end station name</th>\n",
       "      <th>end station latitude</th>\n",
       "      <th>end station longitude</th>\n",
       "      <th>bikeid</th>\n",
       "      <th>usertype</th>\n",
       "      <th>birth year</th>\n",
       "      <th>gender</th>\n",
       "      <th>date</th>\n",
       "    </tr>\n",
       "  </thead>\n",
       "  <tbody>\n",
       "    <tr>\n",
       "      <th>0</th>\n",
       "      <td>1338</td>\n",
       "      <td>6/1/2015 0:00</td>\n",
       "      <td>6/1/2015 0:22</td>\n",
       "      <td>128</td>\n",
       "      <td>MacDougal St &amp; Prince St</td>\n",
       "      <td>40.727103</td>\n",
       "      <td>-74.002971</td>\n",
       "      <td>2021</td>\n",
       "      <td>W 45 St &amp; 8 Ave</td>\n",
       "      <td>40.759291</td>\n",
       "      <td>-73.988597</td>\n",
       "      <td>20721</td>\n",
       "      <td>Subscriber</td>\n",
       "      <td>1984.0</td>\n",
       "      <td>1</td>\n",
       "      <td>2015-06-01 00:00:00</td>\n",
       "    </tr>\n",
       "    <tr>\n",
       "      <th>1</th>\n",
       "      <td>290</td>\n",
       "      <td>6/1/2015 0:00</td>\n",
       "      <td>6/1/2015 0:05</td>\n",
       "      <td>438</td>\n",
       "      <td>St Marks Pl &amp; 1 Ave</td>\n",
       "      <td>40.727791</td>\n",
       "      <td>-73.985649</td>\n",
       "      <td>312</td>\n",
       "      <td>Allen St &amp; E Houston St</td>\n",
       "      <td>40.722055</td>\n",
       "      <td>-73.989111</td>\n",
       "      <td>21606</td>\n",
       "      <td>Subscriber</td>\n",
       "      <td>1997.0</td>\n",
       "      <td>1</td>\n",
       "      <td>2015-06-01 00:00:00</td>\n",
       "    </tr>\n",
       "    <tr>\n",
       "      <th>2</th>\n",
       "      <td>634</td>\n",
       "      <td>6/1/2015 0:01</td>\n",
       "      <td>6/1/2015 0:11</td>\n",
       "      <td>383</td>\n",
       "      <td>Greenwich Ave &amp; Charles St</td>\n",
       "      <td>40.735238</td>\n",
       "      <td>-74.000271</td>\n",
       "      <td>388</td>\n",
       "      <td>W 26 St &amp; 10 Ave</td>\n",
       "      <td>40.749718</td>\n",
       "      <td>-74.002950</td>\n",
       "      <td>16595</td>\n",
       "      <td>Subscriber</td>\n",
       "      <td>1993.0</td>\n",
       "      <td>1</td>\n",
       "      <td>2015-06-01 00:01:00</td>\n",
       "    </tr>\n",
       "    <tr>\n",
       "      <th>3</th>\n",
       "      <td>159</td>\n",
       "      <td>6/1/2015 0:01</td>\n",
       "      <td>6/1/2015 0:04</td>\n",
       "      <td>361</td>\n",
       "      <td>Allen St &amp; Hester St</td>\n",
       "      <td>40.716059</td>\n",
       "      <td>-73.991908</td>\n",
       "      <td>531</td>\n",
       "      <td>Forsyth St &amp; Broome St</td>\n",
       "      <td>40.718939</td>\n",
       "      <td>-73.992663</td>\n",
       "      <td>16949</td>\n",
       "      <td>Subscriber</td>\n",
       "      <td>1981.0</td>\n",
       "      <td>1</td>\n",
       "      <td>2015-06-01 00:01:00</td>\n",
       "    </tr>\n",
       "    <tr>\n",
       "      <th>4</th>\n",
       "      <td>1233</td>\n",
       "      <td>6/1/2015 0:02</td>\n",
       "      <td>6/1/2015 0:22</td>\n",
       "      <td>382</td>\n",
       "      <td>University Pl &amp; E 14 St</td>\n",
       "      <td>40.734927</td>\n",
       "      <td>-73.992005</td>\n",
       "      <td>532</td>\n",
       "      <td>S 5 Pl &amp; S 4 St</td>\n",
       "      <td>40.710451</td>\n",
       "      <td>-73.960876</td>\n",
       "      <td>17028</td>\n",
       "      <td>Customer</td>\n",
       "      <td>NaN</td>\n",
       "      <td>0</td>\n",
       "      <td>2015-06-01 00:02:00</td>\n",
       "    </tr>\n",
       "  </tbody>\n",
       "</table>\n",
       "</div>"
      ],
      "text/plain": [
       "   tripduration      starttime       stoptime  start station id  \\\n",
       "0          1338  6/1/2015 0:00  6/1/2015 0:22               128   \n",
       "1           290  6/1/2015 0:00  6/1/2015 0:05               438   \n",
       "2           634  6/1/2015 0:01  6/1/2015 0:11               383   \n",
       "3           159  6/1/2015 0:01  6/1/2015 0:04               361   \n",
       "4          1233  6/1/2015 0:02  6/1/2015 0:22               382   \n",
       "\n",
       "           start station name  start station latitude  \\\n",
       "0    MacDougal St & Prince St               40.727103   \n",
       "1         St Marks Pl & 1 Ave               40.727791   \n",
       "2  Greenwich Ave & Charles St               40.735238   \n",
       "3        Allen St & Hester St               40.716059   \n",
       "4     University Pl & E 14 St               40.734927   \n",
       "\n",
       "   start station longitude  end station id         end station name  \\\n",
       "0               -74.002971            2021          W 45 St & 8 Ave   \n",
       "1               -73.985649             312  Allen St & E Houston St   \n",
       "2               -74.000271             388         W 26 St & 10 Ave   \n",
       "3               -73.991908             531   Forsyth St & Broome St   \n",
       "4               -73.992005             532          S 5 Pl & S 4 St   \n",
       "\n",
       "   end station latitude  end station longitude  bikeid    usertype  \\\n",
       "0             40.759291             -73.988597   20721  Subscriber   \n",
       "1             40.722055             -73.989111   21606  Subscriber   \n",
       "2             40.749718             -74.002950   16595  Subscriber   \n",
       "3             40.718939             -73.992663   16949  Subscriber   \n",
       "4             40.710451             -73.960876   17028    Customer   \n",
       "\n",
       "   birth year  gender                date  \n",
       "0      1984.0       1 2015-06-01 00:00:00  \n",
       "1      1997.0       1 2015-06-01 00:00:00  \n",
       "2      1993.0       1 2015-06-01 00:01:00  \n",
       "3      1981.0       1 2015-06-01 00:01:00  \n",
       "4         NaN       0 2015-06-01 00:02:00  "
      ]
     },
     "execution_count": 28,
     "metadata": {},
     "output_type": "execute_result"
    }
   ],
   "source": [
    "# Read the CitiBike data into a pandas dataframe (June 2015)\n",
    "cb_df = pd.read_csv(os.getenv(\"PUIDATA\") + '/201506-citibike-tripdata.zip')\n",
    "\n",
    "# Convert starttime to a datetime object \n",
    "cb_df['date'] = cb_df['starttime'].apply(lambda x: dt.datetime.strptime(x, '%m/%d/%Y %H:%M'))\n",
    "\n",
    "# Look at the top of the June dataframe\n",
    "cb_df.head()"
   ]
  },
  {
   "cell_type": "code",
   "execution_count": 24,
   "metadata": {},
   "outputs": [
    {
     "data": {
      "text/html": [
       "<div>\n",
       "<table border=\"1\" class=\"dataframe\">\n",
       "  <thead>\n",
       "    <tr style=\"text-align: right;\">\n",
       "      <th></th>\n",
       "      <th>tripduration</th>\n",
       "      <th>starttime</th>\n",
       "      <th>stoptime</th>\n",
       "      <th>start station id</th>\n",
       "      <th>start station name</th>\n",
       "      <th>start station latitude</th>\n",
       "      <th>start station longitude</th>\n",
       "      <th>end station id</th>\n",
       "      <th>end station name</th>\n",
       "      <th>end station latitude</th>\n",
       "      <th>end station longitude</th>\n",
       "      <th>bikeid</th>\n",
       "      <th>usertype</th>\n",
       "      <th>birth year</th>\n",
       "      <th>gender</th>\n",
       "      <th>date</th>\n",
       "    </tr>\n",
       "  </thead>\n",
       "  <tbody>\n",
       "    <tr>\n",
       "      <th>0</th>\n",
       "      <td>475</td>\n",
       "      <td>12/1/2015 07:35:36</td>\n",
       "      <td>12/1/2015 07:43:32</td>\n",
       "      <td>72</td>\n",
       "      <td>W 52 St &amp; 11 Ave</td>\n",
       "      <td>40.767272</td>\n",
       "      <td>-73.993929</td>\n",
       "      <td>173</td>\n",
       "      <td>Broadway &amp; W 49 St</td>\n",
       "      <td>40.760647</td>\n",
       "      <td>-73.984427</td>\n",
       "      <td>22780</td>\n",
       "      <td>Subscriber</td>\n",
       "      <td>1983.0</td>\n",
       "      <td>1</td>\n",
       "      <td>2015-12-01 07:35:36</td>\n",
       "    </tr>\n",
       "    <tr>\n",
       "      <th>1</th>\n",
       "      <td>684</td>\n",
       "      <td>12/1/2015 07:38:15</td>\n",
       "      <td>12/1/2015 07:49:39</td>\n",
       "      <td>72</td>\n",
       "      <td>W 52 St &amp; 11 Ave</td>\n",
       "      <td>40.767272</td>\n",
       "      <td>-73.993929</td>\n",
       "      <td>520</td>\n",
       "      <td>W 52 St &amp; 5 Ave</td>\n",
       "      <td>40.759923</td>\n",
       "      <td>-73.976485</td>\n",
       "      <td>17787</td>\n",
       "      <td>Subscriber</td>\n",
       "      <td>1975.0</td>\n",
       "      <td>1</td>\n",
       "      <td>2015-12-01 07:38:15</td>\n",
       "    </tr>\n",
       "    <tr>\n",
       "      <th>2</th>\n",
       "      <td>1063</td>\n",
       "      <td>12/1/2015 07:44:49</td>\n",
       "      <td>12/1/2015 08:02:33</td>\n",
       "      <td>72</td>\n",
       "      <td>W 52 St &amp; 11 Ave</td>\n",
       "      <td>40.767272</td>\n",
       "      <td>-73.993929</td>\n",
       "      <td>358</td>\n",
       "      <td>Christopher St &amp; Greenwich St</td>\n",
       "      <td>40.732916</td>\n",
       "      <td>-74.007114</td>\n",
       "      <td>18797</td>\n",
       "      <td>Subscriber</td>\n",
       "      <td>1966.0</td>\n",
       "      <td>1</td>\n",
       "      <td>2015-12-01 07:44:49</td>\n",
       "    </tr>\n",
       "    <tr>\n",
       "      <th>3</th>\n",
       "      <td>1075</td>\n",
       "      <td>12/1/2015 08:02:29</td>\n",
       "      <td>12/1/2015 08:20:24</td>\n",
       "      <td>72</td>\n",
       "      <td>W 52 St &amp; 11 Ave</td>\n",
       "      <td>40.767272</td>\n",
       "      <td>-73.993929</td>\n",
       "      <td>505</td>\n",
       "      <td>6 Ave &amp; W 33 St</td>\n",
       "      <td>40.749013</td>\n",
       "      <td>-73.988484</td>\n",
       "      <td>14625</td>\n",
       "      <td>Subscriber</td>\n",
       "      <td>1985.0</td>\n",
       "      <td>1</td>\n",
       "      <td>2015-12-01 08:02:29</td>\n",
       "    </tr>\n",
       "    <tr>\n",
       "      <th>4</th>\n",
       "      <td>293</td>\n",
       "      <td>12/1/2015 08:06:37</td>\n",
       "      <td>12/1/2015 08:11:30</td>\n",
       "      <td>72</td>\n",
       "      <td>W 52 St &amp; 11 Ave</td>\n",
       "      <td>40.767272</td>\n",
       "      <td>-73.993929</td>\n",
       "      <td>525</td>\n",
       "      <td>W 34 St &amp; 11 Ave</td>\n",
       "      <td>40.755942</td>\n",
       "      <td>-74.002116</td>\n",
       "      <td>21238</td>\n",
       "      <td>Subscriber</td>\n",
       "      <td>1968.0</td>\n",
       "      <td>1</td>\n",
       "      <td>2015-12-01 08:06:37</td>\n",
       "    </tr>\n",
       "  </tbody>\n",
       "</table>\n",
       "</div>"
      ],
      "text/plain": [
       "   tripduration           starttime            stoptime  start station id  \\\n",
       "0           475  12/1/2015 07:35:36  12/1/2015 07:43:32                72   \n",
       "1           684  12/1/2015 07:38:15  12/1/2015 07:49:39                72   \n",
       "2          1063  12/1/2015 07:44:49  12/1/2015 08:02:33                72   \n",
       "3          1075  12/1/2015 08:02:29  12/1/2015 08:20:24                72   \n",
       "4           293  12/1/2015 08:06:37  12/1/2015 08:11:30                72   \n",
       "\n",
       "  start station name  start station latitude  start station longitude  \\\n",
       "0   W 52 St & 11 Ave               40.767272               -73.993929   \n",
       "1   W 52 St & 11 Ave               40.767272               -73.993929   \n",
       "2   W 52 St & 11 Ave               40.767272               -73.993929   \n",
       "3   W 52 St & 11 Ave               40.767272               -73.993929   \n",
       "4   W 52 St & 11 Ave               40.767272               -73.993929   \n",
       "\n",
       "   end station id               end station name  end station latitude  \\\n",
       "0             173             Broadway & W 49 St             40.760647   \n",
       "1             520                W 52 St & 5 Ave             40.759923   \n",
       "2             358  Christopher St & Greenwich St             40.732916   \n",
       "3             505                6 Ave & W 33 St             40.749013   \n",
       "4             525               W 34 St & 11 Ave             40.755942   \n",
       "\n",
       "   end station longitude  bikeid    usertype  birth year  gender  \\\n",
       "0             -73.984427   22780  Subscriber      1983.0       1   \n",
       "1             -73.976485   17787  Subscriber      1975.0       1   \n",
       "2             -74.007114   18797  Subscriber      1966.0       1   \n",
       "3             -73.988484   14625  Subscriber      1985.0       1   \n",
       "4             -74.002116   21238  Subscriber      1968.0       1   \n",
       "\n",
       "                 date  \n",
       "0 2015-12-01 07:35:36  \n",
       "1 2015-12-01 07:38:15  \n",
       "2 2015-12-01 07:44:49  \n",
       "3 2015-12-01 08:02:29  \n",
       "4 2015-12-01 08:06:37  "
      ]
     },
     "execution_count": 24,
     "metadata": {},
     "output_type": "execute_result"
    }
   ],
   "source": [
    "# Read the CitiBike data into a pandas dataframe (Dec 2015)\n",
    "# added a cold month to correct for seasonality \n",
    "cb_df2 = pd.read_csv(os.getenv(\"PUIDATA\") + '/201512-citibike-tripdata.csv')\n",
    "\n",
    "# Convert starttime to a datetime object \n",
    "cb_df2['date'] = cb_df2['starttime'].apply(lambda x: dt.datetime.strptime(x, '%m/%d/%Y %H:%M:%S'))\n",
    "\n",
    "# Look at the top of the Dec dataframe\n",
    "cb_df2.head()"
   ]
  },
  {
   "cell_type": "code",
   "execution_count": 32,
   "metadata": {},
   "outputs": [
    {
     "data": {
      "text/html": [
       "<div>\n",
       "<table border=\"1\" class=\"dataframe\">\n",
       "  <thead>\n",
       "    <tr style=\"text-align: right;\">\n",
       "      <th></th>\n",
       "      <th>tripduration</th>\n",
       "      <th>starttime</th>\n",
       "      <th>stoptime</th>\n",
       "      <th>start station id</th>\n",
       "      <th>start station name</th>\n",
       "      <th>start station latitude</th>\n",
       "      <th>start station longitude</th>\n",
       "      <th>end station id</th>\n",
       "      <th>end station name</th>\n",
       "      <th>end station latitude</th>\n",
       "      <th>end station longitude</th>\n",
       "      <th>bikeid</th>\n",
       "      <th>usertype</th>\n",
       "      <th>birth year</th>\n",
       "      <th>gender</th>\n",
       "      <th>date</th>\n",
       "    </tr>\n",
       "  </thead>\n",
       "  <tbody>\n",
       "    <tr>\n",
       "      <th>0</th>\n",
       "      <td>1338</td>\n",
       "      <td>6/1/2015 0:00</td>\n",
       "      <td>6/1/2015 0:22</td>\n",
       "      <td>128</td>\n",
       "      <td>MacDougal St &amp; Prince St</td>\n",
       "      <td>40.727103</td>\n",
       "      <td>-74.002971</td>\n",
       "      <td>2021</td>\n",
       "      <td>W 45 St &amp; 8 Ave</td>\n",
       "      <td>40.759291</td>\n",
       "      <td>-73.988597</td>\n",
       "      <td>20721</td>\n",
       "      <td>Subscriber</td>\n",
       "      <td>1984.0</td>\n",
       "      <td>1</td>\n",
       "      <td>2015-06-01 00:00:00</td>\n",
       "    </tr>\n",
       "    <tr>\n",
       "      <th>1</th>\n",
       "      <td>290</td>\n",
       "      <td>6/1/2015 0:00</td>\n",
       "      <td>6/1/2015 0:05</td>\n",
       "      <td>438</td>\n",
       "      <td>St Marks Pl &amp; 1 Ave</td>\n",
       "      <td>40.727791</td>\n",
       "      <td>-73.985649</td>\n",
       "      <td>312</td>\n",
       "      <td>Allen St &amp; E Houston St</td>\n",
       "      <td>40.722055</td>\n",
       "      <td>-73.989111</td>\n",
       "      <td>21606</td>\n",
       "      <td>Subscriber</td>\n",
       "      <td>1997.0</td>\n",
       "      <td>1</td>\n",
       "      <td>2015-06-01 00:00:00</td>\n",
       "    </tr>\n",
       "    <tr>\n",
       "      <th>2</th>\n",
       "      <td>634</td>\n",
       "      <td>6/1/2015 0:01</td>\n",
       "      <td>6/1/2015 0:11</td>\n",
       "      <td>383</td>\n",
       "      <td>Greenwich Ave &amp; Charles St</td>\n",
       "      <td>40.735238</td>\n",
       "      <td>-74.000271</td>\n",
       "      <td>388</td>\n",
       "      <td>W 26 St &amp; 10 Ave</td>\n",
       "      <td>40.749718</td>\n",
       "      <td>-74.002950</td>\n",
       "      <td>16595</td>\n",
       "      <td>Subscriber</td>\n",
       "      <td>1993.0</td>\n",
       "      <td>1</td>\n",
       "      <td>2015-06-01 00:01:00</td>\n",
       "    </tr>\n",
       "    <tr>\n",
       "      <th>3</th>\n",
       "      <td>159</td>\n",
       "      <td>6/1/2015 0:01</td>\n",
       "      <td>6/1/2015 0:04</td>\n",
       "      <td>361</td>\n",
       "      <td>Allen St &amp; Hester St</td>\n",
       "      <td>40.716059</td>\n",
       "      <td>-73.991908</td>\n",
       "      <td>531</td>\n",
       "      <td>Forsyth St &amp; Broome St</td>\n",
       "      <td>40.718939</td>\n",
       "      <td>-73.992663</td>\n",
       "      <td>16949</td>\n",
       "      <td>Subscriber</td>\n",
       "      <td>1981.0</td>\n",
       "      <td>1</td>\n",
       "      <td>2015-06-01 00:01:00</td>\n",
       "    </tr>\n",
       "    <tr>\n",
       "      <th>4</th>\n",
       "      <td>1233</td>\n",
       "      <td>6/1/2015 0:02</td>\n",
       "      <td>6/1/2015 0:22</td>\n",
       "      <td>382</td>\n",
       "      <td>University Pl &amp; E 14 St</td>\n",
       "      <td>40.734927</td>\n",
       "      <td>-73.992005</td>\n",
       "      <td>532</td>\n",
       "      <td>S 5 Pl &amp; S 4 St</td>\n",
       "      <td>40.710451</td>\n",
       "      <td>-73.960876</td>\n",
       "      <td>17028</td>\n",
       "      <td>Customer</td>\n",
       "      <td>NaN</td>\n",
       "      <td>0</td>\n",
       "      <td>2015-06-01 00:02:00</td>\n",
       "    </tr>\n",
       "  </tbody>\n",
       "</table>\n",
       "</div>"
      ],
      "text/plain": [
       "   tripduration      starttime       stoptime  start station id  \\\n",
       "0          1338  6/1/2015 0:00  6/1/2015 0:22               128   \n",
       "1           290  6/1/2015 0:00  6/1/2015 0:05               438   \n",
       "2           634  6/1/2015 0:01  6/1/2015 0:11               383   \n",
       "3           159  6/1/2015 0:01  6/1/2015 0:04               361   \n",
       "4          1233  6/1/2015 0:02  6/1/2015 0:22               382   \n",
       "\n",
       "           start station name  start station latitude  \\\n",
       "0    MacDougal St & Prince St               40.727103   \n",
       "1         St Marks Pl & 1 Ave               40.727791   \n",
       "2  Greenwich Ave & Charles St               40.735238   \n",
       "3        Allen St & Hester St               40.716059   \n",
       "4     University Pl & E 14 St               40.734927   \n",
       "\n",
       "   start station longitude  end station id         end station name  \\\n",
       "0               -74.002971            2021          W 45 St & 8 Ave   \n",
       "1               -73.985649             312  Allen St & E Houston St   \n",
       "2               -74.000271             388         W 26 St & 10 Ave   \n",
       "3               -73.991908             531   Forsyth St & Broome St   \n",
       "4               -73.992005             532          S 5 Pl & S 4 St   \n",
       "\n",
       "   end station latitude  end station longitude  bikeid    usertype  \\\n",
       "0             40.759291             -73.988597   20721  Subscriber   \n",
       "1             40.722055             -73.989111   21606  Subscriber   \n",
       "2             40.749718             -74.002950   16595  Subscriber   \n",
       "3             40.718939             -73.992663   16949  Subscriber   \n",
       "4             40.710451             -73.960876   17028    Customer   \n",
       "\n",
       "   birth year  gender                date  \n",
       "0      1984.0       1 2015-06-01 00:00:00  \n",
       "1      1997.0       1 2015-06-01 00:00:00  \n",
       "2      1993.0       1 2015-06-01 00:01:00  \n",
       "3      1981.0       1 2015-06-01 00:01:00  \n",
       "4         NaN       0 2015-06-01 00:02:00  "
      ]
     },
     "execution_count": 32,
     "metadata": {},
     "output_type": "execute_result"
    }
   ],
   "source": [
    "cb_df = pd.concat([cb_df, cb_df2])\n",
    "cb_df.head()"
   ]
  },
  {
   "cell_type": "code",
   "execution_count": 33,
   "metadata": {},
   "outputs": [
    {
     "data": {
      "text/plain": [
       "tripduration                    0\n",
       "starttime                       0\n",
       "stoptime                        0\n",
       "start station id                0\n",
       "start station name              0\n",
       "start station latitude          0\n",
       "start station longitude         0\n",
       "end station id                  0\n",
       "end station name                0\n",
       "end station latitude            0\n",
       "end station longitude           0\n",
       "bikeid                          0\n",
       "usertype                        0\n",
       "birth year                 198269\n",
       "gender                          0\n",
       "date                            0\n",
       "dtype: int64"
      ]
     },
     "execution_count": 33,
     "metadata": {},
     "output_type": "execute_result"
    }
   ],
   "source": [
    "# count nulls\n",
    "cb_df.isnull().sum()"
   ]
  },
  {
   "cell_type": "code",
   "execution_count": 34,
   "metadata": {},
   "outputs": [
    {
     "data": {
      "text/plain": [
       "Index(['tripduration', 'starttime', 'stoptime', 'start station id',\n",
       "       'start station name', 'start station latitude',\n",
       "       'start station longitude', 'end station id', 'end station name',\n",
       "       'end station latitude', 'end station longitude', 'bikeid', 'usertype',\n",
       "       'birth year', 'gender', 'date'],\n",
       "      dtype='object')"
      ]
     },
     "execution_count": 34,
     "metadata": {},
     "output_type": "execute_result"
    }
   ],
   "source": [
    "# Get the column names\n",
    "cb_df.columns"
   ]
  },
  {
   "cell_type": "code",
   "execution_count": 35,
   "metadata": {},
   "outputs": [],
   "source": [
    "# Drop the columns we don't need\n",
    "cb_df.drop(['tripduration', 'starttime','stoptime', 'start station id',\n",
    "       'start station name', 'start station latitude',\n",
    "       'start station longitude', 'end station id', 'end station name',\n",
    "       'end station latitude', 'end station longitude', 'bikeid', 'usertype', 'gender'], axis=1, inplace=True)"
   ]
  },
  {
   "cell_type": "code",
   "execution_count": 36,
   "metadata": {},
   "outputs": [
    {
     "data": {
      "text/html": [
       "<div>\n",
       "<table border=\"1\" class=\"dataframe\">\n",
       "  <thead>\n",
       "    <tr style=\"text-align: right;\">\n",
       "      <th></th>\n",
       "      <th>birth year</th>\n",
       "      <th>date</th>\n",
       "    </tr>\n",
       "  </thead>\n",
       "  <tbody>\n",
       "    <tr>\n",
       "      <th>0</th>\n",
       "      <td>1984.0</td>\n",
       "      <td>2015-06-01 00:00:00</td>\n",
       "    </tr>\n",
       "    <tr>\n",
       "      <th>1</th>\n",
       "      <td>1997.0</td>\n",
       "      <td>2015-06-01 00:00:00</td>\n",
       "    </tr>\n",
       "    <tr>\n",
       "      <th>2</th>\n",
       "      <td>1993.0</td>\n",
       "      <td>2015-06-01 00:01:00</td>\n",
       "    </tr>\n",
       "    <tr>\n",
       "      <th>3</th>\n",
       "      <td>1981.0</td>\n",
       "      <td>2015-06-01 00:01:00</td>\n",
       "    </tr>\n",
       "    <tr>\n",
       "      <th>4</th>\n",
       "      <td>NaN</td>\n",
       "      <td>2015-06-01 00:02:00</td>\n",
       "    </tr>\n",
       "  </tbody>\n",
       "</table>\n",
       "</div>"
      ],
      "text/plain": [
       "   birth year                date\n",
       "0      1984.0 2015-06-01 00:00:00\n",
       "1      1997.0 2015-06-01 00:00:00\n",
       "2      1993.0 2015-06-01 00:01:00\n",
       "3      1981.0 2015-06-01 00:01:00\n",
       "4         NaN 2015-06-01 00:02:00"
      ]
     },
     "execution_count": 36,
     "metadata": {},
     "output_type": "execute_result"
    }
   ],
   "source": [
    "# Look at the top of the reduced dataframe\n",
    "cb_df.head()"
   ]
  },
  {
   "cell_type": "code",
   "execution_count": 37,
   "metadata": {},
   "outputs": [
    {
     "data": {
      "text/html": [
       "<div>\n",
       "<table border=\"1\" class=\"dataframe\">\n",
       "  <thead>\n",
       "    <tr style=\"text-align: right;\">\n",
       "      <th></th>\n",
       "      <th>birth year</th>\n",
       "      <th>date</th>\n",
       "    </tr>\n",
       "  </thead>\n",
       "  <tbody>\n",
       "    <tr>\n",
       "      <th>804120</th>\n",
       "      <td>1957.0</td>\n",
       "      <td>2015-12-31 16:50:17</td>\n",
       "    </tr>\n",
       "    <tr>\n",
       "      <th>804121</th>\n",
       "      <td>1978.0</td>\n",
       "      <td>2015-12-31 17:17:52</td>\n",
       "    </tr>\n",
       "    <tr>\n",
       "      <th>804122</th>\n",
       "      <td>1959.0</td>\n",
       "      <td>2015-12-31 17:56:22</td>\n",
       "    </tr>\n",
       "    <tr>\n",
       "      <th>804123</th>\n",
       "      <td>1987.0</td>\n",
       "      <td>2015-12-31 21:20:38</td>\n",
       "    </tr>\n",
       "    <tr>\n",
       "      <th>804124</th>\n",
       "      <td>1968.0</td>\n",
       "      <td>2015-12-31 21:49:19</td>\n",
       "    </tr>\n",
       "  </tbody>\n",
       "</table>\n",
       "</div>"
      ],
      "text/plain": [
       "        birth year                date\n",
       "804120      1957.0 2015-12-31 16:50:17\n",
       "804121      1978.0 2015-12-31 17:17:52\n",
       "804122      1959.0 2015-12-31 17:56:22\n",
       "804123      1987.0 2015-12-31 21:20:38\n",
       "804124      1968.0 2015-12-31 21:49:19"
      ]
     },
     "execution_count": 37,
     "metadata": {},
     "output_type": "execute_result"
    }
   ],
   "source": [
    "# Look at the bottom of the reduced dataframe\n",
    "cb_df.tail()"
   ]
  },
  {
   "cell_type": "code",
   "execution_count": 38,
   "metadata": {},
   "outputs": [
    {
     "data": {
      "text/plain": [
       "1745344"
      ]
     },
     "execution_count": 38,
     "metadata": {},
     "output_type": "execute_result"
    }
   ],
   "source": [
    "# Find out how many rows are in the table\n",
    "len(cb_df)"
   ]
  },
  {
   "cell_type": "code",
   "execution_count": 39,
   "metadata": {},
   "outputs": [
    {
     "data": {
      "text/plain": [
       "1547075"
      ]
     },
     "execution_count": 39,
     "metadata": {},
     "output_type": "execute_result"
    }
   ],
   "source": [
    "# Remove NaN rows\n",
    "cb_df = cb_df.dropna()\n",
    "\n",
    "# Get the num rows again\n",
    "len(cb_df)"
   ]
  },
  {
   "cell_type": "code",
   "execution_count": 40,
   "metadata": {},
   "outputs": [],
   "source": [
    "# Only keep ride for people in their 20s and 30s\n",
    "cb_df = cb_df.drop(cb_df[(cb_df['birth year'] < 1979)].index)\n",
    "cb_df = cb_df.drop(cb_df[(cb_df['birth year'] > 1998)].index)"
   ]
  },
  {
   "cell_type": "code",
   "execution_count": 41,
   "metadata": {},
   "outputs": [
    {
     "name": "stdout",
     "output_type": "stream",
     "text": [
      "1979.0\n",
      "1998.0\n"
     ]
    }
   ],
   "source": [
    "# Find min and max birth years \n",
    "print(min(cb_df['birth year']))\n",
    "print(max(cb_df['birth year']))"
   ]
  },
  {
   "cell_type": "code",
   "execution_count": 42,
   "metadata": {},
   "outputs": [],
   "source": [
    "cb_df_30s = cb_df['date'][cb_df['birth year'] < 1989]\n",
    "cb_df_20s = cb_df['date'][cb_df['birth year'] > 1988]"
   ]
  },
  {
   "cell_type": "code",
   "execution_count": 43,
   "metadata": {},
   "outputs": [
    {
     "data": {
      "text/plain": [
       "332354"
      ]
     },
     "execution_count": 43,
     "metadata": {},
     "output_type": "execute_result"
    }
   ],
   "source": [
    "len(cb_df_30s)"
   ]
  },
  {
   "cell_type": "code",
   "execution_count": 44,
   "metadata": {},
   "outputs": [
    {
     "data": {
      "text/plain": [
       "126434"
      ]
     },
     "execution_count": 44,
     "metadata": {},
     "output_type": "execute_result"
    }
   ],
   "source": [
    "len(cb_df_20s)\n",
    "# There are nearly 3x as many riders in their 30s as in their 20s"
   ]
  },
  {
   "cell_type": "code",
   "execution_count": 45,
   "metadata": {},
   "outputs": [
    {
     "data": {
      "text/plain": [
       "pandas.core.series.Series"
      ]
     },
     "execution_count": 45,
     "metadata": {},
     "output_type": "execute_result"
    }
   ],
   "source": [
    "type(cb_df['birth year'])"
   ]
  },
  {
   "cell_type": "code",
   "execution_count": 46,
   "metadata": {},
   "outputs": [],
   "source": [
    "# Add a 'decades' column to identify people in their 20s vs. 30s using mapping\n",
    "birth_year_to_decade = {\n",
    "  1979.0: '30s',\n",
    "  1980.0: '30s',\n",
    "  1981.0: '30s',\n",
    "  1982.0: '30s',\n",
    "  1983.0: '30s',\n",
    "  1984.0: '30s',\n",
    "  1985.0: '30s',\n",
    "  1986.0: '30s',\n",
    "  1987.0: '30s',\n",
    "  1988.0: '30s',\n",
    "    1989.0: '20s',\n",
    "    1990.0: '20s',\n",
    "    1991.0: '20s',\n",
    "    1992.0: '20s',\n",
    "    1993.0: '20s',\n",
    "    1994.0: '20s',\n",
    "    1995.0: '20s',\n",
    "    1996.0: '20s',\n",
    "    1997.0: '20s',\n",
    "    1998.0: '20s',\n",
    "}\n"
   ]
  },
  {
   "cell_type": "code",
   "execution_count": 47,
   "metadata": {},
   "outputs": [
    {
     "data": {
      "text/html": [
       "<div>\n",
       "<table border=\"1\" class=\"dataframe\">\n",
       "  <thead>\n",
       "    <tr style=\"text-align: right;\">\n",
       "      <th></th>\n",
       "      <th>birth year</th>\n",
       "      <th>date</th>\n",
       "      <th>decade</th>\n",
       "    </tr>\n",
       "  </thead>\n",
       "  <tbody>\n",
       "    <tr>\n",
       "      <th>0</th>\n",
       "      <td>1984.0</td>\n",
       "      <td>2015-06-01 00:00:00</td>\n",
       "      <td>30s</td>\n",
       "    </tr>\n",
       "    <tr>\n",
       "      <th>3</th>\n",
       "      <td>1981.0</td>\n",
       "      <td>2015-06-01 00:01:00</td>\n",
       "      <td>30s</td>\n",
       "    </tr>\n",
       "    <tr>\n",
       "      <th>12</th>\n",
       "      <td>1985.0</td>\n",
       "      <td>2015-06-01 00:10:00</td>\n",
       "      <td>30s</td>\n",
       "    </tr>\n",
       "    <tr>\n",
       "      <th>13</th>\n",
       "      <td>1989.0</td>\n",
       "      <td>2015-06-01 00:11:00</td>\n",
       "      <td>20s</td>\n",
       "    </tr>\n",
       "    <tr>\n",
       "      <th>14</th>\n",
       "      <td>1983.0</td>\n",
       "      <td>2015-06-01 00:13:00</td>\n",
       "      <td>30s</td>\n",
       "    </tr>\n",
       "    <tr>\n",
       "      <th>16</th>\n",
       "      <td>1985.0</td>\n",
       "      <td>2015-06-01 00:13:00</td>\n",
       "      <td>30s</td>\n",
       "    </tr>\n",
       "    <tr>\n",
       "      <th>19</th>\n",
       "      <td>1984.0</td>\n",
       "      <td>2015-06-01 00:14:00</td>\n",
       "      <td>30s</td>\n",
       "    </tr>\n",
       "    <tr>\n",
       "      <th>21</th>\n",
       "      <td>1993.0</td>\n",
       "      <td>2015-06-01 00:15:00</td>\n",
       "      <td>20s</td>\n",
       "    </tr>\n",
       "    <tr>\n",
       "      <th>22</th>\n",
       "      <td>1990.0</td>\n",
       "      <td>2015-06-01 00:16:00</td>\n",
       "      <td>20s</td>\n",
       "    </tr>\n",
       "    <tr>\n",
       "      <th>24</th>\n",
       "      <td>1986.0</td>\n",
       "      <td>2015-06-01 00:22:00</td>\n",
       "      <td>30s</td>\n",
       "    </tr>\n",
       "    <tr>\n",
       "      <th>27</th>\n",
       "      <td>1983.0</td>\n",
       "      <td>2015-06-01 00:24:00</td>\n",
       "      <td>30s</td>\n",
       "    </tr>\n",
       "    <tr>\n",
       "      <th>41</th>\n",
       "      <td>1989.0</td>\n",
       "      <td>2015-06-01 00:31:00</td>\n",
       "      <td>20s</td>\n",
       "    </tr>\n",
       "    <tr>\n",
       "      <th>44</th>\n",
       "      <td>1986.0</td>\n",
       "      <td>2015-06-01 00:33:00</td>\n",
       "      <td>30s</td>\n",
       "    </tr>\n",
       "    <tr>\n",
       "      <th>48</th>\n",
       "      <td>1993.0</td>\n",
       "      <td>2015-06-01 00:35:00</td>\n",
       "      <td>20s</td>\n",
       "    </tr>\n",
       "    <tr>\n",
       "      <th>49</th>\n",
       "      <td>1992.0</td>\n",
       "      <td>2015-06-01 00:36:00</td>\n",
       "      <td>20s</td>\n",
       "    </tr>\n",
       "    <tr>\n",
       "      <th>52</th>\n",
       "      <td>1986.0</td>\n",
       "      <td>2015-06-01 00:37:00</td>\n",
       "      <td>30s</td>\n",
       "    </tr>\n",
       "    <tr>\n",
       "      <th>58</th>\n",
       "      <td>1985.0</td>\n",
       "      <td>2015-06-01 00:42:00</td>\n",
       "      <td>30s</td>\n",
       "    </tr>\n",
       "    <tr>\n",
       "      <th>60</th>\n",
       "      <td>1985.0</td>\n",
       "      <td>2015-06-01 00:45:00</td>\n",
       "      <td>30s</td>\n",
       "    </tr>\n",
       "    <tr>\n",
       "      <th>67</th>\n",
       "      <td>1986.0</td>\n",
       "      <td>2015-06-01 00:50:00</td>\n",
       "      <td>30s</td>\n",
       "    </tr>\n",
       "    <tr>\n",
       "      <th>70</th>\n",
       "      <td>1979.0</td>\n",
       "      <td>2015-06-01 00:51:00</td>\n",
       "      <td>30s</td>\n",
       "    </tr>\n",
       "    <tr>\n",
       "      <th>73</th>\n",
       "      <td>1984.0</td>\n",
       "      <td>2015-06-01 00:54:00</td>\n",
       "      <td>30s</td>\n",
       "    </tr>\n",
       "    <tr>\n",
       "      <th>76</th>\n",
       "      <td>1983.0</td>\n",
       "      <td>2015-06-01 00:55:00</td>\n",
       "      <td>30s</td>\n",
       "    </tr>\n",
       "    <tr>\n",
       "      <th>85</th>\n",
       "      <td>1987.0</td>\n",
       "      <td>2015-06-01 01:04:00</td>\n",
       "      <td>30s</td>\n",
       "    </tr>\n",
       "    <tr>\n",
       "      <th>87</th>\n",
       "      <td>1988.0</td>\n",
       "      <td>2015-06-01 01:05:00</td>\n",
       "      <td>30s</td>\n",
       "    </tr>\n",
       "    <tr>\n",
       "      <th>88</th>\n",
       "      <td>1995.0</td>\n",
       "      <td>2015-06-01 01:07:00</td>\n",
       "      <td>20s</td>\n",
       "    </tr>\n",
       "    <tr>\n",
       "      <th>98</th>\n",
       "      <td>1984.0</td>\n",
       "      <td>2015-06-01 01:13:00</td>\n",
       "      <td>30s</td>\n",
       "    </tr>\n",
       "    <tr>\n",
       "      <th>101</th>\n",
       "      <td>1995.0</td>\n",
       "      <td>2015-06-01 01:14:00</td>\n",
       "      <td>20s</td>\n",
       "    </tr>\n",
       "    <tr>\n",
       "      <th>105</th>\n",
       "      <td>1993.0</td>\n",
       "      <td>2015-06-01 01:23:00</td>\n",
       "      <td>20s</td>\n",
       "    </tr>\n",
       "    <tr>\n",
       "      <th>118</th>\n",
       "      <td>1984.0</td>\n",
       "      <td>2015-06-01 01:36:00</td>\n",
       "      <td>30s</td>\n",
       "    </tr>\n",
       "    <tr>\n",
       "      <th>120</th>\n",
       "      <td>1986.0</td>\n",
       "      <td>2015-06-01 01:40:00</td>\n",
       "      <td>30s</td>\n",
       "    </tr>\n",
       "    <tr>\n",
       "      <th>...</th>\n",
       "      <td>...</td>\n",
       "      <td>...</td>\n",
       "      <td>...</td>\n",
       "    </tr>\n",
       "    <tr>\n",
       "      <th>804032</th>\n",
       "      <td>1982.0</td>\n",
       "      <td>2015-12-27 10:06:42</td>\n",
       "      <td>30s</td>\n",
       "    </tr>\n",
       "    <tr>\n",
       "      <th>804033</th>\n",
       "      <td>1984.0</td>\n",
       "      <td>2015-12-27 11:18:48</td>\n",
       "      <td>30s</td>\n",
       "    </tr>\n",
       "    <tr>\n",
       "      <th>804034</th>\n",
       "      <td>1989.0</td>\n",
       "      <td>2015-12-27 15:57:38</td>\n",
       "      <td>20s</td>\n",
       "    </tr>\n",
       "    <tr>\n",
       "      <th>804038</th>\n",
       "      <td>1985.0</td>\n",
       "      <td>2015-12-27 21:55:27</td>\n",
       "      <td>30s</td>\n",
       "    </tr>\n",
       "    <tr>\n",
       "      <th>804042</th>\n",
       "      <td>1980.0</td>\n",
       "      <td>2015-12-28 09:05:24</td>\n",
       "      <td>30s</td>\n",
       "    </tr>\n",
       "    <tr>\n",
       "      <th>804043</th>\n",
       "      <td>1984.0</td>\n",
       "      <td>2015-12-28 09:26:07</td>\n",
       "      <td>30s</td>\n",
       "    </tr>\n",
       "    <tr>\n",
       "      <th>804045</th>\n",
       "      <td>1981.0</td>\n",
       "      <td>2015-12-28 13:49:08</td>\n",
       "      <td>30s</td>\n",
       "    </tr>\n",
       "    <tr>\n",
       "      <th>804046</th>\n",
       "      <td>1985.0</td>\n",
       "      <td>2015-12-28 16:20:13</td>\n",
       "      <td>30s</td>\n",
       "    </tr>\n",
       "    <tr>\n",
       "      <th>804048</th>\n",
       "      <td>1982.0</td>\n",
       "      <td>2015-12-28 21:51:59</td>\n",
       "      <td>30s</td>\n",
       "    </tr>\n",
       "    <tr>\n",
       "      <th>804052</th>\n",
       "      <td>1985.0</td>\n",
       "      <td>2015-12-29 09:40:18</td>\n",
       "      <td>30s</td>\n",
       "    </tr>\n",
       "    <tr>\n",
       "      <th>804055</th>\n",
       "      <td>1982.0</td>\n",
       "      <td>2015-12-29 13:36:08</td>\n",
       "      <td>30s</td>\n",
       "    </tr>\n",
       "    <tr>\n",
       "      <th>804057</th>\n",
       "      <td>1989.0</td>\n",
       "      <td>2015-12-29 15:12:31</td>\n",
       "      <td>20s</td>\n",
       "    </tr>\n",
       "    <tr>\n",
       "      <th>804058</th>\n",
       "      <td>1982.0</td>\n",
       "      <td>2015-12-29 21:50:23</td>\n",
       "      <td>30s</td>\n",
       "    </tr>\n",
       "    <tr>\n",
       "      <th>804061</th>\n",
       "      <td>1987.0</td>\n",
       "      <td>2015-12-30 07:24:38</td>\n",
       "      <td>30s</td>\n",
       "    </tr>\n",
       "    <tr>\n",
       "      <th>804065</th>\n",
       "      <td>1980.0</td>\n",
       "      <td>2015-12-30 09:18:27</td>\n",
       "      <td>30s</td>\n",
       "    </tr>\n",
       "    <tr>\n",
       "      <th>804068</th>\n",
       "      <td>1987.0</td>\n",
       "      <td>2015-12-30 10:44:39</td>\n",
       "      <td>30s</td>\n",
       "    </tr>\n",
       "    <tr>\n",
       "      <th>804074</th>\n",
       "      <td>1988.0</td>\n",
       "      <td>2015-12-30 17:30:22</td>\n",
       "      <td>30s</td>\n",
       "    </tr>\n",
       "    <tr>\n",
       "      <th>804075</th>\n",
       "      <td>1985.0</td>\n",
       "      <td>2015-12-30 18:05:38</td>\n",
       "      <td>30s</td>\n",
       "    </tr>\n",
       "    <tr>\n",
       "      <th>804076</th>\n",
       "      <td>1982.0</td>\n",
       "      <td>2015-12-30 19:03:08</td>\n",
       "      <td>30s</td>\n",
       "    </tr>\n",
       "    <tr>\n",
       "      <th>804080</th>\n",
       "      <td>1982.0</td>\n",
       "      <td>2015-12-31 07:53:52</td>\n",
       "      <td>30s</td>\n",
       "    </tr>\n",
       "    <tr>\n",
       "      <th>804082</th>\n",
       "      <td>1984.0</td>\n",
       "      <td>2015-12-31 09:37:20</td>\n",
       "      <td>30s</td>\n",
       "    </tr>\n",
       "    <tr>\n",
       "      <th>804083</th>\n",
       "      <td>1985.0</td>\n",
       "      <td>2015-12-31 10:05:03</td>\n",
       "      <td>30s</td>\n",
       "    </tr>\n",
       "    <tr>\n",
       "      <th>804088</th>\n",
       "      <td>1990.0</td>\n",
       "      <td>2015-12-31 15:02:58</td>\n",
       "      <td>20s</td>\n",
       "    </tr>\n",
       "    <tr>\n",
       "      <th>804094</th>\n",
       "      <td>1982.0</td>\n",
       "      <td>2015-12-31 18:48:19</td>\n",
       "      <td>30s</td>\n",
       "    </tr>\n",
       "    <tr>\n",
       "      <th>804101</th>\n",
       "      <td>1986.0</td>\n",
       "      <td>2015-12-28 20:08:29</td>\n",
       "      <td>30s</td>\n",
       "    </tr>\n",
       "    <tr>\n",
       "      <th>804104</th>\n",
       "      <td>1979.0</td>\n",
       "      <td>2015-12-30 09:05:03</td>\n",
       "      <td>30s</td>\n",
       "    </tr>\n",
       "    <tr>\n",
       "      <th>804105</th>\n",
       "      <td>1986.0</td>\n",
       "      <td>2015-12-30 12:30:16</td>\n",
       "      <td>30s</td>\n",
       "    </tr>\n",
       "    <tr>\n",
       "      <th>804106</th>\n",
       "      <td>1982.0</td>\n",
       "      <td>2015-12-30 21:10:34</td>\n",
       "      <td>30s</td>\n",
       "    </tr>\n",
       "    <tr>\n",
       "      <th>804107</th>\n",
       "      <td>1988.0</td>\n",
       "      <td>2015-12-31 08:09:56</td>\n",
       "      <td>30s</td>\n",
       "    </tr>\n",
       "    <tr>\n",
       "      <th>804116</th>\n",
       "      <td>1982.0</td>\n",
       "      <td>2015-12-31 13:44:49</td>\n",
       "      <td>30s</td>\n",
       "    </tr>\n",
       "  </tbody>\n",
       "</table>\n",
       "<p>458788 rows × 3 columns</p>\n",
       "</div>"
      ],
      "text/plain": [
       "        birth year                date decade\n",
       "0           1984.0 2015-06-01 00:00:00    30s\n",
       "3           1981.0 2015-06-01 00:01:00    30s\n",
       "12          1985.0 2015-06-01 00:10:00    30s\n",
       "13          1989.0 2015-06-01 00:11:00    20s\n",
       "14          1983.0 2015-06-01 00:13:00    30s\n",
       "16          1985.0 2015-06-01 00:13:00    30s\n",
       "19          1984.0 2015-06-01 00:14:00    30s\n",
       "21          1993.0 2015-06-01 00:15:00    20s\n",
       "22          1990.0 2015-06-01 00:16:00    20s\n",
       "24          1986.0 2015-06-01 00:22:00    30s\n",
       "27          1983.0 2015-06-01 00:24:00    30s\n",
       "41          1989.0 2015-06-01 00:31:00    20s\n",
       "44          1986.0 2015-06-01 00:33:00    30s\n",
       "48          1993.0 2015-06-01 00:35:00    20s\n",
       "49          1992.0 2015-06-01 00:36:00    20s\n",
       "52          1986.0 2015-06-01 00:37:00    30s\n",
       "58          1985.0 2015-06-01 00:42:00    30s\n",
       "60          1985.0 2015-06-01 00:45:00    30s\n",
       "67          1986.0 2015-06-01 00:50:00    30s\n",
       "70          1979.0 2015-06-01 00:51:00    30s\n",
       "73          1984.0 2015-06-01 00:54:00    30s\n",
       "76          1983.0 2015-06-01 00:55:00    30s\n",
       "85          1987.0 2015-06-01 01:04:00    30s\n",
       "87          1988.0 2015-06-01 01:05:00    30s\n",
       "88          1995.0 2015-06-01 01:07:00    20s\n",
       "98          1984.0 2015-06-01 01:13:00    30s\n",
       "101         1995.0 2015-06-01 01:14:00    20s\n",
       "105         1993.0 2015-06-01 01:23:00    20s\n",
       "118         1984.0 2015-06-01 01:36:00    30s\n",
       "120         1986.0 2015-06-01 01:40:00    30s\n",
       "...            ...                 ...    ...\n",
       "804032      1982.0 2015-12-27 10:06:42    30s\n",
       "804033      1984.0 2015-12-27 11:18:48    30s\n",
       "804034      1989.0 2015-12-27 15:57:38    20s\n",
       "804038      1985.0 2015-12-27 21:55:27    30s\n",
       "804042      1980.0 2015-12-28 09:05:24    30s\n",
       "804043      1984.0 2015-12-28 09:26:07    30s\n",
       "804045      1981.0 2015-12-28 13:49:08    30s\n",
       "804046      1985.0 2015-12-28 16:20:13    30s\n",
       "804048      1982.0 2015-12-28 21:51:59    30s\n",
       "804052      1985.0 2015-12-29 09:40:18    30s\n",
       "804055      1982.0 2015-12-29 13:36:08    30s\n",
       "804057      1989.0 2015-12-29 15:12:31    20s\n",
       "804058      1982.0 2015-12-29 21:50:23    30s\n",
       "804061      1987.0 2015-12-30 07:24:38    30s\n",
       "804065      1980.0 2015-12-30 09:18:27    30s\n",
       "804068      1987.0 2015-12-30 10:44:39    30s\n",
       "804074      1988.0 2015-12-30 17:30:22    30s\n",
       "804075      1985.0 2015-12-30 18:05:38    30s\n",
       "804076      1982.0 2015-12-30 19:03:08    30s\n",
       "804080      1982.0 2015-12-31 07:53:52    30s\n",
       "804082      1984.0 2015-12-31 09:37:20    30s\n",
       "804083      1985.0 2015-12-31 10:05:03    30s\n",
       "804088      1990.0 2015-12-31 15:02:58    20s\n",
       "804094      1982.0 2015-12-31 18:48:19    30s\n",
       "804101      1986.0 2015-12-28 20:08:29    30s\n",
       "804104      1979.0 2015-12-30 09:05:03    30s\n",
       "804105      1986.0 2015-12-30 12:30:16    30s\n",
       "804106      1982.0 2015-12-30 21:10:34    30s\n",
       "804107      1988.0 2015-12-31 08:09:56    30s\n",
       "804116      1982.0 2015-12-31 13:44:49    30s\n",
       "\n",
       "[458788 rows x 3 columns]"
      ]
     },
     "execution_count": 47,
     "metadata": {},
     "output_type": "execute_result"
    }
   ],
   "source": [
    "# Add a 'decades' column to identify people in their 20s vs. 30s using mapping\n",
    "cb_df['decade'] = cb_df['birth year'].map(birth_year_to_decade)\n",
    "cb_df"
   ]
  },
  {
   "cell_type": "markdown",
   "metadata": {},
   "source": [
    "## Separate people in their 20s and 30s to test the hypothesis"
   ]
  },
  {
   "cell_type": "markdown",
   "metadata": {},
   "source": [
    "## Plot the number of trips per day of week"
   ]
  },
  {
   "cell_type": "code",
   "execution_count": 60,
   "metadata": {},
   "outputs": [
    {
     "data": {
      "text/html": [
       "<div>\n",
       "<table border=\"1\" class=\"dataframe\">\n",
       "  <thead>\n",
       "    <tr style=\"text-align: right;\">\n",
       "      <th></th>\n",
       "      <th>birth year</th>\n",
       "      <th>date</th>\n",
       "      <th>decade</th>\n",
       "    </tr>\n",
       "  </thead>\n",
       "  <tbody>\n",
       "    <tr>\n",
       "      <th>0</th>\n",
       "      <td>1984.0</td>\n",
       "      <td>2015-06-01 00:00:00</td>\n",
       "      <td>30s</td>\n",
       "    </tr>\n",
       "    <tr>\n",
       "      <th>1</th>\n",
       "      <td>1981.0</td>\n",
       "      <td>2015-06-01 00:01:00</td>\n",
       "      <td>30s</td>\n",
       "    </tr>\n",
       "    <tr>\n",
       "      <th>2</th>\n",
       "      <td>1985.0</td>\n",
       "      <td>2015-06-01 00:10:00</td>\n",
       "      <td>30s</td>\n",
       "    </tr>\n",
       "    <tr>\n",
       "      <th>3</th>\n",
       "      <td>1989.0</td>\n",
       "      <td>2015-06-01 00:11:00</td>\n",
       "      <td>20s</td>\n",
       "    </tr>\n",
       "    <tr>\n",
       "      <th>4</th>\n",
       "      <td>1983.0</td>\n",
       "      <td>2015-06-01 00:13:00</td>\n",
       "      <td>30s</td>\n",
       "    </tr>\n",
       "  </tbody>\n",
       "</table>\n",
       "</div>"
      ],
      "text/plain": [
       "   birth year                date decade\n",
       "0      1984.0 2015-06-01 00:00:00    30s\n",
       "1      1981.0 2015-06-01 00:01:00    30s\n",
       "2      1985.0 2015-06-01 00:10:00    30s\n",
       "3      1989.0 2015-06-01 00:11:00    20s\n",
       "4      1983.0 2015-06-01 00:13:00    30s"
      ]
     },
     "execution_count": 60,
     "metadata": {},
     "output_type": "execute_result"
    }
   ],
   "source": [
    "# reset index \n",
    "cb_df = cb_df.reset_index()\n",
    "cb_df = cb_df_temp[['birth year', 'date', 'decade']]\n",
    "cb_df.head()"
   ]
  },
  {
   "cell_type": "code",
   "execution_count": 171,
   "metadata": {},
   "outputs": [
    {
     "ename": "SyntaxError",
     "evalue": "invalid syntax (<ipython-input-171-e0bff538d75c>, line 27)",
     "output_type": "error",
     "traceback": [
      "\u001b[0;36m  File \u001b[0;32m\"<ipython-input-171-e0bff538d75c>\"\u001b[0;36m, line \u001b[0;32m27\u001b[0m\n\u001b[0;31m    tmp = ax.xaxis.set_ticklabels(['Mon', 'Tue', 'Wed', 'Thu', 'Fri', 'Sat', 'Sun'], fontsize=20)\u001b[0m\n\u001b[0m      ^\u001b[0m\n\u001b[0;31mSyntaxError\u001b[0m\u001b[0;31m:\u001b[0m invalid syntax\n"
     ]
    }
   ],
   "source": [
    "\n",
    "fig = pl.figure(figsize(15,15))\n",
    "\n",
    "\n",
    "ax = (cb_df['date'][cb_df['birth year'] < 1989].groupby([cb_df['date'].dt.weekday]).count()).plot(kind=\"bar\",\n",
    "                                                                                          color='skyblue', \n",
    "                                                                                         label='30s')\n",
    "# (df['date'][(df['tripduration'] > 600) & (df['tripduration'] <= 900)].groupby([df['date'].dt.weekday]).count()).plot(kind=\"bar\", \n",
    "                                                                                              \n",
    "#                                                                                               color='IndianRed',\n",
    "                                                                                        \n",
    "#                                                                                               label='10-15minsTrip')\n",
    "\n",
    "# (df['date'][(df['tripduration'] > 900) & (df['tripduration'] <= 1800)].groupby([df['date'].dt.weekday]).count()).plot(kind=\"bar\", \n",
    "                                                                                              \n",
    "#                                                                                               color='Turquoise',\n",
    "                                                                                              \n",
    "#                                                                                               label='15-30minsTrip')\n",
    "\n",
    "ax =(cb_df['date'][cb_df['birth year'] > 1988].groupby([cb_df['date'].dt.weekday]).plot(kind=\"bar\",\n",
    "                                                                                          color='Orchid', \n",
    "                                                                                        alpha=0.5, \n",
    "                                                                                         label='20s')\n",
    "\n",
    "\n",
    "\n",
    "tmp = ax.xaxis.set_ticklabels(['Mon', 'Tue', 'Wed', 'Thu', 'Fri', 'Sat', 'Sun'], fontsize=20)\n",
    "ax.set_title (\"Number of CitiBike Rides vs. Day of Week for June and December 2015\", fontsize=20)\n",
    "ax.set_ylabel (\"Number of Rides\", fontsize=20)\n",
    "ax.set_xlabel (\"Day of Week\", fontsize=20)\n",
    "plt.legend()"
   ]
  },
  {
   "cell_type": "code",
   "execution_count": null,
   "metadata": {},
   "outputs": [],
   "source": [
    "# Plot the number of trips per week day\n",
    "fig = plt.figure(figsize = (15,10))\n",
    "\n",
    "# Use the plot method in pandas\n",
    "norm_w = 1\n",
    "((cb_df['date'][cb_df['birth year'] < 1989].groupby([cb_df['date'].dt.weekday]).count()) / norm_w).plot(kind=\"bar\", \n",
    "                                                                                         color='steelblue', \n",
    "                                                                                         label='30s')\n",
    "\n",
    "norm_m = 1\n",
    "ax = ((cb_df['date'][cb_df['birth year'] > 1988].groupby([cb_df['date'].dt.weekday]).count()) / norm_m).plot(kind=\"indianred\", \n",
    "                                                                                              color='black', \n",
    "                                                                                              alpha=0.5,\n",
    "                                                                                              label='20s')\n",
    "\n",
    "tmp = ax.xaxis.set_ticklabels(['Mon', 'Tue', 'Wed', 'Thu', 'Fri', 'Sat', 'Sun'], fontsize=20)\n",
    "ax.set_title (\"Number of CitiBike Rides vs. Day of Week for June and December 2015\", fontsize=20)\n",
    "ax.set_ylabel (\"Number of Rides\", fontsize=20)\n",
    "ax.set_xlabel (\"Day of Week\", fontsize=20)\n",
    "plt.legend()"
   ]
  },
  {
   "cell_type": "markdown",
   "metadata": {},
   "source": [
    "## Figure 1a: Distribution of CitiBike rider ages (20s or 30s) for June and December 2015, absolute counts. We can see from the chart that in total, there are more CitiBike riders in their 30s than in their 20s. We also see that there are lower total rides on Saturdays and Sundays compared to weekdays."
   ]
  },
  {
   "cell_type": "code",
   "execution_count": 137,
   "metadata": {},
   "outputs": [
    {
     "data": {
      "text/plain": [
       "<matplotlib.legend.Legend at 0x7f45015d0ac8>"
      ]
     },
     "execution_count": 137,
     "metadata": {},
     "output_type": "execute_result"
    },
    {
     "data": {
      "image/png": "[encoded data removed]",
      "text/plain": [
       "<matplotlib.figure.Figure at 0x7f4500cd6c88>"
      ]
     },
     "metadata": {},
     "output_type": "display_data"
    }
   ],
   "source": [
    "# Note: the counts have errors of course. what is the error on the count statistics?\n",
    "# for N counts the error is sqrt(N) - this is because counts follow a Poisson statistic\n",
    "\n",
    "fig = plt.figure(figsize = (15,10))\n",
    "\n",
    "counts_w = cb_df.date[cb_df['birth year'] < 1989].groupby([cb_df.date.dt.weekday]).count()\n",
    "norm_w = 1\n",
    "error_w = np.sqrt(counts_w)\n",
    "ax=((counts_w) / norm_w).plot(kind=\"bar\",color='IndianRed',  yerr=[\n",
    "            ((error_w) / norm_w, (error_w) / norm_w)], label='30s')\n",
    "\n",
    "\n",
    "counts_m = cb_df.date[cb_df['birth year'] > 1988].groupby([cb_df.date.dt.weekday]).count()\n",
    "norm_m = 1\n",
    "error_m=np.sqrt(counts_m)\n",
    "((counts_m) / norm_m).plot(kind=\"bar\", alpha=0.5, yerr=[((error_m) / norm_m, (error_m) / norm_m)], \n",
    "                           color='SteelBlue', label='20s')\n",
    "\n",
    "ax.xaxis.set_ticklabels(['Mon','Tue','Wed','Thu','Fri','Sat','Sun'], fontsize=20)\n",
    "ax.set_title (\"Distribution of Citibike Rider Ages for June and December 2015 with Statistical Errors\", fontsize=20)\n",
    "ax.set_ylabel (\"Number of Rides\", fontsize=20)\n",
    "ax.set_xlabel (\"Day of Week\", fontsize=20)\n",
    "plt.legend(['30s','20s'],fontsize=20)"
   ]
  },
  {
   "cell_type": "markdown",
   "metadata": {},
   "source": [
    "## Figure 1b: Distribution of Citibike rider ages (20s or 30s) in June 2015, absolute counts, with statistical errors"
   ]
  },
  {
   "cell_type": "markdown",
   "metadata": {},
   "source": [
    "Note: These are absolute numbers. It is very hard to compare absolute numbers. Ratios (or proportions) are more ameable to comparison, so let's normalize the distribution of man, and that of women, i.e. devide them by the total number of rides for that gender. (Notice that we have to normalize the errorbars too!)"
   ]
  },
  {
   "cell_type": "code",
   "execution_count": 138,
   "metadata": {},
   "outputs": [
    {
     "data": {
      "text/plain": [
       "<matplotlib.legend.Legend at 0x7f4521e2f6d8>"
      ]
     },
     "execution_count": 138,
     "metadata": {},
     "output_type": "execute_result"
    },
    {
     "data": {
      "image/png": "[encoded data removed]",
      "text/plain": [
       "<matplotlib.figure.Figure at 0x7f44ffaf4198>"
      ]
     },
     "metadata": {},
     "output_type": "display_data"
    }
   ],
   "source": [
    "fig = plt.figure(figsize = (15,10))\n",
    "\n",
    "norm_w = counts_w.sum()\n",
    "error_w = np.sqrt(counts_w)\n",
    "((counts_w) / norm_w).plot(kind=\"bar\", color='IndianRed',  \n",
    "                           yerr=[((error_w) / norm_w, (error_w) / norm_w)], \n",
    "                           label='30s')\n",
    "\n",
    "norm_m = counts_m.sum()\n",
    "ax = ((counts_m) / norm_m).plot(kind=\"bar\", alpha=0.5, \n",
    "                                yerr=[((error_m) / norm_m, (error_m) / norm_m)], \n",
    "                                color='SteelBlue', label='20s')\n",
    "\n",
    "ax.xaxis.set_ticklabels(['Mon', 'Tue', 'Wed', 'Thu', 'Fri', 'Sat', 'Sun'], fontsize=20)\n",
    "ax.set_title (\"Distribution of Citibike Rider Ages for June and December 2015, Normalized\", fontsize=20)\n",
    "ax.set_ylabel (\"Fraction of Rides\", fontsize=20)\n",
    "ax.set_xlabel (\"Day of Week\", fontsize=20)\n",
    "\n",
    "plt.legend(['30s','20s'],fontsize=20)"
   ]
  },
  {
   "cell_type": "markdown",
   "metadata": {},
   "source": [
    "## Figure 2: Distribution of CitiBike rider ages (20s or 30s) for June and December 2015, normalized"
   ]
  },
  {
   "cell_type": "markdown",
   "metadata": {},
   "source": [
    "# HW8: Statistical Testing"
   ]
  },
  {
   "cell_type": "markdown",
   "metadata": {},
   "source": [
    "## IDEA: \n",
    "## People in their 30s are less likely than people in their 20s to use CitiBike for commuting\n",
    "\n",
    "## NULL HYPOTHESIS: \n",
    "## The proportion of people in their 20s biking on weekends is _the same or higher_ than the proportion of people in their 30s biking on weekends \n",
    "\n",
    "# $H_0$ : $\\frac{30s_{\\mathrm{weekend}}}{30s_{\\mathrm{total}}} <= \\frac{20s_{\\mathrm{weekend}}}{20s_{\\mathrm{total}}}$\n",
    "# $H_1$ : $\\frac{30s_{\\mathrm{weekend}}}{30s_{\\mathrm{total}}} > \\frac{20s_{\\mathrm{weekend}}}{20s_{\\mathrm{total}}}$\n",
    "\n",
    "or identically:\n",
    "\n",
    "# $H_0$ : $\\frac{30s_{\\mathrm{weekend}}}{30s_{\\mathrm{total}}} - \\frac{20s_{\\mathrm{weekend}}}{20s_{\\mathrm{total}}} <= 0 $\n",
    "# $H_1$ : $\\frac{30s_{\\mathrm{weekend}}}{30s_{\\mathrm{total}}} - \\frac{20s_{\\mathrm{weekend}}}{20s_{\\mathrm{total}}} > 0$\n",
    "\n",
    "## I will use a significance level $\\alpha=0.05$\n",
    "\n",
    "### This means that I want the probability of getting a result to be at least as significant as mine to be less than 5%. "
   ]
  },
  {
   "cell_type": "code",
   "execution_count": 64,
   "metadata": {},
   "outputs": [],
   "source": [
    "#cb_df_trunc = cb_df[::100]"
   ]
  },
  {
   "cell_type": "code",
   "execution_count": 66,
   "metadata": {},
   "outputs": [
    {
     "data": {
      "text/plain": [
       "(4588, 3)"
      ]
     },
     "execution_count": 66,
     "metadata": {},
     "output_type": "execute_result"
    }
   ],
   "source": [
    "#cb_df_trunc.shape"
   ]
  },
  {
   "cell_type": "code",
   "execution_count": 126,
   "metadata": {},
   "outputs": [
    {
     "data": {
      "text/html": [
       "<div>\n",
       "<table border=\"1\" class=\"dataframe\">\n",
       "  <thead>\n",
       "    <tr style=\"text-align: right;\">\n",
       "      <th></th>\n",
       "      <th>birth year</th>\n",
       "      <th>date</th>\n",
       "      <th>decade</th>\n",
       "      <th>dow</th>\n",
       "    </tr>\n",
       "  </thead>\n",
       "  <tbody>\n",
       "    <tr>\n",
       "      <th>0</th>\n",
       "      <td>1984.0</td>\n",
       "      <td>2015-06-01 00:00:00</td>\n",
       "      <td>30s</td>\n",
       "      <td>0</td>\n",
       "    </tr>\n",
       "    <tr>\n",
       "      <th>1</th>\n",
       "      <td>1981.0</td>\n",
       "      <td>2015-06-01 00:01:00</td>\n",
       "      <td>30s</td>\n",
       "      <td>0</td>\n",
       "    </tr>\n",
       "    <tr>\n",
       "      <th>2</th>\n",
       "      <td>1985.0</td>\n",
       "      <td>2015-06-01 00:10:00</td>\n",
       "      <td>30s</td>\n",
       "      <td>0</td>\n",
       "    </tr>\n",
       "    <tr>\n",
       "      <th>3</th>\n",
       "      <td>1989.0</td>\n",
       "      <td>2015-06-01 00:11:00</td>\n",
       "      <td>20s</td>\n",
       "      <td>0</td>\n",
       "    </tr>\n",
       "    <tr>\n",
       "      <th>4</th>\n",
       "      <td>1983.0</td>\n",
       "      <td>2015-06-01 00:13:00</td>\n",
       "      <td>30s</td>\n",
       "      <td>0</td>\n",
       "    </tr>\n",
       "  </tbody>\n",
       "</table>\n",
       "</div>"
      ],
      "text/plain": [
       "   birth year                date decade  dow\n",
       "0      1984.0 2015-06-01 00:00:00    30s    0\n",
       "1      1981.0 2015-06-01 00:01:00    30s    0\n",
       "2      1985.0 2015-06-01 00:10:00    30s    0\n",
       "3      1989.0 2015-06-01 00:11:00    20s    0\n",
       "4      1983.0 2015-06-01 00:13:00    30s    0"
      ]
     },
     "execution_count": 126,
     "metadata": {},
     "output_type": "execute_result"
    }
   ],
   "source": [
    "# add a day of week column \n",
    "cb_df['dow'] = cb_df['date'].dt.weekday\n",
    "cb_df.head()"
   ]
  },
  {
   "cell_type": "code",
   "execution_count": 127,
   "metadata": {},
   "outputs": [
    {
     "data": {
      "text/plain": [
       "array([0, 1, 2, 3, 4, 5, 6])"
      ]
     },
     "execution_count": 127,
     "metadata": {},
     "output_type": "execute_result"
    }
   ],
   "source": [
    "# list unique dow values \n",
    "cb_df.dow.unique()"
   ]
  },
  {
   "cell_type": "code",
   "execution_count": 128,
   "metadata": {},
   "outputs": [
    {
     "data": {
      "text/plain": [
       "<matplotlib.axes._subplots.AxesSubplot at 0x7f450040f438>"
      ]
     },
     "execution_count": 128,
     "metadata": {},
     "output_type": "execute_result"
    },
    {
     "data": {
      "image/png": "[encoded data removed]",
      "text/plain": [
       "<matplotlib.figure.Figure at 0x7f44ffae2d68>"
      ]
     },
     "metadata": {},
     "output_type": "display_data"
    }
   ],
   "source": [
    "# hist of weekend rides \n",
    "cb_df[(cb_df['dow'] == 0) | (cb_df['dow'] == 6)].dow.hist()"
   ]
  },
  {
   "cell_type": "code",
   "execution_count": 129,
   "metadata": {},
   "outputs": [
    {
     "data": {
      "text/html": [
       "<div>\n",
       "<table border=\"1\" class=\"dataframe\">\n",
       "  <thead>\n",
       "    <tr style=\"text-align: right;\">\n",
       "      <th></th>\n",
       "      <th>birth year</th>\n",
       "      <th>date</th>\n",
       "      <th>decade</th>\n",
       "      <th>dow</th>\n",
       "      <th>wkend</th>\n",
       "    </tr>\n",
       "  </thead>\n",
       "  <tbody>\n",
       "    <tr>\n",
       "      <th>0</th>\n",
       "      <td>1984.0</td>\n",
       "      <td>2015-06-01 00:00:00</td>\n",
       "      <td>30s</td>\n",
       "      <td>0</td>\n",
       "      <td>True</td>\n",
       "    </tr>\n",
       "    <tr>\n",
       "      <th>1</th>\n",
       "      <td>1981.0</td>\n",
       "      <td>2015-06-01 00:01:00</td>\n",
       "      <td>30s</td>\n",
       "      <td>0</td>\n",
       "      <td>True</td>\n",
       "    </tr>\n",
       "    <tr>\n",
       "      <th>2</th>\n",
       "      <td>1985.0</td>\n",
       "      <td>2015-06-01 00:10:00</td>\n",
       "      <td>30s</td>\n",
       "      <td>0</td>\n",
       "      <td>True</td>\n",
       "    </tr>\n",
       "    <tr>\n",
       "      <th>3</th>\n",
       "      <td>1989.0</td>\n",
       "      <td>2015-06-01 00:11:00</td>\n",
       "      <td>20s</td>\n",
       "      <td>0</td>\n",
       "      <td>True</td>\n",
       "    </tr>\n",
       "    <tr>\n",
       "      <th>4</th>\n",
       "      <td>1983.0</td>\n",
       "      <td>2015-06-01 00:13:00</td>\n",
       "      <td>30s</td>\n",
       "      <td>0</td>\n",
       "      <td>True</td>\n",
       "    </tr>\n",
       "  </tbody>\n",
       "</table>\n",
       "</div>"
      ],
      "text/plain": [
       "   birth year                date decade  dow wkend\n",
       "0      1984.0 2015-06-01 00:00:00    30s    0  True\n",
       "1      1981.0 2015-06-01 00:01:00    30s    0  True\n",
       "2      1985.0 2015-06-01 00:10:00    30s    0  True\n",
       "3      1989.0 2015-06-01 00:11:00    20s    0  True\n",
       "4      1983.0 2015-06-01 00:13:00    30s    0  True"
      ]
     },
     "execution_count": 129,
     "metadata": {},
     "output_type": "execute_result"
    }
   ],
   "source": [
    "cb_df['wkend'] = (cb_df['dow'] == 0) | (cb_df['dow'] == 6)\n",
    "cb_df.head()"
   ]
  },
  {
   "cell_type": "code",
   "execution_count": 130,
   "metadata": {},
   "outputs": [
    {
     "name": "stdout",
     "output_type": "stream",
     "text": [
      "The proportion of weekend rides for people in their 30s is 0.271069.\n",
      "The proportion of weekend rides for people in their 20s is 0.277196.\n"
     ]
    }
   ],
   "source": [
    "# tot30 and tot20 rides\n",
    "tot30 = len(cb_df[cb_df['decade'] == \"30s\"])\n",
    "tot20 = len(cb_df[cb_df['decade'] == \"20s\"])\n",
    "\n",
    "# tot30 and tot20 weekend rides\n",
    "wk30 = len(cb_df[(cb_df['wkend']) & (cb_df['decade'] == \"30s\")]) \n",
    "wk20 = len(cb_df[(cb_df['wkend']) & (cb_df['decade'] == \"20s\")]) \n",
    "\n",
    "# proportions \n",
    "prop30 = wk30 / tot30\n",
    "prop20 = wk20 / tot20\n",
    "\n",
    "print('The proportion of weekend rides for people in their 30s is %2f.' %prop30)\n",
    "print('The proportion of weekend rides for people in their 20s is %2f.' %prop20)"
   ]
  },
  {
   "cell_type": "markdown",
   "metadata": {},
   "source": [
    "## use the z-test since this is a test of proportions and I want to see if one proportion is larger than another proportion"
   ]
  },
  {
   "cell_type": "code",
   "execution_count": 131,
   "metadata": {},
   "outputs": [],
   "source": [
    "# p0 = 30s, p1 = 20s\n",
    "alpha=0.05"
   ]
  },
  {
   "cell_type": "markdown",
   "metadata": {},
   "source": [
    "** $H_0: P_0 - P_1 \\leq$    0 **\n",
    "    \n",
    "** $H_a: P_0 - P_1 $> 0    **"
   ]
  },
  {
   "cell_type": "markdown",
   "metadata": {},
   "source": [
    "must define the sample standard deviation (standard error)"
   ]
  },
  {
   "cell_type": "code",
   "execution_count": 132,
   "metadata": {},
   "outputs": [
    {
     "name": "stdout",
     "output_type": "stream",
     "text": [
      "0.27275778791075617\n"
     ]
    }
   ],
   "source": [
    "#define the sample proportion first\n",
    "sp = (prop30 * tot30 + prop20 * tot20) / (tot30 + tot20)\n",
    "print(sp)"
   ]
  },
  {
   "cell_type": "code",
   "execution_count": 133,
   "metadata": {},
   "outputs": [],
   "source": [
    "# one line function to calculate the standard error and p \n",
    "p = lambda p0, p1, n0, n1: (p0 * n0 + p1 * n1) / (n0 + n1)\n",
    "#standard error\n",
    "se = lambda p, n0, n1: np.sqrt(p * (1 - p) * (1.0 / n0 + 1.0 / n1)) "
   ]
  },
  {
   "cell_type": "code",
   "execution_count": 134,
   "metadata": {},
   "outputs": [
    {
     "name": "stdout",
     "output_type": "stream",
     "text": [
      "0.00725654476791\n"
     ]
    }
   ],
   "source": [
    "zscore = lambda p0, p1, s : (p0 - p1) / s\n",
    "z = zscore(prop20, prop30, se(p(prop30, prop20, tot30, prop20), tot30, prop20))\n",
    "print(z)"
   ]
  },
  {
   "cell_type": "markdown",
   "metadata": {},
   "source": [
    "<img src=\"z_table.jpg\">"
   ]
  },
  {
   "cell_type": "code",
   "execution_count": 135,
   "metadata": {},
   "outputs": [
    {
     "name": "stdout",
     "output_type": "stream",
     "text": [
      "is the p value 0.50 smaller than the critical value 0.05?\n",
      "NO!\n",
      "the Null hypothesis is not rejected\n"
     ]
    }
   ],
   "source": [
    "# the z statistic, 0.007, is smaller than the smallest value in the table \n",
    "# use 0.5 as a substitute \n",
    "p_value = 1 - 0.5\n",
    "\n",
    "def report_result(p,a):\n",
    "    print ('is the p value ' + \n",
    "           '{0:.2f} smaller than the critical value {1:.2f}?'.format(p,a))\n",
    "    if p < a:\n",
    "        print (\"YES!\")\n",
    "    else: \n",
    "        print (\"NO!\")\n",
    "    \n",
    "    print ('the Null hypothesis is {}'.format(\\\n",
    "                            'rejected' if p < a  else 'not rejected') )\n",
    "\n",
    "    \n",
    "report_result(p_value, alpha)\n"
   ]
  },
  {
   "cell_type": "markdown",
   "metadata": {},
   "source": [
    "## Since p > alpha, we fail to reject the null hypothesis that the proportion of people in their 20s biking on weekends is the same or higher than the proportion of people in their 30s biking on weekends."
   ]
  },
  {
   "cell_type": "markdown",
   "metadata": {},
   "source": [
    "## use the chi-square test for propotions "
   ]
  },
  {
   "cell_type": "markdown",
   "metadata": {},
   "source": [
    "## ** H_0: The percentage of weekend rides is not associated with age. ** \n",
    "\n",
    "## ** H_1: The percentage of weekend rides is associated with age. ** \n",
    "    \n",
    "## ** $\\alpha$ = 0.05    **"
   ]
  },
  {
   "cell_type": "markdown",
   "metadata": {},
   "source": [
    "fill in the contingency table\n",
    "\n",
    "|weekend ride    |     yes                | no              |                   \n",
    "|-----------------------------------------|-----------------|------------|\n",
    "| 20s            | 0.277 * 126434         | 0.723 * 126434  |   126434   |\n",
    "| 30s            | 0.271 * 332354         | 0.729 * 332354  |   332354   |\n",
    "|                |                        |                 |            |\n",
    "| total          |  125090.152            |   333697.848    |   458788   |"
   ]
  },
  {
   "cell_type": "code",
   "execution_count": 140,
   "metadata": {},
   "outputs": [],
   "source": [
    "wkday30 = len(cb_df[~(cb_df['wkend']) & (cb_df['decade'] == \"30s\")]) \n",
    "wkday20 = len(cb_df[~(cb_df['wkend']) & (cb_df['decade'] == \"20s\")])"
   ]
  },
  {
   "cell_type": "code",
   "execution_count": 156,
   "metadata": {},
   "outputs": [],
   "source": [
    "arr = np.array([[0.277 * 126434, 0.723 * 126434], [0.271 * 332354, 0.729 * 332354]])\n",
    "tot = 0.277 * 126434 + 0.723 * 126434 + 0.271 * 332354 + 0.729 * 332354"
   ]
  },
  {
   "cell_type": "code",
   "execution_count": 168,
   "metadata": {},
   "outputs": [
    {
     "name": "stdout",
     "output_type": "stream",
     "text": [
      "The chi-square value is 16.626576.\n"
     ]
    }
   ],
   "source": [
    "# Define a function to calculate the 2x2 chi-square statistic \n",
    "def my2x2ChiSq(values, total):\n",
    "    chisq = total * ((values[0,0] * values[1,1] - values[0,1] * values[1,0]) ** 2) / ((values[0,0] + values[0,1]) * (values[1,0] + values[1,1]) * (values[0,0] + values[1,0]) * (values[0,1] + values[1,1]))\n",
    "    return chisq\n",
    "\n",
    "print(\"The chi-square value is %2f.\" %my2x2ChiSq(arr, tot))"
   ]
  },
  {
   "cell_type": "code",
   "execution_count": 158,
   "metadata": {},
   "outputs": [
    {
     "name": "stdout",
     "output_type": "stream",
     "text": [
      "There are 1 degree(s) of freedom.\n"
     ]
    }
   ],
   "source": [
    "#DOF = Number of observcations - Number of independent variabels \n",
    "dof = 2 - 1 \n",
    "print(\"There are %d degree(s) of freedom.\" %dof) "
   ]
  },
  {
   "cell_type": "markdown",
   "metadata": {},
   "source": [
    "<img src=\"chi_square table.png\">"
   ]
  },
  {
   "cell_type": "markdown",
   "metadata": {},
   "source": [
    "## Chi-square = 16.6. Our chi-square value is larger than 3.84. We take the value 3.84 from the Chi-Square Distribution table because we have 1 degree of freedom and our significance level is alpha = 0.05. Since 16.6 > 3.84, p < 0.05 and we reject the null hypothesis."
   ]
  },
  {
   "cell_type": "code",
   "execution_count": null,
   "metadata": {},
   "outputs": [],
   "source": []
  }
 ],
 "metadata": {
  "kernelspec": {
   "display_name": "PUI2016_Python3",
   "language": "python",
   "name": "pui2016_python3"
  },
  "language_info": {
   "codemirror_mode": {
    "name": "ipython",
    "version": 3
   },
   "file_extension": ".py",
   "mimetype": "text/x-python",
   "name": "python",
   "nbconvert_exporter": "python",
   "pygments_lexer": "ipython3",
   "version": "3.5.4"
  }
 },
 "nbformat": 4,
 "nbformat_minor": 2
}
