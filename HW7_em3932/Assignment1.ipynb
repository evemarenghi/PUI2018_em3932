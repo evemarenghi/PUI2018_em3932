{
 "cells": [
  {
   "cell_type": "markdown",
   "metadata": {},
   "source": [
    "# GeoPandas + Census"
   ]
  },
  {
   "cell_type": "code",
   "execution_count": 1,
   "metadata": {},
   "outputs": [],
   "source": [
    "try:\n",
    "    from urllib import urlencode as urlencode\n",
    "except ImportError:\n",
    "    from urllib.parse import urlencode as urlencode\n",
    "    \n",
    "try:\n",
    "    from urllib import urlopen as urlopen\n",
    "except ImportError:\n",
    "    from urllib.request import urlopen as urlopen\n",
    "    \n",
    "try:\n",
    "    from urllib2 import HTTPError as HTTPError\n",
    "except ImportError:\n",
    "    from urllib.error import HTTPError as HTTPError\n",
    "\n",
    "import numpy as np\n",
    "import json\n",
    "from urllib.request import Request, urlopen\n",
    "import urllib\n",
    "import pandas as pd\n",
    "import os\n",
    "import geopandas as gpd\n",
    "import shapely\n",
    "import io\n",
    "import requests\n",
    "import matplotlib.pylab as plt\n",
    "from fiona.crs import from_epsg\n",
    "%matplotlib inline"
   ]
  },
  {
   "cell_type": "markdown",
   "metadata": {},
   "source": [
    "## 1.1 Download the NYC Public Use Microdata Areas (PUMA) geometry fron the NYC Open Data API and read it in with geopandas"
   ]
  },
  {
   "cell_type": "code",
   "execution_count": 2,
   "metadata": {},
   "outputs": [
    {
     "data": {
      "text/plain": [
       "('file.gz', <http.client.HTTPMessage at 0x7f727f93e7b8>)"
      ]
     },
     "execution_count": 2,
     "metadata": {},
     "output_type": "execute_result"
    }
   ],
   "source": [
    "# download the NYC PUMA data\n",
    "urllib.request.urlretrieve(\"https://data.cityofnewyork.us/api/geospatial/cwiz-gcty?method=export&format=Shapefile\", \"file.gz\")"
   ]
  },
  {
   "cell_type": "code",
   "execution_count": 3,
   "metadata": {},
   "outputs": [
    {
     "name": "stdout",
     "output_type": "stream",
     "text": [
      "Archive:  file.gz\n",
      "  inflating: geo_export_11855b52-5c70-4960-9004-c3bc21f5a6d9.dbf  \n",
      "  inflating: geo_export_11855b52-5c70-4960-9004-c3bc21f5a6d9.shp  \n",
      "  inflating: geo_export_11855b52-5c70-4960-9004-c3bc21f5a6d9.shx  \n",
      "  inflating: geo_export_11855b52-5c70-4960-9004-c3bc21f5a6d9.prj  \n"
     ]
    }
   ],
   "source": [
    "# unpack the NYC PUMA data\n",
    "!unzip file.gz"
   ]
  },
  {
   "cell_type": "code",
   "execution_count": 4,
   "metadata": {},
   "outputs": [
    {
     "name": "stdout",
     "output_type": "stream",
     "text": [
      "mv: cannot stat 'geo_export_837a6986-6ccd-4184-a087-c58d2d2d8911.shp': No such file or directory\n",
      "mv: cannot stat 'geo_export_837a6986-6ccd-4184-a087-c58d2d2d8911.dbf': No such file or directory\n",
      "mv: cannot stat 'geo_export_837a6986-6ccd-4184-a087-c58d2d2d8911.shx': No such file or directory\n",
      "mv: cannot stat 'geo_export_837a6986-6ccd-4184-a087-c58d2d2d8911.prj': No such file or directory\n"
     ]
    }
   ],
   "source": [
    "# move the files into PUIdata\n",
    "!mv geo_export_837a6986-6ccd-4184-a087-c58d2d2d8911.shp $PUIDATA\n",
    "!mv geo_export_837a6986-6ccd-4184-a087-c58d2d2d8911.dbf $PUIDATA\n",
    "!mv geo_export_837a6986-6ccd-4184-a087-c58d2d2d8911.shx $PUIDATA\n",
    "!mv geo_export_837a6986-6ccd-4184-a087-c58d2d2d8911.prj $PUIDATA"
   ]
  },
  {
   "cell_type": "code",
   "execution_count": 5,
   "metadata": {},
   "outputs": [
    {
     "name": "stdout",
     "output_type": "stream",
     "text": [
      "201502-citibike-tripdata.zip\r\n",
      "201506-citibike-tripdata.zip\r\n",
      "201508-citibike-tripdata.zip\r\n",
      "ACS_16_1YR_GCT2801.ST50.zip\r\n",
      "aff_download_readme.txt\r\n",
      "BK_18v1.csv\r\n",
      "BX_18v1.csv\r\n",
      "city_employees.csv\r\n",
      "energy_efficiency_projects.csv\r\n",
      "geo_export_837a6986-6ccd-4184-a087-c58d2d2d8911.dbf\r\n",
      "geo_export_837a6986-6ccd-4184-a087-c58d2d2d8911.prj\r\n",
      "geo_export_837a6986-6ccd-4184-a087-c58d2d2d8911.shp\r\n",
      "geo_export_837a6986-6ccd-4184-a087-c58d2d2d8911.shx\r\n",
      "MN_18v1.csv\r\n",
      "QN_18v1.csv\r\n",
      "SI_18v1.csv\r\n",
      "water_consumption.csv\r\n"
     ]
    }
   ],
   "source": [
    "# check and make sure the file is in PUIdata\n",
    "!ls $PUIDATA"
   ]
  },
  {
   "cell_type": "code",
   "execution_count": 6,
   "metadata": {},
   "outputs": [],
   "source": [
    "# read the file into a geopandas dataframe\n",
    "pumashp = gpd.read_file(os.getenv(\"PUIDATA\") + \"/geo_export_837a6986-6ccd-4184-a087-c58d2d2d8911.shp\")"
   ]
  },
  {
   "cell_type": "code",
   "execution_count": 7,
   "metadata": {},
   "outputs": [
    {
     "data": {
      "text/html": [
       "<div>\n",
       "<table border=\"1\" class=\"dataframe\">\n",
       "  <thead>\n",
       "    <tr style=\"text-align: right;\">\n",
       "      <th></th>\n",
       "      <th>puma</th>\n",
       "      <th>shape_area</th>\n",
       "      <th>shape_leng</th>\n",
       "      <th>geometry</th>\n",
       "    </tr>\n",
       "  </thead>\n",
       "  <tbody>\n",
       "    <tr>\n",
       "      <th>0</th>\n",
       "      <td>3701</td>\n",
       "      <td>9.792852e+07</td>\n",
       "      <td>53227.144461</td>\n",
       "      <td>POLYGON ((-73.89641133483133 40.90450452082026...</td>\n",
       "    </tr>\n",
       "    <tr>\n",
       "      <th>1</th>\n",
       "      <td>3702</td>\n",
       "      <td>1.889860e+08</td>\n",
       "      <td>106050.002302</td>\n",
       "      <td>POLYGON ((-73.8442314689986 40.86942035096838,...</td>\n",
       "    </tr>\n",
       "    <tr>\n",
       "      <th>2</th>\n",
       "      <td>3703</td>\n",
       "      <td>2.670137e+08</td>\n",
       "      <td>304071.257466</td>\n",
       "      <td>(POLYGON ((-73.78833349834532 40.8346671297593...</td>\n",
       "    </tr>\n",
       "    <tr>\n",
       "      <th>3</th>\n",
       "      <td>3704</td>\n",
       "      <td>1.062129e+08</td>\n",
       "      <td>47970.901277</td>\n",
       "      <td>POLYGON ((-73.84792614069238 40.8713422330779,...</td>\n",
       "    </tr>\n",
       "    <tr>\n",
       "      <th>4</th>\n",
       "      <td>4015</td>\n",
       "      <td>8.105438e+07</td>\n",
       "      <td>50007.415493</td>\n",
       "      <td>POLYGON ((-73.95374853778468 40.63858633758547...</td>\n",
       "    </tr>\n",
       "  </tbody>\n",
       "</table>\n",
       "</div>"
      ],
      "text/plain": [
       "   puma    shape_area     shape_leng  \\\n",
       "0  3701  9.792852e+07   53227.144461   \n",
       "1  3702  1.889860e+08  106050.002302   \n",
       "2  3703  2.670137e+08  304071.257466   \n",
       "3  3704  1.062129e+08   47970.901277   \n",
       "4  4015  8.105438e+07   50007.415493   \n",
       "\n",
       "                                            geometry  \n",
       "0  POLYGON ((-73.89641133483133 40.90450452082026...  \n",
       "1  POLYGON ((-73.8442314689986 40.86942035096838,...  \n",
       "2  (POLYGON ((-73.78833349834532 40.8346671297593...  \n",
       "3  POLYGON ((-73.84792614069238 40.8713422330779,...  \n",
       "4  POLYGON ((-73.95374853778468 40.63858633758547...  "
      ]
     },
     "execution_count": 7,
     "metadata": {},
     "output_type": "execute_result"
    }
   ],
   "source": [
    "pumashp.head()"
   ]
  },
  {
   "cell_type": "code",
   "execution_count": 8,
   "metadata": {},
   "outputs": [
    {
     "data": {
      "text/plain": [
       "numpy.int64"
      ]
     },
     "execution_count": 8,
     "metadata": {},
     "output_type": "execute_result"
    }
   ],
   "source": [
    "# convert puma type to int \n",
    "pumashp['puma'] = pumashp['puma'].astype(int)\n",
    "type(pumashp['puma'][0])"
   ]
  },
  {
   "cell_type": "code",
   "execution_count": 9,
   "metadata": {},
   "outputs": [
    {
     "data": {
      "text/plain": [
       "{'init': 'epsg:4326'}"
      ]
     },
     "execution_count": 9,
     "metadata": {},
     "output_type": "execute_result"
    }
   ],
   "source": [
    "pumashp.crs"
   ]
  },
  {
   "cell_type": "markdown",
   "metadata": {},
   "source": [
    "## 1.2 Plot the NYC PUMA regions"
   ]
  },
  {
   "cell_type": "code",
   "execution_count": 10,
   "metadata": {
    "scrolled": true
   },
   "outputs": [
    {
     "data": {
      "image/png": "[encoded data removed]",
      "text/plain": [
       "<matplotlib.figure.Figure at 0x7f727f8a0080>"
      ]
     },
     "metadata": {},
     "output_type": "display_data"
    }
   ],
   "source": [
    "# plot NYC PUMA regions \n",
    "ax = pumashp.plot(figsize=(15,8), alpha=1, color='white', edgecolor='black')\n",
    "ax.get_xaxis().set_visible(False)\n",
    "ax.get_yaxis().set_visible(False)\n",
    "ax.set_title('NYC PUMA Regions', fontsize=20)\n",
    "ax.set_aspect(1.25)"
   ]
  },
  {
   "cell_type": "markdown",
   "metadata": {},
   "source": [
    "Figure 1: NYC PUMA Regions. This map shows the countours of Public Use Microdata Area (PUMA) NYC regions. From the map, we can see that there is a lot of variability in the size and shape of PUMAs in NYC. PUMAs in Manhattan are relatively rectangular and regularly shaped. PUMAs in Brooklyn and Queens are larger and have more variabiliy in shape. There are three only large PUMAs in Staten Island."
   ]
  },
  {
   "cell_type": "markdown",
   "metadata": {},
   "source": [
    "## 2. American Fact Finder data on percentage of houses with broadband internet access"
   ]
  },
  {
   "cell_type": "markdown",
   "metadata": {},
   "source": [
    "## 2.1 Get data with American Fact Finder (AFF) API"
   ]
  },
  {
   "cell_type": "code",
   "execution_count": 11,
   "metadata": {},
   "outputs": [],
   "source": [
    "# read in API key saved in censusAPI.py\n",
    "from censusAPI import myAPI"
   ]
  },
  {
   "cell_type": "code",
   "execution_count": 12,
   "metadata": {},
   "outputs": [],
   "source": [
    "#read in in the variables available. the info is in the 1 year ACS data\n",
    "url = \"https://api.census.gov/data/2016/acs/acs1/variables.json\"\n",
    "resp = requests.request('GET', url)\n",
    "aff1y = json.loads(resp.text)"
   ]
  },
  {
   "cell_type": "code",
   "execution_count": 13,
   "metadata": {},
   "outputs": [
    {
     "data": {
      "text/plain": [
       "dict_keys(['variables'])"
      ]
     },
     "execution_count": 13,
     "metadata": {},
     "output_type": "execute_result"
    }
   ],
   "source": [
    "aff1y.keys()"
   ]
  },
  {
   "cell_type": "code",
   "execution_count": 14,
   "metadata": {},
   "outputs": [],
   "source": [
    "#turning things into arrays to enable broadcasting\n",
    "affkeys = np.array(list(aff1y['variables'].keys()))"
   ]
  },
  {
   "cell_type": "markdown",
   "metadata": {},
   "source": [
    "We need two features: total number of households, and number of households with broadband access"
   ]
  },
  {
   "cell_type": "code",
   "execution_count": 15,
   "metadata": {},
   "outputs": [
    {
     "data": {
      "text/plain": [
       "[('B28002_008E',\n",
       "  'Estimate!!Total!!With an Internet subscription!!Broadband such as cable, fiber optic or DSL!!Broadband such as cable, fiber optic or DSL with no other type of Internet subscription'),\n",
       " ('B28002_007E',\n",
       "  'Estimate!!Total!!With an Internet subscription!!Broadband such as cable, fiber optic or DSL'),\n",
       " ('B28002_004E',\n",
       "  'Estimate!!Total!!With an Internet subscription!!Broadband of any type')]"
      ]
     },
     "execution_count": 15,
     "metadata": {},
     "output_type": "execute_result"
    }
   ],
   "source": [
    "# extracting variables of B28002 that contain \"broadband\" \n",
    "[(k, aff1y['variables'][k]['label'])  for k in affkeys if k.startswith (\"B28002\") and \n",
    " 'Broadband' in aff1y['variables'][k]['label']]"
   ]
  },
  {
   "cell_type": "code",
   "execution_count": 16,
   "metadata": {},
   "outputs": [
    {
     "data": {
      "text/plain": [
       "{'attributes': 'B28002_004M,B28002_004EA',\n",
       " 'concept': 'PRESENCE AND TYPES OF INTERNET SUBSCRIPTIONS IN HOUSEHOLD',\n",
       " 'group': 'B28002',\n",
       " 'label': 'Estimate!!Total!!With an Internet subscription!!Broadband of any type',\n",
       " 'limit': 0,\n",
       " 'predicateType': 'int'}"
      ]
     },
     "execution_count": 16,
     "metadata": {},
     "output_type": "execute_result"
    }
   ],
   "source": [
    "# keyword for number of households with broadband internet access \n",
    "keyNBB = 'B28002_004E'\n",
    "aff1y['variables'][keyNBB]"
   ]
  },
  {
   "cell_type": "code",
   "execution_count": 17,
   "metadata": {},
   "outputs": [
    {
     "data": {
      "text/plain": [
       "{'attributes': 'B28002_001M,B28002_001EA',\n",
       " 'concept': 'PRESENCE AND TYPES OF INTERNET SUBSCRIPTIONS IN HOUSEHOLD',\n",
       " 'group': 'B28002',\n",
       " 'label': 'Estimate!!Total',\n",
       " 'limit': 0,\n",
       " 'predicateType': 'int'}"
      ]
     },
     "execution_count": 17,
     "metadata": {},
     "output_type": "execute_result"
    }
   ],
   "source": [
    "# keyword for the number of households\n",
    "keyNhouseholds = 'B28002_001E'\n",
    "aff1y['variables'][keyNhouseholds]"
   ]
  },
  {
   "cell_type": "code",
   "execution_count": 18,
   "metadata": {},
   "outputs": [
    {
     "data": {
      "text/html": [
       "<div>\n",
       "<table border=\"1\" class=\"dataframe\">\n",
       "  <thead>\n",
       "    <tr style=\"text-align: right;\">\n",
       "      <th></th>\n",
       "      <th>B28002_004E</th>\n",
       "      <th>NAME</th>\n",
       "      <th>state</th>\n",
       "      <th>public use microdata area</th>\n",
       "      <th>Unnamed: 4</th>\n",
       "    </tr>\n",
       "  </thead>\n",
       "  <tbody>\n",
       "    <tr>\n",
       "      <th>0</th>\n",
       "      <td>32607</td>\n",
       "      <td>St. Lawrence County PUMA, New York</td>\n",
       "      <td>36</td>\n",
       "      <td>100</td>\n",
       "      <td>NaN</td>\n",
       "    </tr>\n",
       "    <tr>\n",
       "      <th>1</th>\n",
       "      <td>50811</td>\n",
       "      <td>Clinton, Franklin, Essex &amp; Hamilton Counties P...</td>\n",
       "      <td>36</td>\n",
       "      <td>200</td>\n",
       "      <td>NaN</td>\n",
       "    </tr>\n",
       "    <tr>\n",
       "      <th>2</th>\n",
       "      <td>41210</td>\n",
       "      <td>Warren &amp; Washington Counties PUMA, New York</td>\n",
       "      <td>36</td>\n",
       "      <td>300</td>\n",
       "      <td>NaN</td>\n",
       "    </tr>\n",
       "    <tr>\n",
       "      <th>3</th>\n",
       "      <td>36075</td>\n",
       "      <td>Herkimer (North &amp; Central) &amp; Oneida (Outer) Co...</td>\n",
       "      <td>36</td>\n",
       "      <td>401</td>\n",
       "      <td>NaN</td>\n",
       "    </tr>\n",
       "    <tr>\n",
       "      <th>4</th>\n",
       "      <td>47786</td>\n",
       "      <td>Oneida County (Central)--Greater Utica &amp; Rome ...</td>\n",
       "      <td>36</td>\n",
       "      <td>402</td>\n",
       "      <td>NaN</td>\n",
       "    </tr>\n",
       "  </tbody>\n",
       "</table>\n",
       "</div>"
      ],
      "text/plain": [
       "   B28002_004E                                               NAME  state  \\\n",
       "0        32607                 St. Lawrence County PUMA, New York     36   \n",
       "1        50811  Clinton, Franklin, Essex & Hamilton Counties P...     36   \n",
       "2        41210        Warren & Washington Counties PUMA, New York     36   \n",
       "3        36075  Herkimer (North & Central) & Oneida (Outer) Co...     36   \n",
       "4        47786  Oneida County (Central)--Greater Utica & Rome ...     36   \n",
       "\n",
       "   public use microdata area  Unnamed: 4  \n",
       "0                        100         NaN  \n",
       "1                        200         NaN  \n",
       "2                        300         NaN  \n",
       "3                        401         NaN  \n",
       "4                        402         NaN  "
      ]
     },
     "execution_count": 18,
     "metadata": {},
     "output_type": "execute_result"
    }
   ],
   "source": [
    "# getting the broadband access number of households\n",
    "url = \"https://api.census.gov/data/2016/acs/acs1?get=\" + keyNBB +\\\n",
    "\",NAME&for=public%20use%20microdata%20area:*&in=state:36&key=\" + myAPI\n",
    "resp = requests.request('GET', url).content\n",
    "pumaBB = pd.read_csv(io.StringIO(resp.decode('utf-8').replace('[','').replace(']','')))\n",
    "\n",
    "pumaBB.head()"
   ]
  },
  {
   "cell_type": "code",
   "execution_count": 19,
   "metadata": {},
   "outputs": [
    {
     "data": {
      "text/html": [
       "<div>\n",
       "<table border=\"1\" class=\"dataframe\">\n",
       "  <thead>\n",
       "    <tr style=\"text-align: right;\">\n",
       "      <th></th>\n",
       "      <th>B28002_001E</th>\n",
       "      <th>NAME</th>\n",
       "      <th>state</th>\n",
       "      <th>public use microdata area</th>\n",
       "      <th>Unnamed: 4</th>\n",
       "    </tr>\n",
       "  </thead>\n",
       "  <tbody>\n",
       "    <tr>\n",
       "      <th>0</th>\n",
       "      <td>40479</td>\n",
       "      <td>St. Lawrence County PUMA, New York</td>\n",
       "      <td>36</td>\n",
       "      <td>100</td>\n",
       "      <td>NaN</td>\n",
       "    </tr>\n",
       "    <tr>\n",
       "      <th>1</th>\n",
       "      <td>67092</td>\n",
       "      <td>Clinton, Franklin, Essex &amp; Hamilton Counties P...</td>\n",
       "      <td>36</td>\n",
       "      <td>200</td>\n",
       "      <td>NaN</td>\n",
       "    </tr>\n",
       "    <tr>\n",
       "      <th>2</th>\n",
       "      <td>51614</td>\n",
       "      <td>Warren &amp; Washington Counties PUMA, New York</td>\n",
       "      <td>36</td>\n",
       "      <td>300</td>\n",
       "      <td>NaN</td>\n",
       "    </tr>\n",
       "    <tr>\n",
       "      <th>3</th>\n",
       "      <td>44300</td>\n",
       "      <td>Herkimer (North &amp; Central) &amp; Oneida (Outer) Co...</td>\n",
       "      <td>36</td>\n",
       "      <td>401</td>\n",
       "      <td>NaN</td>\n",
       "    </tr>\n",
       "    <tr>\n",
       "      <th>4</th>\n",
       "      <td>61146</td>\n",
       "      <td>Oneida County (Central)--Greater Utica &amp; Rome ...</td>\n",
       "      <td>36</td>\n",
       "      <td>402</td>\n",
       "      <td>NaN</td>\n",
       "    </tr>\n",
       "  </tbody>\n",
       "</table>\n",
       "</div>"
      ],
      "text/plain": [
       "   B28002_001E                                               NAME  state  \\\n",
       "0        40479                 St. Lawrence County PUMA, New York     36   \n",
       "1        67092  Clinton, Franklin, Essex & Hamilton Counties P...     36   \n",
       "2        51614        Warren & Washington Counties PUMA, New York     36   \n",
       "3        44300  Herkimer (North & Central) & Oneida (Outer) Co...     36   \n",
       "4        61146  Oneida County (Central)--Greater Utica & Rome ...     36   \n",
       "\n",
       "   public use microdata area  Unnamed: 4  \n",
       "0                        100         NaN  \n",
       "1                        200         NaN  \n",
       "2                        300         NaN  \n",
       "3                        401         NaN  \n",
       "4                        402         NaN  "
      ]
     },
     "execution_count": 19,
     "metadata": {},
     "output_type": "execute_result"
    }
   ],
   "source": [
    "# getting the total number of households\n",
    "url = \"https://api.census.gov/data/2016/acs/acs1?get=\" + keyNhouseholds +\\\n",
    "\",NAME&for=public%20use%20microdata%20area:*&in=state:36&key=\" + myAPI\n",
    "resp = requests.request('GET', url).content\n",
    "pumaPP = pd.read_csv(io.StringIO(resp.decode('utf-8').replace('[','').replace(']','')))\n",
    "\n",
    "pumaPP.head()"
   ]
  },
  {
   "cell_type": "code",
   "execution_count": 20,
   "metadata": {},
   "outputs": [
    {
     "data": {
      "text/html": [
       "<div>\n",
       "<table border=\"1\" class=\"dataframe\">\n",
       "  <thead>\n",
       "    <tr style=\"text-align: right;\">\n",
       "      <th></th>\n",
       "      <th>B28002_004E</th>\n",
       "      <th>NAME_x</th>\n",
       "      <th>state_x</th>\n",
       "      <th>public use microdata area</th>\n",
       "      <th>Unnamed: 4_x</th>\n",
       "      <th>B28002_001E</th>\n",
       "      <th>NAME_y</th>\n",
       "      <th>state_y</th>\n",
       "      <th>Unnamed: 4_y</th>\n",
       "    </tr>\n",
       "  </thead>\n",
       "  <tbody>\n",
       "    <tr>\n",
       "      <th>0</th>\n",
       "      <td>32607</td>\n",
       "      <td>St. Lawrence County PUMA, New York</td>\n",
       "      <td>36</td>\n",
       "      <td>100</td>\n",
       "      <td>NaN</td>\n",
       "      <td>40479</td>\n",
       "      <td>St. Lawrence County PUMA, New York</td>\n",
       "      <td>36</td>\n",
       "      <td>NaN</td>\n",
       "    </tr>\n",
       "    <tr>\n",
       "      <th>1</th>\n",
       "      <td>50811</td>\n",
       "      <td>Clinton, Franklin, Essex &amp; Hamilton Counties P...</td>\n",
       "      <td>36</td>\n",
       "      <td>200</td>\n",
       "      <td>NaN</td>\n",
       "      <td>67092</td>\n",
       "      <td>Clinton, Franklin, Essex &amp; Hamilton Counties P...</td>\n",
       "      <td>36</td>\n",
       "      <td>NaN</td>\n",
       "    </tr>\n",
       "    <tr>\n",
       "      <th>2</th>\n",
       "      <td>41210</td>\n",
       "      <td>Warren &amp; Washington Counties PUMA, New York</td>\n",
       "      <td>36</td>\n",
       "      <td>300</td>\n",
       "      <td>NaN</td>\n",
       "      <td>51614</td>\n",
       "      <td>Warren &amp; Washington Counties PUMA, New York</td>\n",
       "      <td>36</td>\n",
       "      <td>NaN</td>\n",
       "    </tr>\n",
       "    <tr>\n",
       "      <th>3</th>\n",
       "      <td>36075</td>\n",
       "      <td>Herkimer (North &amp; Central) &amp; Oneida (Outer) Co...</td>\n",
       "      <td>36</td>\n",
       "      <td>401</td>\n",
       "      <td>NaN</td>\n",
       "      <td>44300</td>\n",
       "      <td>Herkimer (North &amp; Central) &amp; Oneida (Outer) Co...</td>\n",
       "      <td>36</td>\n",
       "      <td>NaN</td>\n",
       "    </tr>\n",
       "    <tr>\n",
       "      <th>4</th>\n",
       "      <td>47786</td>\n",
       "      <td>Oneida County (Central)--Greater Utica &amp; Rome ...</td>\n",
       "      <td>36</td>\n",
       "      <td>402</td>\n",
       "      <td>NaN</td>\n",
       "      <td>61146</td>\n",
       "      <td>Oneida County (Central)--Greater Utica &amp; Rome ...</td>\n",
       "      <td>36</td>\n",
       "      <td>NaN</td>\n",
       "    </tr>\n",
       "  </tbody>\n",
       "</table>\n",
       "</div>"
      ],
      "text/plain": [
       "   B28002_004E                                             NAME_x  state_x  \\\n",
       "0        32607                 St. Lawrence County PUMA, New York       36   \n",
       "1        50811  Clinton, Franklin, Essex & Hamilton Counties P...       36   \n",
       "2        41210        Warren & Washington Counties PUMA, New York       36   \n",
       "3        36075  Herkimer (North & Central) & Oneida (Outer) Co...       36   \n",
       "4        47786  Oneida County (Central)--Greater Utica & Rome ...       36   \n",
       "\n",
       "   public use microdata area  Unnamed: 4_x  B28002_001E  \\\n",
       "0                        100           NaN        40479   \n",
       "1                        200           NaN        67092   \n",
       "2                        300           NaN        51614   \n",
       "3                        401           NaN        44300   \n",
       "4                        402           NaN        61146   \n",
       "\n",
       "                                              NAME_y  state_y  Unnamed: 4_y  \n",
       "0                 St. Lawrence County PUMA, New York       36           NaN  \n",
       "1  Clinton, Franklin, Essex & Hamilton Counties P...       36           NaN  \n",
       "2        Warren & Washington Counties PUMA, New York       36           NaN  \n",
       "3  Herkimer (North & Central) & Oneida (Outer) Co...       36           NaN  \n",
       "4  Oneida County (Central)--Greater Utica & Rome ...       36           NaN  "
      ]
     },
     "execution_count": 20,
     "metadata": {},
     "output_type": "execute_result"
    }
   ],
   "source": [
    "# merge the datasets\n",
    "pumaBB = pumaBB.merge(pumaPP, left_on='public use microdata area', right_on='public use microdata area', how='inner')\n",
    "pumaBB.head()"
   ]
  },
  {
   "cell_type": "code",
   "execution_count": 21,
   "metadata": {},
   "outputs": [],
   "source": [
    "# drop extra columns \n",
    "pumaBB.drop(['NAME_y', 'state_y', 'Unnamed: 4_x', 'Unnamed: 4_y'], axis=1, inplace=True)"
   ]
  },
  {
   "cell_type": "code",
   "execution_count": 22,
   "metadata": {},
   "outputs": [],
   "source": [
    "# rename columns\n",
    "pumaBB = pumaBB.rename(columns={'NAME_x':'NAME', 'state_x':'state', 'public use microdata area':'puma'})"
   ]
  },
  {
   "cell_type": "code",
   "execution_count": 23,
   "metadata": {},
   "outputs": [
    {
     "data": {
      "text/html": [
       "<div>\n",
       "<table border=\"1\" class=\"dataframe\">\n",
       "  <thead>\n",
       "    <tr style=\"text-align: right;\">\n",
       "      <th></th>\n",
       "      <th>B28002_004E</th>\n",
       "      <th>NAME</th>\n",
       "      <th>state</th>\n",
       "      <th>puma</th>\n",
       "      <th>B28002_001E</th>\n",
       "    </tr>\n",
       "  </thead>\n",
       "  <tbody>\n",
       "    <tr>\n",
       "      <th>0</th>\n",
       "      <td>32607</td>\n",
       "      <td>St. Lawrence County PUMA, New York</td>\n",
       "      <td>36</td>\n",
       "      <td>100</td>\n",
       "      <td>40479</td>\n",
       "    </tr>\n",
       "    <tr>\n",
       "      <th>1</th>\n",
       "      <td>50811</td>\n",
       "      <td>Clinton, Franklin, Essex &amp; Hamilton Counties P...</td>\n",
       "      <td>36</td>\n",
       "      <td>200</td>\n",
       "      <td>67092</td>\n",
       "    </tr>\n",
       "    <tr>\n",
       "      <th>2</th>\n",
       "      <td>41210</td>\n",
       "      <td>Warren &amp; Washington Counties PUMA, New York</td>\n",
       "      <td>36</td>\n",
       "      <td>300</td>\n",
       "      <td>51614</td>\n",
       "    </tr>\n",
       "    <tr>\n",
       "      <th>3</th>\n",
       "      <td>36075</td>\n",
       "      <td>Herkimer (North &amp; Central) &amp; Oneida (Outer) Co...</td>\n",
       "      <td>36</td>\n",
       "      <td>401</td>\n",
       "      <td>44300</td>\n",
       "    </tr>\n",
       "    <tr>\n",
       "      <th>4</th>\n",
       "      <td>47786</td>\n",
       "      <td>Oneida County (Central)--Greater Utica &amp; Rome ...</td>\n",
       "      <td>36</td>\n",
       "      <td>402</td>\n",
       "      <td>61146</td>\n",
       "    </tr>\n",
       "  </tbody>\n",
       "</table>\n",
       "</div>"
      ],
      "text/plain": [
       "   B28002_004E                                               NAME  state  \\\n",
       "0        32607                 St. Lawrence County PUMA, New York     36   \n",
       "1        50811  Clinton, Franklin, Essex & Hamilton Counties P...     36   \n",
       "2        41210        Warren & Washington Counties PUMA, New York     36   \n",
       "3        36075  Herkimer (North & Central) & Oneida (Outer) Co...     36   \n",
       "4        47786  Oneida County (Central)--Greater Utica & Rome ...     36   \n",
       "\n",
       "   puma  B28002_001E  \n",
       "0   100        40479  \n",
       "1   200        67092  \n",
       "2   300        51614  \n",
       "3   401        44300  \n",
       "4   402        61146  "
      ]
     },
     "execution_count": 23,
     "metadata": {},
     "output_type": "execute_result"
    }
   ],
   "source": [
    "pumaBB.head()"
   ]
  },
  {
   "cell_type": "code",
   "execution_count": 24,
   "metadata": {},
   "outputs": [
    {
     "data": {
      "text/html": [
       "<div>\n",
       "<table border=\"1\" class=\"dataframe\">\n",
       "  <thead>\n",
       "    <tr style=\"text-align: right;\">\n",
       "      <th></th>\n",
       "      <th>B28002_004E</th>\n",
       "      <th>NAME</th>\n",
       "      <th>state</th>\n",
       "      <th>puma</th>\n",
       "      <th>B28002_001E</th>\n",
       "      <th>public use microdata area</th>\n",
       "      <th>pcBB</th>\n",
       "    </tr>\n",
       "  </thead>\n",
       "  <tbody>\n",
       "    <tr>\n",
       "      <th>0</th>\n",
       "      <td>32607</td>\n",
       "      <td>St. Lawrence County PUMA, New York</td>\n",
       "      <td>36</td>\n",
       "      <td>100</td>\n",
       "      <td>40479</td>\n",
       "      <td>100</td>\n",
       "      <td>80.552879</td>\n",
       "    </tr>\n",
       "    <tr>\n",
       "      <th>1</th>\n",
       "      <td>50811</td>\n",
       "      <td>Clinton, Franklin, Essex &amp; Hamilton Counties P...</td>\n",
       "      <td>36</td>\n",
       "      <td>200</td>\n",
       "      <td>67092</td>\n",
       "      <td>200</td>\n",
       "      <td>75.733321</td>\n",
       "    </tr>\n",
       "    <tr>\n",
       "      <th>2</th>\n",
       "      <td>41210</td>\n",
       "      <td>Warren &amp; Washington Counties PUMA, New York</td>\n",
       "      <td>36</td>\n",
       "      <td>300</td>\n",
       "      <td>51614</td>\n",
       "      <td>300</td>\n",
       "      <td>79.842678</td>\n",
       "    </tr>\n",
       "    <tr>\n",
       "      <th>3</th>\n",
       "      <td>36075</td>\n",
       "      <td>Herkimer (North &amp; Central) &amp; Oneida (Outer) Co...</td>\n",
       "      <td>36</td>\n",
       "      <td>401</td>\n",
       "      <td>44300</td>\n",
       "      <td>401</td>\n",
       "      <td>81.433409</td>\n",
       "    </tr>\n",
       "    <tr>\n",
       "      <th>4</th>\n",
       "      <td>47786</td>\n",
       "      <td>Oneida County (Central)--Greater Utica &amp; Rome ...</td>\n",
       "      <td>36</td>\n",
       "      <td>402</td>\n",
       "      <td>61146</td>\n",
       "      <td>402</td>\n",
       "      <td>78.150656</td>\n",
       "    </tr>\n",
       "  </tbody>\n",
       "</table>\n",
       "</div>"
      ],
      "text/plain": [
       "   B28002_004E                                               NAME  state  \\\n",
       "0        32607                 St. Lawrence County PUMA, New York     36   \n",
       "1        50811  Clinton, Franklin, Essex & Hamilton Counties P...     36   \n",
       "2        41210        Warren & Washington Counties PUMA, New York     36   \n",
       "3        36075  Herkimer (North & Central) & Oneida (Outer) Co...     36   \n",
       "4        47786  Oneida County (Central)--Greater Utica & Rome ...     36   \n",
       "\n",
       "   puma  B28002_001E  public use microdata area       pcBB  \n",
       "0   100        40479                        100  80.552879  \n",
       "1   200        67092                        200  75.733321  \n",
       "2   300        51614                        300  79.842678  \n",
       "3   401        44300                        401  81.433409  \n",
       "4   402        61146                        402  78.150656  "
      ]
     },
     "execution_count": 24,
     "metadata": {},
     "output_type": "execute_result"
    }
   ],
   "source": [
    "# generate a feature for the percentage of households with broadband access\n",
    "pumaBB['B28002_004E'] = pumaBB['B28002_004E'].astype(int)\n",
    "pumaBB['B28002_001E'] = pumaBB['B28002_001E'].astype(int)\n",
    "pumaBB['public use microdata area'] = pumaBB['puma'].astype(int)\n",
    "pumaBB['pcBB'] = pumaBB['B28002_004E'] / pumaBB['B28002_001E'] * 100\n",
    "pumaBB.head()"
   ]
  },
  {
   "cell_type": "markdown",
   "metadata": {},
   "source": [
    "##  2.3 Compare it with the AFF published \"percentage of households with broadband access\""
   ]
  },
  {
   "cell_type": "markdown",
   "metadata": {},
   "source": [
    "Move the GCT2801 file to jupyterhub/compute via sftp"
   ]
  },
  {
   "cell_type": "code",
   "execution_count": 25,
   "metadata": {},
   "outputs": [],
   "source": [
    "#import os\n",
    "#curPath = os.path.abspath('.')\n",
    "#print(curPath)"
   ]
  },
  {
   "cell_type": "code",
   "execution_count": 26,
   "metadata": {},
   "outputs": [],
   "source": [
    "#!unzip /nfshome/em3932/PUIdata/ACS_16_1YR_GCT2801.ST50.zip\n",
    "\n",
    "# put zip in hw folder "
   ]
  },
  {
   "cell_type": "code",
   "execution_count": 27,
   "metadata": {},
   "outputs": [],
   "source": [
    "# # uploaded the file to folder via SFTP. read the data into a pandas dataframe\n",
    "bbpc = pd.read_csv('ACS_16_1YR_GCT2801.ST50.csv', encoding='latin-1')"
   ]
  },
  {
   "cell_type": "code",
   "execution_count": 28,
   "metadata": {},
   "outputs": [],
   "source": [
    "# keep only the columns we need \n",
    "bbpc = bbpc[[\"GCT_STUB.target-geo-id2\",\"HC01\",\"HC02\"]]"
   ]
  },
  {
   "cell_type": "code",
   "execution_count": 29,
   "metadata": {},
   "outputs": [],
   "source": [
    "#bbpc['GCT_STUB.target-geo-id2']"
   ]
  },
  {
   "cell_type": "code",
   "execution_count": 30,
   "metadata": {},
   "outputs": [],
   "source": [
    "#type(bbpc['GCT_STUB.target-geo-id2'][0])"
   ]
  },
  {
   "cell_type": "code",
   "execution_count": 31,
   "metadata": {},
   "outputs": [
    {
     "data": {
      "text/html": [
       "<div>\n",
       "<table border=\"1\" class=\"dataframe\">\n",
       "  <thead>\n",
       "    <tr style=\"text-align: right;\">\n",
       "      <th></th>\n",
       "      <th>GCT_STUB.target-geo-id2</th>\n",
       "      <th>HC01</th>\n",
       "      <th>HC02</th>\n",
       "    </tr>\n",
       "  </thead>\n",
       "  <tbody>\n",
       "    <tr>\n",
       "      <th>0</th>\n",
       "      <td>1</td>\n",
       "      <td>74.7</td>\n",
       "      <td>0.5</td>\n",
       "    </tr>\n",
       "    <tr>\n",
       "      <th>1</th>\n",
       "      <td>100100</td>\n",
       "      <td>70.9</td>\n",
       "      <td>2.5</td>\n",
       "    </tr>\n",
       "    <tr>\n",
       "      <th>2</th>\n",
       "      <td>100200</td>\n",
       "      <td>80.5</td>\n",
       "      <td>2.7</td>\n",
       "    </tr>\n",
       "    <tr>\n",
       "      <th>3</th>\n",
       "      <td>100301</td>\n",
       "      <td>87.0</td>\n",
       "      <td>2.8</td>\n",
       "    </tr>\n",
       "    <tr>\n",
       "      <th>4</th>\n",
       "      <td>100302</td>\n",
       "      <td>81.9</td>\n",
       "      <td>2.9</td>\n",
       "    </tr>\n",
       "  </tbody>\n",
       "</table>\n",
       "</div>"
      ],
      "text/plain": [
       "   GCT_STUB.target-geo-id2  HC01  HC02\n",
       "0                        1  74.7   0.5\n",
       "1                   100100  70.9   2.5\n",
       "2                   100200  80.5   2.7\n",
       "3                   100301  87.0   2.8\n",
       "4                   100302  81.9   2.9"
      ]
     },
     "execution_count": 31,
     "metadata": {},
     "output_type": "execute_result"
    }
   ],
   "source": [
    "bbpc.head()"
   ]
  },
  {
   "cell_type": "code",
   "execution_count": 32,
   "metadata": {},
   "outputs": [
    {
     "data": {
      "text/html": [
       "<div>\n",
       "<table border=\"1\" class=\"dataframe\">\n",
       "  <thead>\n",
       "    <tr style=\"text-align: right;\">\n",
       "      <th></th>\n",
       "      <th>pcBB</th>\n",
       "      <th>HC01</th>\n",
       "      <th>diff</th>\n",
       "    </tr>\n",
       "  </thead>\n",
       "  <tbody>\n",
       "    <tr>\n",
       "      <th>count</th>\n",
       "      <td>145.000000</td>\n",
       "      <td>145.000000</td>\n",
       "      <td>145.000000</td>\n",
       "    </tr>\n",
       "    <tr>\n",
       "      <th>mean</th>\n",
       "      <td>81.845478</td>\n",
       "      <td>81.843448</td>\n",
       "      <td>0.026217</td>\n",
       "    </tr>\n",
       "    <tr>\n",
       "      <th>std</th>\n",
       "      <td>7.063369</td>\n",
       "      <td>7.065358</td>\n",
       "      <td>0.014480</td>\n",
       "    </tr>\n",
       "    <tr>\n",
       "      <th>min</th>\n",
       "      <td>54.932945</td>\n",
       "      <td>54.900000</td>\n",
       "      <td>0.000178</td>\n",
       "    </tr>\n",
       "    <tr>\n",
       "      <th>25%</th>\n",
       "      <td>77.770257</td>\n",
       "      <td>77.800000</td>\n",
       "      <td>0.012252</td>\n",
       "    </tr>\n",
       "    <tr>\n",
       "      <th>50%</th>\n",
       "      <td>82.826141</td>\n",
       "      <td>82.800000</td>\n",
       "      <td>0.027230</td>\n",
       "    </tr>\n",
       "    <tr>\n",
       "      <th>75%</th>\n",
       "      <td>87.305077</td>\n",
       "      <td>87.300000</td>\n",
       "      <td>0.039090</td>\n",
       "    </tr>\n",
       "    <tr>\n",
       "      <th>max</th>\n",
       "      <td>93.404143</td>\n",
       "      <td>93.400000</td>\n",
       "      <td>0.049872</td>\n",
       "    </tr>\n",
       "  </tbody>\n",
       "</table>\n",
       "</div>"
      ],
      "text/plain": [
       "             pcBB        HC01        diff\n",
       "count  145.000000  145.000000  145.000000\n",
       "mean    81.845478   81.843448    0.026217\n",
       "std      7.063369    7.065358    0.014480\n",
       "min     54.932945   54.900000    0.000178\n",
       "25%     77.770257   77.800000    0.012252\n",
       "50%     82.826141   82.800000    0.027230\n",
       "75%     87.305077   87.300000    0.039090\n",
       "max     93.404143   93.400000    0.049872"
      ]
     },
     "execution_count": 32,
     "metadata": {},
     "output_type": "execute_result"
    }
   ],
   "source": [
    "# check that the percentage of households with broadband I calculated is the same as reported by AFF \n",
    "bbpc['gid'] = (bbpc['GCT_STUB.target-geo-id2'] - 3600000).astype(int)\n",
    "diff_ = pumaBB.merge(bbpc, right_on=\"gid\", \n",
    "                     left_on=\"puma\")[[\"pcBB\", \"HC01\"]]\n",
    "diff_[\"diff\"] = np.abs(diff_[\"pcBB\"] - diff_[\"HC01\"].astype(float))\n",
    "\n",
    "diff_.describe()"
   ]
  },
  {
   "cell_type": "markdown",
   "metadata": {},
   "source": [
    "## 3. Plot a choropleth of NYC broadband access"
   ]
  },
  {
   "cell_type": "markdown",
   "metadata": {},
   "source": [
    "## 3.1 Merge with the puma geodataframe and plot a choropleth of the percentage of households with broadband access"
   ]
  },
  {
   "cell_type": "code",
   "execution_count": 33,
   "metadata": {},
   "outputs": [
    {
     "data": {
      "text/html": [
       "<div>\n",
       "<table border=\"1\" class=\"dataframe\">\n",
       "  <thead>\n",
       "    <tr style=\"text-align: right;\">\n",
       "      <th></th>\n",
       "      <th>puma</th>\n",
       "      <th>shape_area</th>\n",
       "      <th>shape_leng</th>\n",
       "      <th>geometry</th>\n",
       "      <th>B28002_004E</th>\n",
       "      <th>NAME</th>\n",
       "      <th>state</th>\n",
       "      <th>B28002_001E</th>\n",
       "      <th>public use microdata area</th>\n",
       "      <th>pcBB</th>\n",
       "    </tr>\n",
       "  </thead>\n",
       "  <tbody>\n",
       "    <tr>\n",
       "      <th>0</th>\n",
       "      <td>3701</td>\n",
       "      <td>9.792852e+07</td>\n",
       "      <td>53227.144461</td>\n",
       "      <td>POLYGON ((-73.89641133483133 40.90450452082026...</td>\n",
       "      <td>35529</td>\n",
       "      <td>NYC-Bronx Community District 8--Riverdale, Fie...</td>\n",
       "      <td>36</td>\n",
       "      <td>42158</td>\n",
       "      <td>3701</td>\n",
       "      <td>84.275820</td>\n",
       "    </tr>\n",
       "    <tr>\n",
       "      <th>1</th>\n",
       "      <td>3702</td>\n",
       "      <td>1.889860e+08</td>\n",
       "      <td>106050.002302</td>\n",
       "      <td>POLYGON ((-73.8442314689986 40.86942035096838,...</td>\n",
       "      <td>34030</td>\n",
       "      <td>NYC-Bronx Community District 12--Wakefield, Wi...</td>\n",
       "      <td>36</td>\n",
       "      <td>49817</td>\n",
       "      <td>3702</td>\n",
       "      <td>68.310015</td>\n",
       "    </tr>\n",
       "    <tr>\n",
       "      <th>2</th>\n",
       "      <td>3703</td>\n",
       "      <td>2.670137e+08</td>\n",
       "      <td>304071.257466</td>\n",
       "      <td>(POLYGON ((-73.78833349834532 40.8346671297593...</td>\n",
       "      <td>36716</td>\n",
       "      <td>NYC-Bronx Community District 10--Co-op City, P...</td>\n",
       "      <td>36</td>\n",
       "      <td>44329</td>\n",
       "      <td>3703</td>\n",
       "      <td>82.826141</td>\n",
       "    </tr>\n",
       "    <tr>\n",
       "      <th>3</th>\n",
       "      <td>3704</td>\n",
       "      <td>1.062129e+08</td>\n",
       "      <td>47970.901277</td>\n",
       "      <td>POLYGON ((-73.84792614069238 40.8713422330779,...</td>\n",
       "      <td>32269</td>\n",
       "      <td>NYC-Bronx Community District 11--Pelham Parkwa...</td>\n",
       "      <td>36</td>\n",
       "      <td>44476</td>\n",
       "      <td>3704</td>\n",
       "      <td>72.553737</td>\n",
       "    </tr>\n",
       "    <tr>\n",
       "      <th>4</th>\n",
       "      <td>4015</td>\n",
       "      <td>8.105438e+07</td>\n",
       "      <td>50007.415493</td>\n",
       "      <td>POLYGON ((-73.95374853778468 40.63858633758547...</td>\n",
       "      <td>44079</td>\n",
       "      <td>NYC-Brooklyn Community District 14--Flatbush &amp;...</td>\n",
       "      <td>36</td>\n",
       "      <td>55953</td>\n",
       "      <td>4015</td>\n",
       "      <td>78.778618</td>\n",
       "    </tr>\n",
       "  </tbody>\n",
       "</table>\n",
       "</div>"
      ],
      "text/plain": [
       "   puma    shape_area     shape_leng  \\\n",
       "0  3701  9.792852e+07   53227.144461   \n",
       "1  3702  1.889860e+08  106050.002302   \n",
       "2  3703  2.670137e+08  304071.257466   \n",
       "3  3704  1.062129e+08   47970.901277   \n",
       "4  4015  8.105438e+07   50007.415493   \n",
       "\n",
       "                                            geometry  B28002_004E  \\\n",
       "0  POLYGON ((-73.89641133483133 40.90450452082026...        35529   \n",
       "1  POLYGON ((-73.8442314689986 40.86942035096838,...        34030   \n",
       "2  (POLYGON ((-73.78833349834532 40.8346671297593...        36716   \n",
       "3  POLYGON ((-73.84792614069238 40.8713422330779,...        32269   \n",
       "4  POLYGON ((-73.95374853778468 40.63858633758547...        44079   \n",
       "\n",
       "                                                NAME  state  B28002_001E  \\\n",
       "0  NYC-Bronx Community District 8--Riverdale, Fie...     36        42158   \n",
       "1  NYC-Bronx Community District 12--Wakefield, Wi...     36        49817   \n",
       "2  NYC-Bronx Community District 10--Co-op City, P...     36        44329   \n",
       "3  NYC-Bronx Community District 11--Pelham Parkwa...     36        44476   \n",
       "4  NYC-Brooklyn Community District 14--Flatbush &...     36        55953   \n",
       "\n",
       "   public use microdata area       pcBB  \n",
       "0                       3701  84.275820  \n",
       "1                       3702  68.310015  \n",
       "2                       3703  82.826141  \n",
       "3                       3704  72.553737  \n",
       "4                       4015  78.778618  "
      ]
     },
     "execution_count": 33,
     "metadata": {},
     "output_type": "execute_result"
    }
   ],
   "source": [
    "# Add percentage of households with broadband access to shapefile\n",
    "pumashp['puma'] = pumashp['puma'].astype(int)\n",
    "pumashp = pumashp.merge(pumaBB, on='puma')\n",
    "pumashp.head()"
   ]
  },
  {
   "cell_type": "code",
   "execution_count": 34,
   "metadata": {},
   "outputs": [
    {
     "data": {
      "image/png": "[encoded data removed]",
      "text/plain": [
       "<matplotlib.figure.Figure at 0x7f7276fd1d30>"
      ]
     },
     "metadata": {},
     "output_type": "display_data"
    }
   ],
   "source": [
    "# Plot the choropleth \n",
    "f, ax = plt.subplots(figsize=(15,10))\n",
    "ax.get_xaxis().set_visible(False)\n",
    "ax.get_yaxis().set_visible(False)\n",
    "pumashp.plot(column='pcBB',cmap='viridis',alpha=1,linewidth=0.1,ax=ax, legend=True, k=10)\n",
    "plt.title(\"Broadband Internet Access by PUMA in NYC\", fontsize=20)\n",
    "ax.set_aspect(1.25)"
   ]
  },
  {
   "cell_type": "markdown",
   "metadata": {},
   "source": [
    "Figure 2: Percentage of households with broadband internet access by PUMA in New York City. We can see that midtown and lower Manhattan in yellow have the highest percentage of households with broadband internet access (around 90%). One region of Manhattan on the lower east side in dark purple has the lowest percentage of households with broadband internet access. This is interesting and seems like an anomaly. Throughout the Bronx, the percentage of households with broadband internet access (between 55% and 65%) is relatively low when compared with the rest of the city. "
   ]
  },
  {
   "cell_type": "markdown",
   "metadata": {},
   "source": [
    "## 4. LinkNYC: assess whether the locations of the linkNYC stations are supplying internet where it is needed."
   ]
  },
  {
   "cell_type": "code",
   "execution_count": 35,
   "metadata": {},
   "outputs": [
    {
     "data": {
      "text/html": [
       "<div>\n",
       "<table border=\"1\" class=\"dataframe\">\n",
       "  <thead>\n",
       "    <tr style=\"text-align: right;\">\n",
       "      <th></th>\n",
       "      <th>link_site</th>\n",
       "      <th>longitude</th>\n",
       "      <th>date_link_</th>\n",
       "      <th>latitude</th>\n",
       "    </tr>\n",
       "  </thead>\n",
       "  <tbody>\n",
       "    <tr>\n",
       "      <th>0</th>\n",
       "      <td>bk-01-138951</td>\n",
       "      <td>-73.942489</td>\n",
       "      <td>2017-07-01</td>\n",
       "      <td>40.701668</td>\n",
       "    </tr>\n",
       "    <tr>\n",
       "      <th>1</th>\n",
       "      <td>bk-01-109091</td>\n",
       "      <td>-73.942169</td>\n",
       "      <td>2017-07-01</td>\n",
       "      <td>40.701542</td>\n",
       "    </tr>\n",
       "    <tr>\n",
       "      <th>2</th>\n",
       "      <td>bk-01-143982</td>\n",
       "      <td>-73.942239</td>\n",
       "      <td>2017-07-01</td>\n",
       "      <td>40.701930</td>\n",
       "    </tr>\n",
       "    <tr>\n",
       "      <th>3</th>\n",
       "      <td>bk-01-109262</td>\n",
       "      <td>-73.942918</td>\n",
       "      <td>2017-04-28</td>\n",
       "      <td>40.705060</td>\n",
       "    </tr>\n",
       "    <tr>\n",
       "      <th>4</th>\n",
       "      <td>bk-01-125268</td>\n",
       "      <td>-73.953439</td>\n",
       "      <td>2017-03-31</td>\n",
       "      <td>40.728133</td>\n",
       "    </tr>\n",
       "  </tbody>\n",
       "</table>\n",
       "</div>"
      ],
      "text/plain": [
       "      link_site  longitude  date_link_   latitude\n",
       "0  bk-01-138951 -73.942489  2017-07-01  40.701668\n",
       "1  bk-01-109091 -73.942169  2017-07-01  40.701542\n",
       "2  bk-01-143982 -73.942239  2017-07-01  40.701930\n",
       "3  bk-01-109262 -73.942918  2017-04-28  40.705060\n",
       "4  bk-01-125268 -73.953439  2017-03-31  40.728133"
      ]
     },
     "execution_count": 35,
     "metadata": {},
     "output_type": "execute_result"
    }
   ],
   "source": [
    "# read the Link NYC data into a Pandas df \n",
    "linkNYC = pd.read_csv('linkNYClocations.csv')\n",
    "linkNYC.drop(['Unnamed: 0'], axis=1, inplace=True)\n",
    "linkNYC.head()"
   ]
  },
  {
   "cell_type": "code",
   "execution_count": 36,
   "metadata": {},
   "outputs": [
    {
     "data": {
      "text/plain": [
       "(1414, 4)"
      ]
     },
     "execution_count": 36,
     "metadata": {},
     "output_type": "execute_result"
    }
   ],
   "source": [
    "linkNYC.shape"
   ]
  },
  {
   "cell_type": "code",
   "execution_count": 37,
   "metadata": {},
   "outputs": [
    {
     "data": {
      "text/html": [
       "<div>\n",
       "<table border=\"1\" class=\"dataframe\">\n",
       "  <thead>\n",
       "    <tr style=\"text-align: right;\">\n",
       "      <th></th>\n",
       "      <th>link_site</th>\n",
       "      <th>longitude</th>\n",
       "      <th>date_link_</th>\n",
       "      <th>latitude</th>\n",
       "      <th>lonlat</th>\n",
       "      <th>geometry</th>\n",
       "    </tr>\n",
       "  </thead>\n",
       "  <tbody>\n",
       "    <tr>\n",
       "      <th>0</th>\n",
       "      <td>bk-01-138951</td>\n",
       "      <td>-73.942489</td>\n",
       "      <td>2017-07-01</td>\n",
       "      <td>40.701668</td>\n",
       "      <td>(-73.94248859, 40.70166753)</td>\n",
       "      <td>POINT (-73.94248859 40.70166753)</td>\n",
       "    </tr>\n",
       "    <tr>\n",
       "      <th>1</th>\n",
       "      <td>bk-01-109091</td>\n",
       "      <td>-73.942169</td>\n",
       "      <td>2017-07-01</td>\n",
       "      <td>40.701542</td>\n",
       "      <td>(-73.9421692831, 40.7015421938)</td>\n",
       "      <td>POINT (-73.9421692831 40.7015421938)</td>\n",
       "    </tr>\n",
       "    <tr>\n",
       "      <th>2</th>\n",
       "      <td>bk-01-143982</td>\n",
       "      <td>-73.942239</td>\n",
       "      <td>2017-07-01</td>\n",
       "      <td>40.701930</td>\n",
       "      <td>(-73.9422392385, 40.7019303439)</td>\n",
       "      <td>POINT (-73.94223923850001 40.7019303439)</td>\n",
       "    </tr>\n",
       "    <tr>\n",
       "      <th>3</th>\n",
       "      <td>bk-01-109262</td>\n",
       "      <td>-73.942918</td>\n",
       "      <td>2017-04-28</td>\n",
       "      <td>40.705060</td>\n",
       "      <td>(-73.94291758, 40.70506042)</td>\n",
       "      <td>POINT (-73.94291758 40.70506042)</td>\n",
       "    </tr>\n",
       "    <tr>\n",
       "      <th>4</th>\n",
       "      <td>bk-01-125268</td>\n",
       "      <td>-73.953439</td>\n",
       "      <td>2017-03-31</td>\n",
       "      <td>40.728133</td>\n",
       "      <td>(-73.953439, 40.728133)</td>\n",
       "      <td>POINT (-73.953439 40.728133)</td>\n",
       "    </tr>\n",
       "  </tbody>\n",
       "</table>\n",
       "</div>"
      ],
      "text/plain": [
       "      link_site  longitude  date_link_   latitude  \\\n",
       "0  bk-01-138951 -73.942489  2017-07-01  40.701668   \n",
       "1  bk-01-109091 -73.942169  2017-07-01  40.701542   \n",
       "2  bk-01-143982 -73.942239  2017-07-01  40.701930   \n",
       "3  bk-01-109262 -73.942918  2017-04-28  40.705060   \n",
       "4  bk-01-125268 -73.953439  2017-03-31  40.728133   \n",
       "\n",
       "                            lonlat                                  geometry  \n",
       "0      (-73.94248859, 40.70166753)          POINT (-73.94248859 40.70166753)  \n",
       "1  (-73.9421692831, 40.7015421938)      POINT (-73.9421692831 40.7015421938)  \n",
       "2  (-73.9422392385, 40.7019303439)  POINT (-73.94223923850001 40.7019303439)  \n",
       "3      (-73.94291758, 40.70506042)          POINT (-73.94291758 40.70506042)  \n",
       "4          (-73.953439, 40.728133)              POINT (-73.953439 40.728133)  "
      ]
     },
     "execution_count": 37,
     "metadata": {},
     "output_type": "execute_result"
    }
   ],
   "source": [
    "from geopandas.tools import sjoin\n",
    "# Combine lat and lon to one column in a tuple\n",
    "linkNYC['lonlat'] = list(zip(linkNYC.longitude, linkNYC.latitude))\n",
    "# Create Point Geometry for based on lonlat column\n",
    "linkNYC['geometry']=linkNYC[['lonlat']].applymap(lambda x:shapely.geometry.Point(x))\n",
    "linkNYC.head()"
   ]
  },
  {
   "cell_type": "code",
   "execution_count": 38,
   "metadata": {},
   "outputs": [
    {
     "data": {
      "text/html": [
       "<div>\n",
       "<table border=\"1\" class=\"dataframe\">\n",
       "  <thead>\n",
       "    <tr style=\"text-align: right;\">\n",
       "      <th></th>\n",
       "      <th>puma</th>\n",
       "      <th>shape_area</th>\n",
       "      <th>shape_leng</th>\n",
       "      <th>geometry</th>\n",
       "      <th>B28002_004E</th>\n",
       "      <th>NAME</th>\n",
       "      <th>state</th>\n",
       "      <th>B28002_001E</th>\n",
       "      <th>public use microdata area</th>\n",
       "      <th>pcBB</th>\n",
       "    </tr>\n",
       "  </thead>\n",
       "  <tbody>\n",
       "    <tr>\n",
       "      <th>0</th>\n",
       "      <td>3809</td>\n",
       "      <td>4.869347e+07</td>\n",
       "      <td>35299.804402</td>\n",
       "      <td>(POLYGON ((-73.98237340572007 40.7055433504376...</td>\n",
       "      <td>41821</td>\n",
       "      <td>NYC-Manhattan Community District 3--Chinatown ...</td>\n",
       "      <td>36</td>\n",
       "      <td>76131</td>\n",
       "      <td>3809</td>\n",
       "      <td>54.932945</td>\n",
       "    </tr>\n",
       "    <tr>\n",
       "      <th>1</th>\n",
       "      <td>4014</td>\n",
       "      <td>8.768042e+07</td>\n",
       "      <td>51089.073159</td>\n",
       "      <td>POLYGON ((-73.9781907435932 40.64752599151113,...</td>\n",
       "      <td>27834</td>\n",
       "      <td>NYC-Brooklyn Community District 12--Borough Pa...</td>\n",
       "      <td>36</td>\n",
       "      <td>42114</td>\n",
       "      <td>4014</td>\n",
       "      <td>66.092036</td>\n",
       "    </tr>\n",
       "    <tr>\n",
       "      <th>2</th>\n",
       "      <td>3710</td>\n",
       "      <td>1.377966e+08</td>\n",
       "      <td>91086.012338</td>\n",
       "      <td>(POLYGON ((-73.89680883223774 40.7958084451597...</td>\n",
       "      <td>35410</td>\n",
       "      <td>NYC-Bronx Community District 1 &amp; 2--Hunts Poin...</td>\n",
       "      <td>36</td>\n",
       "      <td>52756</td>\n",
       "      <td>3710</td>\n",
       "      <td>67.120328</td>\n",
       "    </tr>\n",
       "    <tr>\n",
       "      <th>3</th>\n",
       "      <td>3702</td>\n",
       "      <td>1.889860e+08</td>\n",
       "      <td>106050.002302</td>\n",
       "      <td>POLYGON ((-73.8442314689986 40.86942035096838,...</td>\n",
       "      <td>34030</td>\n",
       "      <td>NYC-Bronx Community District 12--Wakefield, Wi...</td>\n",
       "      <td>36</td>\n",
       "      <td>49817</td>\n",
       "      <td>3702</td>\n",
       "      <td>68.310015</td>\n",
       "    </tr>\n",
       "    <tr>\n",
       "      <th>4</th>\n",
       "      <td>3705</td>\n",
       "      <td>1.224951e+08</td>\n",
       "      <td>68657.316149</td>\n",
       "      <td>POLYGON ((-73.87359713633828 40.83979855593596...</td>\n",
       "      <td>40757</td>\n",
       "      <td>NYC-Bronx Community District 3 &amp; 6--Belmont, C...</td>\n",
       "      <td>36</td>\n",
       "      <td>58706</td>\n",
       "      <td>3705</td>\n",
       "      <td>69.425612</td>\n",
       "    </tr>\n",
       "  </tbody>\n",
       "</table>\n",
       "</div>"
      ],
      "text/plain": [
       "   puma    shape_area     shape_leng  \\\n",
       "0  3809  4.869347e+07   35299.804402   \n",
       "1  4014  8.768042e+07   51089.073159   \n",
       "2  3710  1.377966e+08   91086.012338   \n",
       "3  3702  1.889860e+08  106050.002302   \n",
       "4  3705  1.224951e+08   68657.316149   \n",
       "\n",
       "                                            geometry  B28002_004E  \\\n",
       "0  (POLYGON ((-73.98237340572007 40.7055433504376...        41821   \n",
       "1  POLYGON ((-73.9781907435932 40.64752599151113,...        27834   \n",
       "2  (POLYGON ((-73.89680883223774 40.7958084451597...        35410   \n",
       "3  POLYGON ((-73.8442314689986 40.86942035096838,...        34030   \n",
       "4  POLYGON ((-73.87359713633828 40.83979855593596...        40757   \n",
       "\n",
       "                                                NAME  state  B28002_001E  \\\n",
       "0  NYC-Manhattan Community District 3--Chinatown ...     36        76131   \n",
       "1  NYC-Brooklyn Community District 12--Borough Pa...     36        42114   \n",
       "2  NYC-Bronx Community District 1 & 2--Hunts Poin...     36        52756   \n",
       "3  NYC-Bronx Community District 12--Wakefield, Wi...     36        49817   \n",
       "4  NYC-Bronx Community District 3 & 6--Belmont, C...     36        58706   \n",
       "\n",
       "   public use microdata area       pcBB  \n",
       "0                       3809  54.932945  \n",
       "1                       4014  66.092036  \n",
       "2                       3710  67.120328  \n",
       "3                       3702  68.310015  \n",
       "4                       3705  69.425612  "
      ]
     },
     "execution_count": 38,
     "metadata": {},
     "output_type": "execute_result"
    }
   ],
   "source": [
    "# Sort by pcBB \n",
    "pumashp = pumashp.sort_values(['pcBB'])\n",
    "pumashp = pumashp.reset_index(drop=True)\n",
    "pumashp.head()"
   ]
  },
  {
   "cell_type": "code",
   "execution_count": 39,
   "metadata": {},
   "outputs": [
    {
     "name": "stderr",
     "output_type": "stream",
     "text": [
      "/usr/local/Anaconda3-5.0.0-Linux-x86_64/envs/PUI2016_Python3/lib/python3.5/site-packages/geopandas/plotting.py:389: UserWarning: Only specify one of 'column' or 'color'. Using 'color'.\n",
      "  \"'color'.\", UserWarning)\n"
     ]
    },
    {
     "data": {
      "image/png": "[encoded data removed]",
      "text/plain": [
       "<matplotlib.figure.Figure at 0x7f7276edf6d8>"
      ]
     },
     "metadata": {},
     "output_type": "display_data"
    }
   ],
   "source": [
    "# Plot the choropleth with linkNYC locations overlayed \n",
    "linkNYC = gpd.GeoDataFrame(linkNYC)\n",
    "f, ax = plt.subplots(figsize=(10,10))\n",
    "ax.get_xaxis().set_visible(False)\n",
    "ax.get_yaxis().set_visible(False)\n",
    "pumashp.plot(column='pcBB',cmap='bone',edgecolor='black',alpha=1,linewidth=0.1,ax=ax, scheme=\"Equal_interval\", legend=True, k=5)\n",
    "linkNYC.plot('lonlat', ax=ax, color='red', markersize=2)\n",
    "plt.title(\"Broadband Internet Access by PUMA overlayed with LinkNYC Locations\", fontsize=20)\n",
    "ax.set_aspect(1.25)"
   ]
  },
  {
   "cell_type": "markdown",
   "metadata": {},
   "source": [
    "Figure 3: Percentage of households with broadband internet access by PUMA overlayed with LinkNYC locations. The LinkNYC locations are indicated by red dots. We see that the majority of the LinkNYC locations are distributed throughout Manhattan, where percentage of households with broadband internet access is highest. There are LinkNYC locations distributed throughout Brooklyn and Queens as well. There are very few locations in Staten Island. LinkNYC is lacking in some areas of the Bronx where the percentage of the households with broadband internet access is the lowest (between 55 and 63%)."
   ]
  },
  {
   "cell_type": "markdown",
   "metadata": {},
   "source": [
    "## 5. Find the number of linkNYC locations per person by PUMA"
   ]
  },
  {
   "cell_type": "code",
   "execution_count": 40,
   "metadata": {},
   "outputs": [
    {
     "data": {
      "text/html": [
       "<div>\n",
       "<table border=\"1\" class=\"dataframe\">\n",
       "  <thead>\n",
       "    <tr style=\"text-align: right;\">\n",
       "      <th></th>\n",
       "      <th>B00001_001E</th>\n",
       "      <th>NAME</th>\n",
       "      <th>state</th>\n",
       "      <th>public use microdata area</th>\n",
       "      <th>Unnamed: 4</th>\n",
       "    </tr>\n",
       "  </thead>\n",
       "  <tbody>\n",
       "    <tr>\n",
       "      <th>0</th>\n",
       "      <td>3075</td>\n",
       "      <td>St. Lawrence County PUMA, New York</td>\n",
       "      <td>36</td>\n",
       "      <td>100</td>\n",
       "      <td>NaN</td>\n",
       "    </tr>\n",
       "    <tr>\n",
       "      <th>1</th>\n",
       "      <td>4356</td>\n",
       "      <td>Clinton, Franklin, Essex &amp; Hamilton Counties P...</td>\n",
       "      <td>36</td>\n",
       "      <td>200</td>\n",
       "      <td>NaN</td>\n",
       "    </tr>\n",
       "    <tr>\n",
       "      <th>2</th>\n",
       "      <td>2736</td>\n",
       "      <td>Warren &amp; Washington Counties PUMA, New York</td>\n",
       "      <td>36</td>\n",
       "      <td>300</td>\n",
       "      <td>NaN</td>\n",
       "    </tr>\n",
       "    <tr>\n",
       "      <th>3</th>\n",
       "      <td>2722</td>\n",
       "      <td>Herkimer (North &amp; Central) &amp; Oneida (Outer) Co...</td>\n",
       "      <td>36</td>\n",
       "      <td>401</td>\n",
       "      <td>NaN</td>\n",
       "    </tr>\n",
       "    <tr>\n",
       "      <th>4</th>\n",
       "      <td>2874</td>\n",
       "      <td>Oneida County (Central)--Greater Utica &amp; Rome ...</td>\n",
       "      <td>36</td>\n",
       "      <td>402</td>\n",
       "      <td>NaN</td>\n",
       "    </tr>\n",
       "  </tbody>\n",
       "</table>\n",
       "</div>"
      ],
      "text/plain": [
       "   B00001_001E                                               NAME  state  \\\n",
       "0         3075                 St. Lawrence County PUMA, New York     36   \n",
       "1         4356  Clinton, Franklin, Essex & Hamilton Counties P...     36   \n",
       "2         2736        Warren & Washington Counties PUMA, New York     36   \n",
       "3         2722  Herkimer (North & Central) & Oneida (Outer) Co...     36   \n",
       "4         2874  Oneida County (Central)--Greater Utica & Rome ...     36   \n",
       "\n",
       "   public use microdata area  Unnamed: 4  \n",
       "0                        100         NaN  \n",
       "1                        200         NaN  \n",
       "2                        300         NaN  \n",
       "3                        401         NaN  \n",
       "4                        402         NaN  "
      ]
     },
     "execution_count": 40,
     "metadata": {},
     "output_type": "execute_result"
    }
   ],
   "source": [
    "# getting the total population\n",
    "keyNpop = 'B00001_001E'\n",
    "url = \"https://api.census.gov/data/2016/acs/acs1?get=\" + keyNpop +\\\n",
    "\",NAME&for=public%20use%20microdata%20area:*&in=state:36&key=\" + myAPI\n",
    "resp = requests.request('GET', url).content\n",
    "pumaPop = pd.read_csv(io.StringIO(resp.decode('utf-8').replace('[','').replace(']','')))\n",
    "\n",
    "pumaPop.head()"
   ]
  },
  {
   "cell_type": "code",
   "execution_count": 41,
   "metadata": {},
   "outputs": [],
   "source": [
    "# convert lat/lon to flat coordinates\n",
    "linkNYC.crs = from_epsg(4326)\n",
    "linkNYC_ft = linkNYC.to_crs(epsg=2263)\n",
    "pumashpa_ft = pumashp.to_crs(epsg=2263)"
   ]
  },
  {
   "cell_type": "code",
   "execution_count": 42,
   "metadata": {},
   "outputs": [
    {
     "data": {
      "text/html": [
       "<div>\n",
       "<table border=\"1\" class=\"dataframe\">\n",
       "  <thead>\n",
       "    <tr style=\"text-align: right;\">\n",
       "      <th></th>\n",
       "      <th>puma</th>\n",
       "      <th>shape_area</th>\n",
       "      <th>shape_leng</th>\n",
       "      <th>geometry</th>\n",
       "      <th>B28002_004E</th>\n",
       "      <th>NAME</th>\n",
       "      <th>state</th>\n",
       "      <th>B28002_001E</th>\n",
       "      <th>public use microdata area</th>\n",
       "      <th>pcBB</th>\n",
       "    </tr>\n",
       "  </thead>\n",
       "  <tbody>\n",
       "    <tr>\n",
       "      <th>0</th>\n",
       "      <td>3809</td>\n",
       "      <td>4.869347e+07</td>\n",
       "      <td>35299.804402</td>\n",
       "      <td>(POLYGON ((-73.98237340572007 40.7055433504376...</td>\n",
       "      <td>41821</td>\n",
       "      <td>NYC-Manhattan Community District 3--Chinatown ...</td>\n",
       "      <td>36</td>\n",
       "      <td>76131</td>\n",
       "      <td>3809</td>\n",
       "      <td>54.932945</td>\n",
       "    </tr>\n",
       "    <tr>\n",
       "      <th>1</th>\n",
       "      <td>4014</td>\n",
       "      <td>8.768042e+07</td>\n",
       "      <td>51089.073159</td>\n",
       "      <td>POLYGON ((-73.9781907435932 40.64752599151113,...</td>\n",
       "      <td>27834</td>\n",
       "      <td>NYC-Brooklyn Community District 12--Borough Pa...</td>\n",
       "      <td>36</td>\n",
       "      <td>42114</td>\n",
       "      <td>4014</td>\n",
       "      <td>66.092036</td>\n",
       "    </tr>\n",
       "    <tr>\n",
       "      <th>2</th>\n",
       "      <td>3710</td>\n",
       "      <td>1.377966e+08</td>\n",
       "      <td>91086.012338</td>\n",
       "      <td>(POLYGON ((-73.89680883223774 40.7958084451597...</td>\n",
       "      <td>35410</td>\n",
       "      <td>NYC-Bronx Community District 1 &amp; 2--Hunts Poin...</td>\n",
       "      <td>36</td>\n",
       "      <td>52756</td>\n",
       "      <td>3710</td>\n",
       "      <td>67.120328</td>\n",
       "    </tr>\n",
       "    <tr>\n",
       "      <th>3</th>\n",
       "      <td>3702</td>\n",
       "      <td>1.889860e+08</td>\n",
       "      <td>106050.002302</td>\n",
       "      <td>POLYGON ((-73.8442314689986 40.86942035096838,...</td>\n",
       "      <td>34030</td>\n",
       "      <td>NYC-Bronx Community District 12--Wakefield, Wi...</td>\n",
       "      <td>36</td>\n",
       "      <td>49817</td>\n",
       "      <td>3702</td>\n",
       "      <td>68.310015</td>\n",
       "    </tr>\n",
       "    <tr>\n",
       "      <th>4</th>\n",
       "      <td>3705</td>\n",
       "      <td>1.224951e+08</td>\n",
       "      <td>68657.316149</td>\n",
       "      <td>POLYGON ((-73.87359713633828 40.83979855593596...</td>\n",
       "      <td>40757</td>\n",
       "      <td>NYC-Bronx Community District 3 &amp; 6--Belmont, C...</td>\n",
       "      <td>36</td>\n",
       "      <td>58706</td>\n",
       "      <td>3705</td>\n",
       "      <td>69.425612</td>\n",
       "    </tr>\n",
       "  </tbody>\n",
       "</table>\n",
       "</div>"
      ],
      "text/plain": [
       "   puma    shape_area     shape_leng  \\\n",
       "0  3809  4.869347e+07   35299.804402   \n",
       "1  4014  8.768042e+07   51089.073159   \n",
       "2  3710  1.377966e+08   91086.012338   \n",
       "3  3702  1.889860e+08  106050.002302   \n",
       "4  3705  1.224951e+08   68657.316149   \n",
       "\n",
       "                                            geometry  B28002_004E  \\\n",
       "0  (POLYGON ((-73.98237340572007 40.7055433504376...        41821   \n",
       "1  POLYGON ((-73.9781907435932 40.64752599151113,...        27834   \n",
       "2  (POLYGON ((-73.89680883223774 40.7958084451597...        35410   \n",
       "3  POLYGON ((-73.8442314689986 40.86942035096838,...        34030   \n",
       "4  POLYGON ((-73.87359713633828 40.83979855593596...        40757   \n",
       "\n",
       "                                                NAME  state  B28002_001E  \\\n",
       "0  NYC-Manhattan Community District 3--Chinatown ...     36        76131   \n",
       "1  NYC-Brooklyn Community District 12--Borough Pa...     36        42114   \n",
       "2  NYC-Bronx Community District 1 & 2--Hunts Poin...     36        52756   \n",
       "3  NYC-Bronx Community District 12--Wakefield, Wi...     36        49817   \n",
       "4  NYC-Bronx Community District 3 & 6--Belmont, C...     36        58706   \n",
       "\n",
       "   public use microdata area       pcBB  \n",
       "0                       3809  54.932945  \n",
       "1                       4014  66.092036  \n",
       "2                       3710  67.120328  \n",
       "3                       3702  68.310015  \n",
       "4                       3705  69.425612  "
      ]
     },
     "execution_count": 42,
     "metadata": {},
     "output_type": "execute_result"
    }
   ],
   "source": [
    "pumashp.head()"
   ]
  },
  {
   "cell_type": "code",
   "execution_count": 43,
   "metadata": {},
   "outputs": [
    {
     "data": {
      "text/html": [
       "<div>\n",
       "<table border=\"1\" class=\"dataframe\">\n",
       "  <thead>\n",
       "    <tr style=\"text-align: right;\">\n",
       "      <th></th>\n",
       "      <th>puma</th>\n",
       "      <th>shape_area</th>\n",
       "      <th>shape_leng</th>\n",
       "      <th>geometry</th>\n",
       "      <th>B28002_004E</th>\n",
       "      <th>B28002_001E</th>\n",
       "      <th>pcBB</th>\n",
       "      <th>B00001_001E</th>\n",
       "    </tr>\n",
       "  </thead>\n",
       "  <tbody>\n",
       "    <tr>\n",
       "      <th>0</th>\n",
       "      <td>3809</td>\n",
       "      <td>4.869347e+07</td>\n",
       "      <td>35299.804402</td>\n",
       "      <td>(POLYGON ((-73.98237340572007 40.7055433504376...</td>\n",
       "      <td>41821</td>\n",
       "      <td>76131</td>\n",
       "      <td>54.932945</td>\n",
       "      <td>1794</td>\n",
       "    </tr>\n",
       "    <tr>\n",
       "      <th>1</th>\n",
       "      <td>4014</td>\n",
       "      <td>8.768042e+07</td>\n",
       "      <td>51089.073159</td>\n",
       "      <td>POLYGON ((-73.9781907435932 40.64752599151113,...</td>\n",
       "      <td>27834</td>\n",
       "      <td>42114</td>\n",
       "      <td>66.092036</td>\n",
       "      <td>2928</td>\n",
       "    </tr>\n",
       "    <tr>\n",
       "      <th>2</th>\n",
       "      <td>3710</td>\n",
       "      <td>1.377966e+08</td>\n",
       "      <td>91086.012338</td>\n",
       "      <td>(POLYGON ((-73.89680883223774 40.7958084451597...</td>\n",
       "      <td>35410</td>\n",
       "      <td>52756</td>\n",
       "      <td>67.120328</td>\n",
       "      <td>2004</td>\n",
       "    </tr>\n",
       "    <tr>\n",
       "      <th>3</th>\n",
       "      <td>3702</td>\n",
       "      <td>1.889860e+08</td>\n",
       "      <td>106050.002302</td>\n",
       "      <td>POLYGON ((-73.8442314689986 40.86942035096838,...</td>\n",
       "      <td>34030</td>\n",
       "      <td>49817</td>\n",
       "      <td>68.310015</td>\n",
       "      <td>1959</td>\n",
       "    </tr>\n",
       "    <tr>\n",
       "      <th>4</th>\n",
       "      <td>3705</td>\n",
       "      <td>1.224951e+08</td>\n",
       "      <td>68657.316149</td>\n",
       "      <td>POLYGON ((-73.87359713633828 40.83979855593596...</td>\n",
       "      <td>40757</td>\n",
       "      <td>58706</td>\n",
       "      <td>69.425612</td>\n",
       "      <td>2011</td>\n",
       "    </tr>\n",
       "  </tbody>\n",
       "</table>\n",
       "</div>"
      ],
      "text/plain": [
       "   puma    shape_area     shape_leng  \\\n",
       "0  3809  4.869347e+07   35299.804402   \n",
       "1  4014  8.768042e+07   51089.073159   \n",
       "2  3710  1.377966e+08   91086.012338   \n",
       "3  3702  1.889860e+08  106050.002302   \n",
       "4  3705  1.224951e+08   68657.316149   \n",
       "\n",
       "                                            geometry  B28002_004E  \\\n",
       "0  (POLYGON ((-73.98237340572007 40.7055433504376...        41821   \n",
       "1  POLYGON ((-73.9781907435932 40.64752599151113,...        27834   \n",
       "2  (POLYGON ((-73.89680883223774 40.7958084451597...        35410   \n",
       "3  POLYGON ((-73.8442314689986 40.86942035096838,...        34030   \n",
       "4  POLYGON ((-73.87359713633828 40.83979855593596...        40757   \n",
       "\n",
       "   B28002_001E       pcBB  B00001_001E  \n",
       "0        76131  54.932945         1794  \n",
       "1        42114  66.092036         2928  \n",
       "2        52756  67.120328         2004  \n",
       "3        49817  68.310015         1959  \n",
       "4        58706  69.425612         2011  "
      ]
     },
     "execution_count": 43,
     "metadata": {},
     "output_type": "execute_result"
    }
   ],
   "source": [
    "# merge population into pumshp\n",
    "pumashp = pumashp.merge(pumaPop, left_on='public use microdata area',right_on='public use microdata area',how='inner')\n",
    "pumashp.drop(['NAME_x', 'state_x', 'public use microdata area','NAME_y', 'state_y', 'Unnamed: 4'],axis=1, inplace=True)\n",
    "pumashp.head()"
   ]
  },
  {
   "cell_type": "code",
   "execution_count": 44,
   "metadata": {},
   "outputs": [
    {
     "data": {
      "text/html": [
       "<div>\n",
       "<table border=\"1\" class=\"dataframe\">\n",
       "  <thead>\n",
       "    <tr style=\"text-align: right;\">\n",
       "      <th></th>\n",
       "      <th>puma</th>\n",
       "      <th>link_site</th>\n",
       "    </tr>\n",
       "  </thead>\n",
       "  <tbody>\n",
       "    <tr>\n",
       "      <th>0</th>\n",
       "      <td>3701</td>\n",
       "      <td>1</td>\n",
       "    </tr>\n",
       "    <tr>\n",
       "      <th>1</th>\n",
       "      <td>3705</td>\n",
       "      <td>1</td>\n",
       "    </tr>\n",
       "    <tr>\n",
       "      <th>2</th>\n",
       "      <td>3706</td>\n",
       "      <td>20</td>\n",
       "    </tr>\n",
       "    <tr>\n",
       "      <th>3</th>\n",
       "      <td>3707</td>\n",
       "      <td>29</td>\n",
       "    </tr>\n",
       "    <tr>\n",
       "      <th>4</th>\n",
       "      <td>3708</td>\n",
       "      <td>19</td>\n",
       "    </tr>\n",
       "  </tbody>\n",
       "</table>\n",
       "</div>"
      ],
      "text/plain": [
       "   puma  link_site\n",
       "0  3701          1\n",
       "1  3705          1\n",
       "2  3706         20\n",
       "3  3707         29\n",
       "4  3708         19"
      ]
     },
     "execution_count": 44,
     "metadata": {},
     "output_type": "execute_result"
    }
   ],
   "source": [
    "# get the number of link sites per puma \n",
    "linkpp = gpd.sjoin(linkNYC_ft, pumashpa_ft, how='inner')\n",
    "linkpp = linkpp[['puma', 'link_site']]\n",
    "linkpp = linkpp.groupby('puma').count()\n",
    "linkpp = linkpp.reset_index()\n",
    "linkpp.head()"
   ]
  },
  {
   "cell_type": "code",
   "execution_count": 45,
   "metadata": {},
   "outputs": [
    {
     "data": {
      "text/html": [
       "<div>\n",
       "<table border=\"1\" class=\"dataframe\">\n",
       "  <thead>\n",
       "    <tr style=\"text-align: right;\">\n",
       "      <th></th>\n",
       "      <th>puma</th>\n",
       "      <th>shape_area</th>\n",
       "      <th>shape_leng</th>\n",
       "      <th>geometry</th>\n",
       "      <th>B28002_004E</th>\n",
       "      <th>B28002_001E</th>\n",
       "      <th>pcBB</th>\n",
       "      <th>B00001_001E</th>\n",
       "      <th>link_site</th>\n",
       "    </tr>\n",
       "  </thead>\n",
       "  <tbody>\n",
       "    <tr>\n",
       "      <th>0</th>\n",
       "      <td>3809</td>\n",
       "      <td>4.869347e+07</td>\n",
       "      <td>35299.804402</td>\n",
       "      <td>(POLYGON ((-73.98237340572007 40.7055433504376...</td>\n",
       "      <td>41821</td>\n",
       "      <td>76131</td>\n",
       "      <td>54.932945</td>\n",
       "      <td>1794</td>\n",
       "      <td>62.0</td>\n",
       "    </tr>\n",
       "    <tr>\n",
       "      <th>1</th>\n",
       "      <td>4014</td>\n",
       "      <td>8.768042e+07</td>\n",
       "      <td>51089.073159</td>\n",
       "      <td>POLYGON ((-73.9781907435932 40.64752599151113,...</td>\n",
       "      <td>27834</td>\n",
       "      <td>42114</td>\n",
       "      <td>66.092036</td>\n",
       "      <td>2928</td>\n",
       "      <td>NaN</td>\n",
       "    </tr>\n",
       "    <tr>\n",
       "      <th>2</th>\n",
       "      <td>3710</td>\n",
       "      <td>1.377966e+08</td>\n",
       "      <td>91086.012338</td>\n",
       "      <td>(POLYGON ((-73.89680883223774 40.7958084451597...</td>\n",
       "      <td>35410</td>\n",
       "      <td>52756</td>\n",
       "      <td>67.120328</td>\n",
       "      <td>2004</td>\n",
       "      <td>19.0</td>\n",
       "    </tr>\n",
       "    <tr>\n",
       "      <th>3</th>\n",
       "      <td>3702</td>\n",
       "      <td>1.889860e+08</td>\n",
       "      <td>106050.002302</td>\n",
       "      <td>POLYGON ((-73.8442314689986 40.86942035096838,...</td>\n",
       "      <td>34030</td>\n",
       "      <td>49817</td>\n",
       "      <td>68.310015</td>\n",
       "      <td>1959</td>\n",
       "      <td>NaN</td>\n",
       "    </tr>\n",
       "    <tr>\n",
       "      <th>4</th>\n",
       "      <td>3705</td>\n",
       "      <td>1.224951e+08</td>\n",
       "      <td>68657.316149</td>\n",
       "      <td>POLYGON ((-73.87359713633828 40.83979855593596...</td>\n",
       "      <td>40757</td>\n",
       "      <td>58706</td>\n",
       "      <td>69.425612</td>\n",
       "      <td>2011</td>\n",
       "      <td>1.0</td>\n",
       "    </tr>\n",
       "  </tbody>\n",
       "</table>\n",
       "</div>"
      ],
      "text/plain": [
       "   puma    shape_area     shape_leng  \\\n",
       "0  3809  4.869347e+07   35299.804402   \n",
       "1  4014  8.768042e+07   51089.073159   \n",
       "2  3710  1.377966e+08   91086.012338   \n",
       "3  3702  1.889860e+08  106050.002302   \n",
       "4  3705  1.224951e+08   68657.316149   \n",
       "\n",
       "                                            geometry  B28002_004E  \\\n",
       "0  (POLYGON ((-73.98237340572007 40.7055433504376...        41821   \n",
       "1  POLYGON ((-73.9781907435932 40.64752599151113,...        27834   \n",
       "2  (POLYGON ((-73.89680883223774 40.7958084451597...        35410   \n",
       "3  POLYGON ((-73.8442314689986 40.86942035096838,...        34030   \n",
       "4  POLYGON ((-73.87359713633828 40.83979855593596...        40757   \n",
       "\n",
       "   B28002_001E       pcBB  B00001_001E  link_site  \n",
       "0        76131  54.932945         1794       62.0  \n",
       "1        42114  66.092036         2928        NaN  \n",
       "2        52756  67.120328         2004       19.0  \n",
       "3        49817  68.310015         1959        NaN  \n",
       "4        58706  69.425612         2011        1.0  "
      ]
     },
     "execution_count": 45,
     "metadata": {},
     "output_type": "execute_result"
    }
   ],
   "source": [
    "# merge back into pumashp \n",
    "pumashp = pumashp.merge(linkpp, on='puma', how='outer')\n",
    "pumashp.head()"
   ]
  },
  {
   "cell_type": "code",
   "execution_count": 46,
   "metadata": {},
   "outputs": [
    {
     "name": "stderr",
     "output_type": "stream",
     "text": [
      "/usr/local/Anaconda3-5.0.0-Linux-x86_64/envs/PUI2016_Python3/lib/python3.5/site-packages/numpy/lib/function_base.py:3403: RuntimeWarning: Invalid value encountered in median\n",
      "  RuntimeWarning)\n"
     ]
    },
    {
     "data": {
      "text/plain": [
       "count    37.000000\n",
       "mean      2.327677\n",
       "std       3.328955\n",
       "min       0.049727\n",
       "25%            NaN\n",
       "50%            NaN\n",
       "75%            NaN\n",
       "max      15.141540\n",
       "Name: linkNYCp100p, dtype: float64"
      ]
     },
     "execution_count": 46,
     "metadata": {},
     "output_type": "execute_result"
    }
   ],
   "source": [
    "# linkNYC per 100 inhabitants\n",
    "pumashp['linkNYCp100p'] = (pumashp['link_site'] / pumashp['B00001_001E'] * 100)\n",
    "pumashp['linkNYCp100p'].describe()"
   ]
  },
  {
   "cell_type": "code",
   "execution_count": 47,
   "metadata": {},
   "outputs": [],
   "source": [
    "# sort by linkNYCp100p\n",
    "pumashp = pumashp.sort_values('linkNYCp100p')\n",
    "pumashp = pumashp.reset_index()\n",
    "#pumashpa_ft.head()"
   ]
  },
  {
   "cell_type": "markdown",
   "metadata": {},
   "source": [
    "## Plot the linkNYC locations on top of a choropleth of number of stations per 100 people in 10 equal intervals"
   ]
  },
  {
   "cell_type": "code",
   "execution_count": 48,
   "metadata": {},
   "outputs": [
    {
     "name": "stderr",
     "output_type": "stream",
     "text": [
      "/usr/local/Anaconda3-5.0.0-Linux-x86_64/envs/PUI2016_Python3/lib/python3.5/site-packages/numpy/lib/function_base.py:3142: RuntimeWarning: Invalid value encountered in median\n",
      "  RuntimeWarning)\n",
      "/usr/local/Anaconda3-5.0.0-Linux-x86_64/envs/PUI2016_Python3/lib/python3.5/site-packages/geopandas/plotting.py:389: UserWarning: Only specify one of 'column' or 'color'. Using 'color'.\n",
      "  \"'color'.\", UserWarning)\n"
     ]
    },
    {
     "data": {
      "image/png": "[encoded data removed]",
      "text/plain": [
       "<matplotlib.figure.Figure at 0x7f727f7e18d0>"
      ]
     },
     "metadata": {},
     "output_type": "display_data"
    }
   ],
   "source": [
    "# plot linkNYC locations on top of a choropleth \n",
    "f, ax = plt.subplots(figsize=(10,10))\n",
    "ax.get_xaxis().set_visible(False)\n",
    "ax.get_yaxis().set_visible(False)\n",
    "pumashp.plot(column='linkNYCp100p',cmap='gist_gray_r',linewidth=0.1,ax=ax,scheme=\"Equal_interval\", legend=True, k=10)\n",
    "#pumashp.plot(column='linkNYCp100p',cmap='gist_gray_r',alpha=1,linewidth=0.1,ax=ax, scheme=\"Equal_interval\", legend=True, k=10)\n",
    "linkNYC.plot('lonlat', ax = ax, color='red', markersize=2)\n",
    "plt.title(\"LinkNYC Locations per 100 People by PUMA overlayed with LinkNYC Locations\", fontsize=20)\n",
    "ax.set_aspect(1.25)"
   ]
  },
  {
   "cell_type": "markdown",
   "metadata": {},
   "source": [
    "Figure 4: Choropleth of number of LinkNYC locations per 100 residents overlayed by LinkNYC locations (red dots). We see that the highest number of LinkNYC locations are in Manhattan, where there is also the highest number of LinkNYC locations per 100 residents (around 12 or 13 locations per 100 residents in midtown and upper Manhattan). Almost everywhere else (the Bronx, Brooklyn, Queens, Staten Island) there are a much lower number of LinkNYC locations per 100 residents - between 0 and 6 locations per 100 residents. \n",
    "\n",
    "I do not know why the scale of this map changed to be incorrect for the outline of NYC and the boroughs. I used the same code as my previous choropleth, and I'm not sure why this has changed. "
   ]
  },
  {
   "cell_type": "code",
   "execution_count": null,
   "metadata": {},
   "outputs": [],
   "source": []
  }
 ],
 "metadata": {
  "kernelspec": {
   "display_name": "PUI2016_Python3",
   "language": "python",
   "name": "pui2016_python3"
  },
  "language_info": {
   "codemirror_mode": {
    "name": "ipython",
    "version": 3
   },
   "file_extension": ".py",
   "mimetype": "text/x-python",
   "name": "python",
   "nbconvert_exporter": "python",
   "pygments_lexer": "ipython3",
   "version": "3.5.4"
  }
 },
 "nbformat": 4,
 "nbformat_minor": 2
}
