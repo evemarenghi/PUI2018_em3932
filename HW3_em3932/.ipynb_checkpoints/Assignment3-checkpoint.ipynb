{
 "cells": [
  {
   "cell_type": "code",
   "execution_count": 5,
   "metadata": {},
   "outputs": [],
   "source": [
    "import requests\n",
    "import json"
   ]
  },
  {
   "cell_type": "code",
   "execution_count": 28,
   "metadata": {},
   "outputs": [
    {
     "data": {
      "text/plain": [
       "{'Siri': {'ServiceDelivery': {'ResponseTimestamp': '2018-09-21T08:49:29.047-04:00',\n",
       "   'VehicleMonitoringDelivery': [{'ErrorCondition': {'Description': 'API key required.',\n",
       "      'OtherError': {'ErrorText': 'API key required.'}},\n",
       "     'ResponseTimestamp': '2018-09-21T08:49:29.047-04:00'}]}}}"
      ]
     },
     "execution_count": 28,
     "metadata": {},
     "output_type": "execute_result"
    }
   ],
   "source": [
    "response = requests.get(\"http://bustime.mta.info/api/siri/vehicle-monitoring.json\")\n",
    "response.json()"
   ]
  },
  {
   "cell_type": "code",
   "execution_count": 38,
   "metadata": {},
   "outputs": [],
   "source": [
    "url = \"http://bustime.mta.info/api/siri/vehicle-monitoring.json\"\n",
    "#apikey = \"de94a0e0-e2ae-4b25-85bb-8b4af8579a63\"\n",
    "params = {\"key\":\"de94a0e0-e2ae-4b25-85bb-8b4af8579a63\"}\n",
    "response = requests.get(url, params=params)"
   ]
  },
  {
   "cell_type": "code",
   "execution_count": 36,
   "metadata": {},
   "outputs": [],
   "source": [
    "url = \"http://bustime.mta.info/api/siri/MonitoredVehicleJourney.json\"\n",
    "#apikey = \"de94a0e0-e2ae-4b25-85bb-8b4af8579a63\"\n",
    "params = {\"key\":\"de94a0e0-e2ae-4b25-85bb-8b4af8579a63\"}\n",
    "response = requests.get(url, params=params)"
   ]
  },
  {
   "cell_type": "code",
   "execution_count": 43,
   "metadata": {},
   "outputs": [
    {
     "data": {
      "text/plain": [
       "dict"
      ]
     },
     "execution_count": 43,
     "metadata": {},
     "output_type": "execute_result"
    }
   ],
   "source": [
    "data = response.json()\n",
    "type(data)"
   ]
  },
  {
   "cell_type": "code",
   "execution_count": 48,
   "metadata": {},
   "outputs": [
    {
     "name": "stdout",
     "output_type": "stream",
     "text": [
      "dict_keys(['Siri'])\n"
     ]
    }
   ],
   "source": [
    "print(data.keys())"
   ]
  },
  {
   "cell_type": "code",
   "execution_count": 24,
   "metadata": {},
   "outputs": [],
   "source": [
    "response = requests.get(\"http://bustime.mta.info/api/siri/vehicle-monitoring.json?limit=1&api_key=de94a0e0-e2ae-4b25-85bb-8b4af8579a63\")"
   ]
  },
  {
   "cell_type": "code",
   "execution_count": 25,
   "metadata": {},
   "outputs": [
    {
     "name": "stdout",
     "output_type": "stream",
     "text": [
      "<Response [401]>\n"
     ]
    }
   ],
   "source": [
    "print(response)"
   ]
  },
  {
   "cell_type": "code",
   "execution_count": 21,
   "metadata": {},
   "outputs": [],
   "source": [
    "data = response.json()"
   ]
  },
  {
   "cell_type": "code",
   "execution_count": 22,
   "metadata": {},
   "outputs": [
    {
     "name": "stdout",
     "output_type": "stream",
     "text": [
      "{'Siri': {'ServiceDelivery': {'ResponseTimestamp': '2018-09-21T08:40:32.540-04:00', 'VehicleMonitoringDelivery': [{'ResponseTimestamp': '2018-09-21T08:40:32.540-04:00', 'ErrorCondition': {'Description': 'API key required.', 'OtherError': {'ErrorText': 'API key required.'}}}]}}}\n"
     ]
    }
   ],
   "source": [
    "print(data)"
   ]
  },
  {
   "cell_type": "code",
   "execution_count": 10,
   "metadata": {},
   "outputs": [
    {
     "name": "stdout",
     "output_type": "stream",
     "text": [
      "{'X-Amz-Cf-Id': '6saVkTKJSoujxTSh10lj-r9ZanceP-N3IiZjiZzCqAOeWYCCrYn_OA==', 'X-Cache': 'Hit from cloudfront', 'Server': 'Apache-Coyote/1.1', 'Via': '1.1 1812e89bb1ca19afd4131733a1457d85.cloudfront.net (CloudFront)', 'Age': '29', 'Connection': 'keep-alive', 'Date': 'Fri, 21 Sep 2018 12:18:32 GMT', 'Transfer-Encoding': 'chunked'}\n"
     ]
    }
   ],
   "source": [
    "print(response.headers)"
   ]
  },
  {
   "cell_type": "code",
   "execution_count": null,
   "metadata": {},
   "outputs": [],
   "source": []
  }
 ],
 "metadata": {
  "kernelspec": {
   "display_name": "PUI2016_Python3",
   "language": "python",
   "name": "pui2016_python3"
  },
  "language_info": {
   "codemirror_mode": {
    "name": "ipython",
    "version": 3
   },
   "file_extension": ".py",
   "mimetype": "text/x-python",
   "name": "python",
   "nbconvert_exporter": "python",
   "pygments_lexer": "ipython3",
   "version": "3.5.4"
  }
 },
 "nbformat": 4,
 "nbformat_minor": 2
}
