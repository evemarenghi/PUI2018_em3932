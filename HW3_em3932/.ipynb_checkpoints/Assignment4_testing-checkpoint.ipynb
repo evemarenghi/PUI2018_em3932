{
 "cells": [
  {
   "cell_type": "code",
   "execution_count": 2,
   "metadata": {},
   "outputs": [],
   "source": [
    "import requests\n",
    "import os \n",
    "import json\n",
    "import sys \n",
    "from urllib.request import Request, urlopen"
   ]
  },
  {
   "cell_type": "code",
   "execution_count": 3,
   "metadata": {},
   "outputs": [],
   "source": [
    "try: \n",
    "    import urllib2 as urllib\n",
    "except ImportError: \n",
    "    import urllib.request as urllib"
   ]
  },
  {
   "cell_type": "code",
   "execution_count": 42,
   "metadata": {},
   "outputs": [
    {
     "name": "stdout",
     "output_type": "stream",
     "text": [
      "Bus Line: M96\n"
     ]
    }
   ],
   "source": [
    "bus_line = \"M96\"\n",
    "print(\"Bus Line: \" + bus_line)"
   ]
  },
  {
   "cell_type": "code",
   "execution_count": 43,
   "metadata": {},
   "outputs": [],
   "source": [
    "url = \"http://bustime.mta.info/api/siri/vehicle-monitoring.json?key=\"\n",
    "key = \"de94a0e0-e2ae-4b25-85bb-8b4af8579a63\"\n",
    "url2 = \"&VehicleMonitoringDetailLevel=calls&LineRef=\""
   ]
  },
  {
   "cell_type": "code",
   "execution_count": 44,
   "metadata": {},
   "outputs": [
    {
     "name": "stdout",
     "output_type": "stream",
     "text": [
      "http://bustime.mta.info/api/siri/vehicle-monitoring.json?key=de94a0e0-e2ae-4b25-85bb-8b4af8579a63&VehicleMonitoringDetailLevel=calls&LineRef=M96\n"
     ]
    }
   ],
   "source": [
    "pass_url = url + key + url2 + bus_line\n",
    "print(pass_url)"
   ]
  },
  {
   "cell_type": "code",
   "execution_count": 39,
   "metadata": {},
   "outputs": [],
   "source": [
    "response = urllib.urlopen(pass_url)\n",
    "data = response.read().decode('utf-8')\n",
    "data = json.loads(data)"
   ]
  },
  {
   "cell_type": "code",
   "execution_count": 151,
   "metadata": {},
   "outputs": [
    {
     "name": "stdout",
     "output_type": "stream",
     "text": [
      "Latitude,Longitude,Stop Name, Stop Status\n",
      "40.794506,-73.971465,W 96 ST/BROADWAY,at stop\n",
      "40.787084,-73.953851,E 96 ST/MADISON AV,at stop\n",
      "40.791774,-73.965011,W 96 ST/CENTRAL PK W,at stop\n",
      "40.78422,-73.947037,E 96 ST/2 AV,at stop\n",
      "40.79414,-73.970603,W 96 ST/AMSTERDAM AV,approaching\n",
      "40.79223,-73.96609,W 96 ST/CENTRAL PK W,approaching\n",
      "40.787144,-73.953995,E 97 ST/5 AV,< 1 stop away\n",
      "40.784921,-73.946586,E 96 ST/3 AV,< 1 stop away\n"
     ]
    }
   ],
   "source": [
    "bus_number = 0 \n",
    "print('Latitude,Longitude,Stop Name, Stop Status')\n",
    "for i in bus_data:\n",
    "    bus_stop_info = (str(i['MonitoredVehicleJourney']['VehicleLocation']['Latitude']) + \",\" +\n",
    "         str(i['MonitoredVehicleJourney']['VehicleLocation']['Longitude']) + \",\" + str(i['MonitoredVehicleJourney']['OnwardCalls']['OnwardCall'][0]['StopPointName'])\n",
    "         + \",\" + str(i['MonitoredVehicleJourney']['OnwardCalls']['OnwardCall'][0]['Extensions']['Distances']['PresentableDistance']))\n",
    "    print(bus_stop_info)\n",
    "    bus_number += 1"
   ]
  },
  {
   "cell_type": "code",
   "execution_count": 35,
   "metadata": {},
   "outputs": [],
   "source": [
    "output_file = open(\"bus_output_test.csv\", \"w\")"
   ]
  },
  {
   "cell_type": "code",
   "execution_count": 21,
   "metadata": {},
   "outputs": [],
   "source": [
    "bus_number = 0 \n",
    "output_file.write(\"Latitude,Longitude,Stop Name, Stop Status\\n\")\n",
    "for i in bus_data:\n",
    "    bus_stop_info = (str(i['MonitoredVehicleJourney']['VehicleLocation']['Latitude']) + \",\" +\n",
    "         str(i['MonitoredVehicleJourney']['VehicleLocation']['Longitude']) + \",\" + str(i['MonitoredVehicleJourney']['OnwardCalls']['OnwardCall'][0]['StopPointName'])\n",
    "         + \",\" + str(i['MonitoredVehicleJourney']['OnwardCalls']['OnwardCall'][0]['Extensions']['Distances']['PresentableDistance']))\n",
    "    output_file.write(\"%s\\n\" % bus_stop_info)\n",
    "    bus_number += 1\n",
    "\n",
    "output_file.close()\n"
   ]
  },
  {
   "cell_type": "code",
   "execution_count": 13,
   "metadata": {},
   "outputs": [
    {
     "name": "stdout",
     "output_type": "stream",
     "text": [
      "[{'RecordedAtTime': '2018-09-24T17:23:17.000-04:00', 'MonitoredVehicleJourney': {'MonitoredCall': {'StopPointName': 'E 97 ST/2 AV', 'Extensions': {'Distances': {'PresentableDistance': 'at stop', 'StopsFromCall': 0, 'CallDistanceAlongRoute': 87.22, 'DistanceFromCall': 0.0}}, 'VisitNumber': 1, 'StopPointRef': 'MTA_403632'}, 'DirectionRef': '1', 'JourneyPatternRef': 'MTA_M960091', 'OperatorRef': 'MTA NYCT', 'FramedVehicleJourneyRef': {'DataFrameRef': '2018-09-24', 'DatedVehicleJourneyRef': 'MTA NYCT_MV_D8-Weekday-SDon-104300_M96_23'}, 'SituationRef': [{'SituationSimpleRef': 'MTA NYCT_201975'}, {'SituationSimpleRef': 'MTABC_006cadec-9425-407b-9693-26ea35f7028c'}], 'ProgressRate': 'normalProgress', 'Monitored': True, 'OnwardCalls': {'OnwardCall': [{'Extensions': {'Distances': {'PresentableDistance': 'at stop', 'StopsFromCall': 0, 'CallDistanceAlongRoute': 87.22, 'DistanceFromCall': 0.0}}, 'StopPointName': 'E 97 ST/2 AV', 'StopPointRef': 'MTA_403632'}, {'ExpectedArrivalTime': '2018-09-24T17:25:07.251-04:00', 'Extensions': {'Distances': {'PresentableDistance': '1 stop away', 'StopsFromCall': 1, 'CallDistanceAlongRoute': 423.82, 'DistanceFromCall': 336.6}}, 'StopPointName': 'E 96 ST/3 AV', 'StopPointRef': 'MTA_401957'}, {'ExpectedArrivalTime': '2018-09-24T17:27:04.251-04:00', 'Extensions': {'Distances': {'PresentableDistance': '2 stops away', 'StopsFromCall': 2, 'CallDistanceAlongRoute': 594.97, 'DistanceFromCall': 507.76}}, 'StopPointName': 'E 96 ST/LEXINGTON AV', 'StopPointRef': 'MTA_401958'}, {'ExpectedArrivalTime': '2018-09-24T17:29:25.051-04:00', 'Extensions': {'Distances': {'PresentableDistance': '3 stops away', 'StopsFromCall': 3, 'CallDistanceAlongRoute': 850.17, 'DistanceFromCall': 762.96}}, 'StopPointName': 'E 96 ST/MADISON AV', 'StopPointRef': 'MTA_401960'}, {'ExpectedArrivalTime': '2018-09-24T17:32:59.651-04:00', 'Extensions': {'Distances': {'PresentableDistance': '0.6 miles away', 'StopsFromCall': 4, 'CallDistanceAlongRoute': 1096.86, 'DistanceFromCall': 1009.64}}, 'StopPointName': 'E 97 ST/5 AV', 'StopPointRef': 'MTA_401961'}, {'ExpectedArrivalTime': '2018-09-24T17:36:57.851-04:00', 'Extensions': {'Distances': {'PresentableDistance': '1.2 miles away', 'StopsFromCall': 5, 'CallDistanceAlongRoute': 1996.82, 'DistanceFromCall': 1909.61}}, 'StopPointName': 'CENTRAL PK W/W 97 ST', 'StopPointRef': 'MTA_401331'}, {'ExpectedArrivalTime': '2018-09-24T17:40:07.451-04:00', 'Extensions': {'Distances': {'PresentableDistance': '1.4 miles away', 'StopsFromCall': 6, 'CallDistanceAlongRoute': 2377.1, 'DistanceFromCall': 2289.88}}, 'StopPointName': 'W 96 ST/COLUMBUS AV', 'StopPointRef': 'MTA_404075'}, {'ExpectedArrivalTime': '2018-09-24T17:41:35.851-04:00', 'Extensions': {'Distances': {'PresentableDistance': '1.6 miles away', 'StopsFromCall': 7, 'CallDistanceAlongRoute': 2596.1, 'DistanceFromCall': 2508.88}}, 'StopPointName': 'W 96 ST/AMSTERDAM AV', 'StopPointRef': 'MTA_401964'}, {'ExpectedArrivalTime': '2018-09-24T17:43:01.051-04:00', 'Extensions': {'Distances': {'PresentableDistance': '1.6 miles away', 'StopsFromCall': 8, 'CallDistanceAlongRoute': 2726.03, 'DistanceFromCall': 2638.81}}, 'StopPointName': 'W 96 ST/BROADWAY', 'StopPointRef': 'MTA_401965'}, {'ExpectedArrivalTime': '2018-09-24T17:45:34.251-04:00', 'Extensions': {'Distances': {'PresentableDistance': '1.8 miles away', 'StopsFromCall': 9, 'CallDistanceAlongRoute': 2949.28, 'DistanceFromCall': 2862.06}}, 'StopPointName': 'W 97 ST/WEST END AV', 'StopPointRef': 'MTA_401966'}, {'ExpectedArrivalTime': '2018-09-24T17:47:11.851-04:00', 'Extensions': {'Distances': {'PresentableDistance': '1.9 miles away', 'StopsFromCall': 10, 'CallDistanceAlongRoute': 3080.53, 'DistanceFromCall': 2993.31}}, 'StopPointName': 'W 96 ST/WEST END AV', 'StopPointRef': 'MTA_903004'}]}, 'LineRef': 'MTA NYCT_M96', 'PublishedLineName': 'M96', 'DestinationName': 'WEST SIDE WEST END AV CROSSTOWN', 'OriginRef': 'MTA_401954', 'VehicleRef': 'MTA NYCT_6646', 'Bearing': 157.1315, 'BlockRef': 'MTA NYCT_MV_D8-Weekday-SDon_E_MV_28020_M96-17', 'VehicleLocation': {'Longitude': -73.946433, 'Latitude': 40.784856}, 'DestinationRef': 'MTA_903004'}}]\n"
     ]
    }
   ],
   "source": [
    "print(bus_data[0:1])"
   ]
  },
  {
   "cell_type": "code",
   "execution_count": 45,
   "metadata": {},
   "outputs": [],
   "source": [
    "bus_data_test = [{'RecordedAtTime': '2018-09-24T15:25:13.000-04:00', 'MonitoredVehicleJourney': {'BlockRef': 'MTA NYCT_MV_D8-Weekday-SDon_E_MV_24840_M96-9', 'MonitoredCall': {'ExpectedArrivalTime': '2018-09-24T15:25:40.337-04:00', 'Extensions': {'Distances': {'CallDistanceAlongRoute': 850.17, 'StopsFromCall': 0, 'PresentableDistance': 'at stop', 'DistanceFromCall': 5.21}}, 'VisitNumber': 1, 'StopPointName': 'E 96 ST/MADISON AV', 'StopPointRef': 'MTA_401960', 'ExpectedDepartureTime': '2018-09-24T15:25:40.337-04:00'}, 'DirectionRef': '1', 'LineRef': 'MTA NYCT_M96', 'PublishedLineName': 'M96', 'ProgressRate': 'normalProgress', 'JourneyPatternRef': 'MTA_M960091', 'OriginRef': 'MTA_401954', 'DestinationName': 'WEST SIDE WEST END AV CROSSTOWN', 'FramedVehicleJourneyRef': {'DatedVehicleJourneyRef': 'MTA NYCT_MV_D8-Weekday-SDon-089300_M96_8', 'DataFrameRef': '2018-09-24'}, 'Bearing': 157.18608, 'VehicleLocation': {'Longitude': -73.953904, 'Latitude': 40.787106}, 'VehicleRef': 'MTA NYCT_6420', 'DestinationRef': 'MTA_903004', 'SituationRef': [{'SituationSimpleRef': 'MTA NYCT_201975'}, {'SituationSimpleRef': 'MTABC_006cadec-9425-407b-9693-26ea35f7028c'}], 'OnwardCalls': {}}}]"
   ]
  },
  {
   "cell_type": "code",
   "execution_count": 10,
   "metadata": {},
   "outputs": [
    {
     "ename": "SyntaxError",
     "evalue": "invalid syntax (<ipython-input-10-1f98cf7a3376>, line 1)",
     "output_type": "error",
     "traceback": [
      "\u001b[0;36m  File \u001b[0;32m\"<ipython-input-10-1f98cf7a3376>\"\u001b[0;36m, line \u001b[0;32m1\u001b[0m\n\u001b[0;31m    bus_data_test2 = [{'RecordedAtTime': '2018-09-24T17:23:17.000-04:00', 'MonitoredVehicleJourney': {'MonitoredCall': {'StopPointName': 'E 97 ST/2 AV', 'Extensions': {'Distances': {'PresentableDistance': 'at stop', 'StopsFromCall': 0, 'CallDistanceAlongRoute': 87.22, 'DistanceFromCall': 0.0}}, 'VisitNumber': 1, 'StopPointRef': 'MTA_403632'}, 'DirectionRef': '1', 'JourneyPatternRef': 'MTA_M960091', 'OperatorRef': 'MTA NYCT', 'FramedVehicleJourneyRef': {'DataFrameRef': '2018-09-24', 'DatedVehicleJourneyRef': 'MTA NYCT_MV_D8-Weekday-SDon-104300_M96_23'}, 'SituationRef': [{'SituationSimpleRef': 'MTA NYCT_201975'}, {'SituationSimpleRef': 'MTABC_006cadec-9425-407b-9693-26ea35f7028c'}], 'ProgressRate': 'normalProgress', 'Monitored': True, 'OnwardCalls': {'OnwardCall': {}}}], 'LineRef': 'MTA NYCT_M96', 'PublishedLineName': 'M96', 'DestinationName': 'WEST SIDE WEST END AV CROSSTOWN', 'OriginRef': 'MTA_401954', 'VehicleRef': 'MTA NYCT_6646', 'Bearing': 157.1315, 'BlockRef': 'MTA NYCT_MV_D8-Weekday-SDon_E_MV_28020_M96-17', 'VehicleLocation': {'Longitude': -73.946433, 'Latitude': 40.784856}, 'DestinationRef': 'MTA_903004'}}, {'RecordedAtTime': '2018-09-24T17:23:19.000-04:00', 'MonitoredVehicleJourney': {'MonitoredCall': {'ExpectedArrivalTime': '2018-09-24T17:23:31.169-04:00', 'ExpectedDepartureTime': '2018-09-24T17:23:31.169-04:00', 'VisitNumber': 1, 'Extensions': {'Distances': {'PresentableDistance': 'at stop', 'StopsFromCall': 0, 'CallDistanceAlongRoute': 1096.86, 'DistanceFromCall': 4.2}}, 'StopPointName': 'E 97 ST/5 AV', 'StopPointRef': 'MTA_401961'}, 'DirectionRef': '1', 'JourneyPatternRef': 'MTA_M960091', 'OperatorRef': 'MTA NYCT', 'FramedVehicleJourneyRef': {'DataFrameRef': '2018-09-24', 'DatedVehicleJourneyRef': 'MTA NYCT_MV_D8-Weekday-SDon-102800_M96_25'}, 'SituationRef': [{'SituationSimpleRef': 'MTA NYCT_201975'}, {'SituationSimpleRef': 'MTABC_006cadec-9425-407b-9693-26ea35f7028c'}], 'ProgressRate': 'normalProgress', 'Monitored': True, 'OnwardCalls': {'OnwardCall': [{'ExpectedArrivalTime': '2018-09-24T17:23:30.169-04:00', 'Extensions': {'Distances': {'PresentableDistance': 'at stop', 'StopsFromCall': 0, 'CallDistanceAlongRoute': 1096.86, 'DistanceFromCall': 4.2}}, 'StopPointName': 'E 97 ST/5 AV', 'StopPointRef': 'MTA_401961'}, {'ExpectedArrivalTime': '2018-09-24T17:27:20.852-04:00', 'Extensions': {'Distances': {'PresentableDistance': '0.6 miles away', 'StopsFromCall': 1, 'CallDistanceAlongRoute': 1996.82, 'DistanceFromCall': 904.17}}, 'StopPointName': 'CENTRAL PK W/W 97 ST', 'StopPointRef': 'MTA_401331'}, {'ExpectedArrivalTime': '2018-09-24T17:30:30.452-04:00', 'Extensions': {'Distances': {'PresentableDistance': '0.8 miles away', 'StopsFromCall': 2, 'CallDistanceAlongRoute': 2377.1, 'DistanceFromCall': 1284.44}}, 'StopPointName': 'W 96 ST/COLUMBUS AV', 'StopPointRef': 'MTA_404075'}, {'ExpectedArrivalTime': '2018-09-24T17:31:58.852-04:00', 'Extensions': {'Distances': {'PresentableDistance': '0.9 miles away', 'StopsFromCall': 3, 'CallDistanceAlongRoute': 2596.1, 'DistanceFromCall': 1503.44}}, 'StopPointName': 'W 96 ST/AMSTERDAM AV', 'StopPointRef': 'MTA_401964'}, {'ExpectedArrivalTime': '2018-09-24T17:33:24.052-04:00', 'Extensions': {'Distances': {'PresentableDistance': '1.0 miles away', 'StopsFromCall': 4, 'CallDistanceAlongRoute': 2726.03, 'DistanceFromCall': 1633.37}}, 'StopPointName': 'W 96 ST/BROADWAY', 'StopPointRef': 'MTA_401965'}, {'ExpectedArrivalTime': '2018-09-24T17:35:57.252-04:00', 'Extensions': {'Distances': {'PresentableDistance': '1.2 miles away', 'StopsFromCall': 5, 'CallDistanceAlongRoute': 2949.28, 'DistanceFromCall': 1856.62}}, 'StopPointName': 'W 97 ST/WEST END AV', 'StopPointRef': 'MTA_401966'}, {'ExpectedArrivalTime': '2018-09-24T17:37:34.852-04:00', 'Extensions': {'Distances': {'PresentableDistance': '1.2 miles away', 'StopsFromCall': 6, 'CallDistanceAlongRoute': 3080.53, 'DistanceFromCall': 1987.87}}, 'StopPointName': 'W 96 ST/WEST END AV', 'StopPointRef': 'MTA_903004'}]}, 'LineRef': 'MTA NYCT_M96', 'PublishedLineName': 'M96', 'DestinationName': 'WEST SIDE WEST END AV CROSSTOWN', 'OriginRef': 'MTA_401954', 'VehicleRef': 'MTA NYCT_6418', 'Bearing': 157.39146, 'BlockRef': 'MTA NYCT_MV_D8-Weekday-SDon_E_MV_27600_M96-16', 'VehicleLocation': {'Longitude': -73.955066, 'Latitude': 40.788484}, 'DestinationRef': 'MTA_903004'}}, {'RecordedAtTime': '2018-09-24T17:23:00.000-04:00', 'MonitoredVehicleJourney': {'MonitoredCall': {'ExpectedArrivalTime': '2018-09-24T17:23:31.169-04:00', 'ExpectedDepartureTime': '2018-09-24T17:23:31.169-04:00', 'VisitNumber': 1, 'Extensions': {'Distances': {'PresentableDistance': 'at stop', 'StopsFromCall': 0, 'CallDistanceAlongRoute': 532.87, 'DistanceFromCall': 17.24}}, 'StopPointName': 'W 96 ST/COLUMBUS AV', 'StopPointRef': 'MTA_401936'}, 'DirectionRef': '0', 'JourneyPatternRef': 'MTA_M960090', 'OperatorRef': 'MTA NYCT', 'FramedVehicleJourneyRef': {'DataFrameRef': '2018-09-24', 'DatedVehicleJourneyRef': 'MTA NYCT_MV_D8-Weekday-SDon-103800_M96_30'}, 'SituationRef': [{'SituationSimpleRef': 'MTA NYCT_96bdd2c1-e529-40d5-bc35-be7f791e889d'}, {'SituationSimpleRef': 'MTABC_006cadec-9425-407b-9693-26ea35f7028c'}], 'ProgressRate': 'normalProgress', 'Monitored': True, 'OnwardCalls': {'OnwardCall': [{'ExpectedArrivalTime': '2018-09-24T17:23:30.169-04:00', 'Extensions': {'Distances': {'PresentableDistance': 'at stop', 'StopsFromCall': 0, 'CallDistanceAlongRoute': 532.87, 'DistanceFromCall': 17.24}}, 'StopPointName': 'W 96 ST/COLUMBUS AV', 'StopPointRef': 'MTA_401936'}, {'ExpectedArrivalTime': '2018-09-24T17:24:28.372-04:00', 'Extensions': {'Distances': {'PresentableDistance': '1 stop away', 'StopsFromCall': 1, 'CallDistanceAlongRoute': 746.14, 'DistanceFromCall': 230.51}}, 'StopPointName': 'W 96 ST/CENTRAL PK W', 'StopPointRef': 'MTA_401937'}, {'ExpectedArrivalTime': '2018-09-24T17:29:35.772-04:00', 'Extensions': {'Distances': {'PresentableDistance': '0.8 miles away', 'StopsFromCall': 2, 'CallDistanceAlongRoute': 1731.85, 'DistanceFromCall': 1216.22}}, 'StopPointName': 'E 96 ST/5 AV', 'StopPointRef': 'MTA_404087'}, {'ExpectedArrivalTime': '2018-09-24T17:32:18.572-04:00', 'Extensions': {'Distances': {'PresentableDistance': '0.8 miles away', 'StopsFromCall': 3, 'CallDistanceAlongRoute': 1883.11, 'DistanceFromCall': 1367.48}}, 'StopPointName': 'E 96 ST/MADISON AV', 'StopPointRef': 'MTA_401939'}, {'ExpectedArrivalTime': '2018-09-24T17:34:13.372-04:00', 'Extensions': {'Distances': {'PresentableDistance': '1.0 miles away', 'StopsFromCall': 4, 'CallDistanceAlongRoute': 2139.17, 'DistanceFromCall': 1623.54}}, 'StopPointName': 'E 96 ST/LEXINGTON AV', 'StopPointRef': 'MTA_401941'}, {'ExpectedArrivalTime': '2018-09-24T17:37:07.372-04:00', 'Extensions': {'Distances': {'PresentableDistance': '1.1 miles away', 'StopsFromCall': 5, 'CallDistanceAlongRoute': 2350.55, 'DistanceFromCall': 1834.92}}, 'StopPointName': 'E 96 ST/3 AV', 'StopPointRef': 'MTA_401942'}, {'ExpectedArrivalTime': '2018-09-24T17:39:06.172-04:00', 'Extensions': {'Distances': {'PresentableDistance': '1.3 miles away', 'StopsFromCall': 6, 'CallDistanceAlongRoute': 2550.03, 'DistanceFromCall': 2034.4}}, 'StopPointName': 'E 96 ST/2 AV', 'StopPointRef': 'MTA_401943'}, {'ExpectedArrivalTime': '2018-09-24T17:41:03.562-04:00', 'Extensions': {'Distances': {'PresentableDistance': '1.5 miles away', 'StopsFromCall': 7, 'CallDistanceAlongRoute': 2899.95, 'DistanceFromCall': 2384.32}}, 'StopPointName': 'E 97 ST/1 AV', 'StopPointRef': 'MTA_903003'}]}, 'LineRef': 'MTA NYCT_M96', 'PublishedLineName': 'M96', 'DestinationName': 'EAST SIDE 1 AV CROSSTOWN', 'OriginRef': 'MTA_401933', 'VehicleRef': 'MTA NYCT_6392', 'Bearing': 336.48712, 'BlockRef': 'MTA NYCT_MV_D8-Weekday-SDon_E_MV_48600_M96-30', 'VehicleLocation': {'Longitude': -73.967287, 'Latitude': 40.792748}, 'DestinationRef': 'MTA_903003'}}, {'RecordedAtTime': '2018-09-24T17:23:16.000-04:00', 'MonitoredVehicleJourney': {'MonitoredCall': {'ExpectedArrivalTime': '2018-09-24T17:23:31.169-04:00', 'ExpectedDepartureTime': '2018-09-24T17:23:31.169-04:00', 'VisitNumber': 1, 'Extensions': {'Distances': {'PresentableDistance': 'at stop', 'StopsFromCall': 0, 'CallDistanceAlongRoute': 746.14, 'DistanceFromCall': 17.34}}, 'StopPointName': 'W 96 ST/CENTRAL PK W', 'StopPointRef': 'MTA_401937'}, 'DirectionRef': '0', 'JourneyPatternRef': 'MTA_M960090', 'OperatorRef': 'MTA NYCT', 'FramedVehicleJourneyRef': {'DataFrameRef': '2018-09-24', 'DatedVehicleJourneyRef': 'MTA NYCT_MV_D8-Weekday-SDon-103800_M96_30'}, 'SituationRef': [{'SituationSimpleRef': 'MTA NYCT_96bdd2c1-e529-40d5-bc35-be7f791e889d'}, {'SituationSimpleRef': 'MTABC_006cadec-9425-407b-9693-26ea35f7028c'}], 'ProgressRate': 'normalProgress', 'Monitored': True, 'OnwardCalls': {'OnwardCall': [{'ExpectedArrivalTime': '2018-09-24T17:23:30.169-04:00', 'Extensions': {'Distances': {'PresentableDistance': 'at stop', 'StopsFromCall': 0, 'CallDistanceAlongRoute': 746.14, 'DistanceFromCall': 17.34}}, 'StopPointName': 'W 96 ST/CENTRAL PK W', 'StopPointRef': 'MTA_401937'}, {'ExpectedArrivalTime': '2018-09-24T17:28:30.213-04:00', 'Extensions': {'Distances': {'PresentableDistance': '0.6 miles away', 'StopsFromCall': 1, 'CallDistanceAlongRoute': 1731.85, 'DistanceFromCall': 1003.05}}, 'StopPointName': 'E 96 ST/5 AV', 'StopPointRef': 'MTA_404087'}, {'ExpectedArrivalTime': '2018-09-24T17:31:13.013-04:00', 'Extensions': {'Distances': {'PresentableDistance': '0.7 miles away', 'StopsFromCall': 2, 'CallDistanceAlongRoute': 1883.11, 'DistanceFromCall': 1154.31}}, 'StopPointName': 'E 96 ST/MADISON AV', 'StopPointRef': 'MTA_401939'}, {'ExpectedArrivalTime': '2018-09-24T17:33:07.813-04:00', 'Extensions': {'Distances': {'PresentableDistance': '0.9 miles away', 'StopsFromCall': 3, 'CallDistanceAlongRoute': 2139.17, 'DistanceFromCall': 1410.37}}, 'StopPointName': 'E 96 ST/LEXINGTON AV', 'StopPointRef': 'MTA_401941'}, {'ExpectedArrivalTime': '2018-09-24T17:36:01.813-04:00', 'Extensions': {'Distances': {'PresentableDistance': '1.0 miles away', 'StopsFromCall': 4, 'CallDistanceAlongRoute': 2350.55, 'DistanceFromCall': 1621.75}}, 'StopPointName': 'E 96 ST/3 AV', 'StopPointRef': 'MTA_401942'}, {'ExpectedArrivalTime': '2018-09-24T17:38:00.613-04:00', 'Extensions': {'Distances': {'PresentableDistance': '1.1 miles away', 'StopsFromCall': 5, 'CallDistanceAlongRoute': 2550.03, 'DistanceFromCall': 1821.23}}, 'StopPointName': 'E 96 ST/2 AV', 'StopPointRef': 'MTA_401943'}, {'ExpectedArrivalTime': '2018-09-24T17:39:58.003-04:00', 'Extensions': {'Distances': {'PresentableDistance': '1.3 miles away', 'StopsFromCall': 6, 'CallDistanceAlongRoute': 2899.95, 'DistanceFromCall': 2171.15}}, 'StopPointName': 'E 97 ST/1 AV', 'StopPointRef': 'MTA_903003'}]}, 'LineRef': 'MTA NYCT_M96', 'PublishedLineName': 'M96', 'DestinationName': 'EAST SIDE 1 AV CROSSTOWN', 'OriginRef': 'MTA_401933', 'VehicleRef': 'MTA NYCT_3856', 'Bearing': 336.97452, 'VehicleLocation': {'Longitude': -73.965084, 'Latitude': 40.791803}, 'DestinationRef': 'MTA_903003'}}]\u001b[0m\n\u001b[0m                                                                                                                                                                                                                                                                                                                                                                                                                                                                                                                                                                                                                                                                                                                                                                                                         ^\u001b[0m\n\u001b[0;31mSyntaxError\u001b[0m\u001b[0;31m:\u001b[0m invalid syntax\n"
     ]
    }
   ],
   "source": [
    "bus_data_test2 = [{'RecordedAtTime': '2018-09-24T17:23:17.000-04:00', 'MonitoredVehicleJourney': {'MonitoredCall': {'StopPointName': 'E 97 ST/2 AV', 'Extensions': {'Distances': {'PresentableDistance': 'at stop', 'StopsFromCall': 0, 'CallDistanceAlongRoute': 87.22, 'DistanceFromCall': 0.0}}, 'VisitNumber': 1, 'StopPointRef': 'MTA_403632'}, 'DirectionRef': '1', 'JourneyPatternRef': 'MTA_M960091', 'OperatorRef': 'MTA NYCT', 'FramedVehicleJourneyRef': {'DataFrameRef': '2018-09-24', 'DatedVehicleJourneyRef': 'MTA NYCT_MV_D8-Weekday-SDon-104300_M96_23'}, 'SituationRef': [{'SituationSimpleRef': 'MTA NYCT_201975'}, {'SituationSimpleRef': 'MTABC_006cadec-9425-407b-9693-26ea35f7028c'}], 'ProgressRate': 'normalProgress', 'Monitored': True, 'OnwardCalls': {'OnwardCall': {}}}], 'LineRef': 'MTA NYCT_M96', 'PublishedLineName': 'M96', 'DestinationName': 'WEST SIDE WEST END AV CROSSTOWN', 'OriginRef': 'MTA_401954', 'VehicleRef': 'MTA NYCT_6646', 'Bearing': 157.1315, 'BlockRef': 'MTA NYCT_MV_D8-Weekday-SDon_E_MV_28020_M96-17', 'VehicleLocation': {'Longitude': -73.946433, 'Latitude': 40.784856}, 'DestinationRef': 'MTA_903004'}}, {'RecordedAtTime': '2018-09-24T17:23:19.000-04:00', 'MonitoredVehicleJourney': {'MonitoredCall': {'ExpectedArrivalTime': '2018-09-24T17:23:31.169-04:00', 'ExpectedDepartureTime': '2018-09-24T17:23:31.169-04:00', 'VisitNumber': 1, 'Extensions': {'Distances': {'PresentableDistance': 'at stop', 'StopsFromCall': 0, 'CallDistanceAlongRoute': 1096.86, 'DistanceFromCall': 4.2}}, 'StopPointName': 'E 97 ST/5 AV', 'StopPointRef': 'MTA_401961'}, 'DirectionRef': '1', 'JourneyPatternRef': 'MTA_M960091', 'OperatorRef': 'MTA NYCT', 'FramedVehicleJourneyRef': {'DataFrameRef': '2018-09-24', 'DatedVehicleJourneyRef': 'MTA NYCT_MV_D8-Weekday-SDon-102800_M96_25'}, 'SituationRef': [{'SituationSimpleRef': 'MTA NYCT_201975'}, {'SituationSimpleRef': 'MTABC_006cadec-9425-407b-9693-26ea35f7028c'}], 'ProgressRate': 'normalProgress', 'Monitored': True, 'OnwardCalls': {'OnwardCall': [{'ExpectedArrivalTime': '2018-09-24T17:23:30.169-04:00', 'Extensions': {'Distances': {'PresentableDistance': 'at stop', 'StopsFromCall': 0, 'CallDistanceAlongRoute': 1096.86, 'DistanceFromCall': 4.2}}, 'StopPointName': 'E 97 ST/5 AV', 'StopPointRef': 'MTA_401961'}, {'ExpectedArrivalTime': '2018-09-24T17:27:20.852-04:00', 'Extensions': {'Distances': {'PresentableDistance': '0.6 miles away', 'StopsFromCall': 1, 'CallDistanceAlongRoute': 1996.82, 'DistanceFromCall': 904.17}}, 'StopPointName': 'CENTRAL PK W/W 97 ST', 'StopPointRef': 'MTA_401331'}, {'ExpectedArrivalTime': '2018-09-24T17:30:30.452-04:00', 'Extensions': {'Distances': {'PresentableDistance': '0.8 miles away', 'StopsFromCall': 2, 'CallDistanceAlongRoute': 2377.1, 'DistanceFromCall': 1284.44}}, 'StopPointName': 'W 96 ST/COLUMBUS AV', 'StopPointRef': 'MTA_404075'}, {'ExpectedArrivalTime': '2018-09-24T17:31:58.852-04:00', 'Extensions': {'Distances': {'PresentableDistance': '0.9 miles away', 'StopsFromCall': 3, 'CallDistanceAlongRoute': 2596.1, 'DistanceFromCall': 1503.44}}, 'StopPointName': 'W 96 ST/AMSTERDAM AV', 'StopPointRef': 'MTA_401964'}, {'ExpectedArrivalTime': '2018-09-24T17:33:24.052-04:00', 'Extensions': {'Distances': {'PresentableDistance': '1.0 miles away', 'StopsFromCall': 4, 'CallDistanceAlongRoute': 2726.03, 'DistanceFromCall': 1633.37}}, 'StopPointName': 'W 96 ST/BROADWAY', 'StopPointRef': 'MTA_401965'}, {'ExpectedArrivalTime': '2018-09-24T17:35:57.252-04:00', 'Extensions': {'Distances': {'PresentableDistance': '1.2 miles away', 'StopsFromCall': 5, 'CallDistanceAlongRoute': 2949.28, 'DistanceFromCall': 1856.62}}, 'StopPointName': 'W 97 ST/WEST END AV', 'StopPointRef': 'MTA_401966'}, {'ExpectedArrivalTime': '2018-09-24T17:37:34.852-04:00', 'Extensions': {'Distances': {'PresentableDistance': '1.2 miles away', 'StopsFromCall': 6, 'CallDistanceAlongRoute': 3080.53, 'DistanceFromCall': 1987.87}}, 'StopPointName': 'W 96 ST/WEST END AV', 'StopPointRef': 'MTA_903004'}]}, 'LineRef': 'MTA NYCT_M96', 'PublishedLineName': 'M96', 'DestinationName': 'WEST SIDE WEST END AV CROSSTOWN', 'OriginRef': 'MTA_401954', 'VehicleRef': 'MTA NYCT_6418', 'Bearing': 157.39146, 'BlockRef': 'MTA NYCT_MV_D8-Weekday-SDon_E_MV_27600_M96-16', 'VehicleLocation': {'Longitude': -73.955066, 'Latitude': 40.788484}, 'DestinationRef': 'MTA_903004'}}, {'RecordedAtTime': '2018-09-24T17:23:00.000-04:00', 'MonitoredVehicleJourney': {'MonitoredCall': {'ExpectedArrivalTime': '2018-09-24T17:23:31.169-04:00', 'ExpectedDepartureTime': '2018-09-24T17:23:31.169-04:00', 'VisitNumber': 1, 'Extensions': {'Distances': {'PresentableDistance': 'at stop', 'StopsFromCall': 0, 'CallDistanceAlongRoute': 532.87, 'DistanceFromCall': 17.24}}, 'StopPointName': 'W 96 ST/COLUMBUS AV', 'StopPointRef': 'MTA_401936'}, 'DirectionRef': '0', 'JourneyPatternRef': 'MTA_M960090', 'OperatorRef': 'MTA NYCT', 'FramedVehicleJourneyRef': {'DataFrameRef': '2018-09-24', 'DatedVehicleJourneyRef': 'MTA NYCT_MV_D8-Weekday-SDon-103800_M96_30'}, 'SituationRef': [{'SituationSimpleRef': 'MTA NYCT_96bdd2c1-e529-40d5-bc35-be7f791e889d'}, {'SituationSimpleRef': 'MTABC_006cadec-9425-407b-9693-26ea35f7028c'}], 'ProgressRate': 'normalProgress', 'Monitored': True, 'OnwardCalls': {'OnwardCall': [{'ExpectedArrivalTime': '2018-09-24T17:23:30.169-04:00', 'Extensions': {'Distances': {'PresentableDistance': 'at stop', 'StopsFromCall': 0, 'CallDistanceAlongRoute': 532.87, 'DistanceFromCall': 17.24}}, 'StopPointName': 'W 96 ST/COLUMBUS AV', 'StopPointRef': 'MTA_401936'}, {'ExpectedArrivalTime': '2018-09-24T17:24:28.372-04:00', 'Extensions': {'Distances': {'PresentableDistance': '1 stop away', 'StopsFromCall': 1, 'CallDistanceAlongRoute': 746.14, 'DistanceFromCall': 230.51}}, 'StopPointName': 'W 96 ST/CENTRAL PK W', 'StopPointRef': 'MTA_401937'}, {'ExpectedArrivalTime': '2018-09-24T17:29:35.772-04:00', 'Extensions': {'Distances': {'PresentableDistance': '0.8 miles away', 'StopsFromCall': 2, 'CallDistanceAlongRoute': 1731.85, 'DistanceFromCall': 1216.22}}, 'StopPointName': 'E 96 ST/5 AV', 'StopPointRef': 'MTA_404087'}, {'ExpectedArrivalTime': '2018-09-24T17:32:18.572-04:00', 'Extensions': {'Distances': {'PresentableDistance': '0.8 miles away', 'StopsFromCall': 3, 'CallDistanceAlongRoute': 1883.11, 'DistanceFromCall': 1367.48}}, 'StopPointName': 'E 96 ST/MADISON AV', 'StopPointRef': 'MTA_401939'}, {'ExpectedArrivalTime': '2018-09-24T17:34:13.372-04:00', 'Extensions': {'Distances': {'PresentableDistance': '1.0 miles away', 'StopsFromCall': 4, 'CallDistanceAlongRoute': 2139.17, 'DistanceFromCall': 1623.54}}, 'StopPointName': 'E 96 ST/LEXINGTON AV', 'StopPointRef': 'MTA_401941'}, {'ExpectedArrivalTime': '2018-09-24T17:37:07.372-04:00', 'Extensions': {'Distances': {'PresentableDistance': '1.1 miles away', 'StopsFromCall': 5, 'CallDistanceAlongRoute': 2350.55, 'DistanceFromCall': 1834.92}}, 'StopPointName': 'E 96 ST/3 AV', 'StopPointRef': 'MTA_401942'}, {'ExpectedArrivalTime': '2018-09-24T17:39:06.172-04:00', 'Extensions': {'Distances': {'PresentableDistance': '1.3 miles away', 'StopsFromCall': 6, 'CallDistanceAlongRoute': 2550.03, 'DistanceFromCall': 2034.4}}, 'StopPointName': 'E 96 ST/2 AV', 'StopPointRef': 'MTA_401943'}, {'ExpectedArrivalTime': '2018-09-24T17:41:03.562-04:00', 'Extensions': {'Distances': {'PresentableDistance': '1.5 miles away', 'StopsFromCall': 7, 'CallDistanceAlongRoute': 2899.95, 'DistanceFromCall': 2384.32}}, 'StopPointName': 'E 97 ST/1 AV', 'StopPointRef': 'MTA_903003'}]}, 'LineRef': 'MTA NYCT_M96', 'PublishedLineName': 'M96', 'DestinationName': 'EAST SIDE 1 AV CROSSTOWN', 'OriginRef': 'MTA_401933', 'VehicleRef': 'MTA NYCT_6392', 'Bearing': 336.48712, 'BlockRef': 'MTA NYCT_MV_D8-Weekday-SDon_E_MV_48600_M96-30', 'VehicleLocation': {'Longitude': -73.967287, 'Latitude': 40.792748}, 'DestinationRef': 'MTA_903003'}}, {'RecordedAtTime': '2018-09-24T17:23:16.000-04:00', 'MonitoredVehicleJourney': {'MonitoredCall': {'ExpectedArrivalTime': '2018-09-24T17:23:31.169-04:00', 'ExpectedDepartureTime': '2018-09-24T17:23:31.169-04:00', 'VisitNumber': 1, 'Extensions': {'Distances': {'PresentableDistance': 'at stop', 'StopsFromCall': 0, 'CallDistanceAlongRoute': 746.14, 'DistanceFromCall': 17.34}}, 'StopPointName': 'W 96 ST/CENTRAL PK W', 'StopPointRef': 'MTA_401937'}, 'DirectionRef': '0', 'JourneyPatternRef': 'MTA_M960090', 'OperatorRef': 'MTA NYCT', 'FramedVehicleJourneyRef': {'DataFrameRef': '2018-09-24', 'DatedVehicleJourneyRef': 'MTA NYCT_MV_D8-Weekday-SDon-103800_M96_30'}, 'SituationRef': [{'SituationSimpleRef': 'MTA NYCT_96bdd2c1-e529-40d5-bc35-be7f791e889d'}, {'SituationSimpleRef': 'MTABC_006cadec-9425-407b-9693-26ea35f7028c'}], 'ProgressRate': 'normalProgress', 'Monitored': True, 'OnwardCalls': {'OnwardCall': [{'ExpectedArrivalTime': '2018-09-24T17:23:30.169-04:00', 'Extensions': {'Distances': {'PresentableDistance': 'at stop', 'StopsFromCall': 0, 'CallDistanceAlongRoute': 746.14, 'DistanceFromCall': 17.34}}, 'StopPointName': 'W 96 ST/CENTRAL PK W', 'StopPointRef': 'MTA_401937'}, {'ExpectedArrivalTime': '2018-09-24T17:28:30.213-04:00', 'Extensions': {'Distances': {'PresentableDistance': '0.6 miles away', 'StopsFromCall': 1, 'CallDistanceAlongRoute': 1731.85, 'DistanceFromCall': 1003.05}}, 'StopPointName': 'E 96 ST/5 AV', 'StopPointRef': 'MTA_404087'}, {'ExpectedArrivalTime': '2018-09-24T17:31:13.013-04:00', 'Extensions': {'Distances': {'PresentableDistance': '0.7 miles away', 'StopsFromCall': 2, 'CallDistanceAlongRoute': 1883.11, 'DistanceFromCall': 1154.31}}, 'StopPointName': 'E 96 ST/MADISON AV', 'StopPointRef': 'MTA_401939'}, {'ExpectedArrivalTime': '2018-09-24T17:33:07.813-04:00', 'Extensions': {'Distances': {'PresentableDistance': '0.9 miles away', 'StopsFromCall': 3, 'CallDistanceAlongRoute': 2139.17, 'DistanceFromCall': 1410.37}}, 'StopPointName': 'E 96 ST/LEXINGTON AV', 'StopPointRef': 'MTA_401941'}, {'ExpectedArrivalTime': '2018-09-24T17:36:01.813-04:00', 'Extensions': {'Distances': {'PresentableDistance': '1.0 miles away', 'StopsFromCall': 4, 'CallDistanceAlongRoute': 2350.55, 'DistanceFromCall': 1621.75}}, 'StopPointName': 'E 96 ST/3 AV', 'StopPointRef': 'MTA_401942'}, {'ExpectedArrivalTime': '2018-09-24T17:38:00.613-04:00', 'Extensions': {'Distances': {'PresentableDistance': '1.1 miles away', 'StopsFromCall': 5, 'CallDistanceAlongRoute': 2550.03, 'DistanceFromCall': 1821.23}}, 'StopPointName': 'E 96 ST/2 AV', 'StopPointRef': 'MTA_401943'}, {'ExpectedArrivalTime': '2018-09-24T17:39:58.003-04:00', 'Extensions': {'Distances': {'PresentableDistance': '1.3 miles away', 'StopsFromCall': 6, 'CallDistanceAlongRoute': 2899.95, 'DistanceFromCall': 2171.15}}, 'StopPointName': 'E 97 ST/1 AV', 'StopPointRef': 'MTA_903003'}]}, 'LineRef': 'MTA NYCT_M96', 'PublishedLineName': 'M96', 'DestinationName': 'EAST SIDE 1 AV CROSSTOWN', 'OriginRef': 'MTA_401933', 'VehicleRef': 'MTA NYCT_3856', 'Bearing': 336.97452, 'VehicleLocation': {'Longitude': -73.965084, 'Latitude': 40.791803}, 'DestinationRef': 'MTA_903003'}}]"
   ]
  },
  {
   "cell_type": "code",
   "execution_count": 40,
   "metadata": {},
   "outputs": [],
   "source": [
    "output_file = open(\"bus_output_testing_na2.csv\", \"w\")"
   ]
  },
  {
   "cell_type": "code",
   "execution_count": 41,
   "metadata": {},
   "outputs": [],
   "source": [
    "bus_number = 0 \n",
    "output_file.write(\"Latitude,Longitude,Stop Name, Stop Status\\n\")\n",
    "for i in bus_data:\n",
    "    lat = str(i['MonitoredVehicleJourney']['VehicleLocation']['Latitude'])\n",
    "    lon = str(i['MonitoredVehicleJourney']['VehicleLocation']['Longitude']) \n",
    "    if i['MonitoredVehicleJourney']['OnwardCalls']:\n",
    "        stop_name = i['MonitoredVehicleJourney']['OnwardCalls']['OnwardCall'][0]['StopPointName']\n",
    "    else:\n",
    "        stop_name = \"N/A\"\n",
    "    if i['MonitoredVehicleJourney']['OnwardCalls']:\n",
    "        stop_status = i['MonitoredVehicleJourney']['OnwardCalls']['OnwardCall'][0]['Extensions']['Distances']['PresentableDistance']\n",
    "    else:\n",
    "        stop_status = \"N/A\"\n",
    "    output_file.write(\"%s,\" % lat)\n",
    "    output_file.write(\"%s,\" % lon)\n",
    "    output_file.write(\"%s,\" % stop_name)\n",
    "    output_file.write(\"%s\\n\" % stop_status)\n",
    "    bus_number += 1\n",
    "\n",
    "output_file.close()"
   ]
  },
  {
   "cell_type": "code",
   "execution_count": null,
   "metadata": {},
   "outputs": [],
   "source": [
    "output_file.write(\"Latitude,Longitude,Stop Name, Stop Status\\n\")"
   ]
  },
  {
   "cell_type": "code",
   "execution_count": 36,
   "metadata": {},
   "outputs": [],
   "source": [
    "bus_number = 0 \n",
    "output_file.write(\"Latitude,Longitude,Stop Name, Stop Status\\n\")\n",
    "for i in bus_data:\n",
    "    lat = str(i['MonitoredVehicleJourney']['VehicleLocation']['Latitude'])\n",
    "    lon = str(i['MonitoredVehicleJourney']['VehicleLocation']['Longitude']) \n",
    "    if bus_data[0]['MonitoredVehicleJourney']['OnwardCalls']:\n",
    "        stop_name = str(i['MonitoredVehicleJourney']['OnwardCalls']['OnwardCall'][0]['StopPointName'])\n",
    "    else:\n",
    "        stop_name = \"N/A\"\n",
    "    if bus_data[0]['MonitoredVehicleJourney']['OnwardCalls']:\n",
    "        stop_status = str(i['MonitoredVehicleJourney']['OnwardCalls']['OnwardCall'][0]['Extensions']['Distances']['PresentableDistance'])\n",
    "    else:\n",
    "        stop_status = \"N/A\"\n",
    "    output_file.write(\"%s,\" % lat)\n",
    "    output_file.write(\"%s,\" % lon)\n",
    "    output_file.write(\"%s,\" % stop_name)\n",
    "    output_file.write(\"%s\\n\" % stop_status)\n",
    "    bus_number += 1\n",
    "\n",
    "output_file.close()"
   ]
  },
  {
   "cell_type": "code",
   "execution_count": null,
   "metadata": {},
   "outputs": [],
   "source": [
    "def is_empty(any_structure):\n",
    "    if any_structure:\n",
    "        print('Structure is not empty.')\n",
    "        return False\n",
    "    else:\n",
    "        print('Structure is empty.')\n",
    "        return True"
   ]
  },
  {
   "cell_type": "code",
   "execution_count": 3,
   "metadata": {},
   "outputs": [],
   "source": [
    "output_file = open(\"bus_output2.csv\", \"w\")"
   ]
  },
  {
   "cell_type": "code",
   "execution_count": 4,
   "metadata": {},
   "outputs": [],
   "source": [
    "output_file.write(\"Latitude,Longitude,Stop Name, Stop Status\\n\")\n",
    "output_file.close()"
   ]
  },
  {
   "cell_type": "code",
   "execution_count": 148,
   "metadata": {},
   "outputs": [],
   "source": [
    "bus_number = 0 \n",
    "output_file.write('Latitude,Longitude,Stop Name, Stop Status\\n')\n",
    "for i in bus_data:\n",
    "    output_file.write(\"i['MonitoredVehicleJourney']['VehicleLocation']['Latitude'],i['MonitoredVehicleJourney']['VehicleLocation']['Longitude'],i['MonitoredVehicleJourney']['OnwardCalls']['OnwardCall'][0]['StopPointName'],i['MonitoredVehicleJourney']['OnwardCalls']['OnwardCall'][0]['Extensions']['Distances']['PresentableDistance']\\n\")\n",
    "    bus_number += 1"
   ]
  },
  {
   "cell_type": "code",
   "execution_count": null,
   "metadata": {},
   "outputs": [],
   "source": []
  }
 ],
 "metadata": {
  "kernelspec": {
   "display_name": "PUI2016_Python3",
   "language": "python",
   "name": "pui2016_python3"
  },
  "language_info": {
   "codemirror_mode": {
    "name": "ipython",
    "version": 3
   },
   "file_extension": ".py",
   "mimetype": "text/x-python",
   "name": "python",
   "nbconvert_exporter": "python",
   "pygments_lexer": "ipython3",
   "version": "3.5.4"
  }
 },
 "nbformat": 4,
 "nbformat_minor": 2
}
