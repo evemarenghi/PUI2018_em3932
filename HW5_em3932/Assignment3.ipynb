{
 "cells": [
  {
   "cell_type": "code",
   "execution_count": null,
   "metadata": {},
   "outputs": [],
   "source": [
    "#Reproduce the results in cell 2 of Table 2.1 (Ever employed in a CEO transitional job), \n",
    "#and cell 10 (Convicted of a felony). Fill in the cells of the scheleton notebook as you \n",
    "#are asked to."
   ]
  },
  {
   "cell_type": "markdown",
   "metadata": {},
   "source": [
    "Grading\n",
    "All cells that are marked \"for you to do\" (or similar...) and that contain missing values should be filled.\n",
    "\n",
    "The second null hypothesis should be stated (for the \"Convicted of a felony after 3 years\" data).\n",
    "\n",
    "Both tests, Z and chi-sq, should be completed for the \"Convicted of a felony after 3 years\" data.\n",
    "\n",
    "The result of the test in term the rejection of the Null should be stated in all cases (for both tests and both for the original \"Ever employed in a CEO transitional job\" data and the \"Convicted of a felony after 3 years data\")."
   ]
  },
  {
   "cell_type": "code",
   "execution_count": null,
   "metadata": {},
   "outputs": [],
   "source": [
    "# Assignment 3\n",
    "# Reproduce the analysis of the Hard to Employ program in NY"
   ]
  }
 ],
 "metadata": {
  "kernelspec": {
   "display_name": "PUI2016_Python3",
   "language": "python",
   "name": "pui2016_python3"
  },
  "language_info": {
   "codemirror_mode": {
    "name": "ipython",
    "version": 3
   },
   "file_extension": ".py",
   "mimetype": "text/x-python",
   "name": "python",
   "nbconvert_exporter": "python",
   "pygments_lexer": "ipython3",
   "version": "3.5.4"
  }
 },
 "nbformat": 4,
 "nbformat_minor": 2
}
