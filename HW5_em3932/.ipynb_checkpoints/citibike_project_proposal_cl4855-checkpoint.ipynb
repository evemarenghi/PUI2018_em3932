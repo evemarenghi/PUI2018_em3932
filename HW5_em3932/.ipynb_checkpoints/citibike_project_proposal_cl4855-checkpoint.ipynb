{
 "cells": [
  {
   "cell_type": "code",
   "execution_count": 85,
   "metadata": {},
   "outputs": [
    {
     "name": "stdout",
     "output_type": "stream",
     "text": [
      "Populating the interactive namespace from numpy and matplotlib\n"
     ]
    },
    {
     "name": "stderr",
     "output_type": "stream",
     "text": [
      "/usr/local/Anaconda3-5.0.0-Linux-x86_64/envs/PUI2016_Python3/lib/python3.5/site-packages/IPython/core/magics/pylab.py:161: UserWarning: pylab import has clobbered these variables: ['plt']\n",
      "`%matplotlib` prevents importing * from pylab and numpy\n",
      "  \"\\n`%matplotlib` prevents importing * from pylab and numpy\"\n"
     ]
    }
   ],
   "source": [
    "from __future__  import print_function, division\n",
    "import pylab as pl\n",
    "import pandas as pd\n",
    "import numpy as np\n",
    "import matplotlib as plt\n",
    "import os\n",
    "\n",
    "%pylab inline\n",
    "\n",
    "if os.getenv ('PUIDATA') is None:\n",
    "    print (\"Must set env variable PUI2016\")\n",
    "\n",
    "import os\n",
    "import json"
   ]
  },
  {
   "cell_type": "markdown",
   "metadata": {},
   "source": [
    "# IDEA:\n",
    "## Customers are more likely to ride longtrip biking on weekends than on weekdays\n",
    "Citi bike customers may use the bike for commute to work on weekdays. So the proportion of long trip(longtrip/shorttrip) on weekends should be higer than weekdays. Here I assumed that the tripduration less than 10 minutes is commute to work which is short trip. And the tripduration over 10 minutes is long trip. \n",
    "\n",
    "# NULL HYPOTHESIS:\n",
    "## The proportion of long trip biking on weekdays is _the same_ or _higher_  than the proportion of long trip biking on weekends\n",
    "\n",
    "# _$H_0$_ : $\\frac{L_{\\mathrm{weekend}}}{S_{\\mathrm{weekend}}} <= \\frac{L_{\\mathrm{weekday}}}{S_{\\mathrm{weekday}}}$\n",
    "# _$H_1$_ : $\\frac{L_{\\mathrm{weekend}}}{S_{\\mathrm{weekend}}}> \\frac{L_{\\mathrm{weekday}}}{S_{\\mathrm{weekday}}}$\n",
    "\n",
    "or identically:\n",
    "\n",
    "# _$H_0$_ : $\\frac{L_{\\mathrm{weekend}}}{S_{\\mathrm{weekend}}} - \\frac{L_{\\mathrm{weekday}}}{S_{\\mathrm{weekday}}} <= 0 $\n",
    "# _$H_1$_ : $\\frac{L_{\\mathrm{weekend}}}{S_{\\mathrm{weekend}}} - \\frac{L_{\\mathrm{weekday}}}{S_{\\mathrm{weekday}}}> 0$\n",
    "## I will use a significance level  $\\alpha=0.05$\n",
    "\n",
    "#### which means i want the probability of getting a result at least as significant as mine to be less then 5%"
   ]
  },
  {
   "cell_type": "code",
   "execution_count": 74,
   "metadata": {},
   "outputs": [],
   "source": [
    "def getCitiBikeCSV(datestring):\n",
    "    print (\"Downloading\", datestring)\n",
    "    ### First I will heck that it is not already there\n",
    "    if not os.path.isfile(os.getenv(\"PUIDATA\") + \"/\" + datestring + \"-citibike-tripdata.csv\"):\n",
    "        if os.path.isfile(datestring + \"-citibike-tripdata.csv\"):\n",
    "            # if in the current dir just move it\n",
    "            if os.system(\"mv \" + datestring + \"-citibike-tripdata.csv \" + os.getenv(\"PUIDATA\")):\n",
    "                print (\"Error moving file!, Please check!\")\n",
    "        #otherwise start looking for the zip file\n",
    "        else:\n",
    "            if not os.path.isfile(os.getenv(\"PUIDATA\") + \"/\" + datestring + \"-citibike-tripdata.zip\"):\n",
    "                if not os.path.isfile(datestring + \"-citibike-tripdata.zip\"):\n",
    "                    os.system(\"curl -O https://s3.amazonaws.com/tripdata/\" + datestring + \"-citibike-tripdata.zip\")\n",
    "                ###  To move it I use the os.system() functions to run bash commands with arguments\n",
    "                os.system(\"mv \" + datestring + \"-citibike-tripdata.zip \" + os.getenv(\"PUIDATA\"))\n",
    "            ### unzip the csv \n",
    "            os.system(\"unzip \" + os.getenv(\"PUIDATA\") + \"/\" + datestring + \"-citibike-tripdata.zip\")\n",
    "            ## NOTE: old csv citibike data had a different name structure. \n",
    "            if '2014' in datestring:\n",
    "                os.system(\"mv \" + datestring[:4] + '-' +  datestring[4:] + \n",
    "                          \"\\ -\\ Citi\\ Bike\\ trip\\ data.csv \" + datestring + \"-citibike-tripdata.csv\")\n",
    "            os.system(\"mv \" + datestring + \"-citibike-tripdata.csv \" + os.getenv(\"PUIDATA\"))\n",
    "    ### One final check:\n",
    "    if not os.path.isfile(os.getenv(\"PUIDATA\") + \"/\" + datestring + \"-citibike-tripdata.csv\"):\n",
    "        print (\"WARNING!!! something is wrong: the file is not there!\")\n",
    "\n",
    "    else:\n",
    "        print (\"file in place, you can continue\")"
   ]
  },
  {
   "cell_type": "code",
   "execution_count": 75,
   "metadata": {},
   "outputs": [
    {
     "name": "stdout",
     "output_type": "stream",
     "text": [
      "Downloading 201401\n",
      "file in place, you can continue\n"
     ]
    }
   ],
   "source": [
    "datestring = '201401'\n",
    "getCitiBikeCSV(datestring)"
   ]
  },
  {
   "cell_type": "code",
   "execution_count": 76,
   "metadata": {},
   "outputs": [
    {
     "data": {
      "text/html": [
       "<div>\n",
       "<table border=\"1\" class=\"dataframe\">\n",
       "  <thead>\n",
       "    <tr style=\"text-align: right;\">\n",
       "      <th></th>\n",
       "      <th>tripduration</th>\n",
       "      <th>starttime</th>\n",
       "      <th>stoptime</th>\n",
       "      <th>start station id</th>\n",
       "      <th>start station name</th>\n",
       "      <th>start station latitude</th>\n",
       "      <th>start station longitude</th>\n",
       "      <th>end station id</th>\n",
       "      <th>end station name</th>\n",
       "      <th>end station latitude</th>\n",
       "      <th>end station longitude</th>\n",
       "      <th>bikeid</th>\n",
       "      <th>usertype</th>\n",
       "      <th>birth year</th>\n",
       "      <th>gender</th>\n",
       "      <th>date</th>\n",
       "    </tr>\n",
       "  </thead>\n",
       "  <tbody>\n",
       "    <tr>\n",
       "      <th>0</th>\n",
       "      <td>471</td>\n",
       "      <td>2014-01-01 00:00:06</td>\n",
       "      <td>2014-01-01 00:07:57</td>\n",
       "      <td>2009</td>\n",
       "      <td>Catherine St &amp; Monroe St</td>\n",
       "      <td>40.711174</td>\n",
       "      <td>-73.996826</td>\n",
       "      <td>263</td>\n",
       "      <td>Elizabeth St &amp; Hester St</td>\n",
       "      <td>40.717290</td>\n",
       "      <td>-73.996375</td>\n",
       "      <td>16379</td>\n",
       "      <td>Subscriber</td>\n",
       "      <td>1986</td>\n",
       "      <td>1</td>\n",
       "      <td>2014-01-01 00:00:06</td>\n",
       "    </tr>\n",
       "    <tr>\n",
       "      <th>1</th>\n",
       "      <td>1494</td>\n",
       "      <td>2014-01-01 00:00:38</td>\n",
       "      <td>2014-01-01 00:25:32</td>\n",
       "      <td>536</td>\n",
       "      <td>1 Ave &amp; E 30 St</td>\n",
       "      <td>40.741444</td>\n",
       "      <td>-73.975361</td>\n",
       "      <td>259</td>\n",
       "      <td>South St &amp; Whitehall St</td>\n",
       "      <td>40.701221</td>\n",
       "      <td>-74.012342</td>\n",
       "      <td>15611</td>\n",
       "      <td>Subscriber</td>\n",
       "      <td>1963</td>\n",
       "      <td>1</td>\n",
       "      <td>2014-01-01 00:00:38</td>\n",
       "    </tr>\n",
       "    <tr>\n",
       "      <th>2</th>\n",
       "      <td>464</td>\n",
       "      <td>2014-01-01 00:03:59</td>\n",
       "      <td>2014-01-01 00:11:43</td>\n",
       "      <td>228</td>\n",
       "      <td>E 48 St &amp; 3 Ave</td>\n",
       "      <td>40.754601</td>\n",
       "      <td>-73.971879</td>\n",
       "      <td>2022</td>\n",
       "      <td>E 59 St &amp; Sutton Pl</td>\n",
       "      <td>40.758491</td>\n",
       "      <td>-73.959206</td>\n",
       "      <td>16613</td>\n",
       "      <td>Subscriber</td>\n",
       "      <td>1991</td>\n",
       "      <td>1</td>\n",
       "      <td>2014-01-01 00:03:59</td>\n",
       "    </tr>\n",
       "    <tr>\n",
       "      <th>3</th>\n",
       "      <td>373</td>\n",
       "      <td>2014-01-01 00:05:15</td>\n",
       "      <td>2014-01-01 00:11:28</td>\n",
       "      <td>519</td>\n",
       "      <td>Pershing Square N</td>\n",
       "      <td>40.751884</td>\n",
       "      <td>-73.977702</td>\n",
       "      <td>526</td>\n",
       "      <td>E 33 St &amp; 5 Ave</td>\n",
       "      <td>40.747659</td>\n",
       "      <td>-73.984907</td>\n",
       "      <td>15938</td>\n",
       "      <td>Subscriber</td>\n",
       "      <td>1989</td>\n",
       "      <td>1</td>\n",
       "      <td>2014-01-01 00:05:15</td>\n",
       "    </tr>\n",
       "    <tr>\n",
       "      <th>4</th>\n",
       "      <td>660</td>\n",
       "      <td>2014-01-01 00:05:18</td>\n",
       "      <td>2014-01-01 00:16:18</td>\n",
       "      <td>83</td>\n",
       "      <td>Atlantic Ave &amp; Fort Greene Pl</td>\n",
       "      <td>40.683826</td>\n",
       "      <td>-73.976323</td>\n",
       "      <td>436</td>\n",
       "      <td>Hancock St &amp; Bedford Ave</td>\n",
       "      <td>40.682166</td>\n",
       "      <td>-73.953990</td>\n",
       "      <td>19830</td>\n",
       "      <td>Subscriber</td>\n",
       "      <td>1990</td>\n",
       "      <td>1</td>\n",
       "      <td>2014-01-01 00:05:18</td>\n",
       "    </tr>\n",
       "  </tbody>\n",
       "</table>\n",
       "</div>"
      ],
      "text/plain": [
       "   tripduration            starttime             stoptime  start station id  \\\n",
       "0           471  2014-01-01 00:00:06  2014-01-01 00:07:57              2009   \n",
       "1          1494  2014-01-01 00:00:38  2014-01-01 00:25:32               536   \n",
       "2           464  2014-01-01 00:03:59  2014-01-01 00:11:43               228   \n",
       "3           373  2014-01-01 00:05:15  2014-01-01 00:11:28               519   \n",
       "4           660  2014-01-01 00:05:18  2014-01-01 00:16:18                83   \n",
       "\n",
       "              start station name  start station latitude  \\\n",
       "0       Catherine St & Monroe St               40.711174   \n",
       "1                1 Ave & E 30 St               40.741444   \n",
       "2                E 48 St & 3 Ave               40.754601   \n",
       "3              Pershing Square N               40.751884   \n",
       "4  Atlantic Ave & Fort Greene Pl               40.683826   \n",
       "\n",
       "   start station longitude  end station id          end station name  \\\n",
       "0               -73.996826             263  Elizabeth St & Hester St   \n",
       "1               -73.975361             259   South St & Whitehall St   \n",
       "2               -73.971879            2022       E 59 St & Sutton Pl   \n",
       "3               -73.977702             526           E 33 St & 5 Ave   \n",
       "4               -73.976323             436  Hancock St & Bedford Ave   \n",
       "\n",
       "   end station latitude  end station longitude  bikeid    usertype birth year  \\\n",
       "0             40.717290             -73.996375   16379  Subscriber       1986   \n",
       "1             40.701221             -74.012342   15611  Subscriber       1963   \n",
       "2             40.758491             -73.959206   16613  Subscriber       1991   \n",
       "3             40.747659             -73.984907   15938  Subscriber       1989   \n",
       "4             40.682166             -73.953990   19830  Subscriber       1990   \n",
       "\n",
       "   gender                date  \n",
       "0       1 2014-01-01 00:00:06  \n",
       "1       1 2014-01-01 00:00:38  \n",
       "2       1 2014-01-01 00:03:59  \n",
       "3       1 2014-01-01 00:05:15  \n",
       "4       1 2014-01-01 00:05:18  "
      ]
     },
     "execution_count": 76,
     "metadata": {},
     "output_type": "execute_result"
    }
   ],
   "source": [
    "df = pd.read_csv(os.getenv(\"PUIDATA\") + \"/\" + datestring + '-citibike-tripdata.csv')\n",
    "df['date'] = pd.to_datetime(df['starttime'])\n",
    "df.head()"
   ]
  },
  {
   "cell_type": "code",
   "execution_count": 77,
   "metadata": {},
   "outputs": [
    {
     "data": {
      "text/plain": [
       "Index(['tripduration', 'starttime', 'stoptime', 'start station id',\n",
       "       'start station name', 'start station latitude',\n",
       "       'start station longitude', 'end station id', 'end station name',\n",
       "       'end station latitude', 'end station longitude', 'bikeid', 'usertype',\n",
       "       'birth year', 'gender', 'date'],\n",
       "      dtype='object')"
      ]
     },
     "execution_count": 77,
     "metadata": {},
     "output_type": "execute_result"
    }
   ],
   "source": [
    "df.columns"
   ]
  },
  {
   "cell_type": "code",
   "execution_count": 78,
   "metadata": {},
   "outputs": [],
   "source": [
    "df.drop(['starttime', 'stoptime', 'start station id',\n",
    "       'start station name', 'start station latitude',\n",
    "       'start station longitude', 'end station id', 'end station name',\n",
    "       'end station latitude', 'end station longitude', 'bikeid', 'usertype',\n",
    "       'birth year', 'gender'], axis=1, inplace=True)"
   ]
  },
  {
   "cell_type": "code",
   "execution_count": 23,
   "metadata": {},
   "outputs": [
    {
     "data": {
      "text/html": [
       "<div>\n",
       "<table border=\"1\" class=\"dataframe\">\n",
       "  <thead>\n",
       "    <tr style=\"text-align: right;\">\n",
       "      <th></th>\n",
       "      <th>tripduration</th>\n",
       "      <th>date</th>\n",
       "    </tr>\n",
       "  </thead>\n",
       "  <tbody>\n",
       "    <tr>\n",
       "      <th>0</th>\n",
       "      <td>471</td>\n",
       "      <td>2014-01-01 00:00:06</td>\n",
       "    </tr>\n",
       "    <tr>\n",
       "      <th>1</th>\n",
       "      <td>1494</td>\n",
       "      <td>2014-01-01 00:00:38</td>\n",
       "    </tr>\n",
       "    <tr>\n",
       "      <th>2</th>\n",
       "      <td>464</td>\n",
       "      <td>2014-01-01 00:03:59</td>\n",
       "    </tr>\n",
       "    <tr>\n",
       "      <th>3</th>\n",
       "      <td>373</td>\n",
       "      <td>2014-01-01 00:05:15</td>\n",
       "    </tr>\n",
       "    <tr>\n",
       "      <th>4</th>\n",
       "      <td>660</td>\n",
       "      <td>2014-01-01 00:05:18</td>\n",
       "    </tr>\n",
       "    <tr>\n",
       "      <th>5</th>\n",
       "      <td>330</td>\n",
       "      <td>2014-01-01 00:05:55</td>\n",
       "    </tr>\n",
       "    <tr>\n",
       "      <th>6</th>\n",
       "      <td>261</td>\n",
       "      <td>2014-01-01 00:06:04</td>\n",
       "    </tr>\n",
       "    <tr>\n",
       "      <th>7</th>\n",
       "      <td>337</td>\n",
       "      <td>2014-01-01 00:06:41</td>\n",
       "    </tr>\n",
       "    <tr>\n",
       "      <th>8</th>\n",
       "      <td>429</td>\n",
       "      <td>2014-01-01 00:07:33</td>\n",
       "    </tr>\n",
       "    <tr>\n",
       "      <th>9</th>\n",
       "      <td>1025</td>\n",
       "      <td>2014-01-01 00:08:27</td>\n",
       "    </tr>\n",
       "  </tbody>\n",
       "</table>\n",
       "</div>"
      ],
      "text/plain": [
       "   tripduration                date\n",
       "0           471 2014-01-01 00:00:06\n",
       "1          1494 2014-01-01 00:00:38\n",
       "2           464 2014-01-01 00:03:59\n",
       "3           373 2014-01-01 00:05:15\n",
       "4           660 2014-01-01 00:05:18\n",
       "5           330 2014-01-01 00:05:55\n",
       "6           261 2014-01-01 00:06:04\n",
       "7           337 2014-01-01 00:06:41\n",
       "8           429 2014-01-01 00:07:33\n",
       "9          1025 2014-01-01 00:08:27"
      ]
     },
     "execution_count": 23,
     "metadata": {},
     "output_type": "execute_result"
    }
   ],
   "source": [
    "df.head(10)"
   ]
  },
  {
   "cell_type": "code",
   "execution_count": 127,
   "metadata": {},
   "outputs": [
    {
     "data": {
      "text/plain": [
       "Text(0.5,1,'Different Tripduration')"
      ]
     },
     "execution_count": 127,
     "metadata": {},
     "output_type": "execute_result"
    },
    {
     "data": {
      "image/png": "[encoded data removed]",
      "text/plain": [
       "<matplotlib.figure.Figure at 0x7f6363676438>"
      ]
     },
     "metadata": {},
     "output_type": "display_data"
    }
   ],
   "source": [
    "fig = pl.figure(figsize(15,15))\n",
    "\n",
    "\n",
    "(df['date'][df['tripduration'] <= 600].groupby([df['date'].dt.weekday]).count()).plot(kind=\"bar\",\n",
    "                                                                                          color='skyblue', \n",
    "                                                                                         label='1-10minsTrip')\n",
    "# (df['date'][(df['tripduration'] > 600) & (df['tripduration'] <= 900)].groupby([df['date'].dt.weekday]).count()).plot(kind=\"bar\", \n",
    "                                                                                              \n",
    "#                                                                                               color='IndianRed',\n",
    "                                                                                        \n",
    "#                                                                                               label='10-15minsTrip')\n",
    "\n",
    "# (df['date'][(df['tripduration'] > 900) & (df['tripduration'] <= 1800)].groupby([df['date'].dt.weekday]).count()).plot(kind=\"bar\", \n",
    "                                                                                              \n",
    "#                                                                                               color='Turquoise',\n",
    "                                                                                              \n",
    "#                                                                                               label='15-30minsTrip')\n",
    "\n",
    "ax =(df['date'][df['tripduration'] >600].groupby([df['date'].dt.weekday]).count()).plot(kind=\"bar\",\n",
    "                                                                                          color='Orchid', \n",
    "                                                                                        alpha=0.5, \n",
    "                                                                                         label='10mins+Trip')\n",
    "\n",
    "\n",
    "\n",
    "tmp = ax.xaxis.set_ticklabels(['Mon', 'Tue', 'Wed', 'Thu', 'Fri', 'Sat', 'Sun'], fontsize=20)\n",
    "pl.legend()\n",
    "ax.set_ylabel (\"Number of rides\",fontsize=20)\n",
    "ax.set_xlabel (\"Day of the week\",fontsize=20)\n",
    "pl.title(\"Different Tripduration\",fontsize=20)"
   ]
  },
  {
   "cell_type": "markdown",
   "metadata": {},
   "source": [
    "## Figure 1: Distribution of Citibike bikers by Tripduration in January 2014, absolute counts"
   ]
  }
 ],
 "metadata": {
  "kernelspec": {
   "display_name": "PUI2016_Python3",
   "language": "python",
   "name": "pui2016_python3"
  },
  "language_info": {
   "codemirror_mode": {
    "name": "ipython",
    "version": 3
   },
   "file_extension": ".py",
   "mimetype": "text/x-python",
   "name": "python",
   "nbconvert_exporter": "python",
   "pygments_lexer": "ipython3",
   "version": "3.5.4"
  }
 },
 "nbformat": 4,
 "nbformat_minor": 2
}
